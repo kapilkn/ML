{
  "nbformat": 4,
  "nbformat_minor": 0,
  "metadata": {
    "colab": {
      "name": "COVID19 Forecasting by Kapil.ipynb",
      "provenance": [],
      "authorship_tag": "ABX9TyMNs6AmgKNBWskpesv5i6S4",
      "include_colab_link": true
    },
    "kernelspec": {
      "name": "python3",
      "display_name": "Python 3"
    }
  },
  "cells": [
    {
      "cell_type": "markdown",
      "metadata": {
        "id": "view-in-github",
        "colab_type": "text"
      },
      "source": [
        "<a href=\"https://colab.research.google.com/github/kapilkn/ML/blob/master/COVID19_Forecasting_by_Kapil.ipynb\" target=\"_parent\"><img src=\"https://colab.research.google.com/assets/colab-badge.svg\" alt=\"Open In Colab\"/></a>"
      ]
    },
    {
      "cell_type": "markdown",
      "metadata": {
        "id": "GSDUfiLaimo4",
        "colab_type": "text"
      },
      "source": [
        "## COVID 19 Prediction India \n",
        "**Kapil Nagwanshi**"
      ]
    },
    {
      "cell_type": "code",
      "metadata": {
        "id": "UAXhWAfUyKuh",
        "colab_type": "code",
        "colab": {}
      },
      "source": [
        "import pandas as pd\n",
        "import matplotlib.pyplot as plt\n",
        "import numpy as np\n",
        "import seaborn as sns\n",
        "import plotly.express as px # Word map\n",
        "import pandas.util.testing as tm"
      ],
      "execution_count": 0,
      "outputs": []
    },
    {
      "cell_type": "code",
      "metadata": {
        "id": "1afrcAIly_2f",
        "colab_type": "code",
        "outputId": "3e849615-1e15-4ebd-d579-ddef5b23cdb9",
        "colab": {
          "base_uri": "https://localhost:8080/",
          "height": 126
        }
      },
      "source": [
        "path = 'https://raw.githubusercontent.com/umangkejriwal1122/Machine-Learning/master/Data%20Sets/covid_19_clean_complete.csv'\n",
        "df = pd.read_csv(path)\n",
        "df.head().style.background_gradient(cmap='Reds')"
      ],
      "execution_count": 0,
      "outputs": [
        {
          "output_type": "execute_result",
          "data": {
            "text/html": [
              "<style  type=\"text/css\" >\n",
              "    #T_00195a1c_891e_11ea_8465_0242ac1c0002row0_col2 {\n",
              "            background-color:  #b51318;\n",
              "            color:  #f1f1f1;\n",
              "        }    #T_00195a1c_891e_11ea_8465_0242ac1c0002row0_col3 {\n",
              "            background-color:  #67000d;\n",
              "            color:  #f1f1f1;\n",
              "        }    #T_00195a1c_891e_11ea_8465_0242ac1c0002row0_col5 {\n",
              "            background-color:  #fff5f0;\n",
              "            color:  #000000;\n",
              "        }    #T_00195a1c_891e_11ea_8465_0242ac1c0002row0_col6 {\n",
              "            background-color:  #fff5f0;\n",
              "            color:  #000000;\n",
              "        }    #T_00195a1c_891e_11ea_8465_0242ac1c0002row0_col7 {\n",
              "            background-color:  #fff5f0;\n",
              "            color:  #000000;\n",
              "        }    #T_00195a1c_891e_11ea_8465_0242ac1c0002row1_col2 {\n",
              "            background-color:  #73030f;\n",
              "            color:  #f1f1f1;\n",
              "        }    #T_00195a1c_891e_11ea_8465_0242ac1c0002row1_col3 {\n",
              "            background-color:  #fcad90;\n",
              "            color:  #000000;\n",
              "        }    #T_00195a1c_891e_11ea_8465_0242ac1c0002row1_col5 {\n",
              "            background-color:  #fff5f0;\n",
              "            color:  #000000;\n",
              "        }    #T_00195a1c_891e_11ea_8465_0242ac1c0002row1_col6 {\n",
              "            background-color:  #fff5f0;\n",
              "            color:  #000000;\n",
              "        }    #T_00195a1c_891e_11ea_8465_0242ac1c0002row1_col7 {\n",
              "            background-color:  #fff5f0;\n",
              "            color:  #000000;\n",
              "        }    #T_00195a1c_891e_11ea_8465_0242ac1c0002row2_col2 {\n",
              "            background-color:  #d01d1f;\n",
              "            color:  #f1f1f1;\n",
              "        }    #T_00195a1c_891e_11ea_8465_0242ac1c0002row2_col3 {\n",
              "            background-color:  #fff5f0;\n",
              "            color:  #000000;\n",
              "        }    #T_00195a1c_891e_11ea_8465_0242ac1c0002row2_col5 {\n",
              "            background-color:  #fff5f0;\n",
              "            color:  #000000;\n",
              "        }    #T_00195a1c_891e_11ea_8465_0242ac1c0002row2_col6 {\n",
              "            background-color:  #fff5f0;\n",
              "            color:  #000000;\n",
              "        }    #T_00195a1c_891e_11ea_8465_0242ac1c0002row2_col7 {\n",
              "            background-color:  #fff5f0;\n",
              "            color:  #000000;\n",
              "        }    #T_00195a1c_891e_11ea_8465_0242ac1c0002row3_col2 {\n",
              "            background-color:  #67000d;\n",
              "            color:  #f1f1f1;\n",
              "        }    #T_00195a1c_891e_11ea_8465_0242ac1c0002row3_col3 {\n",
              "            background-color:  #fff5f0;\n",
              "            color:  #000000;\n",
              "        }    #T_00195a1c_891e_11ea_8465_0242ac1c0002row3_col5 {\n",
              "            background-color:  #fff5f0;\n",
              "            color:  #000000;\n",
              "        }    #T_00195a1c_891e_11ea_8465_0242ac1c0002row3_col6 {\n",
              "            background-color:  #fff5f0;\n",
              "            color:  #000000;\n",
              "        }    #T_00195a1c_891e_11ea_8465_0242ac1c0002row3_col7 {\n",
              "            background-color:  #fff5f0;\n",
              "            color:  #000000;\n",
              "        }    #T_00195a1c_891e_11ea_8465_0242ac1c0002row4_col2 {\n",
              "            background-color:  #fff5f0;\n",
              "            color:  #000000;\n",
              "        }    #T_00195a1c_891e_11ea_8465_0242ac1c0002row4_col3 {\n",
              "            background-color:  #fcb99f;\n",
              "            color:  #000000;\n",
              "        }    #T_00195a1c_891e_11ea_8465_0242ac1c0002row4_col5 {\n",
              "            background-color:  #fff5f0;\n",
              "            color:  #000000;\n",
              "        }    #T_00195a1c_891e_11ea_8465_0242ac1c0002row4_col6 {\n",
              "            background-color:  #fff5f0;\n",
              "            color:  #000000;\n",
              "        }    #T_00195a1c_891e_11ea_8465_0242ac1c0002row4_col7 {\n",
              "            background-color:  #fff5f0;\n",
              "            color:  #000000;\n",
              "        }</style><table id=\"T_00195a1c_891e_11ea_8465_0242ac1c0002\" ><thead>    <tr>        <th class=\"blank level0\" ></th>        <th class=\"col_heading level0 col0\" >Province/State</th>        <th class=\"col_heading level0 col1\" >Country/Region</th>        <th class=\"col_heading level0 col2\" >Lat</th>        <th class=\"col_heading level0 col3\" >Long</th>        <th class=\"col_heading level0 col4\" >Date</th>        <th class=\"col_heading level0 col5\" >Confirmed</th>        <th class=\"col_heading level0 col6\" >Deaths</th>        <th class=\"col_heading level0 col7\" >Recovered</th>    </tr></thead><tbody>\n",
              "                <tr>\n",
              "                        <th id=\"T_00195a1c_891e_11ea_8465_0242ac1c0002level0_row0\" class=\"row_heading level0 row0\" >0</th>\n",
              "                        <td id=\"T_00195a1c_891e_11ea_8465_0242ac1c0002row0_col0\" class=\"data row0 col0\" >nan</td>\n",
              "                        <td id=\"T_00195a1c_891e_11ea_8465_0242ac1c0002row0_col1\" class=\"data row0 col1\" >Afghanistan</td>\n",
              "                        <td id=\"T_00195a1c_891e_11ea_8465_0242ac1c0002row0_col2\" class=\"data row0 col2\" >33.000000</td>\n",
              "                        <td id=\"T_00195a1c_891e_11ea_8465_0242ac1c0002row0_col3\" class=\"data row0 col3\" >65.000000</td>\n",
              "                        <td id=\"T_00195a1c_891e_11ea_8465_0242ac1c0002row0_col4\" class=\"data row0 col4\" >1/22/20</td>\n",
              "                        <td id=\"T_00195a1c_891e_11ea_8465_0242ac1c0002row0_col5\" class=\"data row0 col5\" >0</td>\n",
              "                        <td id=\"T_00195a1c_891e_11ea_8465_0242ac1c0002row0_col6\" class=\"data row0 col6\" >0</td>\n",
              "                        <td id=\"T_00195a1c_891e_11ea_8465_0242ac1c0002row0_col7\" class=\"data row0 col7\" >0</td>\n",
              "            </tr>\n",
              "            <tr>\n",
              "                        <th id=\"T_00195a1c_891e_11ea_8465_0242ac1c0002level0_row1\" class=\"row_heading level0 row1\" >1</th>\n",
              "                        <td id=\"T_00195a1c_891e_11ea_8465_0242ac1c0002row1_col0\" class=\"data row1 col0\" >nan</td>\n",
              "                        <td id=\"T_00195a1c_891e_11ea_8465_0242ac1c0002row1_col1\" class=\"data row1 col1\" >Albania</td>\n",
              "                        <td id=\"T_00195a1c_891e_11ea_8465_0242ac1c0002row1_col2\" class=\"data row1 col2\" >41.153300</td>\n",
              "                        <td id=\"T_00195a1c_891e_11ea_8465_0242ac1c0002row1_col3\" class=\"data row1 col3\" >20.168300</td>\n",
              "                        <td id=\"T_00195a1c_891e_11ea_8465_0242ac1c0002row1_col4\" class=\"data row1 col4\" >1/22/20</td>\n",
              "                        <td id=\"T_00195a1c_891e_11ea_8465_0242ac1c0002row1_col5\" class=\"data row1 col5\" >0</td>\n",
              "                        <td id=\"T_00195a1c_891e_11ea_8465_0242ac1c0002row1_col6\" class=\"data row1 col6\" >0</td>\n",
              "                        <td id=\"T_00195a1c_891e_11ea_8465_0242ac1c0002row1_col7\" class=\"data row1 col7\" >0</td>\n",
              "            </tr>\n",
              "            <tr>\n",
              "                        <th id=\"T_00195a1c_891e_11ea_8465_0242ac1c0002level0_row2\" class=\"row_heading level0 row2\" >2</th>\n",
              "                        <td id=\"T_00195a1c_891e_11ea_8465_0242ac1c0002row2_col0\" class=\"data row2 col0\" >nan</td>\n",
              "                        <td id=\"T_00195a1c_891e_11ea_8465_0242ac1c0002row2_col1\" class=\"data row2 col1\" >Algeria</td>\n",
              "                        <td id=\"T_00195a1c_891e_11ea_8465_0242ac1c0002row2_col2\" class=\"data row2 col2\" >28.033900</td>\n",
              "                        <td id=\"T_00195a1c_891e_11ea_8465_0242ac1c0002row2_col3\" class=\"data row2 col3\" >1.659600</td>\n",
              "                        <td id=\"T_00195a1c_891e_11ea_8465_0242ac1c0002row2_col4\" class=\"data row2 col4\" >1/22/20</td>\n",
              "                        <td id=\"T_00195a1c_891e_11ea_8465_0242ac1c0002row2_col5\" class=\"data row2 col5\" >0</td>\n",
              "                        <td id=\"T_00195a1c_891e_11ea_8465_0242ac1c0002row2_col6\" class=\"data row2 col6\" >0</td>\n",
              "                        <td id=\"T_00195a1c_891e_11ea_8465_0242ac1c0002row2_col7\" class=\"data row2 col7\" >0</td>\n",
              "            </tr>\n",
              "            <tr>\n",
              "                        <th id=\"T_00195a1c_891e_11ea_8465_0242ac1c0002level0_row3\" class=\"row_heading level0 row3\" >3</th>\n",
              "                        <td id=\"T_00195a1c_891e_11ea_8465_0242ac1c0002row3_col0\" class=\"data row3 col0\" >nan</td>\n",
              "                        <td id=\"T_00195a1c_891e_11ea_8465_0242ac1c0002row3_col1\" class=\"data row3 col1\" >Andorra</td>\n",
              "                        <td id=\"T_00195a1c_891e_11ea_8465_0242ac1c0002row3_col2\" class=\"data row3 col2\" >42.506300</td>\n",
              "                        <td id=\"T_00195a1c_891e_11ea_8465_0242ac1c0002row3_col3\" class=\"data row3 col3\" >1.521800</td>\n",
              "                        <td id=\"T_00195a1c_891e_11ea_8465_0242ac1c0002row3_col4\" class=\"data row3 col4\" >1/22/20</td>\n",
              "                        <td id=\"T_00195a1c_891e_11ea_8465_0242ac1c0002row3_col5\" class=\"data row3 col5\" >0</td>\n",
              "                        <td id=\"T_00195a1c_891e_11ea_8465_0242ac1c0002row3_col6\" class=\"data row3 col6\" >0</td>\n",
              "                        <td id=\"T_00195a1c_891e_11ea_8465_0242ac1c0002row3_col7\" class=\"data row3 col7\" >0</td>\n",
              "            </tr>\n",
              "            <tr>\n",
              "                        <th id=\"T_00195a1c_891e_11ea_8465_0242ac1c0002level0_row4\" class=\"row_heading level0 row4\" >4</th>\n",
              "                        <td id=\"T_00195a1c_891e_11ea_8465_0242ac1c0002row4_col0\" class=\"data row4 col0\" >nan</td>\n",
              "                        <td id=\"T_00195a1c_891e_11ea_8465_0242ac1c0002row4_col1\" class=\"data row4 col1\" >Angola</td>\n",
              "                        <td id=\"T_00195a1c_891e_11ea_8465_0242ac1c0002row4_col2\" class=\"data row4 col2\" >-11.202700</td>\n",
              "                        <td id=\"T_00195a1c_891e_11ea_8465_0242ac1c0002row4_col3\" class=\"data row4 col3\" >17.873900</td>\n",
              "                        <td id=\"T_00195a1c_891e_11ea_8465_0242ac1c0002row4_col4\" class=\"data row4 col4\" >1/22/20</td>\n",
              "                        <td id=\"T_00195a1c_891e_11ea_8465_0242ac1c0002row4_col5\" class=\"data row4 col5\" >0</td>\n",
              "                        <td id=\"T_00195a1c_891e_11ea_8465_0242ac1c0002row4_col6\" class=\"data row4 col6\" >0</td>\n",
              "                        <td id=\"T_00195a1c_891e_11ea_8465_0242ac1c0002row4_col7\" class=\"data row4 col7\" >0</td>\n",
              "            </tr>\n",
              "    </tbody></table>"
            ],
            "text/plain": [
              "<pandas.io.formats.style.Styler at 0x7f7f92fb20f0>"
            ]
          },
          "metadata": {
            "tags": []
          },
          "execution_count": 73
        }
      ]
    },
    {
      "cell_type": "code",
      "metadata": {
        "id": "O3jyiw6a0sV_",
        "colab_type": "code",
        "outputId": "a1458dae-122a-4f95-a1f4-3686c20200c4",
        "colab": {
          "base_uri": "https://localhost:8080/",
          "height": 190
        }
      },
      "source": [
        "df.tail()"
      ],
      "execution_count": 0,
      "outputs": [
        {
          "output_type": "execute_result",
          "data": {
            "text/html": [
              "<div>\n",
              "<style scoped>\n",
              "    .dataframe tbody tr th:only-of-type {\n",
              "        vertical-align: middle;\n",
              "    }\n",
              "\n",
              "    .dataframe tbody tr th {\n",
              "        vertical-align: top;\n",
              "    }\n",
              "\n",
              "    .dataframe thead th {\n",
              "        text-align: right;\n",
              "    }\n",
              "</style>\n",
              "<table border=\"1\" class=\"dataframe\">\n",
              "  <thead>\n",
              "    <tr style=\"text-align: right;\">\n",
              "      <th></th>\n",
              "      <th>Province/State</th>\n",
              "      <th>Country/Region</th>\n",
              "      <th>Lat</th>\n",
              "      <th>Long</th>\n",
              "      <th>Date</th>\n",
              "      <th>Confirmed</th>\n",
              "      <th>Deaths</th>\n",
              "      <th>Recovered</th>\n",
              "    </tr>\n",
              "  </thead>\n",
              "  <tbody>\n",
              "    <tr>\n",
              "      <th>24885</th>\n",
              "      <td>Saint Pierre and Miquelon</td>\n",
              "      <td>France</td>\n",
              "      <td>46.885200</td>\n",
              "      <td>-56.315900</td>\n",
              "      <td>4/25/20</td>\n",
              "      <td>1</td>\n",
              "      <td>0</td>\n",
              "      <td>0</td>\n",
              "    </tr>\n",
              "    <tr>\n",
              "      <th>24886</th>\n",
              "      <td>NaN</td>\n",
              "      <td>South Sudan</td>\n",
              "      <td>6.877000</td>\n",
              "      <td>31.307000</td>\n",
              "      <td>4/25/20</td>\n",
              "      <td>5</td>\n",
              "      <td>0</td>\n",
              "      <td>0</td>\n",
              "    </tr>\n",
              "    <tr>\n",
              "      <th>24887</th>\n",
              "      <td>NaN</td>\n",
              "      <td>Western Sahara</td>\n",
              "      <td>24.215500</td>\n",
              "      <td>-12.885800</td>\n",
              "      <td>4/25/20</td>\n",
              "      <td>6</td>\n",
              "      <td>0</td>\n",
              "      <td>5</td>\n",
              "    </tr>\n",
              "    <tr>\n",
              "      <th>24888</th>\n",
              "      <td>NaN</td>\n",
              "      <td>Sao Tome and Principe</td>\n",
              "      <td>0.186360</td>\n",
              "      <td>6.613081</td>\n",
              "      <td>4/25/20</td>\n",
              "      <td>4</td>\n",
              "      <td>0</td>\n",
              "      <td>0</td>\n",
              "    </tr>\n",
              "    <tr>\n",
              "      <th>24889</th>\n",
              "      <td>NaN</td>\n",
              "      <td>Yemen</td>\n",
              "      <td>15.552727</td>\n",
              "      <td>48.516388</td>\n",
              "      <td>4/25/20</td>\n",
              "      <td>1</td>\n",
              "      <td>0</td>\n",
              "      <td>0</td>\n",
              "    </tr>\n",
              "  </tbody>\n",
              "</table>\n",
              "</div>"
            ],
            "text/plain": [
              "                  Province/State         Country/Region  ...  Deaths  Recovered\n",
              "24885  Saint Pierre and Miquelon                 France  ...       0          0\n",
              "24886                        NaN            South Sudan  ...       0          0\n",
              "24887                        NaN         Western Sahara  ...       0          5\n",
              "24888                        NaN  Sao Tome and Principe  ...       0          0\n",
              "24889                        NaN                  Yemen  ...       0          0\n",
              "\n",
              "[5 rows x 8 columns]"
            ]
          },
          "metadata": {
            "tags": []
          },
          "execution_count": 74
        }
      ]
    },
    {
      "cell_type": "code",
      "metadata": {
        "id": "hfvDVsBk09jm",
        "colab_type": "code",
        "outputId": "7681335c-9d19-431c-9f0d-8b45b4ddd19a",
        "colab": {
          "base_uri": "https://localhost:8080/",
          "height": 268
        }
      },
      "source": [
        "df.info()"
      ],
      "execution_count": 0,
      "outputs": [
        {
          "output_type": "stream",
          "text": [
            "<class 'pandas.core.frame.DataFrame'>\n",
            "RangeIndex: 24890 entries, 0 to 24889\n",
            "Data columns (total 8 columns):\n",
            " #   Column          Non-Null Count  Dtype  \n",
            "---  ------          --------------  -----  \n",
            " 0   Province/State  7600 non-null   object \n",
            " 1   Country/Region  24890 non-null  object \n",
            " 2   Lat             24890 non-null  float64\n",
            " 3   Long            24890 non-null  float64\n",
            " 4   Date            24890 non-null  object \n",
            " 5   Confirmed       24890 non-null  int64  \n",
            " 6   Deaths          24890 non-null  int64  \n",
            " 7   Recovered       24890 non-null  int64  \n",
            "dtypes: float64(2), int64(3), object(3)\n",
            "memory usage: 1.5+ MB\n"
          ],
          "name": "stdout"
        }
      ]
    },
    {
      "cell_type": "code",
      "metadata": {
        "id": "RK2ttllZ1WyU",
        "colab_type": "code",
        "outputId": "287c8d2e-5079-439f-fdb0-d9c33cbc59f4",
        "colab": {
          "base_uri": "https://localhost:8080/",
          "height": 190
        }
      },
      "source": [
        "# We need to convert date into date time format\n",
        "#state is not required for analysis her\n",
        "df = pd.read_csv(path,parse_dates=['Date'])\n",
        "df.head()"
      ],
      "execution_count": 0,
      "outputs": [
        {
          "output_type": "execute_result",
          "data": {
            "text/html": [
              "<div>\n",
              "<style scoped>\n",
              "    .dataframe tbody tr th:only-of-type {\n",
              "        vertical-align: middle;\n",
              "    }\n",
              "\n",
              "    .dataframe tbody tr th {\n",
              "        vertical-align: top;\n",
              "    }\n",
              "\n",
              "    .dataframe thead th {\n",
              "        text-align: right;\n",
              "    }\n",
              "</style>\n",
              "<table border=\"1\" class=\"dataframe\">\n",
              "  <thead>\n",
              "    <tr style=\"text-align: right;\">\n",
              "      <th></th>\n",
              "      <th>Province/State</th>\n",
              "      <th>Country/Region</th>\n",
              "      <th>Lat</th>\n",
              "      <th>Long</th>\n",
              "      <th>Date</th>\n",
              "      <th>Confirmed</th>\n",
              "      <th>Deaths</th>\n",
              "      <th>Recovered</th>\n",
              "    </tr>\n",
              "  </thead>\n",
              "  <tbody>\n",
              "    <tr>\n",
              "      <th>0</th>\n",
              "      <td>NaN</td>\n",
              "      <td>Afghanistan</td>\n",
              "      <td>33.0000</td>\n",
              "      <td>65.0000</td>\n",
              "      <td>2020-01-22</td>\n",
              "      <td>0</td>\n",
              "      <td>0</td>\n",
              "      <td>0</td>\n",
              "    </tr>\n",
              "    <tr>\n",
              "      <th>1</th>\n",
              "      <td>NaN</td>\n",
              "      <td>Albania</td>\n",
              "      <td>41.1533</td>\n",
              "      <td>20.1683</td>\n",
              "      <td>2020-01-22</td>\n",
              "      <td>0</td>\n",
              "      <td>0</td>\n",
              "      <td>0</td>\n",
              "    </tr>\n",
              "    <tr>\n",
              "      <th>2</th>\n",
              "      <td>NaN</td>\n",
              "      <td>Algeria</td>\n",
              "      <td>28.0339</td>\n",
              "      <td>1.6596</td>\n",
              "      <td>2020-01-22</td>\n",
              "      <td>0</td>\n",
              "      <td>0</td>\n",
              "      <td>0</td>\n",
              "    </tr>\n",
              "    <tr>\n",
              "      <th>3</th>\n",
              "      <td>NaN</td>\n",
              "      <td>Andorra</td>\n",
              "      <td>42.5063</td>\n",
              "      <td>1.5218</td>\n",
              "      <td>2020-01-22</td>\n",
              "      <td>0</td>\n",
              "      <td>0</td>\n",
              "      <td>0</td>\n",
              "    </tr>\n",
              "    <tr>\n",
              "      <th>4</th>\n",
              "      <td>NaN</td>\n",
              "      <td>Angola</td>\n",
              "      <td>-11.2027</td>\n",
              "      <td>17.8739</td>\n",
              "      <td>2020-01-22</td>\n",
              "      <td>0</td>\n",
              "      <td>0</td>\n",
              "      <td>0</td>\n",
              "    </tr>\n",
              "  </tbody>\n",
              "</table>\n",
              "</div>"
            ],
            "text/plain": [
              "  Province/State Country/Region      Lat  ...  Confirmed Deaths  Recovered\n",
              "0            NaN    Afghanistan  33.0000  ...          0      0          0\n",
              "1            NaN        Albania  41.1533  ...          0      0          0\n",
              "2            NaN        Algeria  28.0339  ...          0      0          0\n",
              "3            NaN        Andorra  42.5063  ...          0      0          0\n",
              "4            NaN         Angola -11.2027  ...          0      0          0\n",
              "\n",
              "[5 rows x 8 columns]"
            ]
          },
          "metadata": {
            "tags": []
          },
          "execution_count": 76
        }
      ]
    },
    {
      "cell_type": "markdown",
      "metadata": {
        "id": "TlmpzJmN1e3u",
        "colab_type": "text"
      },
      "source": [
        "## **Time Series Data**"
      ]
    },
    {
      "cell_type": "code",
      "metadata": {
        "id": "DX6P1mpF1kWy",
        "colab_type": "code",
        "colab": {}
      },
      "source": [
        "df.drop(['Province/State'],axis=1,inplace=True)"
      ],
      "execution_count": 0,
      "outputs": []
    },
    {
      "cell_type": "code",
      "metadata": {
        "id": "CLz4rVVW2lgr",
        "colab_type": "code",
        "outputId": "b7b5066e-50fb-46c2-8d0f-d24cb7989ffc",
        "colab": {
          "base_uri": "https://localhost:8080/",
          "height": 190
        }
      },
      "source": [
        "df.rename(columns={\"Country/Region\" : \"Country\"},inplace=True)\n",
        "df.head()"
      ],
      "execution_count": 0,
      "outputs": [
        {
          "output_type": "execute_result",
          "data": {
            "text/html": [
              "<div>\n",
              "<style scoped>\n",
              "    .dataframe tbody tr th:only-of-type {\n",
              "        vertical-align: middle;\n",
              "    }\n",
              "\n",
              "    .dataframe tbody tr th {\n",
              "        vertical-align: top;\n",
              "    }\n",
              "\n",
              "    .dataframe thead th {\n",
              "        text-align: right;\n",
              "    }\n",
              "</style>\n",
              "<table border=\"1\" class=\"dataframe\">\n",
              "  <thead>\n",
              "    <tr style=\"text-align: right;\">\n",
              "      <th></th>\n",
              "      <th>Country</th>\n",
              "      <th>Lat</th>\n",
              "      <th>Long</th>\n",
              "      <th>Date</th>\n",
              "      <th>Confirmed</th>\n",
              "      <th>Deaths</th>\n",
              "      <th>Recovered</th>\n",
              "    </tr>\n",
              "  </thead>\n",
              "  <tbody>\n",
              "    <tr>\n",
              "      <th>0</th>\n",
              "      <td>Afghanistan</td>\n",
              "      <td>33.0000</td>\n",
              "      <td>65.0000</td>\n",
              "      <td>2020-01-22</td>\n",
              "      <td>0</td>\n",
              "      <td>0</td>\n",
              "      <td>0</td>\n",
              "    </tr>\n",
              "    <tr>\n",
              "      <th>1</th>\n",
              "      <td>Albania</td>\n",
              "      <td>41.1533</td>\n",
              "      <td>20.1683</td>\n",
              "      <td>2020-01-22</td>\n",
              "      <td>0</td>\n",
              "      <td>0</td>\n",
              "      <td>0</td>\n",
              "    </tr>\n",
              "    <tr>\n",
              "      <th>2</th>\n",
              "      <td>Algeria</td>\n",
              "      <td>28.0339</td>\n",
              "      <td>1.6596</td>\n",
              "      <td>2020-01-22</td>\n",
              "      <td>0</td>\n",
              "      <td>0</td>\n",
              "      <td>0</td>\n",
              "    </tr>\n",
              "    <tr>\n",
              "      <th>3</th>\n",
              "      <td>Andorra</td>\n",
              "      <td>42.5063</td>\n",
              "      <td>1.5218</td>\n",
              "      <td>2020-01-22</td>\n",
              "      <td>0</td>\n",
              "      <td>0</td>\n",
              "      <td>0</td>\n",
              "    </tr>\n",
              "    <tr>\n",
              "      <th>4</th>\n",
              "      <td>Angola</td>\n",
              "      <td>-11.2027</td>\n",
              "      <td>17.8739</td>\n",
              "      <td>2020-01-22</td>\n",
              "      <td>0</td>\n",
              "      <td>0</td>\n",
              "      <td>0</td>\n",
              "    </tr>\n",
              "  </tbody>\n",
              "</table>\n",
              "</div>"
            ],
            "text/plain": [
              "       Country      Lat     Long       Date  Confirmed  Deaths  Recovered\n",
              "0  Afghanistan  33.0000  65.0000 2020-01-22          0       0          0\n",
              "1      Albania  41.1533  20.1683 2020-01-22          0       0          0\n",
              "2      Algeria  28.0339   1.6596 2020-01-22          0       0          0\n",
              "3      Andorra  42.5063   1.5218 2020-01-22          0       0          0\n",
              "4       Angola -11.2027  17.8739 2020-01-22          0       0          0"
            ]
          },
          "metadata": {
            "tags": []
          },
          "execution_count": 78
        }
      ]
    },
    {
      "cell_type": "code",
      "metadata": {
        "id": "TENlfjUx3BNd",
        "colab_type": "code",
        "colab": {}
      },
      "source": [
        "active = df['Confirmed']-df['Deaths']-df['Recovered']\n",
        "df['Active'] =active"
      ],
      "execution_count": 0,
      "outputs": []
    },
    {
      "cell_type": "code",
      "metadata": {
        "id": "Ud-pHR6Z3YZw",
        "colab_type": "code",
        "outputId": "32195594-4a48-4051-a62c-079306f115a8",
        "colab": {
          "base_uri": "https://localhost:8080/",
          "height": 190
        }
      },
      "source": [
        "df.head()"
      ],
      "execution_count": 0,
      "outputs": [
        {
          "output_type": "execute_result",
          "data": {
            "text/html": [
              "<div>\n",
              "<style scoped>\n",
              "    .dataframe tbody tr th:only-of-type {\n",
              "        vertical-align: middle;\n",
              "    }\n",
              "\n",
              "    .dataframe tbody tr th {\n",
              "        vertical-align: top;\n",
              "    }\n",
              "\n",
              "    .dataframe thead th {\n",
              "        text-align: right;\n",
              "    }\n",
              "</style>\n",
              "<table border=\"1\" class=\"dataframe\">\n",
              "  <thead>\n",
              "    <tr style=\"text-align: right;\">\n",
              "      <th></th>\n",
              "      <th>Country</th>\n",
              "      <th>Lat</th>\n",
              "      <th>Long</th>\n",
              "      <th>Date</th>\n",
              "      <th>Confirmed</th>\n",
              "      <th>Deaths</th>\n",
              "      <th>Recovered</th>\n",
              "      <th>Active</th>\n",
              "    </tr>\n",
              "  </thead>\n",
              "  <tbody>\n",
              "    <tr>\n",
              "      <th>0</th>\n",
              "      <td>Afghanistan</td>\n",
              "      <td>33.0000</td>\n",
              "      <td>65.0000</td>\n",
              "      <td>2020-01-22</td>\n",
              "      <td>0</td>\n",
              "      <td>0</td>\n",
              "      <td>0</td>\n",
              "      <td>0</td>\n",
              "    </tr>\n",
              "    <tr>\n",
              "      <th>1</th>\n",
              "      <td>Albania</td>\n",
              "      <td>41.1533</td>\n",
              "      <td>20.1683</td>\n",
              "      <td>2020-01-22</td>\n",
              "      <td>0</td>\n",
              "      <td>0</td>\n",
              "      <td>0</td>\n",
              "      <td>0</td>\n",
              "    </tr>\n",
              "    <tr>\n",
              "      <th>2</th>\n",
              "      <td>Algeria</td>\n",
              "      <td>28.0339</td>\n",
              "      <td>1.6596</td>\n",
              "      <td>2020-01-22</td>\n",
              "      <td>0</td>\n",
              "      <td>0</td>\n",
              "      <td>0</td>\n",
              "      <td>0</td>\n",
              "    </tr>\n",
              "    <tr>\n",
              "      <th>3</th>\n",
              "      <td>Andorra</td>\n",
              "      <td>42.5063</td>\n",
              "      <td>1.5218</td>\n",
              "      <td>2020-01-22</td>\n",
              "      <td>0</td>\n",
              "      <td>0</td>\n",
              "      <td>0</td>\n",
              "      <td>0</td>\n",
              "    </tr>\n",
              "    <tr>\n",
              "      <th>4</th>\n",
              "      <td>Angola</td>\n",
              "      <td>-11.2027</td>\n",
              "      <td>17.8739</td>\n",
              "      <td>2020-01-22</td>\n",
              "      <td>0</td>\n",
              "      <td>0</td>\n",
              "      <td>0</td>\n",
              "      <td>0</td>\n",
              "    </tr>\n",
              "  </tbody>\n",
              "</table>\n",
              "</div>"
            ],
            "text/plain": [
              "       Country      Lat     Long  ... Deaths  Recovered  Active\n",
              "0  Afghanistan  33.0000  65.0000  ...      0          0       0\n",
              "1      Albania  41.1533  20.1683  ...      0          0       0\n",
              "2      Algeria  28.0339   1.6596  ...      0          0       0\n",
              "3      Andorra  42.5063   1.5218  ...      0          0       0\n",
              "4       Angola -11.2027  17.8739  ...      0          0       0\n",
              "\n",
              "[5 rows x 8 columns]"
            ]
          },
          "metadata": {
            "tags": []
          },
          "execution_count": 80
        }
      ]
    },
    {
      "cell_type": "code",
      "metadata": {
        "id": "P_OK6xGp3Z2N",
        "colab_type": "code",
        "colab": {}
      },
      "source": [
        "top = df[df['Date']== df['Date'].max()]"
      ],
      "execution_count": 0,
      "outputs": []
    },
    {
      "cell_type": "code",
      "metadata": {
        "id": "m8_WDvFr8wbs",
        "colab_type": "code",
        "outputId": "340a3ba6-a913-4a43-c088-4ab6c7a669ce",
        "colab": {
          "base_uri": "https://localhost:8080/",
          "height": 190
        }
      },
      "source": [
        "df.rename(columns={\"Actve\" : \"Active\"},inplace=True)\n",
        "df.head()"
      ],
      "execution_count": 0,
      "outputs": [
        {
          "output_type": "execute_result",
          "data": {
            "text/html": [
              "<div>\n",
              "<style scoped>\n",
              "    .dataframe tbody tr th:only-of-type {\n",
              "        vertical-align: middle;\n",
              "    }\n",
              "\n",
              "    .dataframe tbody tr th {\n",
              "        vertical-align: top;\n",
              "    }\n",
              "\n",
              "    .dataframe thead th {\n",
              "        text-align: right;\n",
              "    }\n",
              "</style>\n",
              "<table border=\"1\" class=\"dataframe\">\n",
              "  <thead>\n",
              "    <tr style=\"text-align: right;\">\n",
              "      <th></th>\n",
              "      <th>Country</th>\n",
              "      <th>Lat</th>\n",
              "      <th>Long</th>\n",
              "      <th>Date</th>\n",
              "      <th>Confirmed</th>\n",
              "      <th>Deaths</th>\n",
              "      <th>Recovered</th>\n",
              "      <th>Active</th>\n",
              "    </tr>\n",
              "  </thead>\n",
              "  <tbody>\n",
              "    <tr>\n",
              "      <th>0</th>\n",
              "      <td>Afghanistan</td>\n",
              "      <td>33.0000</td>\n",
              "      <td>65.0000</td>\n",
              "      <td>2020-01-22</td>\n",
              "      <td>0</td>\n",
              "      <td>0</td>\n",
              "      <td>0</td>\n",
              "      <td>0</td>\n",
              "    </tr>\n",
              "    <tr>\n",
              "      <th>1</th>\n",
              "      <td>Albania</td>\n",
              "      <td>41.1533</td>\n",
              "      <td>20.1683</td>\n",
              "      <td>2020-01-22</td>\n",
              "      <td>0</td>\n",
              "      <td>0</td>\n",
              "      <td>0</td>\n",
              "      <td>0</td>\n",
              "    </tr>\n",
              "    <tr>\n",
              "      <th>2</th>\n",
              "      <td>Algeria</td>\n",
              "      <td>28.0339</td>\n",
              "      <td>1.6596</td>\n",
              "      <td>2020-01-22</td>\n",
              "      <td>0</td>\n",
              "      <td>0</td>\n",
              "      <td>0</td>\n",
              "      <td>0</td>\n",
              "    </tr>\n",
              "    <tr>\n",
              "      <th>3</th>\n",
              "      <td>Andorra</td>\n",
              "      <td>42.5063</td>\n",
              "      <td>1.5218</td>\n",
              "      <td>2020-01-22</td>\n",
              "      <td>0</td>\n",
              "      <td>0</td>\n",
              "      <td>0</td>\n",
              "      <td>0</td>\n",
              "    </tr>\n",
              "    <tr>\n",
              "      <th>4</th>\n",
              "      <td>Angola</td>\n",
              "      <td>-11.2027</td>\n",
              "      <td>17.8739</td>\n",
              "      <td>2020-01-22</td>\n",
              "      <td>0</td>\n",
              "      <td>0</td>\n",
              "      <td>0</td>\n",
              "      <td>0</td>\n",
              "    </tr>\n",
              "  </tbody>\n",
              "</table>\n",
              "</div>"
            ],
            "text/plain": [
              "       Country      Lat     Long  ... Deaths  Recovered  Active\n",
              "0  Afghanistan  33.0000  65.0000  ...      0          0       0\n",
              "1      Albania  41.1533  20.1683  ...      0          0       0\n",
              "2      Algeria  28.0339   1.6596  ...      0          0       0\n",
              "3      Andorra  42.5063   1.5218  ...      0          0       0\n",
              "4       Angola -11.2027  17.8739  ...      0          0       0\n",
              "\n",
              "[5 rows x 8 columns]"
            ]
          },
          "metadata": {
            "tags": []
          },
          "execution_count": 82
        }
      ]
    },
    {
      "cell_type": "markdown",
      "metadata": {
        "id": "kEKl6xN74YBN",
        "colab_type": "text"
      },
      "source": [
        "Top Countries"
      ]
    },
    {
      "cell_type": "code",
      "metadata": {
        "id": "PQ0dFOrn32vZ",
        "colab_type": "code",
        "outputId": "03151a8b-28ca-4f5a-a2f9-8edc0e0b6b5d",
        "colab": {
          "base_uri": "https://localhost:8080/",
          "height": 33
        }
      },
      "source": [
        "df['Date'].max()"
      ],
      "execution_count": 0,
      "outputs": [
        {
          "output_type": "execute_result",
          "data": {
            "text/plain": [
              "Timestamp('2020-04-25 00:00:00')"
            ]
          },
          "metadata": {
            "tags": []
          },
          "execution_count": 83
        }
      ]
    },
    {
      "cell_type": "code",
      "metadata": {
        "id": "RUnzkfe94P1_",
        "colab_type": "code",
        "outputId": "e4b04c30-75ad-4eed-92fe-7a63eaa6d854",
        "colab": {
          "base_uri": "https://localhost:8080/",
          "height": 190
        }
      },
      "source": [
        "top.head()"
      ],
      "execution_count": 0,
      "outputs": [
        {
          "output_type": "execute_result",
          "data": {
            "text/html": [
              "<div>\n",
              "<style scoped>\n",
              "    .dataframe tbody tr th:only-of-type {\n",
              "        vertical-align: middle;\n",
              "    }\n",
              "\n",
              "    .dataframe tbody tr th {\n",
              "        vertical-align: top;\n",
              "    }\n",
              "\n",
              "    .dataframe thead th {\n",
              "        text-align: right;\n",
              "    }\n",
              "</style>\n",
              "<table border=\"1\" class=\"dataframe\">\n",
              "  <thead>\n",
              "    <tr style=\"text-align: right;\">\n",
              "      <th></th>\n",
              "      <th>Country</th>\n",
              "      <th>Lat</th>\n",
              "      <th>Long</th>\n",
              "      <th>Date</th>\n",
              "      <th>Confirmed</th>\n",
              "      <th>Deaths</th>\n",
              "      <th>Recovered</th>\n",
              "      <th>Active</th>\n",
              "    </tr>\n",
              "  </thead>\n",
              "  <tbody>\n",
              "    <tr>\n",
              "      <th>24628</th>\n",
              "      <td>Afghanistan</td>\n",
              "      <td>33.0000</td>\n",
              "      <td>65.0000</td>\n",
              "      <td>2020-04-25</td>\n",
              "      <td>1463</td>\n",
              "      <td>47</td>\n",
              "      <td>188</td>\n",
              "      <td>1228</td>\n",
              "    </tr>\n",
              "    <tr>\n",
              "      <th>24629</th>\n",
              "      <td>Albania</td>\n",
              "      <td>41.1533</td>\n",
              "      <td>20.1683</td>\n",
              "      <td>2020-04-25</td>\n",
              "      <td>712</td>\n",
              "      <td>27</td>\n",
              "      <td>403</td>\n",
              "      <td>282</td>\n",
              "    </tr>\n",
              "    <tr>\n",
              "      <th>24630</th>\n",
              "      <td>Algeria</td>\n",
              "      <td>28.0339</td>\n",
              "      <td>1.6596</td>\n",
              "      <td>2020-04-25</td>\n",
              "      <td>3256</td>\n",
              "      <td>419</td>\n",
              "      <td>1479</td>\n",
              "      <td>1358</td>\n",
              "    </tr>\n",
              "    <tr>\n",
              "      <th>24631</th>\n",
              "      <td>Andorra</td>\n",
              "      <td>42.5063</td>\n",
              "      <td>1.5218</td>\n",
              "      <td>2020-04-25</td>\n",
              "      <td>738</td>\n",
              "      <td>40</td>\n",
              "      <td>344</td>\n",
              "      <td>354</td>\n",
              "    </tr>\n",
              "    <tr>\n",
              "      <th>24632</th>\n",
              "      <td>Angola</td>\n",
              "      <td>-11.2027</td>\n",
              "      <td>17.8739</td>\n",
              "      <td>2020-04-25</td>\n",
              "      <td>25</td>\n",
              "      <td>2</td>\n",
              "      <td>6</td>\n",
              "      <td>17</td>\n",
              "    </tr>\n",
              "  </tbody>\n",
              "</table>\n",
              "</div>"
            ],
            "text/plain": [
              "           Country      Lat     Long  ... Deaths  Recovered  Active\n",
              "24628  Afghanistan  33.0000  65.0000  ...     47        188    1228\n",
              "24629      Albania  41.1533  20.1683  ...     27        403     282\n",
              "24630      Algeria  28.0339   1.6596  ...    419       1479    1358\n",
              "24631      Andorra  42.5063   1.5218  ...     40        344     354\n",
              "24632       Angola -11.2027  17.8739  ...      2          6      17\n",
              "\n",
              "[5 rows x 8 columns]"
            ]
          },
          "metadata": {
            "tags": []
          },
          "execution_count": 84
        }
      ]
    },
    {
      "cell_type": "code",
      "metadata": {
        "id": "4sPzk6oo4Rek",
        "colab_type": "code",
        "outputId": "aca4bd5c-dd82-4591-f0a6-7147e74fff18",
        "colab": {
          "base_uri": "https://localhost:8080/",
          "height": 84
        }
      },
      "source": [
        "world =top.groupby('Country')['Confirmed',\t'Deaths',\t'Recovered'\t,'Active'].sum().reset_index()"
      ],
      "execution_count": 0,
      "outputs": [
        {
          "output_type": "stream",
          "text": [
            "/usr/local/lib/python3.6/dist-packages/ipykernel_launcher.py:1: FutureWarning:\n",
            "\n",
            "Indexing with multiple keys (implicitly converted to a tuple of keys) will be deprecated, use a list instead.\n",
            "\n"
          ],
          "name": "stderr"
        }
      ]
    },
    {
      "cell_type": "code",
      "metadata": {
        "id": "lwTGqavv4qf1",
        "colab_type": "code",
        "outputId": "6f53a865-73d1-4a09-e941-e6424a38ae28",
        "colab": {
          "base_uri": "https://localhost:8080/",
          "height": 190
        }
      },
      "source": [
        "world.head()"
      ],
      "execution_count": 0,
      "outputs": [
        {
          "output_type": "execute_result",
          "data": {
            "text/html": [
              "<div>\n",
              "<style scoped>\n",
              "    .dataframe tbody tr th:only-of-type {\n",
              "        vertical-align: middle;\n",
              "    }\n",
              "\n",
              "    .dataframe tbody tr th {\n",
              "        vertical-align: top;\n",
              "    }\n",
              "\n",
              "    .dataframe thead th {\n",
              "        text-align: right;\n",
              "    }\n",
              "</style>\n",
              "<table border=\"1\" class=\"dataframe\">\n",
              "  <thead>\n",
              "    <tr style=\"text-align: right;\">\n",
              "      <th></th>\n",
              "      <th>Country</th>\n",
              "      <th>Confirmed</th>\n",
              "      <th>Deaths</th>\n",
              "      <th>Recovered</th>\n",
              "      <th>Active</th>\n",
              "    </tr>\n",
              "  </thead>\n",
              "  <tbody>\n",
              "    <tr>\n",
              "      <th>0</th>\n",
              "      <td>Afghanistan</td>\n",
              "      <td>1463</td>\n",
              "      <td>47</td>\n",
              "      <td>188</td>\n",
              "      <td>1228</td>\n",
              "    </tr>\n",
              "    <tr>\n",
              "      <th>1</th>\n",
              "      <td>Albania</td>\n",
              "      <td>712</td>\n",
              "      <td>27</td>\n",
              "      <td>403</td>\n",
              "      <td>282</td>\n",
              "    </tr>\n",
              "    <tr>\n",
              "      <th>2</th>\n",
              "      <td>Algeria</td>\n",
              "      <td>3256</td>\n",
              "      <td>419</td>\n",
              "      <td>1479</td>\n",
              "      <td>1358</td>\n",
              "    </tr>\n",
              "    <tr>\n",
              "      <th>3</th>\n",
              "      <td>Andorra</td>\n",
              "      <td>738</td>\n",
              "      <td>40</td>\n",
              "      <td>344</td>\n",
              "      <td>354</td>\n",
              "    </tr>\n",
              "    <tr>\n",
              "      <th>4</th>\n",
              "      <td>Angola</td>\n",
              "      <td>25</td>\n",
              "      <td>2</td>\n",
              "      <td>6</td>\n",
              "      <td>17</td>\n",
              "    </tr>\n",
              "  </tbody>\n",
              "</table>\n",
              "</div>"
            ],
            "text/plain": [
              "       Country  Confirmed  Deaths  Recovered  Active\n",
              "0  Afghanistan       1463      47        188    1228\n",
              "1      Albania        712      27        403     282\n",
              "2      Algeria       3256     419       1479    1358\n",
              "3      Andorra        738      40        344     354\n",
              "4       Angola         25       2          6      17"
            ]
          },
          "metadata": {
            "tags": []
          },
          "execution_count": 86
        }
      ]
    },
    {
      "cell_type": "code",
      "metadata": {
        "id": "1T6GLPVX5rd9",
        "colab_type": "code",
        "colab": {}
      },
      "source": [
        ""
      ],
      "execution_count": 0,
      "outputs": []
    },
    {
      "cell_type": "markdown",
      "metadata": {
        "id": "_LTzKkL46c9f",
        "colab_type": "text"
      },
      "source": [
        "### Plotting on world map-Active Cases"
      ]
    },
    {
      "cell_type": "code",
      "metadata": {
        "id": "nUAwt7s74RGO",
        "colab_type": "code",
        "outputId": "5fae15fe-3230-45a3-f918-b7f9e373d516",
        "colab": {
          "base_uri": "https://localhost:8080/"
        }
      },
      "source": [
        "#### Plotting On World Map (Active Cases)\n",
        "figure = px.choropleth(world,locations='Country',locationmode='country names',color='Active',\n",
        "                       hover_name='Country',range_color=[1,10000],color_continuous_scale='picnic',\n",
        "                       title='Countries With Active Cases')\n",
        "figure.show()"
      ],
      "execution_count": 0,
      "outputs": [
        {
          "output_type": "display_data",
          "data": {
            "text/html": [
              "<html>\n",
              "<head><meta charset=\"utf-8\" /></head>\n",
              "<body>\n",
              "    <div>\n",
              "            <script src=\"https://cdnjs.cloudflare.com/ajax/libs/mathjax/2.7.5/MathJax.js?config=TeX-AMS-MML_SVG\"></script><script type=\"text/javascript\">if (window.MathJax) {MathJax.Hub.Config({SVG: {font: \"STIX-Web\"}});}</script>\n",
              "                <script type=\"text/javascript\">window.PlotlyConfig = {MathJaxConfig: 'local'};</script>\n",
              "        <script src=\"https://cdn.plot.ly/plotly-latest.min.js\"></script>    \n",
              "            <div id=\"d00788ea-c0fe-48f3-846c-6411b46c8d11\" class=\"plotly-graph-div\" style=\"height:525px; width:100%;\"></div>\n",
              "            <script type=\"text/javascript\">\n",
              "                \n",
              "                    window.PLOTLYENV=window.PLOTLYENV || {};\n",
              "                    \n",
              "                if (document.getElementById(\"d00788ea-c0fe-48f3-846c-6411b46c8d11\")) {\n",
              "                    Plotly.newPlot(\n",
              "                        'd00788ea-c0fe-48f3-846c-6411b46c8d11',\n",
              "                        [{\"coloraxis\": \"coloraxis\", \"geo\": \"geo\", \"hoverlabel\": {\"namelength\": 0}, \"hovertemplate\": \"<b>%{hovertext}</b><br><br>Country=%{location}<br>Active=%{z}\", \"hovertext\": [\"Afghanistan\", \"Albania\", \"Algeria\", \"Andorra\", \"Angola\", \"Antigua and Barbuda\", \"Argentina\", \"Armenia\", \"Australia\", \"Austria\", \"Azerbaijan\", \"Bahamas\", \"Bahrain\", \"Bangladesh\", \"Barbados\", \"Belarus\", \"Belgium\", \"Belize\", \"Benin\", \"Bhutan\", \"Bolivia\", \"Bosnia and Herzegovina\", \"Botswana\", \"Brazil\", \"Brunei\", \"Bulgaria\", \"Burkina Faso\", \"Burma\", \"Burundi\", \"Cabo Verde\", \"Cambodia\", \"Cameroon\", \"Canada\", \"Central African Republic\", \"Chad\", \"Chile\", \"China\", \"Colombia\", \"Congo (Brazzaville)\", \"Congo (Kinshasa)\", \"Costa Rica\", \"Cote d'Ivoire\", \"Croatia\", \"Cuba\", \"Cyprus\", \"Czechia\", \"Denmark\", \"Diamond Princess\", \"Djibouti\", \"Dominica\", \"Dominican Republic\", \"Ecuador\", \"Egypt\", \"El Salvador\", \"Equatorial Guinea\", \"Eritrea\", \"Estonia\", \"Eswatini\", \"Ethiopia\", \"Fiji\", \"Finland\", \"France\", \"Gabon\", \"Gambia\", \"Georgia\", \"Germany\", \"Ghana\", \"Greece\", \"Grenada\", \"Guatemala\", \"Guinea\", \"Guinea-Bissau\", \"Guyana\", \"Haiti\", \"Holy See\", \"Honduras\", \"Hungary\", \"Iceland\", \"India\", \"Indonesia\", \"Iran\", \"Iraq\", \"Ireland\", \"Israel\", \"Italy\", \"Jamaica\", \"Japan\", \"Jordan\", \"Kazakhstan\", \"Kenya\", \"Kosovo\", \"Kuwait\", \"Kyrgyzstan\", \"Laos\", \"Latvia\", \"Lebanon\", \"Liberia\", \"Libya\", \"Liechtenstein\", \"Lithuania\", \"Luxembourg\", \"MS Zaandam\", \"Madagascar\", \"Malawi\", \"Malaysia\", \"Maldives\", \"Mali\", \"Malta\", \"Mauritania\", \"Mauritius\", \"Mexico\", \"Moldova\", \"Monaco\", \"Mongolia\", \"Montenegro\", \"Morocco\", \"Mozambique\", \"Namibia\", \"Nepal\", \"Netherlands\", \"New Zealand\", \"Nicaragua\", \"Niger\", \"Nigeria\", \"North Macedonia\", \"Norway\", \"Oman\", \"Pakistan\", \"Panama\", \"Papua New Guinea\", \"Paraguay\", \"Peru\", \"Philippines\", \"Poland\", \"Portugal\", \"Qatar\", \"Romania\", \"Russia\", \"Rwanda\", \"Saint Kitts and Nevis\", \"Saint Lucia\", \"Saint Vincent and the Grenadines\", \"San Marino\", \"Sao Tome and Principe\", \"Saudi Arabia\", \"Senegal\", \"Serbia\", \"Seychelles\", \"Sierra Leone\", \"Singapore\", \"Slovakia\", \"Slovenia\", \"Somalia\", \"South Africa\", \"South Korea\", \"South Sudan\", \"Spain\", \"Sri Lanka\", \"Sudan\", \"Suriname\", \"Sweden\", \"Switzerland\", \"Syria\", \"Taiwan*\", \"Tanzania\", \"Thailand\", \"Timor-Leste\", \"Togo\", \"Trinidad and Tobago\", \"Tunisia\", \"Turkey\", \"US\", \"Uganda\", \"Ukraine\", \"United Arab Emirates\", \"United Kingdom\", \"Uruguay\", \"Uzbekistan\", \"Venezuela\", \"Vietnam\", \"West Bank and Gaza\", \"Western Sahara\", \"Yemen\", \"Zambia\", \"Zimbabwe\"], \"locationmode\": \"country names\", \"locations\": [\"Afghanistan\", \"Albania\", \"Algeria\", \"Andorra\", \"Angola\", \"Antigua and Barbuda\", \"Argentina\", \"Armenia\", \"Australia\", \"Austria\", \"Azerbaijan\", \"Bahamas\", \"Bahrain\", \"Bangladesh\", \"Barbados\", \"Belarus\", \"Belgium\", \"Belize\", \"Benin\", \"Bhutan\", \"Bolivia\", \"Bosnia and Herzegovina\", \"Botswana\", \"Brazil\", \"Brunei\", \"Bulgaria\", \"Burkina Faso\", \"Burma\", \"Burundi\", \"Cabo Verde\", \"Cambodia\", \"Cameroon\", \"Canada\", \"Central African Republic\", \"Chad\", \"Chile\", \"China\", \"Colombia\", \"Congo (Brazzaville)\", \"Congo (Kinshasa)\", \"Costa Rica\", \"Cote d'Ivoire\", \"Croatia\", \"Cuba\", \"Cyprus\", \"Czechia\", \"Denmark\", \"Diamond Princess\", \"Djibouti\", \"Dominica\", \"Dominican Republic\", \"Ecuador\", \"Egypt\", \"El Salvador\", \"Equatorial Guinea\", \"Eritrea\", \"Estonia\", \"Eswatini\", \"Ethiopia\", \"Fiji\", \"Finland\", \"France\", \"Gabon\", \"Gambia\", \"Georgia\", \"Germany\", \"Ghana\", \"Greece\", \"Grenada\", \"Guatemala\", \"Guinea\", \"Guinea-Bissau\", \"Guyana\", \"Haiti\", \"Holy See\", \"Honduras\", \"Hungary\", \"Iceland\", \"India\", \"Indonesia\", \"Iran\", \"Iraq\", \"Ireland\", \"Israel\", \"Italy\", \"Jamaica\", \"Japan\", \"Jordan\", \"Kazakhstan\", \"Kenya\", \"Kosovo\", \"Kuwait\", \"Kyrgyzstan\", \"Laos\", \"Latvia\", \"Lebanon\", \"Liberia\", \"Libya\", \"Liechtenstein\", \"Lithuania\", \"Luxembourg\", \"MS Zaandam\", \"Madagascar\", \"Malawi\", \"Malaysia\", \"Maldives\", \"Mali\", \"Malta\", \"Mauritania\", \"Mauritius\", \"Mexico\", \"Moldova\", \"Monaco\", \"Mongolia\", \"Montenegro\", \"Morocco\", \"Mozambique\", \"Namibia\", \"Nepal\", \"Netherlands\", \"New Zealand\", \"Nicaragua\", \"Niger\", \"Nigeria\", \"North Macedonia\", \"Norway\", \"Oman\", \"Pakistan\", \"Panama\", \"Papua New Guinea\", \"Paraguay\", \"Peru\", \"Philippines\", \"Poland\", \"Portugal\", \"Qatar\", \"Romania\", \"Russia\", \"Rwanda\", \"Saint Kitts and Nevis\", \"Saint Lucia\", \"Saint Vincent and the Grenadines\", \"San Marino\", \"Sao Tome and Principe\", \"Saudi Arabia\", \"Senegal\", \"Serbia\", \"Seychelles\", \"Sierra Leone\", \"Singapore\", \"Slovakia\", \"Slovenia\", \"Somalia\", \"South Africa\", \"South Korea\", \"South Sudan\", \"Spain\", \"Sri Lanka\", \"Sudan\", \"Suriname\", \"Sweden\", \"Switzerland\", \"Syria\", \"Taiwan*\", \"Tanzania\", \"Thailand\", \"Timor-Leste\", \"Togo\", \"Trinidad and Tobago\", \"Tunisia\", \"Turkey\", \"US\", \"Uganda\", \"Ukraine\", \"United Arab Emirates\", \"United Kingdom\", \"Uruguay\", \"Uzbekistan\", \"Venezuela\", \"Vietnam\", \"West Bank and Gaza\", \"Western Sahara\", \"Yemen\", \"Zambia\", \"Zimbabwe\"], \"name\": \"\", \"type\": \"choropleth\", \"z\": [1228, 282, 1358, 354, 17, 10, 2565, 846, 2391, 2509, 516, 52, 1420, 4745, 42, 7950, 27991, 11, 26, 4, 766, 837, 21, 26107, 16, 995, 146, 131, 6, 88, 5, 1465, 42944, 6, 31, 5931, 3602, 3842, 175, 339, 445, 644, 928, 849, 648, 7134, 2367, 54, 633, 3, 4831, 20777, 2898, 191, 250, 26, 1361, 45, 90, 8, 1789, 93624, 143, 1, 312, 40836, 1135, 1799, 18, 415, 781, 49, 54, 60, 7, 503, 1723, 210, 19519, 6845, 15485, 453, 8265, 8664, 105847, 270, 11215, 105, 1930, 231, 405, 2217, 312, 19, 525, 537, 84, 41, 25, 925, 538, 7, 61, 26, 1882, 160, 258, 195, 0, 27, 5388, 2385, 48, 28, 161, 3201, 70, 9, 37, 32853, 310, 2, 332, 925, 934, 7266, 1566, 9588, 5041, 8, 134, 16834, 6008, 8623, 21235, 8419, 7144, 67657, 95, 13, 0, 9, 409, 4, 13948, 331, 5635, 5, 70, 11679, 970, 1088, 364, 2802, 1769, 5, 105149, 335, 177, 2, 14980, 5995, 39, 148, 241, 309, 24, 28, 54, 694, 79485, 784027, 29, 7142, 7855, 128414, 212, 1147, 181, 45, 248, 1, 1, 44, 25]}],\n",
              "                        {\"coloraxis\": {\"cmax\": 10000, \"cmin\": 1, \"colorbar\": {\"title\": {\"text\": \"Active\"}}, \"colorscale\": [[0.0, \"rgb(0,0,255)\"], [0.1, \"rgb(51,153,255)\"], [0.2, \"rgb(102,204,255)\"], [0.3, \"rgb(153,204,255)\"], [0.4, \"rgb(204,204,255)\"], [0.5, \"rgb(255,255,255)\"], [0.6, \"rgb(255,204,255)\"], [0.7, \"rgb(255,153,255)\"], [0.8, \"rgb(255,102,204)\"], [0.9, \"rgb(255,102,102)\"], [1.0, \"rgb(255,0,0)\"]]}, \"geo\": {\"center\": {}, \"domain\": {\"x\": [0.0, 1.0], \"y\": [0.0, 1.0]}}, \"legend\": {\"tracegroupgap\": 0}, \"template\": {\"data\": {\"bar\": [{\"error_x\": {\"color\": \"#2a3f5f\"}, \"error_y\": {\"color\": \"#2a3f5f\"}, \"marker\": {\"line\": {\"color\": \"#E5ECF6\", \"width\": 0.5}}, \"type\": \"bar\"}], \"barpolar\": [{\"marker\": {\"line\": {\"color\": \"#E5ECF6\", \"width\": 0.5}}, \"type\": \"barpolar\"}], \"carpet\": [{\"aaxis\": {\"endlinecolor\": \"#2a3f5f\", \"gridcolor\": \"white\", \"linecolor\": \"white\", \"minorgridcolor\": \"white\", \"startlinecolor\": \"#2a3f5f\"}, \"baxis\": {\"endlinecolor\": \"#2a3f5f\", \"gridcolor\": \"white\", \"linecolor\": \"white\", \"minorgridcolor\": \"white\", \"startlinecolor\": \"#2a3f5f\"}, \"type\": \"carpet\"}], \"choropleth\": [{\"colorbar\": {\"outlinewidth\": 0, \"ticks\": \"\"}, \"type\": \"choropleth\"}], \"contour\": [{\"colorbar\": {\"outlinewidth\": 0, \"ticks\": \"\"}, \"colorscale\": [[0.0, \"#0d0887\"], [0.1111111111111111, \"#46039f\"], [0.2222222222222222, \"#7201a8\"], [0.3333333333333333, \"#9c179e\"], [0.4444444444444444, \"#bd3786\"], [0.5555555555555556, \"#d8576b\"], [0.6666666666666666, \"#ed7953\"], [0.7777777777777778, \"#fb9f3a\"], [0.8888888888888888, \"#fdca26\"], [1.0, \"#f0f921\"]], \"type\": \"contour\"}], \"contourcarpet\": [{\"colorbar\": {\"outlinewidth\": 0, \"ticks\": \"\"}, \"type\": \"contourcarpet\"}], \"heatmap\": [{\"colorbar\": {\"outlinewidth\": 0, \"ticks\": \"\"}, \"colorscale\": [[0.0, \"#0d0887\"], [0.1111111111111111, \"#46039f\"], [0.2222222222222222, \"#7201a8\"], [0.3333333333333333, \"#9c179e\"], [0.4444444444444444, \"#bd3786\"], [0.5555555555555556, \"#d8576b\"], [0.6666666666666666, \"#ed7953\"], [0.7777777777777778, \"#fb9f3a\"], [0.8888888888888888, \"#fdca26\"], [1.0, \"#f0f921\"]], \"type\": \"heatmap\"}], \"heatmapgl\": [{\"colorbar\": {\"outlinewidth\": 0, \"ticks\": \"\"}, \"colorscale\": [[0.0, \"#0d0887\"], [0.1111111111111111, \"#46039f\"], [0.2222222222222222, \"#7201a8\"], [0.3333333333333333, \"#9c179e\"], [0.4444444444444444, \"#bd3786\"], [0.5555555555555556, \"#d8576b\"], [0.6666666666666666, \"#ed7953\"], [0.7777777777777778, \"#fb9f3a\"], [0.8888888888888888, \"#fdca26\"], [1.0, \"#f0f921\"]], \"type\": \"heatmapgl\"}], \"histogram\": [{\"marker\": {\"colorbar\": {\"outlinewidth\": 0, \"ticks\": \"\"}}, \"type\": \"histogram\"}], \"histogram2d\": [{\"colorbar\": {\"outlinewidth\": 0, \"ticks\": \"\"}, \"colorscale\": [[0.0, \"#0d0887\"], [0.1111111111111111, \"#46039f\"], [0.2222222222222222, \"#7201a8\"], [0.3333333333333333, \"#9c179e\"], [0.4444444444444444, \"#bd3786\"], [0.5555555555555556, \"#d8576b\"], [0.6666666666666666, \"#ed7953\"], [0.7777777777777778, \"#fb9f3a\"], [0.8888888888888888, \"#fdca26\"], [1.0, \"#f0f921\"]], \"type\": \"histogram2d\"}], \"histogram2dcontour\": [{\"colorbar\": {\"outlinewidth\": 0, \"ticks\": \"\"}, \"colorscale\": [[0.0, \"#0d0887\"], [0.1111111111111111, \"#46039f\"], [0.2222222222222222, \"#7201a8\"], [0.3333333333333333, \"#9c179e\"], [0.4444444444444444, \"#bd3786\"], [0.5555555555555556, \"#d8576b\"], [0.6666666666666666, \"#ed7953\"], [0.7777777777777778, \"#fb9f3a\"], [0.8888888888888888, \"#fdca26\"], [1.0, \"#f0f921\"]], \"type\": \"histogram2dcontour\"}], \"mesh3d\": [{\"colorbar\": {\"outlinewidth\": 0, \"ticks\": \"\"}, \"type\": \"mesh3d\"}], \"parcoords\": [{\"line\": {\"colorbar\": {\"outlinewidth\": 0, \"ticks\": \"\"}}, \"type\": \"parcoords\"}], \"pie\": [{\"automargin\": true, \"type\": \"pie\"}], \"scatter\": [{\"marker\": {\"colorbar\": {\"outlinewidth\": 0, \"ticks\": \"\"}}, \"type\": \"scatter\"}], \"scatter3d\": [{\"line\": {\"colorbar\": {\"outlinewidth\": 0, \"ticks\": \"\"}}, \"marker\": {\"colorbar\": {\"outlinewidth\": 0, \"ticks\": \"\"}}, \"type\": \"scatter3d\"}], \"scattercarpet\": [{\"marker\": {\"colorbar\": {\"outlinewidth\": 0, \"ticks\": \"\"}}, \"type\": \"scattercarpet\"}], \"scattergeo\": [{\"marker\": {\"colorbar\": {\"outlinewidth\": 0, \"ticks\": \"\"}}, \"type\": \"scattergeo\"}], \"scattergl\": [{\"marker\": {\"colorbar\": {\"outlinewidth\": 0, \"ticks\": \"\"}}, \"type\": \"scattergl\"}], \"scattermapbox\": [{\"marker\": {\"colorbar\": {\"outlinewidth\": 0, \"ticks\": \"\"}}, \"type\": \"scattermapbox\"}], \"scatterpolar\": [{\"marker\": {\"colorbar\": {\"outlinewidth\": 0, \"ticks\": \"\"}}, \"type\": \"scatterpolar\"}], \"scatterpolargl\": [{\"marker\": {\"colorbar\": {\"outlinewidth\": 0, \"ticks\": \"\"}}, \"type\": \"scatterpolargl\"}], \"scatterternary\": [{\"marker\": {\"colorbar\": {\"outlinewidth\": 0, \"ticks\": \"\"}}, \"type\": \"scatterternary\"}], \"surface\": [{\"colorbar\": {\"outlinewidth\": 0, \"ticks\": \"\"}, \"colorscale\": [[0.0, \"#0d0887\"], [0.1111111111111111, \"#46039f\"], [0.2222222222222222, \"#7201a8\"], [0.3333333333333333, \"#9c179e\"], [0.4444444444444444, \"#bd3786\"], [0.5555555555555556, \"#d8576b\"], [0.6666666666666666, \"#ed7953\"], [0.7777777777777778, \"#fb9f3a\"], [0.8888888888888888, \"#fdca26\"], [1.0, \"#f0f921\"]], \"type\": \"surface\"}], \"table\": [{\"cells\": {\"fill\": {\"color\": \"#EBF0F8\"}, \"line\": {\"color\": \"white\"}}, \"header\": {\"fill\": {\"color\": \"#C8D4E3\"}, \"line\": {\"color\": \"white\"}}, \"type\": \"table\"}]}, \"layout\": {\"annotationdefaults\": {\"arrowcolor\": \"#2a3f5f\", \"arrowhead\": 0, \"arrowwidth\": 1}, \"coloraxis\": {\"colorbar\": {\"outlinewidth\": 0, \"ticks\": \"\"}}, \"colorscale\": {\"diverging\": [[0, \"#8e0152\"], [0.1, \"#c51b7d\"], [0.2, \"#de77ae\"], [0.3, \"#f1b6da\"], [0.4, \"#fde0ef\"], [0.5, \"#f7f7f7\"], [0.6, \"#e6f5d0\"], [0.7, \"#b8e186\"], [0.8, \"#7fbc41\"], [0.9, \"#4d9221\"], [1, \"#276419\"]], \"sequential\": [[0.0, \"#0d0887\"], [0.1111111111111111, \"#46039f\"], [0.2222222222222222, \"#7201a8\"], [0.3333333333333333, \"#9c179e\"], [0.4444444444444444, \"#bd3786\"], [0.5555555555555556, \"#d8576b\"], [0.6666666666666666, \"#ed7953\"], [0.7777777777777778, \"#fb9f3a\"], [0.8888888888888888, \"#fdca26\"], [1.0, \"#f0f921\"]], \"sequentialminus\": [[0.0, \"#0d0887\"], [0.1111111111111111, \"#46039f\"], [0.2222222222222222, \"#7201a8\"], [0.3333333333333333, \"#9c179e\"], [0.4444444444444444, \"#bd3786\"], [0.5555555555555556, \"#d8576b\"], [0.6666666666666666, \"#ed7953\"], [0.7777777777777778, \"#fb9f3a\"], [0.8888888888888888, \"#fdca26\"], [1.0, \"#f0f921\"]]}, \"colorway\": [\"#636efa\", \"#EF553B\", \"#00cc96\", \"#ab63fa\", \"#FFA15A\", \"#19d3f3\", \"#FF6692\", \"#B6E880\", \"#FF97FF\", \"#FECB52\"], \"font\": {\"color\": \"#2a3f5f\"}, \"geo\": {\"bgcolor\": \"white\", \"lakecolor\": \"white\", \"landcolor\": \"#E5ECF6\", \"showlakes\": true, \"showland\": true, \"subunitcolor\": \"white\"}, \"hoverlabel\": {\"align\": \"left\"}, \"hovermode\": \"closest\", \"mapbox\": {\"style\": \"light\"}, \"paper_bgcolor\": \"white\", \"plot_bgcolor\": \"#E5ECF6\", \"polar\": {\"angularaxis\": {\"gridcolor\": \"white\", \"linecolor\": \"white\", \"ticks\": \"\"}, \"bgcolor\": \"#E5ECF6\", \"radialaxis\": {\"gridcolor\": \"white\", \"linecolor\": \"white\", \"ticks\": \"\"}}, \"scene\": {\"xaxis\": {\"backgroundcolor\": \"#E5ECF6\", \"gridcolor\": \"white\", \"gridwidth\": 2, \"linecolor\": \"white\", \"showbackground\": true, \"ticks\": \"\", \"zerolinecolor\": \"white\"}, \"yaxis\": {\"backgroundcolor\": \"#E5ECF6\", \"gridcolor\": \"white\", \"gridwidth\": 2, \"linecolor\": \"white\", \"showbackground\": true, \"ticks\": \"\", \"zerolinecolor\": \"white\"}, \"zaxis\": {\"backgroundcolor\": \"#E5ECF6\", \"gridcolor\": \"white\", \"gridwidth\": 2, \"linecolor\": \"white\", \"showbackground\": true, \"ticks\": \"\", \"zerolinecolor\": \"white\"}}, \"shapedefaults\": {\"line\": {\"color\": \"#2a3f5f\"}}, \"ternary\": {\"aaxis\": {\"gridcolor\": \"white\", \"linecolor\": \"white\", \"ticks\": \"\"}, \"baxis\": {\"gridcolor\": \"white\", \"linecolor\": \"white\", \"ticks\": \"\"}, \"bgcolor\": \"#E5ECF6\", \"caxis\": {\"gridcolor\": \"white\", \"linecolor\": \"white\", \"ticks\": \"\"}}, \"title\": {\"x\": 0.05}, \"xaxis\": {\"automargin\": true, \"gridcolor\": \"white\", \"linecolor\": \"white\", \"ticks\": \"\", \"title\": {\"standoff\": 15}, \"zerolinecolor\": \"white\", \"zerolinewidth\": 2}, \"yaxis\": {\"automargin\": true, \"gridcolor\": \"white\", \"linecolor\": \"white\", \"ticks\": \"\", \"title\": {\"standoff\": 15}, \"zerolinecolor\": \"white\", \"zerolinewidth\": 2}}}, \"title\": {\"text\": \"Countries With Active Cases\"}},\n",
              "                        {\"responsive\": true}\n",
              "                    ).then(function(){\n",
              "                            \n",
              "var gd = document.getElementById('d00788ea-c0fe-48f3-846c-6411b46c8d11');\n",
              "var x = new MutationObserver(function (mutations, observer) {{\n",
              "        var display = window.getComputedStyle(gd).display;\n",
              "        if (!display || display === 'none') {{\n",
              "            console.log([gd, 'removed!']);\n",
              "            Plotly.purge(gd);\n",
              "            observer.disconnect();\n",
              "        }}\n",
              "}});\n",
              "\n",
              "// Listen for the removal of the full notebook cells\n",
              "var notebookContainer = gd.closest('#notebook-container');\n",
              "if (notebookContainer) {{\n",
              "    x.observe(notebookContainer, {childList: true});\n",
              "}}\n",
              "\n",
              "// Listen for the clearing of the current output cell\n",
              "var outputEl = gd.closest('.output');\n",
              "if (outputEl) {{\n",
              "    x.observe(outputEl, {childList: true});\n",
              "}}\n",
              "\n",
              "                        })\n",
              "                };\n",
              "                \n",
              "            </script>\n",
              "        </div>\n",
              "</body>\n",
              "</html>"
            ]
          },
          "metadata": {
            "tags": []
          }
        }
      ]
    },
    {
      "cell_type": "code",
      "metadata": {
        "id": "EdUP1O0y70ms",
        "colab_type": "code",
        "colab": {}
      },
      "source": [
        ""
      ],
      "execution_count": 0,
      "outputs": []
    },
    {
      "cell_type": "markdown",
      "metadata": {
        "id": "A2ZRILfG-K4v",
        "colab_type": "text"
      },
      "source": [
        "## Wordwide active cases over time"
      ]
    },
    {
      "cell_type": "code",
      "metadata": {
        "id": "59dwEHjf-Pju",
        "colab_type": "code",
        "outputId": "568ad5b3-dd08-4a4f-9353-6f3e32cf27f5",
        "colab": {
          "base_uri": "https://localhost:8080/",
          "height": 258
        }
      },
      "source": [
        "total_active_cases = df.groupby('Date')['Date','Active'].sum().reset_index()\n",
        "total_active_cases.tail()"
      ],
      "execution_count": 0,
      "outputs": [
        {
          "output_type": "stream",
          "text": [
            "/usr/local/lib/python3.6/dist-packages/ipykernel_launcher.py:1: FutureWarning:\n",
            "\n",
            "Indexing with multiple keys (implicitly converted to a tuple of keys) will be deprecated, use a list instead.\n",
            "\n"
          ],
          "name": "stderr"
        },
        {
          "output_type": "execute_result",
          "data": {
            "text/html": [
              "<div>\n",
              "<style scoped>\n",
              "    .dataframe tbody tr th:only-of-type {\n",
              "        vertical-align: middle;\n",
              "    }\n",
              "\n",
              "    .dataframe tbody tr th {\n",
              "        vertical-align: top;\n",
              "    }\n",
              "\n",
              "    .dataframe thead th {\n",
              "        text-align: right;\n",
              "    }\n",
              "</style>\n",
              "<table border=\"1\" class=\"dataframe\">\n",
              "  <thead>\n",
              "    <tr style=\"text-align: right;\">\n",
              "      <th></th>\n",
              "      <th>Date</th>\n",
              "      <th>Active</th>\n",
              "    </tr>\n",
              "  </thead>\n",
              "  <tbody>\n",
              "    <tr>\n",
              "      <th>90</th>\n",
              "      <td>2020-04-21</td>\n",
              "      <td>1709415</td>\n",
              "    </tr>\n",
              "    <tr>\n",
              "      <th>91</th>\n",
              "      <td>2020-04-22</td>\n",
              "      <td>1749596</td>\n",
              "    </tr>\n",
              "    <tr>\n",
              "      <th>92</th>\n",
              "      <td>2020-04-23</td>\n",
              "      <td>1798439</td>\n",
              "    </tr>\n",
              "    <tr>\n",
              "      <th>93</th>\n",
              "      <td>2020-04-24</td>\n",
              "      <td>1844141</td>\n",
              "    </tr>\n",
              "    <tr>\n",
              "      <th>94</th>\n",
              "      <td>2020-04-25</td>\n",
              "      <td>1898917</td>\n",
              "    </tr>\n",
              "  </tbody>\n",
              "</table>\n",
              "</div>"
            ],
            "text/plain": [
              "         Date   Active\n",
              "90 2020-04-21  1709415\n",
              "91 2020-04-22  1749596\n",
              "92 2020-04-23  1798439\n",
              "93 2020-04-24  1844141\n",
              "94 2020-04-25  1898917"
            ]
          },
          "metadata": {
            "tags": []
          },
          "execution_count": 88
        }
      ]
    },
    {
      "cell_type": "code",
      "metadata": {
        "id": "XqXqVSfV-zaX",
        "colab_type": "code",
        "outputId": "91417aa7-7064-44df-8c39-40fdac5f1f44",
        "colab": {
          "base_uri": "https://localhost:8080/",
          "height": 710
        }
      },
      "source": [
        "plt.figure(figsize=(16,12))\n",
        "plt.scatter(total_active_cases.Date,total_active_cases.Active)\n",
        "plt.show()"
      ],
      "execution_count": 0,
      "outputs": [
        {
          "output_type": "display_data",
          "data": {
            "image/png": "[encoded data removed]",
            "text/plain": [
              "<Figure size 1152x864 with 1 Axes>"
            ]
          },
          "metadata": {
            "tags": [],
            "needs_background": "light"
          }
        }
      ]
    },
    {
      "cell_type": "code",
      "metadata": {
        "id": "8QwqNG8q_fex",
        "colab_type": "code",
        "outputId": "1538f555-db6f-4809-ec05-fcfe4df4af64",
        "colab": {
          "base_uri": "https://localhost:8080/",
          "height": 652
        }
      },
      "source": [
        "plt.figure(figsize=(15,10))\n",
        "plt.xticks(rotation=90,fontsize=8)\n",
        "sns.pointplot(total_active_cases['Date'].dt.date,total_active_cases['Active'])\n",
        "plt.show()"
      ],
      "execution_count": 0,
      "outputs": [
        {
          "output_type": "display_data",
          "data": {
            "image/png": "[encoded data removed]",
            "text/plain": [
              "<Figure size 1080x720 with 1 Axes>"
            ]
          },
          "metadata": {
            "tags": [],
            "needs_background": "light"
          }
        }
      ]
    },
    {
      "cell_type": "code",
      "metadata": {
        "id": "VWab7bhwAsou",
        "colab_type": "code",
        "outputId": "f22370be-20e5-4730-f95c-e84173c3d970",
        "colab": {
          "base_uri": "https://localhost:8080/",
          "height": 661
        }
      },
      "source": [
        "plt.figure(figsize=(15,10))\n",
        "plt.title(\"Active Cases vs Date\")\n",
        "plt.xticks(rotation=90,fontsize=8)\n",
        "sns.pointplot(total_active_cases['Date'].dt.date,total_active_cases['Active'],color='y')\n",
        "plt.xlabel(\"Dates\",fontsize=12)\n",
        "plt.ylabel(\"Total Active Cases\",fontsize=12)\n",
        "plt.show()"
      ],
      "execution_count": 0,
      "outputs": [
        {
          "output_type": "display_data",
          "data": {
            "image/png": "[encoded data removed]",
            "text/plain": [
              "<Figure size 1080x720 with 1 Axes>"
            ]
          },
          "metadata": {
            "tags": [],
            "needs_background": "light"
          }
        }
      ]
    },
    {
      "cell_type": "code",
      "metadata": {
        "id": "5vr0yu_UBi0V",
        "colab_type": "code",
        "colab": {}
      },
      "source": [
        ""
      ],
      "execution_count": 0,
      "outputs": []
    },
    {
      "cell_type": "markdown",
      "metadata": {
        "id": "6epUJxAqB-rG",
        "colab_type": "text"
      },
      "source": [
        "### Top 20 countries having confirmed cases"
      ]
    },
    {
      "cell_type": "code",
      "metadata": {
        "id": "5LRnSEysCIGv",
        "colab_type": "code",
        "outputId": "b1d1482b-3295-4f10-aed7-0bde5effe900",
        "colab": {
          "base_uri": "https://localhost:8080/",
          "height": 728
        }
      },
      "source": [
        "total_confirmed_cases = df.groupby('Date')['Date','Confirmed'].sum().reset_index()\n",
        "plt.figure(figsize=(15,10))\n",
        "plt.title(\"Active Cases vs Date\")\n",
        "plt.xticks(rotation=90,fontsize=8)\n",
        "sns.pointplot(total_active_cases['Date'].dt.date,total_active_cases['Active'],color='red')\n",
        "sns.pointplot(total_confirmed_cases['Date'].dt.date,total_confirmed_cases['Confirmed'],color='blue')\n",
        "plt.xlabel(\"Dates\",fontsize=12)\n",
        "plt.ylabel(\"Total Active Cases\",fontsize=12)\n",
        "plt.show()"
      ],
      "execution_count": 0,
      "outputs": [
        {
          "output_type": "stream",
          "text": [
            "/usr/local/lib/python3.6/dist-packages/ipykernel_launcher.py:1: FutureWarning:\n",
            "\n",
            "Indexing with multiple keys (implicitly converted to a tuple of keys) will be deprecated, use a list instead.\n",
            "\n"
          ],
          "name": "stderr"
        },
        {
          "output_type": "display_data",
          "data": {
            "image/png": "[encoded data removed]",
            "text/plain": [
              "<Figure size 1080x720 with 1 Axes>"
            ]
          },
          "metadata": {
            "tags": [],
            "needs_background": "light"
          }
        }
      ]
    },
    {
      "cell_type": "code",
      "metadata": {
        "id": "MOj0LazECqrp",
        "colab_type": "code",
        "outputId": "2534770e-a649-43e2-9e43-fe618765d387",
        "colab": {
          "base_uri": "https://localhost:8080/",
          "height": 190
        }
      },
      "source": [
        "#### Top 20 Countries Having Confirmed Cases\n",
        "top.head()"
      ],
      "execution_count": 0,
      "outputs": [
        {
          "output_type": "execute_result",
          "data": {
            "text/html": [
              "<div>\n",
              "<style scoped>\n",
              "    .dataframe tbody tr th:only-of-type {\n",
              "        vertical-align: middle;\n",
              "    }\n",
              "\n",
              "    .dataframe tbody tr th {\n",
              "        vertical-align: top;\n",
              "    }\n",
              "\n",
              "    .dataframe thead th {\n",
              "        text-align: right;\n",
              "    }\n",
              "</style>\n",
              "<table border=\"1\" class=\"dataframe\">\n",
              "  <thead>\n",
              "    <tr style=\"text-align: right;\">\n",
              "      <th></th>\n",
              "      <th>Country</th>\n",
              "      <th>Lat</th>\n",
              "      <th>Long</th>\n",
              "      <th>Date</th>\n",
              "      <th>Confirmed</th>\n",
              "      <th>Deaths</th>\n",
              "      <th>Recovered</th>\n",
              "      <th>Active</th>\n",
              "    </tr>\n",
              "  </thead>\n",
              "  <tbody>\n",
              "    <tr>\n",
              "      <th>24628</th>\n",
              "      <td>Afghanistan</td>\n",
              "      <td>33.0000</td>\n",
              "      <td>65.0000</td>\n",
              "      <td>2020-04-25</td>\n",
              "      <td>1463</td>\n",
              "      <td>47</td>\n",
              "      <td>188</td>\n",
              "      <td>1228</td>\n",
              "    </tr>\n",
              "    <tr>\n",
              "      <th>24629</th>\n",
              "      <td>Albania</td>\n",
              "      <td>41.1533</td>\n",
              "      <td>20.1683</td>\n",
              "      <td>2020-04-25</td>\n",
              "      <td>712</td>\n",
              "      <td>27</td>\n",
              "      <td>403</td>\n",
              "      <td>282</td>\n",
              "    </tr>\n",
              "    <tr>\n",
              "      <th>24630</th>\n",
              "      <td>Algeria</td>\n",
              "      <td>28.0339</td>\n",
              "      <td>1.6596</td>\n",
              "      <td>2020-04-25</td>\n",
              "      <td>3256</td>\n",
              "      <td>419</td>\n",
              "      <td>1479</td>\n",
              "      <td>1358</td>\n",
              "    </tr>\n",
              "    <tr>\n",
              "      <th>24631</th>\n",
              "      <td>Andorra</td>\n",
              "      <td>42.5063</td>\n",
              "      <td>1.5218</td>\n",
              "      <td>2020-04-25</td>\n",
              "      <td>738</td>\n",
              "      <td>40</td>\n",
              "      <td>344</td>\n",
              "      <td>354</td>\n",
              "    </tr>\n",
              "    <tr>\n",
              "      <th>24632</th>\n",
              "      <td>Angola</td>\n",
              "      <td>-11.2027</td>\n",
              "      <td>17.8739</td>\n",
              "      <td>2020-04-25</td>\n",
              "      <td>25</td>\n",
              "      <td>2</td>\n",
              "      <td>6</td>\n",
              "      <td>17</td>\n",
              "    </tr>\n",
              "  </tbody>\n",
              "</table>\n",
              "</div>"
            ],
            "text/plain": [
              "           Country      Lat     Long  ... Deaths  Recovered  Active\n",
              "24628  Afghanistan  33.0000  65.0000  ...     47        188    1228\n",
              "24629      Albania  41.1533  20.1683  ...     27        403     282\n",
              "24630      Algeria  28.0339   1.6596  ...    419       1479    1358\n",
              "24631      Andorra  42.5063   1.5218  ...     40        344     354\n",
              "24632       Angola -11.2027  17.8739  ...      2          6      17\n",
              "\n",
              "[5 rows x 8 columns]"
            ]
          },
          "metadata": {
            "tags": []
          },
          "execution_count": 93
        }
      ]
    },
    {
      "cell_type": "code",
      "metadata": {
        "id": "rhse8hvJDyul",
        "colab_type": "code",
        "outputId": "55e6b8f2-8ccd-4985-b53c-4d1ec4c49585",
        "colab": {
          "base_uri": "https://localhost:8080/",
          "height": 190
        }
      },
      "source": [
        "top_confirmed = top.groupby('Country')['Confirmed'].sum().sort_values(ascending=False).reset_index()\n",
        "top_confirmed.head()  ### gropu the data by country and sort acc. to confirmed"
      ],
      "execution_count": 0,
      "outputs": [
        {
          "output_type": "execute_result",
          "data": {
            "text/html": [
              "<div>\n",
              "<style scoped>\n",
              "    .dataframe tbody tr th:only-of-type {\n",
              "        vertical-align: middle;\n",
              "    }\n",
              "\n",
              "    .dataframe tbody tr th {\n",
              "        vertical-align: top;\n",
              "    }\n",
              "\n",
              "    .dataframe thead th {\n",
              "        text-align: right;\n",
              "    }\n",
              "</style>\n",
              "<table border=\"1\" class=\"dataframe\">\n",
              "  <thead>\n",
              "    <tr style=\"text-align: right;\">\n",
              "      <th></th>\n",
              "      <th>Country</th>\n",
              "      <th>Confirmed</th>\n",
              "    </tr>\n",
              "  </thead>\n",
              "  <tbody>\n",
              "    <tr>\n",
              "      <th>0</th>\n",
              "      <td>US</td>\n",
              "      <td>938154</td>\n",
              "    </tr>\n",
              "    <tr>\n",
              "      <th>1</th>\n",
              "      <td>Spain</td>\n",
              "      <td>223759</td>\n",
              "    </tr>\n",
              "    <tr>\n",
              "      <th>2</th>\n",
              "      <td>Italy</td>\n",
              "      <td>195351</td>\n",
              "    </tr>\n",
              "    <tr>\n",
              "      <th>3</th>\n",
              "      <td>France</td>\n",
              "      <td>161644</td>\n",
              "    </tr>\n",
              "    <tr>\n",
              "      <th>4</th>\n",
              "      <td>Germany</td>\n",
              "      <td>156513</td>\n",
              "    </tr>\n",
              "  </tbody>\n",
              "</table>\n",
              "</div>"
            ],
            "text/plain": [
              "   Country  Confirmed\n",
              "0       US     938154\n",
              "1    Spain     223759\n",
              "2    Italy     195351\n",
              "3   France     161644\n",
              "4  Germany     156513"
            ]
          },
          "metadata": {
            "tags": []
          },
          "execution_count": 94
        }
      ]
    },
    {
      "cell_type": "code",
      "metadata": {
        "id": "_W1wLVhQD2Tp",
        "colab_type": "code",
        "outputId": "2bf3b023-6f93-4da9-e0b4-2fc2a9f62010",
        "colab": {
          "base_uri": "https://localhost:8080/",
          "height": 622
        }
      },
      "source": [
        "top_20 = top_confirmed.head(20)\n",
        "top_20"
      ],
      "execution_count": 0,
      "outputs": [
        {
          "output_type": "execute_result",
          "data": {
            "text/html": [
              "<div>\n",
              "<style scoped>\n",
              "    .dataframe tbody tr th:only-of-type {\n",
              "        vertical-align: middle;\n",
              "    }\n",
              "\n",
              "    .dataframe tbody tr th {\n",
              "        vertical-align: top;\n",
              "    }\n",
              "\n",
              "    .dataframe thead th {\n",
              "        text-align: right;\n",
              "    }\n",
              "</style>\n",
              "<table border=\"1\" class=\"dataframe\">\n",
              "  <thead>\n",
              "    <tr style=\"text-align: right;\">\n",
              "      <th></th>\n",
              "      <th>Country</th>\n",
              "      <th>Confirmed</th>\n",
              "    </tr>\n",
              "  </thead>\n",
              "  <tbody>\n",
              "    <tr>\n",
              "      <th>0</th>\n",
              "      <td>US</td>\n",
              "      <td>938154</td>\n",
              "    </tr>\n",
              "    <tr>\n",
              "      <th>1</th>\n",
              "      <td>Spain</td>\n",
              "      <td>223759</td>\n",
              "    </tr>\n",
              "    <tr>\n",
              "      <th>2</th>\n",
              "      <td>Italy</td>\n",
              "      <td>195351</td>\n",
              "    </tr>\n",
              "    <tr>\n",
              "      <th>3</th>\n",
              "      <td>France</td>\n",
              "      <td>161644</td>\n",
              "    </tr>\n",
              "    <tr>\n",
              "      <th>4</th>\n",
              "      <td>Germany</td>\n",
              "      <td>156513</td>\n",
              "    </tr>\n",
              "    <tr>\n",
              "      <th>5</th>\n",
              "      <td>United Kingdom</td>\n",
              "      <td>149569</td>\n",
              "    </tr>\n",
              "    <tr>\n",
              "      <th>6</th>\n",
              "      <td>Turkey</td>\n",
              "      <td>107773</td>\n",
              "    </tr>\n",
              "    <tr>\n",
              "      <th>7</th>\n",
              "      <td>Iran</td>\n",
              "      <td>89328</td>\n",
              "    </tr>\n",
              "    <tr>\n",
              "      <th>8</th>\n",
              "      <td>China</td>\n",
              "      <td>83909</td>\n",
              "    </tr>\n",
              "    <tr>\n",
              "      <th>9</th>\n",
              "      <td>Russia</td>\n",
              "      <td>74588</td>\n",
              "    </tr>\n",
              "    <tr>\n",
              "      <th>10</th>\n",
              "      <td>Brazil</td>\n",
              "      <td>59324</td>\n",
              "    </tr>\n",
              "    <tr>\n",
              "      <th>11</th>\n",
              "      <td>Canada</td>\n",
              "      <td>45491</td>\n",
              "    </tr>\n",
              "    <tr>\n",
              "      <th>12</th>\n",
              "      <td>Belgium</td>\n",
              "      <td>45325</td>\n",
              "    </tr>\n",
              "    <tr>\n",
              "      <th>13</th>\n",
              "      <td>Netherlands</td>\n",
              "      <td>37379</td>\n",
              "    </tr>\n",
              "    <tr>\n",
              "      <th>14</th>\n",
              "      <td>Switzerland</td>\n",
              "      <td>28894</td>\n",
              "    </tr>\n",
              "    <tr>\n",
              "      <th>15</th>\n",
              "      <td>India</td>\n",
              "      <td>26283</td>\n",
              "    </tr>\n",
              "    <tr>\n",
              "      <th>16</th>\n",
              "      <td>Peru</td>\n",
              "      <td>25331</td>\n",
              "    </tr>\n",
              "    <tr>\n",
              "      <th>17</th>\n",
              "      <td>Portugal</td>\n",
              "      <td>23392</td>\n",
              "    </tr>\n",
              "    <tr>\n",
              "      <th>18</th>\n",
              "      <td>Ecuador</td>\n",
              "      <td>22719</td>\n",
              "    </tr>\n",
              "    <tr>\n",
              "      <th>19</th>\n",
              "      <td>Ireland</td>\n",
              "      <td>18561</td>\n",
              "    </tr>\n",
              "  </tbody>\n",
              "</table>\n",
              "</div>"
            ],
            "text/plain": [
              "           Country  Confirmed\n",
              "0               US     938154\n",
              "1            Spain     223759\n",
              "2            Italy     195351\n",
              "3           France     161644\n",
              "4          Germany     156513\n",
              "5   United Kingdom     149569\n",
              "6           Turkey     107773\n",
              "7             Iran      89328\n",
              "8            China      83909\n",
              "9           Russia      74588\n",
              "10          Brazil      59324\n",
              "11          Canada      45491\n",
              "12         Belgium      45325\n",
              "13     Netherlands      37379\n",
              "14     Switzerland      28894\n",
              "15           India      26283\n",
              "16            Peru      25331\n",
              "17        Portugal      23392\n",
              "18         Ecuador      22719\n",
              "19         Ireland      18561"
            ]
          },
          "metadata": {
            "tags": []
          },
          "execution_count": 95
        }
      ]
    },
    {
      "cell_type": "code",
      "metadata": {
        "id": "MvrfchiQD5Zj",
        "colab_type": "code",
        "outputId": "28b1eef1-4cce-4e7e-b09c-41c6a5dfad98",
        "colab": {
          "base_uri": "https://localhost:8080/",
          "height": 606
        }
      },
      "source": [
        "plt.figure(figsize=(12,10))\n",
        "sns.barplot(top_20['Confirmed'],top_20['Country'])\n",
        "plt.show()"
      ],
      "execution_count": 0,
      "outputs": [
        {
          "output_type": "display_data",
          "data": {
            "image/png": "[encoded data removed]",
            "text/plain": [
              "<Figure size 864x720 with 1 Axes>"
            ]
          },
          "metadata": {
            "tags": [],
            "needs_background": "light"
          }
        }
      ]
    },
    {
      "cell_type": "code",
      "metadata": {
        "id": "wnp54HxxEbDv",
        "colab_type": "code",
        "colab": {}
      },
      "source": [
        "### making dataframes for different countries"
      ],
      "execution_count": 0,
      "outputs": []
    },
    {
      "cell_type": "code",
      "metadata": {
        "id": "0SG_XtU8G3O3",
        "colab_type": "code",
        "outputId": "4e8580bd-265f-4bba-8f7a-0c09b982c81e",
        "colab": {
          "base_uri": "https://localhost:8080/",
          "height": 258
        }
      },
      "source": [
        "china = df[df['Country']=='China']\n",
        "china = china.groupby('Date')['Recovered','Active','Confirmed','Deaths'].sum().reset_index()\n",
        "china.head()"
      ],
      "execution_count": 0,
      "outputs": [
        {
          "output_type": "stream",
          "text": [
            "/usr/local/lib/python3.6/dist-packages/ipykernel_launcher.py:2: FutureWarning:\n",
            "\n",
            "Indexing with multiple keys (implicitly converted to a tuple of keys) will be deprecated, use a list instead.\n",
            "\n"
          ],
          "name": "stderr"
        },
        {
          "output_type": "execute_result",
          "data": {
            "text/html": [
              "<div>\n",
              "<style scoped>\n",
              "    .dataframe tbody tr th:only-of-type {\n",
              "        vertical-align: middle;\n",
              "    }\n",
              "\n",
              "    .dataframe tbody tr th {\n",
              "        vertical-align: top;\n",
              "    }\n",
              "\n",
              "    .dataframe thead th {\n",
              "        text-align: right;\n",
              "    }\n",
              "</style>\n",
              "<table border=\"1\" class=\"dataframe\">\n",
              "  <thead>\n",
              "    <tr style=\"text-align: right;\">\n",
              "      <th></th>\n",
              "      <th>Date</th>\n",
              "      <th>Recovered</th>\n",
              "      <th>Active</th>\n",
              "      <th>Confirmed</th>\n",
              "      <th>Deaths</th>\n",
              "    </tr>\n",
              "  </thead>\n",
              "  <tbody>\n",
              "    <tr>\n",
              "      <th>0</th>\n",
              "      <td>2020-01-22</td>\n",
              "      <td>28</td>\n",
              "      <td>503</td>\n",
              "      <td>548</td>\n",
              "      <td>17</td>\n",
              "    </tr>\n",
              "    <tr>\n",
              "      <th>1</th>\n",
              "      <td>2020-01-23</td>\n",
              "      <td>30</td>\n",
              "      <td>595</td>\n",
              "      <td>643</td>\n",
              "      <td>18</td>\n",
              "    </tr>\n",
              "    <tr>\n",
              "      <th>2</th>\n",
              "      <td>2020-01-24</td>\n",
              "      <td>35</td>\n",
              "      <td>859</td>\n",
              "      <td>920</td>\n",
              "      <td>26</td>\n",
              "    </tr>\n",
              "    <tr>\n",
              "      <th>3</th>\n",
              "      <td>2020-01-25</td>\n",
              "      <td>38</td>\n",
              "      <td>1326</td>\n",
              "      <td>1406</td>\n",
              "      <td>42</td>\n",
              "    </tr>\n",
              "    <tr>\n",
              "      <th>4</th>\n",
              "      <td>2020-01-26</td>\n",
              "      <td>48</td>\n",
              "      <td>1971</td>\n",
              "      <td>2075</td>\n",
              "      <td>56</td>\n",
              "    </tr>\n",
              "  </tbody>\n",
              "</table>\n",
              "</div>"
            ],
            "text/plain": [
              "        Date  Recovered  Active  Confirmed  Deaths\n",
              "0 2020-01-22         28     503        548      17\n",
              "1 2020-01-23         30     595        643      18\n",
              "2 2020-01-24         35     859        920      26\n",
              "3 2020-01-25         38    1326       1406      42\n",
              "4 2020-01-26         48    1971       2075      56"
            ]
          },
          "metadata": {
            "tags": []
          },
          "execution_count": 98
        }
      ]
    },
    {
      "cell_type": "code",
      "metadata": {
        "id": "fXg38aDzG9is",
        "colab_type": "code",
        "outputId": "a9137c58-71a2-4ce5-82b8-e0d35669b338",
        "colab": {
          "base_uri": "https://localhost:8080/",
          "height": 258
        }
      },
      "source": [
        "india = df[df['Country']=='India']\n",
        "india = india.groupby('Date')['Recovered','Active','Confirmed','Deaths'].sum().reset_index()\n",
        "india.head()"
      ],
      "execution_count": 0,
      "outputs": [
        {
          "output_type": "stream",
          "text": [
            "/usr/local/lib/python3.6/dist-packages/ipykernel_launcher.py:2: FutureWarning:\n",
            "\n",
            "Indexing with multiple keys (implicitly converted to a tuple of keys) will be deprecated, use a list instead.\n",
            "\n"
          ],
          "name": "stderr"
        },
        {
          "output_type": "execute_result",
          "data": {
            "text/html": [
              "<div>\n",
              "<style scoped>\n",
              "    .dataframe tbody tr th:only-of-type {\n",
              "        vertical-align: middle;\n",
              "    }\n",
              "\n",
              "    .dataframe tbody tr th {\n",
              "        vertical-align: top;\n",
              "    }\n",
              "\n",
              "    .dataframe thead th {\n",
              "        text-align: right;\n",
              "    }\n",
              "</style>\n",
              "<table border=\"1\" class=\"dataframe\">\n",
              "  <thead>\n",
              "    <tr style=\"text-align: right;\">\n",
              "      <th></th>\n",
              "      <th>Date</th>\n",
              "      <th>Recovered</th>\n",
              "      <th>Active</th>\n",
              "      <th>Confirmed</th>\n",
              "      <th>Deaths</th>\n",
              "    </tr>\n",
              "  </thead>\n",
              "  <tbody>\n",
              "    <tr>\n",
              "      <th>0</th>\n",
              "      <td>2020-01-22</td>\n",
              "      <td>0</td>\n",
              "      <td>0</td>\n",
              "      <td>0</td>\n",
              "      <td>0</td>\n",
              "    </tr>\n",
              "    <tr>\n",
              "      <th>1</th>\n",
              "      <td>2020-01-23</td>\n",
              "      <td>0</td>\n",
              "      <td>0</td>\n",
              "      <td>0</td>\n",
              "      <td>0</td>\n",
              "    </tr>\n",
              "    <tr>\n",
              "      <th>2</th>\n",
              "      <td>2020-01-24</td>\n",
              "      <td>0</td>\n",
              "      <td>0</td>\n",
              "      <td>0</td>\n",
              "      <td>0</td>\n",
              "    </tr>\n",
              "    <tr>\n",
              "      <th>3</th>\n",
              "      <td>2020-01-25</td>\n",
              "      <td>0</td>\n",
              "      <td>0</td>\n",
              "      <td>0</td>\n",
              "      <td>0</td>\n",
              "    </tr>\n",
              "    <tr>\n",
              "      <th>4</th>\n",
              "      <td>2020-01-26</td>\n",
              "      <td>0</td>\n",
              "      <td>0</td>\n",
              "      <td>0</td>\n",
              "      <td>0</td>\n",
              "    </tr>\n",
              "  </tbody>\n",
              "</table>\n",
              "</div>"
            ],
            "text/plain": [
              "        Date  Recovered  Active  Confirmed  Deaths\n",
              "0 2020-01-22          0       0          0       0\n",
              "1 2020-01-23          0       0          0       0\n",
              "2 2020-01-24          0       0          0       0\n",
              "3 2020-01-25          0       0          0       0\n",
              "4 2020-01-26          0       0          0       0"
            ]
          },
          "metadata": {
            "tags": []
          },
          "execution_count": 99
        }
      ]
    },
    {
      "cell_type": "code",
      "metadata": {
        "id": "Nv6XKkkrHER7",
        "colab_type": "code",
        "outputId": "ed89e621-61ee-4812-9754-5669664acebf",
        "colab": {
          "base_uri": "https://localhost:8080/",
          "height": 258
        }
      },
      "source": [
        "italy = df[df['Country']=='Italy']\n",
        "italy = italy.groupby('Date')['Recovered','Active','Confirmed','Deaths'].sum().reset_index()\n",
        "italy.head()"
      ],
      "execution_count": 0,
      "outputs": [
        {
          "output_type": "stream",
          "text": [
            "/usr/local/lib/python3.6/dist-packages/ipykernel_launcher.py:2: FutureWarning:\n",
            "\n",
            "Indexing with multiple keys (implicitly converted to a tuple of keys) will be deprecated, use a list instead.\n",
            "\n"
          ],
          "name": "stderr"
        },
        {
          "output_type": "execute_result",
          "data": {
            "text/html": [
              "<div>\n",
              "<style scoped>\n",
              "    .dataframe tbody tr th:only-of-type {\n",
              "        vertical-align: middle;\n",
              "    }\n",
              "\n",
              "    .dataframe tbody tr th {\n",
              "        vertical-align: top;\n",
              "    }\n",
              "\n",
              "    .dataframe thead th {\n",
              "        text-align: right;\n",
              "    }\n",
              "</style>\n",
              "<table border=\"1\" class=\"dataframe\">\n",
              "  <thead>\n",
              "    <tr style=\"text-align: right;\">\n",
              "      <th></th>\n",
              "      <th>Date</th>\n",
              "      <th>Recovered</th>\n",
              "      <th>Active</th>\n",
              "      <th>Confirmed</th>\n",
              "      <th>Deaths</th>\n",
              "    </tr>\n",
              "  </thead>\n",
              "  <tbody>\n",
              "    <tr>\n",
              "      <th>0</th>\n",
              "      <td>2020-01-22</td>\n",
              "      <td>0</td>\n",
              "      <td>0</td>\n",
              "      <td>0</td>\n",
              "      <td>0</td>\n",
              "    </tr>\n",
              "    <tr>\n",
              "      <th>1</th>\n",
              "      <td>2020-01-23</td>\n",
              "      <td>0</td>\n",
              "      <td>0</td>\n",
              "      <td>0</td>\n",
              "      <td>0</td>\n",
              "    </tr>\n",
              "    <tr>\n",
              "      <th>2</th>\n",
              "      <td>2020-01-24</td>\n",
              "      <td>0</td>\n",
              "      <td>0</td>\n",
              "      <td>0</td>\n",
              "      <td>0</td>\n",
              "    </tr>\n",
              "    <tr>\n",
              "      <th>3</th>\n",
              "      <td>2020-01-25</td>\n",
              "      <td>0</td>\n",
              "      <td>0</td>\n",
              "      <td>0</td>\n",
              "      <td>0</td>\n",
              "    </tr>\n",
              "    <tr>\n",
              "      <th>4</th>\n",
              "      <td>2020-01-26</td>\n",
              "      <td>0</td>\n",
              "      <td>0</td>\n",
              "      <td>0</td>\n",
              "      <td>0</td>\n",
              "    </tr>\n",
              "  </tbody>\n",
              "</table>\n",
              "</div>"
            ],
            "text/plain": [
              "        Date  Recovered  Active  Confirmed  Deaths\n",
              "0 2020-01-22          0       0          0       0\n",
              "1 2020-01-23          0       0          0       0\n",
              "2 2020-01-24          0       0          0       0\n",
              "3 2020-01-25          0       0          0       0\n",
              "4 2020-01-26          0       0          0       0"
            ]
          },
          "metadata": {
            "tags": []
          },
          "execution_count": 100
        }
      ]
    },
    {
      "cell_type": "code",
      "metadata": {
        "id": "eFwvWR4xHHxO",
        "colab_type": "code",
        "outputId": "be3ca89d-7443-4bca-e858-a89de3d03f05",
        "colab": {
          "base_uri": "https://localhost:8080/",
          "height": 258
        }
      },
      "source": [
        "us = df[df['Country']=='US']\n",
        "us = us.groupby('Date')['Recovered','Active','Confirmed','Deaths'].sum().reset_index()\n",
        "us.head()"
      ],
      "execution_count": 0,
      "outputs": [
        {
          "output_type": "stream",
          "text": [
            "/usr/local/lib/python3.6/dist-packages/ipykernel_launcher.py:2: FutureWarning:\n",
            "\n",
            "Indexing with multiple keys (implicitly converted to a tuple of keys) will be deprecated, use a list instead.\n",
            "\n"
          ],
          "name": "stderr"
        },
        {
          "output_type": "execute_result",
          "data": {
            "text/html": [
              "<div>\n",
              "<style scoped>\n",
              "    .dataframe tbody tr th:only-of-type {\n",
              "        vertical-align: middle;\n",
              "    }\n",
              "\n",
              "    .dataframe tbody tr th {\n",
              "        vertical-align: top;\n",
              "    }\n",
              "\n",
              "    .dataframe thead th {\n",
              "        text-align: right;\n",
              "    }\n",
              "</style>\n",
              "<table border=\"1\" class=\"dataframe\">\n",
              "  <thead>\n",
              "    <tr style=\"text-align: right;\">\n",
              "      <th></th>\n",
              "      <th>Date</th>\n",
              "      <th>Recovered</th>\n",
              "      <th>Active</th>\n",
              "      <th>Confirmed</th>\n",
              "      <th>Deaths</th>\n",
              "    </tr>\n",
              "  </thead>\n",
              "  <tbody>\n",
              "    <tr>\n",
              "      <th>0</th>\n",
              "      <td>2020-01-22</td>\n",
              "      <td>0</td>\n",
              "      <td>1</td>\n",
              "      <td>1</td>\n",
              "      <td>0</td>\n",
              "    </tr>\n",
              "    <tr>\n",
              "      <th>1</th>\n",
              "      <td>2020-01-23</td>\n",
              "      <td>0</td>\n",
              "      <td>1</td>\n",
              "      <td>1</td>\n",
              "      <td>0</td>\n",
              "    </tr>\n",
              "    <tr>\n",
              "      <th>2</th>\n",
              "      <td>2020-01-24</td>\n",
              "      <td>0</td>\n",
              "      <td>2</td>\n",
              "      <td>2</td>\n",
              "      <td>0</td>\n",
              "    </tr>\n",
              "    <tr>\n",
              "      <th>3</th>\n",
              "      <td>2020-01-25</td>\n",
              "      <td>0</td>\n",
              "      <td>2</td>\n",
              "      <td>2</td>\n",
              "      <td>0</td>\n",
              "    </tr>\n",
              "    <tr>\n",
              "      <th>4</th>\n",
              "      <td>2020-01-26</td>\n",
              "      <td>0</td>\n",
              "      <td>5</td>\n",
              "      <td>5</td>\n",
              "      <td>0</td>\n",
              "    </tr>\n",
              "  </tbody>\n",
              "</table>\n",
              "</div>"
            ],
            "text/plain": [
              "        Date  Recovered  Active  Confirmed  Deaths\n",
              "0 2020-01-22          0       1          1       0\n",
              "1 2020-01-23          0       1          1       0\n",
              "2 2020-01-24          0       2          2       0\n",
              "3 2020-01-25          0       2          2       0\n",
              "4 2020-01-26          0       5          5       0"
            ]
          },
          "metadata": {
            "tags": []
          },
          "execution_count": 101
        }
      ]
    },
    {
      "cell_type": "code",
      "metadata": {
        "id": "j8UsWU5aHmRi",
        "colab_type": "code",
        "outputId": "815f9e2b-5cdb-45cb-86c9-b31ae462d234",
        "colab": {
          "base_uri": "https://localhost:8080/",
          "height": 625
        }
      },
      "source": [
        "plt.figure(figsize=(15,10))\n",
        "plt.title(\"Active Cases vs Date\")\n",
        "plt.xticks(rotation=90,fontsize=8)\n",
        "sns.pointplot(china.index,china['Recovered'],color='red')\n",
        "sns.pointplot(us.index,us['Recovered'],color='blue')\n",
        "sns.pointplot(italy.index,italy['Recovered'],color='green')\n",
        "sns.pointplot(india.index,india['Recovered'],color='pink')"
      ],
      "execution_count": 0,
      "outputs": [
        {
          "output_type": "execute_result",
          "data": {
            "text/plain": [
              "<matplotlib.axes._subplots.AxesSubplot at 0x7f7f8dc180b8>"
            ]
          },
          "metadata": {
            "tags": []
          },
          "execution_count": 102
        },
        {
          "output_type": "display_data",
          "data": {
            "image/png": "[encoded data removed]",
            "text/plain": [
              "<Figure size 1080x720 with 1 Axes>"
            ]
          },
          "metadata": {
            "tags": [],
            "needs_background": "light"
          }
        }
      ]
    },
    {
      "cell_type": "code",
      "metadata": {
        "id": "CsRvwlUlING-",
        "colab_type": "code",
        "outputId": "7810d6dc-e90d-46b9-8a34-e00a90ab4e41",
        "colab": {
          "base_uri": "https://localhost:8080/",
          "height": 591
        }
      },
      "source": [
        "plt.figure(figsize=(15,10))\n",
        "plt.plot(china.index,china['Recovered'],color='red',label=\"China\")\n",
        "plt.plot(us.index,us['Recovered'],color='blue',label='US')\n",
        "plt.plot(italy.index,italy['Recovered'],color='green',label='Italy')\n",
        "plt.plot(india.index,india['Recovered'],color='pink',label='India')\n",
        "plt.scatter(china.index,china['Recovered'],color='red',label=\"China\")\n",
        "plt.scatter(us.index,us['Recovered'],color='blue',label='US')\n",
        "plt.scatter(italy.index,italy['Recovered'],color='green',label='Italy')\n",
        "plt.scatter(india.index,india['Recovered'],color='pink',label='India')\n",
        "plt.legend(loc=2)\n",
        "plt.show()"
      ],
      "execution_count": 0,
      "outputs": [
        {
          "output_type": "display_data",
          "data": {
            "image/png": "[encoded data removed]",
            "text/plain": [
              "<Figure size 1080x720 with 1 Axes>"
            ]
          },
          "metadata": {
            "tags": [],
            "needs_background": "light"
          }
        }
      ]
    },
    {
      "cell_type": "code",
      "metadata": {
        "id": "WN6xGyhjJAV1",
        "colab_type": "code",
        "outputId": "d81066c6-036a-4be7-f0d8-93f5372c9a36",
        "colab": {
          "base_uri": "https://localhost:8080/",
          "height": 591
        }
      },
      "source": [
        "plt.figure(figsize=(15,10))\n",
        "plt.plot(china.index,china['Recovered'],color='red',label=\"China\")\n",
        "plt.plot(us.index,us['Recovered'],color='blue',label='US')\n",
        "plt.plot(italy.index,italy['Recovered'],color='magenta',label='Italy')\n",
        "plt.plot(india.index,india['Recovered'],color='yellow',label='India')\n",
        "plt.scatter(china.index,china['Recovered'],color='red',label=\"China\", marker='*',s=200)\n",
        "plt.scatter(us.index,us['Recovered'],color='blue',label='US')\n",
        "plt.scatter(italy.index,italy['Recovered'],color='magenta',label='Italy')\n",
        "plt.scatter(india.index,india['Recovered'],color='yellow',label='India')\n",
        "plt.legend(loc=2)# Left Top\n",
        "plt.show()"
      ],
      "execution_count": 0,
      "outputs": [
        {
          "output_type": "display_data",
          "data": {
            "image/png": "[encoded data removed]",
            "text/plain": [
              "<Figure size 1080x720 with 1 Axes>"
            ]
          },
          "metadata": {
            "tags": [],
            "needs_background": "light"
          }
        }
      ]
    },
    {
      "cell_type": "code",
      "metadata": {
        "id": "aJQrJx-KJM65",
        "colab_type": "code",
        "outputId": "366d958e-8cf3-4481-cae6-81c134b8d2cb",
        "colab": {
          "base_uri": "https://localhost:8080/",
          "height": 126
        }
      },
      "source": [
        "df.head().style.background_gradient(cmap='Reds')"
      ],
      "execution_count": 0,
      "outputs": [
        {
          "output_type": "execute_result",
          "data": {
            "text/html": [
              "<style  type=\"text/css\" >\n",
              "    #T_04d8cb46_891e_11ea_8465_0242ac1c0002row0_col1 {\n",
              "            background-color:  #b51318;\n",
              "            color:  #f1f1f1;\n",
              "        }    #T_04d8cb46_891e_11ea_8465_0242ac1c0002row0_col2 {\n",
              "            background-color:  #67000d;\n",
              "            color:  #f1f1f1;\n",
              "        }    #T_04d8cb46_891e_11ea_8465_0242ac1c0002row0_col4 {\n",
              "            background-color:  #fff5f0;\n",
              "            color:  #000000;\n",
              "        }    #T_04d8cb46_891e_11ea_8465_0242ac1c0002row0_col5 {\n",
              "            background-color:  #fff5f0;\n",
              "            color:  #000000;\n",
              "        }    #T_04d8cb46_891e_11ea_8465_0242ac1c0002row0_col6 {\n",
              "            background-color:  #fff5f0;\n",
              "            color:  #000000;\n",
              "        }    #T_04d8cb46_891e_11ea_8465_0242ac1c0002row0_col7 {\n",
              "            background-color:  #fff5f0;\n",
              "            color:  #000000;\n",
              "        }    #T_04d8cb46_891e_11ea_8465_0242ac1c0002row1_col1 {\n",
              "            background-color:  #73030f;\n",
              "            color:  #f1f1f1;\n",
              "        }    #T_04d8cb46_891e_11ea_8465_0242ac1c0002row1_col2 {\n",
              "            background-color:  #fcad90;\n",
              "            color:  #000000;\n",
              "        }    #T_04d8cb46_891e_11ea_8465_0242ac1c0002row1_col4 {\n",
              "            background-color:  #fff5f0;\n",
              "            color:  #000000;\n",
              "        }    #T_04d8cb46_891e_11ea_8465_0242ac1c0002row1_col5 {\n",
              "            background-color:  #fff5f0;\n",
              "            color:  #000000;\n",
              "        }    #T_04d8cb46_891e_11ea_8465_0242ac1c0002row1_col6 {\n",
              "            background-color:  #fff5f0;\n",
              "            color:  #000000;\n",
              "        }    #T_04d8cb46_891e_11ea_8465_0242ac1c0002row1_col7 {\n",
              "            background-color:  #fff5f0;\n",
              "            color:  #000000;\n",
              "        }    #T_04d8cb46_891e_11ea_8465_0242ac1c0002row2_col1 {\n",
              "            background-color:  #d01d1f;\n",
              "            color:  #f1f1f1;\n",
              "        }    #T_04d8cb46_891e_11ea_8465_0242ac1c0002row2_col2 {\n",
              "            background-color:  #fff5f0;\n",
              "            color:  #000000;\n",
              "        }    #T_04d8cb46_891e_11ea_8465_0242ac1c0002row2_col4 {\n",
              "            background-color:  #fff5f0;\n",
              "            color:  #000000;\n",
              "        }    #T_04d8cb46_891e_11ea_8465_0242ac1c0002row2_col5 {\n",
              "            background-color:  #fff5f0;\n",
              "            color:  #000000;\n",
              "        }    #T_04d8cb46_891e_11ea_8465_0242ac1c0002row2_col6 {\n",
              "            background-color:  #fff5f0;\n",
              "            color:  #000000;\n",
              "        }    #T_04d8cb46_891e_11ea_8465_0242ac1c0002row2_col7 {\n",
              "            background-color:  #fff5f0;\n",
              "            color:  #000000;\n",
              "        }    #T_04d8cb46_891e_11ea_8465_0242ac1c0002row3_col1 {\n",
              "            background-color:  #67000d;\n",
              "            color:  #f1f1f1;\n",
              "        }    #T_04d8cb46_891e_11ea_8465_0242ac1c0002row3_col2 {\n",
              "            background-color:  #fff5f0;\n",
              "            color:  #000000;\n",
              "        }    #T_04d8cb46_891e_11ea_8465_0242ac1c0002row3_col4 {\n",
              "            background-color:  #fff5f0;\n",
              "            color:  #000000;\n",
              "        }    #T_04d8cb46_891e_11ea_8465_0242ac1c0002row3_col5 {\n",
              "            background-color:  #fff5f0;\n",
              "            color:  #000000;\n",
              "        }    #T_04d8cb46_891e_11ea_8465_0242ac1c0002row3_col6 {\n",
              "            background-color:  #fff5f0;\n",
              "            color:  #000000;\n",
              "        }    #T_04d8cb46_891e_11ea_8465_0242ac1c0002row3_col7 {\n",
              "            background-color:  #fff5f0;\n",
              "            color:  #000000;\n",
              "        }    #T_04d8cb46_891e_11ea_8465_0242ac1c0002row4_col1 {\n",
              "            background-color:  #fff5f0;\n",
              "            color:  #000000;\n",
              "        }    #T_04d8cb46_891e_11ea_8465_0242ac1c0002row4_col2 {\n",
              "            background-color:  #fcb99f;\n",
              "            color:  #000000;\n",
              "        }    #T_04d8cb46_891e_11ea_8465_0242ac1c0002row4_col4 {\n",
              "            background-color:  #fff5f0;\n",
              "            color:  #000000;\n",
              "        }    #T_04d8cb46_891e_11ea_8465_0242ac1c0002row4_col5 {\n",
              "            background-color:  #fff5f0;\n",
              "            color:  #000000;\n",
              "        }    #T_04d8cb46_891e_11ea_8465_0242ac1c0002row4_col6 {\n",
              "            background-color:  #fff5f0;\n",
              "            color:  #000000;\n",
              "        }    #T_04d8cb46_891e_11ea_8465_0242ac1c0002row4_col7 {\n",
              "            background-color:  #fff5f0;\n",
              "            color:  #000000;\n",
              "        }</style><table id=\"T_04d8cb46_891e_11ea_8465_0242ac1c0002\" ><thead>    <tr>        <th class=\"blank level0\" ></th>        <th class=\"col_heading level0 col0\" >Country</th>        <th class=\"col_heading level0 col1\" >Lat</th>        <th class=\"col_heading level0 col2\" >Long</th>        <th class=\"col_heading level0 col3\" >Date</th>        <th class=\"col_heading level0 col4\" >Confirmed</th>        <th class=\"col_heading level0 col5\" >Deaths</th>        <th class=\"col_heading level0 col6\" >Recovered</th>        <th class=\"col_heading level0 col7\" >Active</th>    </tr></thead><tbody>\n",
              "                <tr>\n",
              "                        <th id=\"T_04d8cb46_891e_11ea_8465_0242ac1c0002level0_row0\" class=\"row_heading level0 row0\" >0</th>\n",
              "                        <td id=\"T_04d8cb46_891e_11ea_8465_0242ac1c0002row0_col0\" class=\"data row0 col0\" >Afghanistan</td>\n",
              "                        <td id=\"T_04d8cb46_891e_11ea_8465_0242ac1c0002row0_col1\" class=\"data row0 col1\" >33.000000</td>\n",
              "                        <td id=\"T_04d8cb46_891e_11ea_8465_0242ac1c0002row0_col2\" class=\"data row0 col2\" >65.000000</td>\n",
              "                        <td id=\"T_04d8cb46_891e_11ea_8465_0242ac1c0002row0_col3\" class=\"data row0 col3\" >2020-01-22 00:00:00</td>\n",
              "                        <td id=\"T_04d8cb46_891e_11ea_8465_0242ac1c0002row0_col4\" class=\"data row0 col4\" >0</td>\n",
              "                        <td id=\"T_04d8cb46_891e_11ea_8465_0242ac1c0002row0_col5\" class=\"data row0 col5\" >0</td>\n",
              "                        <td id=\"T_04d8cb46_891e_11ea_8465_0242ac1c0002row0_col6\" class=\"data row0 col6\" >0</td>\n",
              "                        <td id=\"T_04d8cb46_891e_11ea_8465_0242ac1c0002row0_col7\" class=\"data row0 col7\" >0</td>\n",
              "            </tr>\n",
              "            <tr>\n",
              "                        <th id=\"T_04d8cb46_891e_11ea_8465_0242ac1c0002level0_row1\" class=\"row_heading level0 row1\" >1</th>\n",
              "                        <td id=\"T_04d8cb46_891e_11ea_8465_0242ac1c0002row1_col0\" class=\"data row1 col0\" >Albania</td>\n",
              "                        <td id=\"T_04d8cb46_891e_11ea_8465_0242ac1c0002row1_col1\" class=\"data row1 col1\" >41.153300</td>\n",
              "                        <td id=\"T_04d8cb46_891e_11ea_8465_0242ac1c0002row1_col2\" class=\"data row1 col2\" >20.168300</td>\n",
              "                        <td id=\"T_04d8cb46_891e_11ea_8465_0242ac1c0002row1_col3\" class=\"data row1 col3\" >2020-01-22 00:00:00</td>\n",
              "                        <td id=\"T_04d8cb46_891e_11ea_8465_0242ac1c0002row1_col4\" class=\"data row1 col4\" >0</td>\n",
              "                        <td id=\"T_04d8cb46_891e_11ea_8465_0242ac1c0002row1_col5\" class=\"data row1 col5\" >0</td>\n",
              "                        <td id=\"T_04d8cb46_891e_11ea_8465_0242ac1c0002row1_col6\" class=\"data row1 col6\" >0</td>\n",
              "                        <td id=\"T_04d8cb46_891e_11ea_8465_0242ac1c0002row1_col7\" class=\"data row1 col7\" >0</td>\n",
              "            </tr>\n",
              "            <tr>\n",
              "                        <th id=\"T_04d8cb46_891e_11ea_8465_0242ac1c0002level0_row2\" class=\"row_heading level0 row2\" >2</th>\n",
              "                        <td id=\"T_04d8cb46_891e_11ea_8465_0242ac1c0002row2_col0\" class=\"data row2 col0\" >Algeria</td>\n",
              "                        <td id=\"T_04d8cb46_891e_11ea_8465_0242ac1c0002row2_col1\" class=\"data row2 col1\" >28.033900</td>\n",
              "                        <td id=\"T_04d8cb46_891e_11ea_8465_0242ac1c0002row2_col2\" class=\"data row2 col2\" >1.659600</td>\n",
              "                        <td id=\"T_04d8cb46_891e_11ea_8465_0242ac1c0002row2_col3\" class=\"data row2 col3\" >2020-01-22 00:00:00</td>\n",
              "                        <td id=\"T_04d8cb46_891e_11ea_8465_0242ac1c0002row2_col4\" class=\"data row2 col4\" >0</td>\n",
              "                        <td id=\"T_04d8cb46_891e_11ea_8465_0242ac1c0002row2_col5\" class=\"data row2 col5\" >0</td>\n",
              "                        <td id=\"T_04d8cb46_891e_11ea_8465_0242ac1c0002row2_col6\" class=\"data row2 col6\" >0</td>\n",
              "                        <td id=\"T_04d8cb46_891e_11ea_8465_0242ac1c0002row2_col7\" class=\"data row2 col7\" >0</td>\n",
              "            </tr>\n",
              "            <tr>\n",
              "                        <th id=\"T_04d8cb46_891e_11ea_8465_0242ac1c0002level0_row3\" class=\"row_heading level0 row3\" >3</th>\n",
              "                        <td id=\"T_04d8cb46_891e_11ea_8465_0242ac1c0002row3_col0\" class=\"data row3 col0\" >Andorra</td>\n",
              "                        <td id=\"T_04d8cb46_891e_11ea_8465_0242ac1c0002row3_col1\" class=\"data row3 col1\" >42.506300</td>\n",
              "                        <td id=\"T_04d8cb46_891e_11ea_8465_0242ac1c0002row3_col2\" class=\"data row3 col2\" >1.521800</td>\n",
              "                        <td id=\"T_04d8cb46_891e_11ea_8465_0242ac1c0002row3_col3\" class=\"data row3 col3\" >2020-01-22 00:00:00</td>\n",
              "                        <td id=\"T_04d8cb46_891e_11ea_8465_0242ac1c0002row3_col4\" class=\"data row3 col4\" >0</td>\n",
              "                        <td id=\"T_04d8cb46_891e_11ea_8465_0242ac1c0002row3_col5\" class=\"data row3 col5\" >0</td>\n",
              "                        <td id=\"T_04d8cb46_891e_11ea_8465_0242ac1c0002row3_col6\" class=\"data row3 col6\" >0</td>\n",
              "                        <td id=\"T_04d8cb46_891e_11ea_8465_0242ac1c0002row3_col7\" class=\"data row3 col7\" >0</td>\n",
              "            </tr>\n",
              "            <tr>\n",
              "                        <th id=\"T_04d8cb46_891e_11ea_8465_0242ac1c0002level0_row4\" class=\"row_heading level0 row4\" >4</th>\n",
              "                        <td id=\"T_04d8cb46_891e_11ea_8465_0242ac1c0002row4_col0\" class=\"data row4 col0\" >Angola</td>\n",
              "                        <td id=\"T_04d8cb46_891e_11ea_8465_0242ac1c0002row4_col1\" class=\"data row4 col1\" >-11.202700</td>\n",
              "                        <td id=\"T_04d8cb46_891e_11ea_8465_0242ac1c0002row4_col2\" class=\"data row4 col2\" >17.873900</td>\n",
              "                        <td id=\"T_04d8cb46_891e_11ea_8465_0242ac1c0002row4_col3\" class=\"data row4 col3\" >2020-01-22 00:00:00</td>\n",
              "                        <td id=\"T_04d8cb46_891e_11ea_8465_0242ac1c0002row4_col4\" class=\"data row4 col4\" >0</td>\n",
              "                        <td id=\"T_04d8cb46_891e_11ea_8465_0242ac1c0002row4_col5\" class=\"data row4 col5\" >0</td>\n",
              "                        <td id=\"T_04d8cb46_891e_11ea_8465_0242ac1c0002row4_col6\" class=\"data row4 col6\" >0</td>\n",
              "                        <td id=\"T_04d8cb46_891e_11ea_8465_0242ac1c0002row4_col7\" class=\"data row4 col7\" >0</td>\n",
              "            </tr>\n",
              "    </tbody></table>"
            ],
            "text/plain": [
              "<pandas.io.formats.style.Styler at 0x7f7f8de4cf98>"
            ]
          },
          "metadata": {
            "tags": []
          },
          "execution_count": 105
        }
      ]
    },
    {
      "cell_type": "code",
      "metadata": {
        "id": "E0CivP1NFBY2",
        "colab_type": "code",
        "colab": {}
      },
      "source": [
        "active = df.groupby('Date')['Active'].sum().reset_index()\n",
        "confirmed = df.groupby('Date')['Confirmed'].sum().reset_index()"
      ],
      "execution_count": 0,
      "outputs": []
    },
    {
      "cell_type": "code",
      "metadata": {
        "id": "liFc-KlGKwpu",
        "colab_type": "code",
        "outputId": "b7cd3388-2bc3-41bd-e0b6-8adf4f836447",
        "colab": {
          "base_uri": "https://localhost:8080/",
          "height": 126
        }
      },
      "source": [
        "active.head().style.background_gradient(cmap='Reds')"
      ],
      "execution_count": 0,
      "outputs": [
        {
          "output_type": "execute_result",
          "data": {
            "text/html": [
              "<style  type=\"text/css\" >\n",
              "    #T_04dec118_891e_11ea_8465_0242ac1c0002row0_col1 {\n",
              "            background-color:  #fff5f0;\n",
              "            color:  #000000;\n",
              "        }    #T_04dec118_891e_11ea_8465_0242ac1c0002row1_col1 {\n",
              "            background-color:  #feeae1;\n",
              "            color:  #000000;\n",
              "        }    #T_04dec118_891e_11ea_8465_0242ac1c0002row2_col1 {\n",
              "            background-color:  #fcbca2;\n",
              "            color:  #000000;\n",
              "        }    #T_04dec118_891e_11ea_8465_0242ac1c0002row3_col1 {\n",
              "            background-color:  #f5533b;\n",
              "            color:  #000000;\n",
              "        }    #T_04dec118_891e_11ea_8465_0242ac1c0002row4_col1 {\n",
              "            background-color:  #67000d;\n",
              "            color:  #f1f1f1;\n",
              "        }</style><table id=\"T_04dec118_891e_11ea_8465_0242ac1c0002\" ><thead>    <tr>        <th class=\"blank level0\" ></th>        <th class=\"col_heading level0 col0\" >Date</th>        <th class=\"col_heading level0 col1\" >Active</th>    </tr></thead><tbody>\n",
              "                <tr>\n",
              "                        <th id=\"T_04dec118_891e_11ea_8465_0242ac1c0002level0_row0\" class=\"row_heading level0 row0\" >0</th>\n",
              "                        <td id=\"T_04dec118_891e_11ea_8465_0242ac1c0002row0_col0\" class=\"data row0 col0\" >2020-01-22 00:00:00</td>\n",
              "                        <td id=\"T_04dec118_891e_11ea_8465_0242ac1c0002row0_col1\" class=\"data row0 col1\" >510</td>\n",
              "            </tr>\n",
              "            <tr>\n",
              "                        <th id=\"T_04dec118_891e_11ea_8465_0242ac1c0002level0_row1\" class=\"row_heading level0 row1\" >1</th>\n",
              "                        <td id=\"T_04dec118_891e_11ea_8465_0242ac1c0002row1_col0\" class=\"data row1 col0\" >2020-01-23 00:00:00</td>\n",
              "                        <td id=\"T_04dec118_891e_11ea_8465_0242ac1c0002row1_col1\" class=\"data row1 col1\" >606</td>\n",
              "            </tr>\n",
              "            <tr>\n",
              "                        <th id=\"T_04dec118_891e_11ea_8465_0242ac1c0002level0_row2\" class=\"row_heading level0 row2\" >2</th>\n",
              "                        <td id=\"T_04dec118_891e_11ea_8465_0242ac1c0002row2_col0\" class=\"data row2 col0\" >2020-01-24 00:00:00</td>\n",
              "                        <td id=\"T_04dec118_891e_11ea_8465_0242ac1c0002row2_col1\" class=\"data row2 col1\" >880</td>\n",
              "            </tr>\n",
              "            <tr>\n",
              "                        <th id=\"T_04dec118_891e_11ea_8465_0242ac1c0002level0_row3\" class=\"row_heading level0 row3\" >3</th>\n",
              "                        <td id=\"T_04dec118_891e_11ea_8465_0242ac1c0002row3_col0\" class=\"data row3 col0\" >2020-01-25 00:00:00</td>\n",
              "                        <td id=\"T_04dec118_891e_11ea_8465_0242ac1c0002row3_col1\" class=\"data row3 col1\" >1354</td>\n",
              "            </tr>\n",
              "            <tr>\n",
              "                        <th id=\"T_04dec118_891e_11ea_8465_0242ac1c0002level0_row4\" class=\"row_heading level0 row4\" >4</th>\n",
              "                        <td id=\"T_04dec118_891e_11ea_8465_0242ac1c0002row4_col0\" class=\"data row4 col0\" >2020-01-26 00:00:00</td>\n",
              "                        <td id=\"T_04dec118_891e_11ea_8465_0242ac1c0002row4_col1\" class=\"data row4 col1\" >2011</td>\n",
              "            </tr>\n",
              "    </tbody></table>"
            ],
            "text/plain": [
              "<pandas.io.formats.style.Styler at 0x7f7f8d8db208>"
            ]
          },
          "metadata": {
            "tags": []
          },
          "execution_count": 107
        }
      ]
    },
    {
      "cell_type": "code",
      "metadata": {
        "id": "fwnj8B4DK2Uf",
        "colab_type": "code",
        "colab": {}
      },
      "source": [
        "from fbprophet import Prophet\n",
        "## A library in python created by fb for the time series forecasting\n",
        "## we need two columns first -date(ds), second-forecast_value(y) (Restircted name ds and y)\n",
        "## So rename is required"
      ],
      "execution_count": 0,
      "outputs": []
    },
    {
      "cell_type": "code",
      "metadata": {
        "id": "maBC1efXK_6j",
        "colab_type": "code",
        "outputId": "b553a234-e7ab-49de-bcf1-5cc235795e7a",
        "colab": {
          "base_uri": "https://localhost:8080/",
          "height": 126
        }
      },
      "source": [
        "active.rename(columns={'Date':'ds','Active':'y'},inplace=True)\n",
        "active.head().style.background_gradient(cmap='Reds')"
      ],
      "execution_count": 0,
      "outputs": [
        {
          "output_type": "execute_result",
          "data": {
            "text/html": [
              "<style  type=\"text/css\" >\n",
              "    #T_04e371d6_891e_11ea_8465_0242ac1c0002row0_col1 {\n",
              "            background-color:  #fff5f0;\n",
              "            color:  #000000;\n",
              "        }    #T_04e371d6_891e_11ea_8465_0242ac1c0002row1_col1 {\n",
              "            background-color:  #feeae1;\n",
              "            color:  #000000;\n",
              "        }    #T_04e371d6_891e_11ea_8465_0242ac1c0002row2_col1 {\n",
              "            background-color:  #fcbca2;\n",
              "            color:  #000000;\n",
              "        }    #T_04e371d6_891e_11ea_8465_0242ac1c0002row3_col1 {\n",
              "            background-color:  #f5533b;\n",
              "            color:  #000000;\n",
              "        }    #T_04e371d6_891e_11ea_8465_0242ac1c0002row4_col1 {\n",
              "            background-color:  #67000d;\n",
              "            color:  #f1f1f1;\n",
              "        }</style><table id=\"T_04e371d6_891e_11ea_8465_0242ac1c0002\" ><thead>    <tr>        <th class=\"blank level0\" ></th>        <th class=\"col_heading level0 col0\" >ds</th>        <th class=\"col_heading level0 col1\" >y</th>    </tr></thead><tbody>\n",
              "                <tr>\n",
              "                        <th id=\"T_04e371d6_891e_11ea_8465_0242ac1c0002level0_row0\" class=\"row_heading level0 row0\" >0</th>\n",
              "                        <td id=\"T_04e371d6_891e_11ea_8465_0242ac1c0002row0_col0\" class=\"data row0 col0\" >2020-01-22 00:00:00</td>\n",
              "                        <td id=\"T_04e371d6_891e_11ea_8465_0242ac1c0002row0_col1\" class=\"data row0 col1\" >510</td>\n",
              "            </tr>\n",
              "            <tr>\n",
              "                        <th id=\"T_04e371d6_891e_11ea_8465_0242ac1c0002level0_row1\" class=\"row_heading level0 row1\" >1</th>\n",
              "                        <td id=\"T_04e371d6_891e_11ea_8465_0242ac1c0002row1_col0\" class=\"data row1 col0\" >2020-01-23 00:00:00</td>\n",
              "                        <td id=\"T_04e371d6_891e_11ea_8465_0242ac1c0002row1_col1\" class=\"data row1 col1\" >606</td>\n",
              "            </tr>\n",
              "            <tr>\n",
              "                        <th id=\"T_04e371d6_891e_11ea_8465_0242ac1c0002level0_row2\" class=\"row_heading level0 row2\" >2</th>\n",
              "                        <td id=\"T_04e371d6_891e_11ea_8465_0242ac1c0002row2_col0\" class=\"data row2 col0\" >2020-01-24 00:00:00</td>\n",
              "                        <td id=\"T_04e371d6_891e_11ea_8465_0242ac1c0002row2_col1\" class=\"data row2 col1\" >880</td>\n",
              "            </tr>\n",
              "            <tr>\n",
              "                        <th id=\"T_04e371d6_891e_11ea_8465_0242ac1c0002level0_row3\" class=\"row_heading level0 row3\" >3</th>\n",
              "                        <td id=\"T_04e371d6_891e_11ea_8465_0242ac1c0002row3_col0\" class=\"data row3 col0\" >2020-01-25 00:00:00</td>\n",
              "                        <td id=\"T_04e371d6_891e_11ea_8465_0242ac1c0002row3_col1\" class=\"data row3 col1\" >1354</td>\n",
              "            </tr>\n",
              "            <tr>\n",
              "                        <th id=\"T_04e371d6_891e_11ea_8465_0242ac1c0002level0_row4\" class=\"row_heading level0 row4\" >4</th>\n",
              "                        <td id=\"T_04e371d6_891e_11ea_8465_0242ac1c0002row4_col0\" class=\"data row4 col0\" >2020-01-26 00:00:00</td>\n",
              "                        <td id=\"T_04e371d6_891e_11ea_8465_0242ac1c0002row4_col1\" class=\"data row4 col1\" >2011</td>\n",
              "            </tr>\n",
              "    </tbody></table>"
            ],
            "text/plain": [
              "<pandas.io.formats.style.Styler at 0x7f7f8de4c438>"
            ]
          },
          "metadata": {
            "tags": []
          },
          "execution_count": 109
        }
      ]
    },
    {
      "cell_type": "markdown",
      "metadata": {
        "id": "GTtqxfKjMHr5",
        "colab_type": "text"
      },
      "source": [
        "### Building the model"
      ]
    },
    {
      "cell_type": "code",
      "metadata": {
        "id": "JVxi0sG1L9Wb",
        "colab_type": "code",
        "colab": {}
      },
      "source": [
        "model = Prophet(interval_width=0.95) ## Confidence Level"
      ],
      "execution_count": 0,
      "outputs": []
    },
    {
      "cell_type": "code",
      "metadata": {
        "id": "yW9qRkowM_i_",
        "colab_type": "code",
        "outputId": "2cb4024e-4633-485b-dd45-917b05456f6b",
        "colab": {
          "base_uri": "https://localhost:8080/",
          "height": 67
        }
      },
      "source": [
        "model.fit(active)"
      ],
      "execution_count": 0,
      "outputs": [
        {
          "output_type": "stream",
          "text": [
            "INFO:fbprophet:Disabling yearly seasonality. Run prophet with yearly_seasonality=True to override this.\n",
            "INFO:fbprophet:Disabling daily seasonality. Run prophet with daily_seasonality=True to override this.\n"
          ],
          "name": "stderr"
        },
        {
          "output_type": "execute_result",
          "data": {
            "text/plain": [
              "<fbprophet.forecaster.Prophet at 0x7f7f8dbbfe80>"
            ]
          },
          "metadata": {
            "tags": []
          },
          "execution_count": 111
        }
      ]
    },
    {
      "cell_type": "code",
      "metadata": {
        "id": "V5CqL94WNEFS",
        "colab_type": "code",
        "outputId": "2ca5a8bf-9bd0-435d-8272-394903329a84",
        "colab": {
          "base_uri": "https://localhost:8080/",
          "height": 190
        }
      },
      "source": [
        "future = model.make_future_dataframe(periods=7)\n",
        "future.tail()"
      ],
      "execution_count": 0,
      "outputs": [
        {
          "output_type": "execute_result",
          "data": {
            "text/html": [
              "<div>\n",
              "<style scoped>\n",
              "    .dataframe tbody tr th:only-of-type {\n",
              "        vertical-align: middle;\n",
              "    }\n",
              "\n",
              "    .dataframe tbody tr th {\n",
              "        vertical-align: top;\n",
              "    }\n",
              "\n",
              "    .dataframe thead th {\n",
              "        text-align: right;\n",
              "    }\n",
              "</style>\n",
              "<table border=\"1\" class=\"dataframe\">\n",
              "  <thead>\n",
              "    <tr style=\"text-align: right;\">\n",
              "      <th></th>\n",
              "      <th>ds</th>\n",
              "    </tr>\n",
              "  </thead>\n",
              "  <tbody>\n",
              "    <tr>\n",
              "      <th>97</th>\n",
              "      <td>2020-04-28</td>\n",
              "    </tr>\n",
              "    <tr>\n",
              "      <th>98</th>\n",
              "      <td>2020-04-29</td>\n",
              "    </tr>\n",
              "    <tr>\n",
              "      <th>99</th>\n",
              "      <td>2020-04-30</td>\n",
              "    </tr>\n",
              "    <tr>\n",
              "      <th>100</th>\n",
              "      <td>2020-05-01</td>\n",
              "    </tr>\n",
              "    <tr>\n",
              "      <th>101</th>\n",
              "      <td>2020-05-02</td>\n",
              "    </tr>\n",
              "  </tbody>\n",
              "</table>\n",
              "</div>"
            ],
            "text/plain": [
              "            ds\n",
              "97  2020-04-28\n",
              "98  2020-04-29\n",
              "99  2020-04-30\n",
              "100 2020-05-01\n",
              "101 2020-05-02"
            ]
          },
          "metadata": {
            "tags": []
          },
          "execution_count": 112
        }
      ]
    },
    {
      "cell_type": "code",
      "metadata": {
        "id": "iF7liuxpOkSU",
        "colab_type": "code",
        "colab": {}
      },
      "source": [
        "forecast = model.predict(future)"
      ],
      "execution_count": 0,
      "outputs": []
    },
    {
      "cell_type": "code",
      "metadata": {
        "id": "CcFUHpmDO8IE",
        "colab_type": "code",
        "outputId": "395f6dc9-b7b7-48db-cb70-a67f4f3d497e",
        "colab": {
          "base_uri": "https://localhost:8080/",
          "height": 417
        }
      },
      "source": [
        "forecast.tail(7).style.background_gradient(cmap='Reds')"
      ],
      "execution_count": 0,
      "outputs": [
        {
          "output_type": "execute_result",
          "data": {
            "text/html": [
              "<style  type=\"text/css\" >\n",
              "    #T_06b59ebc_891e_11ea_8465_0242ac1c0002row0_col1 {\n",
              "            background-color:  #fff5f0;\n",
              "            color:  #000000;\n",
              "        }    #T_06b59ebc_891e_11ea_8465_0242ac1c0002row0_col2 {\n",
              "            background-color:  #fff5f0;\n",
              "            color:  #000000;\n",
              "        }    #T_06b59ebc_891e_11ea_8465_0242ac1c0002row0_col3 {\n",
              "            background-color:  #fff5f0;\n",
              "            color:  #000000;\n",
              "        }    #T_06b59ebc_891e_11ea_8465_0242ac1c0002row0_col4 {\n",
              "            background-color:  #fff5f0;\n",
              "            color:  #000000;\n",
              "        }    #T_06b59ebc_891e_11ea_8465_0242ac1c0002row0_col5 {\n",
              "            background-color:  #fff5f0;\n",
              "            color:  #000000;\n",
              "        }    #T_06b59ebc_891e_11ea_8465_0242ac1c0002row0_col6 {\n",
              "            background-color:  #67000d;\n",
              "            color:  #f1f1f1;\n",
              "        }    #T_06b59ebc_891e_11ea_8465_0242ac1c0002row0_col7 {\n",
              "            background-color:  #67000d;\n",
              "            color:  #f1f1f1;\n",
              "        }    #T_06b59ebc_891e_11ea_8465_0242ac1c0002row0_col8 {\n",
              "            background-color:  #67000d;\n",
              "            color:  #f1f1f1;\n",
              "        }    #T_06b59ebc_891e_11ea_8465_0242ac1c0002row0_col9 {\n",
              "            background-color:  #67000d;\n",
              "            color:  #f1f1f1;\n",
              "        }    #T_06b59ebc_891e_11ea_8465_0242ac1c0002row0_col10 {\n",
              "            background-color:  #67000d;\n",
              "            color:  #f1f1f1;\n",
              "        }    #T_06b59ebc_891e_11ea_8465_0242ac1c0002row0_col11 {\n",
              "            background-color:  #67000d;\n",
              "            color:  #f1f1f1;\n",
              "        }    #T_06b59ebc_891e_11ea_8465_0242ac1c0002row0_col12 {\n",
              "            background-color:  #fff5f0;\n",
              "            color:  #000000;\n",
              "        }    #T_06b59ebc_891e_11ea_8465_0242ac1c0002row0_col13 {\n",
              "            background-color:  #fff5f0;\n",
              "            color:  #000000;\n",
              "        }    #T_06b59ebc_891e_11ea_8465_0242ac1c0002row0_col14 {\n",
              "            background-color:  #fff5f0;\n",
              "            color:  #000000;\n",
              "        }    #T_06b59ebc_891e_11ea_8465_0242ac1c0002row0_col15 {\n",
              "            background-color:  #fff5f0;\n",
              "            color:  #000000;\n",
              "        }    #T_06b59ebc_891e_11ea_8465_0242ac1c0002row1_col1 {\n",
              "            background-color:  #fdd4c2;\n",
              "            color:  #000000;\n",
              "        }    #T_06b59ebc_891e_11ea_8465_0242ac1c0002row1_col2 {\n",
              "            background-color:  #fdd1be;\n",
              "            color:  #000000;\n",
              "        }    #T_06b59ebc_891e_11ea_8465_0242ac1c0002row1_col3 {\n",
              "            background-color:  #fedaca;\n",
              "            color:  #000000;\n",
              "        }    #T_06b59ebc_891e_11ea_8465_0242ac1c0002row1_col4 {\n",
              "            background-color:  #fdd2bf;\n",
              "            color:  #000000;\n",
              "        }    #T_06b59ebc_891e_11ea_8465_0242ac1c0002row1_col5 {\n",
              "            background-color:  #fdd7c6;\n",
              "            color:  #000000;\n",
              "        }    #T_06b59ebc_891e_11ea_8465_0242ac1c0002row1_col6 {\n",
              "            background-color:  #dc2924;\n",
              "            color:  #f1f1f1;\n",
              "        }    #T_06b59ebc_891e_11ea_8465_0242ac1c0002row1_col7 {\n",
              "            background-color:  #dc2924;\n",
              "            color:  #f1f1f1;\n",
              "        }    #T_06b59ebc_891e_11ea_8465_0242ac1c0002row1_col8 {\n",
              "            background-color:  #dc2924;\n",
              "            color:  #f1f1f1;\n",
              "        }    #T_06b59ebc_891e_11ea_8465_0242ac1c0002row1_col9 {\n",
              "            background-color:  #dc2924;\n",
              "            color:  #f1f1f1;\n",
              "        }    #T_06b59ebc_891e_11ea_8465_0242ac1c0002row1_col10 {\n",
              "            background-color:  #dc2924;\n",
              "            color:  #f1f1f1;\n",
              "        }    #T_06b59ebc_891e_11ea_8465_0242ac1c0002row1_col11 {\n",
              "            background-color:  #dc2924;\n",
              "            color:  #f1f1f1;\n",
              "        }    #T_06b59ebc_891e_11ea_8465_0242ac1c0002row1_col12 {\n",
              "            background-color:  #fff5f0;\n",
              "            color:  #000000;\n",
              "        }    #T_06b59ebc_891e_11ea_8465_0242ac1c0002row1_col13 {\n",
              "            background-color:  #fff5f0;\n",
              "            color:  #000000;\n",
              "        }    #T_06b59ebc_891e_11ea_8465_0242ac1c0002row1_col14 {\n",
              "            background-color:  #fff5f0;\n",
              "            color:  #000000;\n",
              "        }    #T_06b59ebc_891e_11ea_8465_0242ac1c0002row1_col15 {\n",
              "            background-color:  #fdd5c4;\n",
              "            color:  #000000;\n",
              "        }    #T_06b59ebc_891e_11ea_8465_0242ac1c0002row2_col1 {\n",
              "            background-color:  #fca082;\n",
              "            color:  #000000;\n",
              "        }    #T_06b59ebc_891e_11ea_8465_0242ac1c0002row2_col2 {\n",
              "            background-color:  #fc9d7f;\n",
              "            color:  #000000;\n",
              "        }    #T_06b59ebc_891e_11ea_8465_0242ac1c0002row2_col3 {\n",
              "            background-color:  #fcaa8d;\n",
              "            color:  #000000;\n",
              "        }    #T_06b59ebc_891e_11ea_8465_0242ac1c0002row2_col4 {\n",
              "            background-color:  #fc9b7c;\n",
              "            color:  #000000;\n",
              "        }    #T_06b59ebc_891e_11ea_8465_0242ac1c0002row2_col5 {\n",
              "            background-color:  #fca486;\n",
              "            color:  #000000;\n",
              "        }    #T_06b59ebc_891e_11ea_8465_0242ac1c0002row2_col6 {\n",
              "            background-color:  #fcb398;\n",
              "            color:  #000000;\n",
              "        }    #T_06b59ebc_891e_11ea_8465_0242ac1c0002row2_col7 {\n",
              "            background-color:  #fcb398;\n",
              "            color:  #000000;\n",
              "        }    #T_06b59ebc_891e_11ea_8465_0242ac1c0002row2_col8 {\n",
              "            background-color:  #fcb398;\n",
              "            color:  #000000;\n",
              "        }    #T_06b59ebc_891e_11ea_8465_0242ac1c0002row2_col9 {\n",
              "            background-color:  #fcb398;\n",
              "            color:  #000000;\n",
              "        }    #T_06b59ebc_891e_11ea_8465_0242ac1c0002row2_col10 {\n",
              "            background-color:  #fcb398;\n",
              "            color:  #000000;\n",
              "        }    #T_06b59ebc_891e_11ea_8465_0242ac1c0002row2_col11 {\n",
              "            background-color:  #fcb398;\n",
              "            color:  #000000;\n",
              "        }    #T_06b59ebc_891e_11ea_8465_0242ac1c0002row2_col12 {\n",
              "            background-color:  #fff5f0;\n",
              "            color:  #000000;\n",
              "        }    #T_06b59ebc_891e_11ea_8465_0242ac1c0002row2_col13 {\n",
              "            background-color:  #fff5f0;\n",
              "            color:  #000000;\n",
              "        }    #T_06b59ebc_891e_11ea_8465_0242ac1c0002row2_col14 {\n",
              "            background-color:  #fff5f0;\n",
              "            color:  #000000;\n",
              "        }    #T_06b59ebc_891e_11ea_8465_0242ac1c0002row2_col15 {\n",
              "            background-color:  #fca588;\n",
              "            color:  #000000;\n",
              "        }    #T_06b59ebc_891e_11ea_8465_0242ac1c0002row3_col1 {\n",
              "            background-color:  #fb694a;\n",
              "            color:  #000000;\n",
              "        }    #T_06b59ebc_891e_11ea_8465_0242ac1c0002row3_col2 {\n",
              "            background-color:  #fa6849;\n",
              "            color:  #000000;\n",
              "        }    #T_06b59ebc_891e_11ea_8465_0242ac1c0002row3_col3 {\n",
              "            background-color:  #fb7656;\n",
              "            color:  #000000;\n",
              "        }    #T_06b59ebc_891e_11ea_8465_0242ac1c0002row3_col4 {\n",
              "            background-color:  #f96245;\n",
              "            color:  #000000;\n",
              "        }    #T_06b59ebc_891e_11ea_8465_0242ac1c0002row3_col5 {\n",
              "            background-color:  #fb6d4d;\n",
              "            color:  #000000;\n",
              "        }    #T_06b59ebc_891e_11ea_8465_0242ac1c0002row3_col6 {\n",
              "            background-color:  #fff5f0;\n",
              "            color:  #000000;\n",
              "        }    #T_06b59ebc_891e_11ea_8465_0242ac1c0002row3_col7 {\n",
              "            background-color:  #fff5f0;\n",
              "            color:  #000000;\n",
              "        }    #T_06b59ebc_891e_11ea_8465_0242ac1c0002row3_col8 {\n",
              "            background-color:  #fff5f0;\n",
              "            color:  #000000;\n",
              "        }    #T_06b59ebc_891e_11ea_8465_0242ac1c0002row3_col9 {\n",
              "            background-color:  #fff5f0;\n",
              "            color:  #000000;\n",
              "        }    #T_06b59ebc_891e_11ea_8465_0242ac1c0002row3_col10 {\n",
              "            background-color:  #fff5f0;\n",
              "            color:  #000000;\n",
              "        }    #T_06b59ebc_891e_11ea_8465_0242ac1c0002row3_col11 {\n",
              "            background-color:  #fff5f0;\n",
              "            color:  #000000;\n",
              "        }    #T_06b59ebc_891e_11ea_8465_0242ac1c0002row3_col12 {\n",
              "            background-color:  #fff5f0;\n",
              "            color:  #000000;\n",
              "        }    #T_06b59ebc_891e_11ea_8465_0242ac1c0002row3_col13 {\n",
              "            background-color:  #fff5f0;\n",
              "            color:  #000000;\n",
              "        }    #T_06b59ebc_891e_11ea_8465_0242ac1c0002row3_col14 {\n",
              "            background-color:  #fff5f0;\n",
              "            color:  #000000;\n",
              "        }    #T_06b59ebc_891e_11ea_8465_0242ac1c0002row3_col15 {\n",
              "            background-color:  #fb7050;\n",
              "            color:  #000000;\n",
              "        }    #T_06b59ebc_891e_11ea_8465_0242ac1c0002row4_col1 {\n",
              "            background-color:  #e32f27;\n",
              "            color:  #f1f1f1;\n",
              "        }    #T_06b59ebc_891e_11ea_8465_0242ac1c0002row4_col2 {\n",
              "            background-color:  #e02c26;\n",
              "            color:  #f1f1f1;\n",
              "        }    #T_06b59ebc_891e_11ea_8465_0242ac1c0002row4_col3 {\n",
              "            background-color:  #ea362a;\n",
              "            color:  #f1f1f1;\n",
              "        }    #T_06b59ebc_891e_11ea_8465_0242ac1c0002row4_col4 {\n",
              "            background-color:  #e02c26;\n",
              "            color:  #f1f1f1;\n",
              "        }    #T_06b59ebc_891e_11ea_8465_0242ac1c0002row4_col5 {\n",
              "            background-color:  #e63328;\n",
              "            color:  #f1f1f1;\n",
              "        }    #T_06b59ebc_891e_11ea_8465_0242ac1c0002row4_col6 {\n",
              "            background-color:  #fcbda4;\n",
              "            color:  #000000;\n",
              "        }    #T_06b59ebc_891e_11ea_8465_0242ac1c0002row4_col7 {\n",
              "            background-color:  #fcbda4;\n",
              "            color:  #000000;\n",
              "        }    #T_06b59ebc_891e_11ea_8465_0242ac1c0002row4_col8 {\n",
              "            background-color:  #fcbda4;\n",
              "            color:  #000000;\n",
              "        }    #T_06b59ebc_891e_11ea_8465_0242ac1c0002row4_col9 {\n",
              "            background-color:  #fcbda4;\n",
              "            color:  #000000;\n",
              "        }    #T_06b59ebc_891e_11ea_8465_0242ac1c0002row4_col10 {\n",
              "            background-color:  #fcbda4;\n",
              "            color:  #000000;\n",
              "        }    #T_06b59ebc_891e_11ea_8465_0242ac1c0002row4_col11 {\n",
              "            background-color:  #fcbda4;\n",
              "            color:  #000000;\n",
              "        }    #T_06b59ebc_891e_11ea_8465_0242ac1c0002row4_col12 {\n",
              "            background-color:  #fff5f0;\n",
              "            color:  #000000;\n",
              "        }    #T_06b59ebc_891e_11ea_8465_0242ac1c0002row4_col13 {\n",
              "            background-color:  #fff5f0;\n",
              "            color:  #000000;\n",
              "        }    #T_06b59ebc_891e_11ea_8465_0242ac1c0002row4_col14 {\n",
              "            background-color:  #fff5f0;\n",
              "            color:  #000000;\n",
              "        }    #T_06b59ebc_891e_11ea_8465_0242ac1c0002row4_col15 {\n",
              "            background-color:  #e63328;\n",
              "            color:  #f1f1f1;\n",
              "        }    #T_06b59ebc_891e_11ea_8465_0242ac1c0002row5_col1 {\n",
              "            background-color:  #b11218;\n",
              "            color:  #f1f1f1;\n",
              "        }    #T_06b59ebc_891e_11ea_8465_0242ac1c0002row5_col2 {\n",
              "            background-color:  #ad1117;\n",
              "            color:  #f1f1f1;\n",
              "        }    #T_06b59ebc_891e_11ea_8465_0242ac1c0002row5_col3 {\n",
              "            background-color:  #b11218;\n",
              "            color:  #f1f1f1;\n",
              "        }    #T_06b59ebc_891e_11ea_8465_0242ac1c0002row5_col4 {\n",
              "            background-color:  #af1117;\n",
              "            color:  #f1f1f1;\n",
              "        }    #T_06b59ebc_891e_11ea_8465_0242ac1c0002row5_col5 {\n",
              "            background-color:  #b31218;\n",
              "            color:  #f1f1f1;\n",
              "        }    #T_06b59ebc_891e_11ea_8465_0242ac1c0002row5_col6 {\n",
              "            background-color:  #f14331;\n",
              "            color:  #f1f1f1;\n",
              "        }    #T_06b59ebc_891e_11ea_8465_0242ac1c0002row5_col7 {\n",
              "            background-color:  #f14331;\n",
              "            color:  #f1f1f1;\n",
              "        }    #T_06b59ebc_891e_11ea_8465_0242ac1c0002row5_col8 {\n",
              "            background-color:  #f14331;\n",
              "            color:  #f1f1f1;\n",
              "        }    #T_06b59ebc_891e_11ea_8465_0242ac1c0002row5_col9 {\n",
              "            background-color:  #f14331;\n",
              "            color:  #f1f1f1;\n",
              "        }    #T_06b59ebc_891e_11ea_8465_0242ac1c0002row5_col10 {\n",
              "            background-color:  #f14331;\n",
              "            color:  #f1f1f1;\n",
              "        }    #T_06b59ebc_891e_11ea_8465_0242ac1c0002row5_col11 {\n",
              "            background-color:  #f14331;\n",
              "            color:  #f1f1f1;\n",
              "        }    #T_06b59ebc_891e_11ea_8465_0242ac1c0002row5_col12 {\n",
              "            background-color:  #fff5f0;\n",
              "            color:  #000000;\n",
              "        }    #T_06b59ebc_891e_11ea_8465_0242ac1c0002row5_col13 {\n",
              "            background-color:  #fff5f0;\n",
              "            color:  #000000;\n",
              "        }    #T_06b59ebc_891e_11ea_8465_0242ac1c0002row5_col14 {\n",
              "            background-color:  #fff5f0;\n",
              "            color:  #000000;\n",
              "        }    #T_06b59ebc_891e_11ea_8465_0242ac1c0002row5_col15 {\n",
              "            background-color:  #b21218;\n",
              "            color:  #f1f1f1;\n",
              "        }    #T_06b59ebc_891e_11ea_8465_0242ac1c0002row6_col1 {\n",
              "            background-color:  #67000d;\n",
              "            color:  #f1f1f1;\n",
              "        }    #T_06b59ebc_891e_11ea_8465_0242ac1c0002row6_col2 {\n",
              "            background-color:  #67000d;\n",
              "            color:  #f1f1f1;\n",
              "        }    #T_06b59ebc_891e_11ea_8465_0242ac1c0002row6_col3 {\n",
              "            background-color:  #67000d;\n",
              "            color:  #f1f1f1;\n",
              "        }    #T_06b59ebc_891e_11ea_8465_0242ac1c0002row6_col4 {\n",
              "            background-color:  #67000d;\n",
              "            color:  #f1f1f1;\n",
              "        }    #T_06b59ebc_891e_11ea_8465_0242ac1c0002row6_col5 {\n",
              "            background-color:  #67000d;\n",
              "            color:  #f1f1f1;\n",
              "        }    #T_06b59ebc_891e_11ea_8465_0242ac1c0002row6_col6 {\n",
              "            background-color:  #ea362a;\n",
              "            color:  #f1f1f1;\n",
              "        }    #T_06b59ebc_891e_11ea_8465_0242ac1c0002row6_col7 {\n",
              "            background-color:  #ea362a;\n",
              "            color:  #f1f1f1;\n",
              "        }    #T_06b59ebc_891e_11ea_8465_0242ac1c0002row6_col8 {\n",
              "            background-color:  #ea362a;\n",
              "            color:  #f1f1f1;\n",
              "        }    #T_06b59ebc_891e_11ea_8465_0242ac1c0002row6_col9 {\n",
              "            background-color:  #ea362a;\n",
              "            color:  #f1f1f1;\n",
              "        }    #T_06b59ebc_891e_11ea_8465_0242ac1c0002row6_col10 {\n",
              "            background-color:  #ea362a;\n",
              "            color:  #f1f1f1;\n",
              "        }    #T_06b59ebc_891e_11ea_8465_0242ac1c0002row6_col11 {\n",
              "            background-color:  #ea362a;\n",
              "            color:  #f1f1f1;\n",
              "        }    #T_06b59ebc_891e_11ea_8465_0242ac1c0002row6_col12 {\n",
              "            background-color:  #fff5f0;\n",
              "            color:  #000000;\n",
              "        }    #T_06b59ebc_891e_11ea_8465_0242ac1c0002row6_col13 {\n",
              "            background-color:  #fff5f0;\n",
              "            color:  #000000;\n",
              "        }    #T_06b59ebc_891e_11ea_8465_0242ac1c0002row6_col14 {\n",
              "            background-color:  #fff5f0;\n",
              "            color:  #000000;\n",
              "        }    #T_06b59ebc_891e_11ea_8465_0242ac1c0002row6_col15 {\n",
              "            background-color:  #67000d;\n",
              "            color:  #f1f1f1;\n",
              "        }</style><table id=\"T_06b59ebc_891e_11ea_8465_0242ac1c0002\" ><thead>    <tr>        <th class=\"blank level0\" ></th>        <th class=\"col_heading level0 col0\" >ds</th>        <th class=\"col_heading level0 col1\" >trend</th>        <th class=\"col_heading level0 col2\" >yhat_lower</th>        <th class=\"col_heading level0 col3\" >yhat_upper</th>        <th class=\"col_heading level0 col4\" >trend_lower</th>        <th class=\"col_heading level0 col5\" >trend_upper</th>        <th class=\"col_heading level0 col6\" >additive_terms</th>        <th class=\"col_heading level0 col7\" >additive_terms_lower</th>        <th class=\"col_heading level0 col8\" >additive_terms_upper</th>        <th class=\"col_heading level0 col9\" >weekly</th>        <th class=\"col_heading level0 col10\" >weekly_lower</th>        <th class=\"col_heading level0 col11\" >weekly_upper</th>        <th class=\"col_heading level0 col12\" >multiplicative_terms</th>        <th class=\"col_heading level0 col13\" >multiplicative_terms_lower</th>        <th class=\"col_heading level0 col14\" >multiplicative_terms_upper</th>        <th class=\"col_heading level0 col15\" >yhat</th>    </tr></thead><tbody>\n",
              "                <tr>\n",
              "                        <th id=\"T_06b59ebc_891e_11ea_8465_0242ac1c0002level0_row0\" class=\"row_heading level0 row0\" >95</th>\n",
              "                        <td id=\"T_06b59ebc_891e_11ea_8465_0242ac1c0002row0_col0\" class=\"data row0 col0\" >2020-04-26 00:00:00</td>\n",
              "                        <td id=\"T_06b59ebc_891e_11ea_8465_0242ac1c0002row0_col1\" class=\"data row0 col1\" >1957529.447970</td>\n",
              "                        <td id=\"T_06b59ebc_891e_11ea_8465_0242ac1c0002row0_col2\" class=\"data row0 col2\" >1949782.095004</td>\n",
              "                        <td id=\"T_06b59ebc_891e_11ea_8465_0242ac1c0002row0_col3\" class=\"data row0 col3\" >1973098.838248</td>\n",
              "                        <td id=\"T_06b59ebc_891e_11ea_8465_0242ac1c0002row0_col4\" class=\"data row0 col4\" >1955454.900262</td>\n",
              "                        <td id=\"T_06b59ebc_891e_11ea_8465_0242ac1c0002row0_col5\" class=\"data row0 col5\" >1959887.299307</td>\n",
              "                        <td id=\"T_06b59ebc_891e_11ea_8465_0242ac1c0002row0_col6\" class=\"data row0 col6\" >3247.958119</td>\n",
              "                        <td id=\"T_06b59ebc_891e_11ea_8465_0242ac1c0002row0_col7\" class=\"data row0 col7\" >3247.958119</td>\n",
              "                        <td id=\"T_06b59ebc_891e_11ea_8465_0242ac1c0002row0_col8\" class=\"data row0 col8\" >3247.958119</td>\n",
              "                        <td id=\"T_06b59ebc_891e_11ea_8465_0242ac1c0002row0_col9\" class=\"data row0 col9\" >3247.958119</td>\n",
              "                        <td id=\"T_06b59ebc_891e_11ea_8465_0242ac1c0002row0_col10\" class=\"data row0 col10\" >3247.958119</td>\n",
              "                        <td id=\"T_06b59ebc_891e_11ea_8465_0242ac1c0002row0_col11\" class=\"data row0 col11\" >3247.958119</td>\n",
              "                        <td id=\"T_06b59ebc_891e_11ea_8465_0242ac1c0002row0_col12\" class=\"data row0 col12\" >0.000000</td>\n",
              "                        <td id=\"T_06b59ebc_891e_11ea_8465_0242ac1c0002row0_col13\" class=\"data row0 col13\" >0.000000</td>\n",
              "                        <td id=\"T_06b59ebc_891e_11ea_8465_0242ac1c0002row0_col14\" class=\"data row0 col14\" >0.000000</td>\n",
              "                        <td id=\"T_06b59ebc_891e_11ea_8465_0242ac1c0002row0_col15\" class=\"data row0 col15\" >1960777.406089</td>\n",
              "            </tr>\n",
              "            <tr>\n",
              "                        <th id=\"T_06b59ebc_891e_11ea_8465_0242ac1c0002level0_row1\" class=\"row_heading level0 row1\" >96</th>\n",
              "                        <td id=\"T_06b59ebc_891e_11ea_8465_0242ac1c0002row1_col0\" class=\"data row1 col0\" >2020-04-27 00:00:00</td>\n",
              "                        <td id=\"T_06b59ebc_891e_11ea_8465_0242ac1c0002row1_col1\" class=\"data row1 col1\" >2006108.769792</td>\n",
              "                        <td id=\"T_06b59ebc_891e_11ea_8465_0242ac1c0002row1_col2\" class=\"data row1 col2\" >1994794.506445</td>\n",
              "                        <td id=\"T_06b59ebc_891e_11ea_8465_0242ac1c0002row1_col3\" class=\"data row1 col3\" >2020956.158789</td>\n",
              "                        <td id=\"T_06b59ebc_891e_11ea_8465_0242ac1c0002row1_col4\" class=\"data row1 col4\" >1998502.583969</td>\n",
              "                        <td id=\"T_06b59ebc_891e_11ea_8465_0242ac1c0002row1_col5\" class=\"data row1 col5\" >2014368.928153</td>\n",
              "                        <td id=\"T_06b59ebc_891e_11ea_8465_0242ac1c0002row1_col6\" class=\"data row1 col6\" >1250.578566</td>\n",
              "                        <td id=\"T_06b59ebc_891e_11ea_8465_0242ac1c0002row1_col7\" class=\"data row1 col7\" >1250.578566</td>\n",
              "                        <td id=\"T_06b59ebc_891e_11ea_8465_0242ac1c0002row1_col8\" class=\"data row1 col8\" >1250.578566</td>\n",
              "                        <td id=\"T_06b59ebc_891e_11ea_8465_0242ac1c0002row1_col9\" class=\"data row1 col9\" >1250.578566</td>\n",
              "                        <td id=\"T_06b59ebc_891e_11ea_8465_0242ac1c0002row1_col10\" class=\"data row1 col10\" >1250.578566</td>\n",
              "                        <td id=\"T_06b59ebc_891e_11ea_8465_0242ac1c0002row1_col11\" class=\"data row1 col11\" >1250.578566</td>\n",
              "                        <td id=\"T_06b59ebc_891e_11ea_8465_0242ac1c0002row1_col12\" class=\"data row1 col12\" >0.000000</td>\n",
              "                        <td id=\"T_06b59ebc_891e_11ea_8465_0242ac1c0002row1_col13\" class=\"data row1 col13\" >0.000000</td>\n",
              "                        <td id=\"T_06b59ebc_891e_11ea_8465_0242ac1c0002row1_col14\" class=\"data row1 col14\" >0.000000</td>\n",
              "                        <td id=\"T_06b59ebc_891e_11ea_8465_0242ac1c0002row1_col15\" class=\"data row1 col15\" >2007359.348358</td>\n",
              "            </tr>\n",
              "            <tr>\n",
              "                        <th id=\"T_06b59ebc_891e_11ea_8465_0242ac1c0002level0_row2\" class=\"row_heading level0 row2\" >97</th>\n",
              "                        <td id=\"T_06b59ebc_891e_11ea_8465_0242ac1c0002row2_col0\" class=\"data row2 col0\" >2020-04-28 00:00:00</td>\n",
              "                        <td id=\"T_06b59ebc_891e_11ea_8465_0242ac1c0002row2_col1\" class=\"data row2 col1\" >2054688.091614</td>\n",
              "                        <td id=\"T_06b59ebc_891e_11ea_8465_0242ac1c0002row2_col2\" class=\"data row2 col2\" >2036414.083058</td>\n",
              "                        <td id=\"T_06b59ebc_891e_11ea_8465_0242ac1c0002row2_col3\" class=\"data row2 col3\" >2072843.634227</td>\n",
              "                        <td id=\"T_06b59ebc_891e_11ea_8465_0242ac1c0002row2_col4\" class=\"data row2 col4\" >2041539.092330</td>\n",
              "                        <td id=\"T_06b59ebc_891e_11ea_8465_0242ac1c0002row2_col5\" class=\"data row2 col5\" >2070569.535810</td>\n",
              "                        <td id=\"T_06b59ebc_891e_11ea_8465_0242ac1c0002row2_col6\" class=\"data row2 col6\" >-1395.537903</td>\n",
              "                        <td id=\"T_06b59ebc_891e_11ea_8465_0242ac1c0002row2_col7\" class=\"data row2 col7\" >-1395.537903</td>\n",
              "                        <td id=\"T_06b59ebc_891e_11ea_8465_0242ac1c0002row2_col8\" class=\"data row2 col8\" >-1395.537903</td>\n",
              "                        <td id=\"T_06b59ebc_891e_11ea_8465_0242ac1c0002row2_col9\" class=\"data row2 col9\" >-1395.537903</td>\n",
              "                        <td id=\"T_06b59ebc_891e_11ea_8465_0242ac1c0002row2_col10\" class=\"data row2 col10\" >-1395.537903</td>\n",
              "                        <td id=\"T_06b59ebc_891e_11ea_8465_0242ac1c0002row2_col11\" class=\"data row2 col11\" >-1395.537903</td>\n",
              "                        <td id=\"T_06b59ebc_891e_11ea_8465_0242ac1c0002row2_col12\" class=\"data row2 col12\" >0.000000</td>\n",
              "                        <td id=\"T_06b59ebc_891e_11ea_8465_0242ac1c0002row2_col13\" class=\"data row2 col13\" >0.000000</td>\n",
              "                        <td id=\"T_06b59ebc_891e_11ea_8465_0242ac1c0002row2_col14\" class=\"data row2 col14\" >0.000000</td>\n",
              "                        <td id=\"T_06b59ebc_891e_11ea_8465_0242ac1c0002row2_col15\" class=\"data row2 col15\" >2053292.553711</td>\n",
              "            </tr>\n",
              "            <tr>\n",
              "                        <th id=\"T_06b59ebc_891e_11ea_8465_0242ac1c0002level0_row3\" class=\"row_heading level0 row3\" >98</th>\n",
              "                        <td id=\"T_06b59ebc_891e_11ea_8465_0242ac1c0002row3_col0\" class=\"data row3 col0\" >2020-04-29 00:00:00</td>\n",
              "                        <td id=\"T_06b59ebc_891e_11ea_8465_0242ac1c0002row3_col1\" class=\"data row3 col1\" >2103267.413436</td>\n",
              "                        <td id=\"T_06b59ebc_891e_11ea_8465_0242ac1c0002row3_col2\" class=\"data row3 col2\" >2077727.838623</td>\n",
              "                        <td id=\"T_06b59ebc_891e_11ea_8465_0242ac1c0002row3_col3\" class=\"data row3 col3\" >2125221.889139</td>\n",
              "                        <td id=\"T_06b59ebc_891e_11ea_8465_0242ac1c0002row3_col4\" class=\"data row3 col4\" >2084541.815348</td>\n",
              "                        <td id=\"T_06b59ebc_891e_11ea_8465_0242ac1c0002row3_col5\" class=\"data row3 col5\" >2127061.288305</td>\n",
              "                        <td id=\"T_06b59ebc_891e_11ea_8465_0242ac1c0002row3_col6\" class=\"data row3 col6\" >-3169.158086</td>\n",
              "                        <td id=\"T_06b59ebc_891e_11ea_8465_0242ac1c0002row3_col7\" class=\"data row3 col7\" >-3169.158086</td>\n",
              "                        <td id=\"T_06b59ebc_891e_11ea_8465_0242ac1c0002row3_col8\" class=\"data row3 col8\" >-3169.158086</td>\n",
              "                        <td id=\"T_06b59ebc_891e_11ea_8465_0242ac1c0002row3_col9\" class=\"data row3 col9\" >-3169.158086</td>\n",
              "                        <td id=\"T_06b59ebc_891e_11ea_8465_0242ac1c0002row3_col10\" class=\"data row3 col10\" >-3169.158086</td>\n",
              "                        <td id=\"T_06b59ebc_891e_11ea_8465_0242ac1c0002row3_col11\" class=\"data row3 col11\" >-3169.158086</td>\n",
              "                        <td id=\"T_06b59ebc_891e_11ea_8465_0242ac1c0002row3_col12\" class=\"data row3 col12\" >0.000000</td>\n",
              "                        <td id=\"T_06b59ebc_891e_11ea_8465_0242ac1c0002row3_col13\" class=\"data row3 col13\" >0.000000</td>\n",
              "                        <td id=\"T_06b59ebc_891e_11ea_8465_0242ac1c0002row3_col14\" class=\"data row3 col14\" >0.000000</td>\n",
              "                        <td id=\"T_06b59ebc_891e_11ea_8465_0242ac1c0002row3_col15\" class=\"data row3 col15\" >2100098.255349</td>\n",
              "            </tr>\n",
              "            <tr>\n",
              "                        <th id=\"T_06b59ebc_891e_11ea_8465_0242ac1c0002level0_row4\" class=\"row_heading level0 row4\" >99</th>\n",
              "                        <td id=\"T_06b59ebc_891e_11ea_8465_0242ac1c0002row4_col0\" class=\"data row4 col0\" >2020-04-30 00:00:00</td>\n",
              "                        <td id=\"T_06b59ebc_891e_11ea_8465_0242ac1c0002row4_col1\" class=\"data row4 col1\" >2151846.735258</td>\n",
              "                        <td id=\"T_06b59ebc_891e_11ea_8465_0242ac1c0002row4_col2\" class=\"data row4 col2\" >2121739.522226</td>\n",
              "                        <td id=\"T_06b59ebc_891e_11ea_8465_0242ac1c0002row4_col3\" class=\"data row4 col3\" >2184317.923344</td>\n",
              "                        <td id=\"T_06b59ebc_891e_11ea_8465_0242ac1c0002row4_col4\" class=\"data row4 col4\" >2122558.493433</td>\n",
              "                        <td id=\"T_06b59ebc_891e_11ea_8465_0242ac1c0002row4_col5\" class=\"data row4 col5\" >2183534.417784</td>\n",
              "                        <td id=\"T_06b59ebc_891e_11ea_8465_0242ac1c0002row4_col6\" class=\"data row4 col6\" >-1592.750414</td>\n",
              "                        <td id=\"T_06b59ebc_891e_11ea_8465_0242ac1c0002row4_col7\" class=\"data row4 col7\" >-1592.750414</td>\n",
              "                        <td id=\"T_06b59ebc_891e_11ea_8465_0242ac1c0002row4_col8\" class=\"data row4 col8\" >-1592.750414</td>\n",
              "                        <td id=\"T_06b59ebc_891e_11ea_8465_0242ac1c0002row4_col9\" class=\"data row4 col9\" >-1592.750414</td>\n",
              "                        <td id=\"T_06b59ebc_891e_11ea_8465_0242ac1c0002row4_col10\" class=\"data row4 col10\" >-1592.750414</td>\n",
              "                        <td id=\"T_06b59ebc_891e_11ea_8465_0242ac1c0002row4_col11\" class=\"data row4 col11\" >-1592.750414</td>\n",
              "                        <td id=\"T_06b59ebc_891e_11ea_8465_0242ac1c0002row4_col12\" class=\"data row4 col12\" >0.000000</td>\n",
              "                        <td id=\"T_06b59ebc_891e_11ea_8465_0242ac1c0002row4_col13\" class=\"data row4 col13\" >0.000000</td>\n",
              "                        <td id=\"T_06b59ebc_891e_11ea_8465_0242ac1c0002row4_col14\" class=\"data row4 col14\" >0.000000</td>\n",
              "                        <td id=\"T_06b59ebc_891e_11ea_8465_0242ac1c0002row4_col15\" class=\"data row4 col15\" >2150253.984844</td>\n",
              "            </tr>\n",
              "            <tr>\n",
              "                        <th id=\"T_06b59ebc_891e_11ea_8465_0242ac1c0002level0_row5\" class=\"row_heading level0 row5\" >100</th>\n",
              "                        <td id=\"T_06b59ebc_891e_11ea_8465_0242ac1c0002row5_col0\" class=\"data row5 col0\" >2020-05-01 00:00:00</td>\n",
              "                        <td id=\"T_06b59ebc_891e_11ea_8465_0242ac1c0002row5_col1\" class=\"data row5 col1\" >2200426.057080</td>\n",
              "                        <td id=\"T_06b59ebc_891e_11ea_8465_0242ac1c0002row5_col2\" class=\"data row5 col2\" >2163491.172022</td>\n",
              "                        <td id=\"T_06b59ebc_891e_11ea_8465_0242ac1c0002row5_col3\" class=\"data row5 col3\" >2246745.446299</td>\n",
              "                        <td id=\"T_06b59ebc_891e_11ea_8465_0242ac1c0002row5_col4\" class=\"data row5 col4\" >2163825.134667</td>\n",
              "                        <td id=\"T_06b59ebc_891e_11ea_8465_0242ac1c0002row5_col5\" class=\"data row5 col5\" >2242473.645455</td>\n",
              "                        <td id=\"T_06b59ebc_891e_11ea_8465_0242ac1c0002row5_col6\" class=\"data row5 col6\" >697.922483</td>\n",
              "                        <td id=\"T_06b59ebc_891e_11ea_8465_0242ac1c0002row5_col7\" class=\"data row5 col7\" >697.922483</td>\n",
              "                        <td id=\"T_06b59ebc_891e_11ea_8465_0242ac1c0002row5_col8\" class=\"data row5 col8\" >697.922483</td>\n",
              "                        <td id=\"T_06b59ebc_891e_11ea_8465_0242ac1c0002row5_col9\" class=\"data row5 col9\" >697.922483</td>\n",
              "                        <td id=\"T_06b59ebc_891e_11ea_8465_0242ac1c0002row5_col10\" class=\"data row5 col10\" >697.922483</td>\n",
              "                        <td id=\"T_06b59ebc_891e_11ea_8465_0242ac1c0002row5_col11\" class=\"data row5 col11\" >697.922483</td>\n",
              "                        <td id=\"T_06b59ebc_891e_11ea_8465_0242ac1c0002row5_col12\" class=\"data row5 col12\" >0.000000</td>\n",
              "                        <td id=\"T_06b59ebc_891e_11ea_8465_0242ac1c0002row5_col13\" class=\"data row5 col13\" >0.000000</td>\n",
              "                        <td id=\"T_06b59ebc_891e_11ea_8465_0242ac1c0002row5_col14\" class=\"data row5 col14\" >0.000000</td>\n",
              "                        <td id=\"T_06b59ebc_891e_11ea_8465_0242ac1c0002row5_col15\" class=\"data row5 col15\" >2201123.979563</td>\n",
              "            </tr>\n",
              "            <tr>\n",
              "                        <th id=\"T_06b59ebc_891e_11ea_8465_0242ac1c0002level0_row6\" class=\"row_heading level0 row6\" >101</th>\n",
              "                        <td id=\"T_06b59ebc_891e_11ea_8465_0242ac1c0002row6_col0\" class=\"data row6 col0\" >2020-05-02 00:00:00</td>\n",
              "                        <td id=\"T_06b59ebc_891e_11ea_8465_0242ac1c0002row6_col1\" class=\"data row6 col1\" >2249005.378902</td>\n",
              "                        <td id=\"T_06b59ebc_891e_11ea_8465_0242ac1c0002row6_col2\" class=\"data row6 col2\" >2202778.429613</td>\n",
              "                        <td id=\"T_06b59ebc_891e_11ea_8465_0242ac1c0002row6_col3\" class=\"data row6 col3\" >2301956.790944</td>\n",
              "                        <td id=\"T_06b59ebc_891e_11ea_8465_0242ac1c0002row6_col4\" class=\"data row6 col4\" >2202629.897403</td>\n",
              "                        <td id=\"T_06b59ebc_891e_11ea_8465_0242ac1c0002row6_col5\" class=\"data row6 col5\" >2301840.957355</td>\n",
              "                        <td id=\"T_06b59ebc_891e_11ea_8465_0242ac1c0002row6_col6\" class=\"data row6 col6\" >960.987236</td>\n",
              "                        <td id=\"T_06b59ebc_891e_11ea_8465_0242ac1c0002row6_col7\" class=\"data row6 col7\" >960.987236</td>\n",
              "                        <td id=\"T_06b59ebc_891e_11ea_8465_0242ac1c0002row6_col8\" class=\"data row6 col8\" >960.987236</td>\n",
              "                        <td id=\"T_06b59ebc_891e_11ea_8465_0242ac1c0002row6_col9\" class=\"data row6 col9\" >960.987236</td>\n",
              "                        <td id=\"T_06b59ebc_891e_11ea_8465_0242ac1c0002row6_col10\" class=\"data row6 col10\" >960.987236</td>\n",
              "                        <td id=\"T_06b59ebc_891e_11ea_8465_0242ac1c0002row6_col11\" class=\"data row6 col11\" >960.987236</td>\n",
              "                        <td id=\"T_06b59ebc_891e_11ea_8465_0242ac1c0002row6_col12\" class=\"data row6 col12\" >0.000000</td>\n",
              "                        <td id=\"T_06b59ebc_891e_11ea_8465_0242ac1c0002row6_col13\" class=\"data row6 col13\" >0.000000</td>\n",
              "                        <td id=\"T_06b59ebc_891e_11ea_8465_0242ac1c0002row6_col14\" class=\"data row6 col14\" >0.000000</td>\n",
              "                        <td id=\"T_06b59ebc_891e_11ea_8465_0242ac1c0002row6_col15\" class=\"data row6 col15\" >2249966.366138</td>\n",
              "            </tr>\n",
              "    </tbody></table>"
            ],
            "text/plain": [
              "<pandas.io.formats.style.Styler at 0x7f7f8dbbf860>"
            ]
          },
          "metadata": {
            "tags": []
          },
          "execution_count": 114
        }
      ]
    },
    {
      "cell_type": "code",
      "metadata": {
        "id": "uZ6ubw8wPB0H",
        "colab_type": "code",
        "outputId": "a9ce26b5-dc89-4fb4-9990-3685011f0293",
        "colab": {
          "base_uri": "https://localhost:8080/",
          "height": 162
        }
      },
      "source": [
        "forecast[['ds','yhat','yhat_lower','yhat_upper']].tail(7).style.background_gradient(cmap='Reds')"
      ],
      "execution_count": 0,
      "outputs": [
        {
          "output_type": "execute_result",
          "data": {
            "text/html": [
              "<style  type=\"text/css\" >\n",
              "    #T_06bac842_891e_11ea_8465_0242ac1c0002row0_col1 {\n",
              "            background-color:  #fff5f0;\n",
              "            color:  #000000;\n",
              "        }    #T_06bac842_891e_11ea_8465_0242ac1c0002row0_col2 {\n",
              "            background-color:  #fff5f0;\n",
              "            color:  #000000;\n",
              "        }    #T_06bac842_891e_11ea_8465_0242ac1c0002row0_col3 {\n",
              "            background-color:  #fff5f0;\n",
              "            color:  #000000;\n",
              "        }    #T_06bac842_891e_11ea_8465_0242ac1c0002row1_col1 {\n",
              "            background-color:  #fdd5c4;\n",
              "            color:  #000000;\n",
              "        }    #T_06bac842_891e_11ea_8465_0242ac1c0002row1_col2 {\n",
              "            background-color:  #fdd1be;\n",
              "            color:  #000000;\n",
              "        }    #T_06bac842_891e_11ea_8465_0242ac1c0002row1_col3 {\n",
              "            background-color:  #fedaca;\n",
              "            color:  #000000;\n",
              "        }    #T_06bac842_891e_11ea_8465_0242ac1c0002row2_col1 {\n",
              "            background-color:  #fca588;\n",
              "            color:  #000000;\n",
              "        }    #T_06bac842_891e_11ea_8465_0242ac1c0002row2_col2 {\n",
              "            background-color:  #fc9d7f;\n",
              "            color:  #000000;\n",
              "        }    #T_06bac842_891e_11ea_8465_0242ac1c0002row2_col3 {\n",
              "            background-color:  #fcaa8d;\n",
              "            color:  #000000;\n",
              "        }    #T_06bac842_891e_11ea_8465_0242ac1c0002row3_col1 {\n",
              "            background-color:  #fb7050;\n",
              "            color:  #000000;\n",
              "        }    #T_06bac842_891e_11ea_8465_0242ac1c0002row3_col2 {\n",
              "            background-color:  #fa6849;\n",
              "            color:  #000000;\n",
              "        }    #T_06bac842_891e_11ea_8465_0242ac1c0002row3_col3 {\n",
              "            background-color:  #fb7656;\n",
              "            color:  #000000;\n",
              "        }    #T_06bac842_891e_11ea_8465_0242ac1c0002row4_col1 {\n",
              "            background-color:  #e63328;\n",
              "            color:  #f1f1f1;\n",
              "        }    #T_06bac842_891e_11ea_8465_0242ac1c0002row4_col2 {\n",
              "            background-color:  #e02c26;\n",
              "            color:  #f1f1f1;\n",
              "        }    #T_06bac842_891e_11ea_8465_0242ac1c0002row4_col3 {\n",
              "            background-color:  #ea362a;\n",
              "            color:  #f1f1f1;\n",
              "        }    #T_06bac842_891e_11ea_8465_0242ac1c0002row5_col1 {\n",
              "            background-color:  #b21218;\n",
              "            color:  #f1f1f1;\n",
              "        }    #T_06bac842_891e_11ea_8465_0242ac1c0002row5_col2 {\n",
              "            background-color:  #ad1117;\n",
              "            color:  #f1f1f1;\n",
              "        }    #T_06bac842_891e_11ea_8465_0242ac1c0002row5_col3 {\n",
              "            background-color:  #b11218;\n",
              "            color:  #f1f1f1;\n",
              "        }    #T_06bac842_891e_11ea_8465_0242ac1c0002row6_col1 {\n",
              "            background-color:  #67000d;\n",
              "            color:  #f1f1f1;\n",
              "        }    #T_06bac842_891e_11ea_8465_0242ac1c0002row6_col2 {\n",
              "            background-color:  #67000d;\n",
              "            color:  #f1f1f1;\n",
              "        }    #T_06bac842_891e_11ea_8465_0242ac1c0002row6_col3 {\n",
              "            background-color:  #67000d;\n",
              "            color:  #f1f1f1;\n",
              "        }</style><table id=\"T_06bac842_891e_11ea_8465_0242ac1c0002\" ><thead>    <tr>        <th class=\"blank level0\" ></th>        <th class=\"col_heading level0 col0\" >ds</th>        <th class=\"col_heading level0 col1\" >yhat</th>        <th class=\"col_heading level0 col2\" >yhat_lower</th>        <th class=\"col_heading level0 col3\" >yhat_upper</th>    </tr></thead><tbody>\n",
              "                <tr>\n",
              "                        <th id=\"T_06bac842_891e_11ea_8465_0242ac1c0002level0_row0\" class=\"row_heading level0 row0\" >95</th>\n",
              "                        <td id=\"T_06bac842_891e_11ea_8465_0242ac1c0002row0_col0\" class=\"data row0 col0\" >2020-04-26 00:00:00</td>\n",
              "                        <td id=\"T_06bac842_891e_11ea_8465_0242ac1c0002row0_col1\" class=\"data row0 col1\" >1960777.406089</td>\n",
              "                        <td id=\"T_06bac842_891e_11ea_8465_0242ac1c0002row0_col2\" class=\"data row0 col2\" >1949782.095004</td>\n",
              "                        <td id=\"T_06bac842_891e_11ea_8465_0242ac1c0002row0_col3\" class=\"data row0 col3\" >1973098.838248</td>\n",
              "            </tr>\n",
              "            <tr>\n",
              "                        <th id=\"T_06bac842_891e_11ea_8465_0242ac1c0002level0_row1\" class=\"row_heading level0 row1\" >96</th>\n",
              "                        <td id=\"T_06bac842_891e_11ea_8465_0242ac1c0002row1_col0\" class=\"data row1 col0\" >2020-04-27 00:00:00</td>\n",
              "                        <td id=\"T_06bac842_891e_11ea_8465_0242ac1c0002row1_col1\" class=\"data row1 col1\" >2007359.348358</td>\n",
              "                        <td id=\"T_06bac842_891e_11ea_8465_0242ac1c0002row1_col2\" class=\"data row1 col2\" >1994794.506445</td>\n",
              "                        <td id=\"T_06bac842_891e_11ea_8465_0242ac1c0002row1_col3\" class=\"data row1 col3\" >2020956.158789</td>\n",
              "            </tr>\n",
              "            <tr>\n",
              "                        <th id=\"T_06bac842_891e_11ea_8465_0242ac1c0002level0_row2\" class=\"row_heading level0 row2\" >97</th>\n",
              "                        <td id=\"T_06bac842_891e_11ea_8465_0242ac1c0002row2_col0\" class=\"data row2 col0\" >2020-04-28 00:00:00</td>\n",
              "                        <td id=\"T_06bac842_891e_11ea_8465_0242ac1c0002row2_col1\" class=\"data row2 col1\" >2053292.553711</td>\n",
              "                        <td id=\"T_06bac842_891e_11ea_8465_0242ac1c0002row2_col2\" class=\"data row2 col2\" >2036414.083058</td>\n",
              "                        <td id=\"T_06bac842_891e_11ea_8465_0242ac1c0002row2_col3\" class=\"data row2 col3\" >2072843.634227</td>\n",
              "            </tr>\n",
              "            <tr>\n",
              "                        <th id=\"T_06bac842_891e_11ea_8465_0242ac1c0002level0_row3\" class=\"row_heading level0 row3\" >98</th>\n",
              "                        <td id=\"T_06bac842_891e_11ea_8465_0242ac1c0002row3_col0\" class=\"data row3 col0\" >2020-04-29 00:00:00</td>\n",
              "                        <td id=\"T_06bac842_891e_11ea_8465_0242ac1c0002row3_col1\" class=\"data row3 col1\" >2100098.255349</td>\n",
              "                        <td id=\"T_06bac842_891e_11ea_8465_0242ac1c0002row3_col2\" class=\"data row3 col2\" >2077727.838623</td>\n",
              "                        <td id=\"T_06bac842_891e_11ea_8465_0242ac1c0002row3_col3\" class=\"data row3 col3\" >2125221.889139</td>\n",
              "            </tr>\n",
              "            <tr>\n",
              "                        <th id=\"T_06bac842_891e_11ea_8465_0242ac1c0002level0_row4\" class=\"row_heading level0 row4\" >99</th>\n",
              "                        <td id=\"T_06bac842_891e_11ea_8465_0242ac1c0002row4_col0\" class=\"data row4 col0\" >2020-04-30 00:00:00</td>\n",
              "                        <td id=\"T_06bac842_891e_11ea_8465_0242ac1c0002row4_col1\" class=\"data row4 col1\" >2150253.984844</td>\n",
              "                        <td id=\"T_06bac842_891e_11ea_8465_0242ac1c0002row4_col2\" class=\"data row4 col2\" >2121739.522226</td>\n",
              "                        <td id=\"T_06bac842_891e_11ea_8465_0242ac1c0002row4_col3\" class=\"data row4 col3\" >2184317.923344</td>\n",
              "            </tr>\n",
              "            <tr>\n",
              "                        <th id=\"T_06bac842_891e_11ea_8465_0242ac1c0002level0_row5\" class=\"row_heading level0 row5\" >100</th>\n",
              "                        <td id=\"T_06bac842_891e_11ea_8465_0242ac1c0002row5_col0\" class=\"data row5 col0\" >2020-05-01 00:00:00</td>\n",
              "                        <td id=\"T_06bac842_891e_11ea_8465_0242ac1c0002row5_col1\" class=\"data row5 col1\" >2201123.979563</td>\n",
              "                        <td id=\"T_06bac842_891e_11ea_8465_0242ac1c0002row5_col2\" class=\"data row5 col2\" >2163491.172022</td>\n",
              "                        <td id=\"T_06bac842_891e_11ea_8465_0242ac1c0002row5_col3\" class=\"data row5 col3\" >2246745.446299</td>\n",
              "            </tr>\n",
              "            <tr>\n",
              "                        <th id=\"T_06bac842_891e_11ea_8465_0242ac1c0002level0_row6\" class=\"row_heading level0 row6\" >101</th>\n",
              "                        <td id=\"T_06bac842_891e_11ea_8465_0242ac1c0002row6_col0\" class=\"data row6 col0\" >2020-05-02 00:00:00</td>\n",
              "                        <td id=\"T_06bac842_891e_11ea_8465_0242ac1c0002row6_col1\" class=\"data row6 col1\" >2249966.366138</td>\n",
              "                        <td id=\"T_06bac842_891e_11ea_8465_0242ac1c0002row6_col2\" class=\"data row6 col2\" >2202778.429613</td>\n",
              "                        <td id=\"T_06bac842_891e_11ea_8465_0242ac1c0002row6_col3\" class=\"data row6 col3\" >2301956.790944</td>\n",
              "            </tr>\n",
              "    </tbody></table>"
            ],
            "text/plain": [
              "<pandas.io.formats.style.Styler at 0x7f7f8e04b828>"
            ]
          },
          "metadata": {
            "tags": []
          },
          "execution_count": 115
        }
      ]
    },
    {
      "cell_type": "code",
      "metadata": {
        "id": "sXhD6I6lPcsA",
        "colab_type": "code",
        "outputId": "099b8c0a-6aa5-4ce0-f8a0-41c576c945b9",
        "colab": {
          "base_uri": "https://localhost:8080/",
          "height": 440
        }
      },
      "source": [
        "active_plot = model.plot(forecast)"
      ],
      "execution_count": 0,
      "outputs": [
        {
          "output_type": "display_data",
          "data": {
            "image/png": "[encoded data removed]",
            "text/plain": [
              "<Figure size 720x432 with 1 Axes>"
            ]
          },
          "metadata": {
            "tags": []
          }
        }
      ]
    },
    {
      "cell_type": "code",
      "metadata": {
        "id": "Z2Y2spBjQM6q",
        "colab_type": "code",
        "outputId": "e9e1c61b-5742-4eb7-e667-93693479849f",
        "colab": {
          "base_uri": "https://localhost:8080/",
          "height": 440
        }
      },
      "source": [
        "active_plot_weekly = model.plot_components(forecast)"
      ],
      "execution_count": 0,
      "outputs": [
        {
          "output_type": "display_data",
          "data": {
            "image/png": "[encoded data removed]",
            "text/plain": [
              "<Figure size 648x432 with 2 Axes>"
            ]
          },
          "metadata": {
            "tags": []
          }
        }
      ]
    },
    {
      "cell_type": "code",
      "metadata": {
        "id": "xo0AIOBcQX7L",
        "colab_type": "code",
        "outputId": "3b664171-21a7-48d3-e68d-1487fb28ac2f",
        "colab": {
          "base_uri": "https://localhost:8080/",
          "height": 126
        }
      },
      "source": [
        "confirmed.head().style.background_gradient(cmap='Reds')\n",
        "confirmed.rename(columns={'Date':'ds','Confirmed':'y'},inplace=True)\n",
        "confirmed.head().style.background_gradient(cmap='Reds')\n"
      ],
      "execution_count": 0,
      "outputs": [
        {
          "output_type": "execute_result",
          "data": {
            "text/html": [
              "<style  type=\"text/css\" >\n",
              "    #T_072f5310_891e_11ea_8465_0242ac1c0002row0_col1 {\n",
              "            background-color:  #fff5f0;\n",
              "            color:  #000000;\n",
              "        }    #T_072f5310_891e_11ea_8465_0242ac1c0002row1_col1 {\n",
              "            background-color:  #feeae1;\n",
              "            color:  #000000;\n",
              "        }    #T_072f5310_891e_11ea_8465_0242ac1c0002row2_col1 {\n",
              "            background-color:  #fcbca2;\n",
              "            color:  #000000;\n",
              "        }    #T_072f5310_891e_11ea_8465_0242ac1c0002row3_col1 {\n",
              "            background-color:  #f5533b;\n",
              "            color:  #000000;\n",
              "        }    #T_072f5310_891e_11ea_8465_0242ac1c0002row4_col1 {\n",
              "            background-color:  #67000d;\n",
              "            color:  #f1f1f1;\n",
              "        }</style><table id=\"T_072f5310_891e_11ea_8465_0242ac1c0002\" ><thead>    <tr>        <th class=\"blank level0\" ></th>        <th class=\"col_heading level0 col0\" >ds</th>        <th class=\"col_heading level0 col1\" >y</th>    </tr></thead><tbody>\n",
              "                <tr>\n",
              "                        <th id=\"T_072f5310_891e_11ea_8465_0242ac1c0002level0_row0\" class=\"row_heading level0 row0\" >0</th>\n",
              "                        <td id=\"T_072f5310_891e_11ea_8465_0242ac1c0002row0_col0\" class=\"data row0 col0\" >2020-01-22 00:00:00</td>\n",
              "                        <td id=\"T_072f5310_891e_11ea_8465_0242ac1c0002row0_col1\" class=\"data row0 col1\" >555</td>\n",
              "            </tr>\n",
              "            <tr>\n",
              "                        <th id=\"T_072f5310_891e_11ea_8465_0242ac1c0002level0_row1\" class=\"row_heading level0 row1\" >1</th>\n",
              "                        <td id=\"T_072f5310_891e_11ea_8465_0242ac1c0002row1_col0\" class=\"data row1 col0\" >2020-01-23 00:00:00</td>\n",
              "                        <td id=\"T_072f5310_891e_11ea_8465_0242ac1c0002row1_col1\" class=\"data row1 col1\" >654</td>\n",
              "            </tr>\n",
              "            <tr>\n",
              "                        <th id=\"T_072f5310_891e_11ea_8465_0242ac1c0002level0_row2\" class=\"row_heading level0 row2\" >2</th>\n",
              "                        <td id=\"T_072f5310_891e_11ea_8465_0242ac1c0002row2_col0\" class=\"data row2 col0\" >2020-01-24 00:00:00</td>\n",
              "                        <td id=\"T_072f5310_891e_11ea_8465_0242ac1c0002row2_col1\" class=\"data row2 col1\" >941</td>\n",
              "            </tr>\n",
              "            <tr>\n",
              "                        <th id=\"T_072f5310_891e_11ea_8465_0242ac1c0002level0_row3\" class=\"row_heading level0 row3\" >3</th>\n",
              "                        <td id=\"T_072f5310_891e_11ea_8465_0242ac1c0002row3_col0\" class=\"data row3 col0\" >2020-01-25 00:00:00</td>\n",
              "                        <td id=\"T_072f5310_891e_11ea_8465_0242ac1c0002row3_col1\" class=\"data row3 col1\" >1434</td>\n",
              "            </tr>\n",
              "            <tr>\n",
              "                        <th id=\"T_072f5310_891e_11ea_8465_0242ac1c0002level0_row4\" class=\"row_heading level0 row4\" >4</th>\n",
              "                        <td id=\"T_072f5310_891e_11ea_8465_0242ac1c0002row4_col0\" class=\"data row4 col0\" >2020-01-26 00:00:00</td>\n",
              "                        <td id=\"T_072f5310_891e_11ea_8465_0242ac1c0002row4_col1\" class=\"data row4 col1\" >2118</td>\n",
              "            </tr>\n",
              "    </tbody></table>"
            ],
            "text/plain": [
              "<pandas.io.formats.style.Styler at 0x7f7f8db56fd0>"
            ]
          },
          "metadata": {
            "tags": []
          },
          "execution_count": 118
        }
      ]
    },
    {
      "cell_type": "code",
      "metadata": {
        "id": "XIirE1TWRaJD",
        "colab_type": "code",
        "outputId": "cd2e4c67-0602-4122-fb08-06b67102957e",
        "colab": {
          "base_uri": "https://localhost:8080/",
          "height": 224
        }
      },
      "source": [
        "model = Prophet(interval_width=0.95) ## Confidence Level\n",
        "model.fit(confirmed)\n",
        "forecast = model.predict(future)\n",
        "future = model.make_future_dataframe(periods=7)\n",
        "future.tail()"
      ],
      "execution_count": 0,
      "outputs": [
        {
          "output_type": "stream",
          "text": [
            "INFO:fbprophet:Disabling yearly seasonality. Run prophet with yearly_seasonality=True to override this.\n",
            "INFO:fbprophet:Disabling daily seasonality. Run prophet with daily_seasonality=True to override this.\n"
          ],
          "name": "stderr"
        },
        {
          "output_type": "execute_result",
          "data": {
            "text/html": [
              "<div>\n",
              "<style scoped>\n",
              "    .dataframe tbody tr th:only-of-type {\n",
              "        vertical-align: middle;\n",
              "    }\n",
              "\n",
              "    .dataframe tbody tr th {\n",
              "        vertical-align: top;\n",
              "    }\n",
              "\n",
              "    .dataframe thead th {\n",
              "        text-align: right;\n",
              "    }\n",
              "</style>\n",
              "<table border=\"1\" class=\"dataframe\">\n",
              "  <thead>\n",
              "    <tr style=\"text-align: right;\">\n",
              "      <th></th>\n",
              "      <th>ds</th>\n",
              "    </tr>\n",
              "  </thead>\n",
              "  <tbody>\n",
              "    <tr>\n",
              "      <th>97</th>\n",
              "      <td>2020-04-28</td>\n",
              "    </tr>\n",
              "    <tr>\n",
              "      <th>98</th>\n",
              "      <td>2020-04-29</td>\n",
              "    </tr>\n",
              "    <tr>\n",
              "      <th>99</th>\n",
              "      <td>2020-04-30</td>\n",
              "    </tr>\n",
              "    <tr>\n",
              "      <th>100</th>\n",
              "      <td>2020-05-01</td>\n",
              "    </tr>\n",
              "    <tr>\n",
              "      <th>101</th>\n",
              "      <td>2020-05-02</td>\n",
              "    </tr>\n",
              "  </tbody>\n",
              "</table>\n",
              "</div>"
            ],
            "text/plain": [
              "            ds\n",
              "97  2020-04-28\n",
              "98  2020-04-29\n",
              "99  2020-04-30\n",
              "100 2020-05-01\n",
              "101 2020-05-02"
            ]
          },
          "metadata": {
            "tags": []
          },
          "execution_count": 119
        }
      ]
    },
    {
      "cell_type": "code",
      "metadata": {
        "id": "aXTBMnOQSHu_",
        "colab_type": "code",
        "outputId": "af29a6e2-32af-4489-be3d-fc03a5f1364f",
        "colab": {
          "base_uri": "https://localhost:8080/",
          "height": 162
        }
      },
      "source": [
        "forecast.tail(7).style.background_gradient(cmap='Reds')\n",
        "forecast[['ds','yhat','yhat_lower','yhat_upper']].tail(7).style.background_gradient(cmap='Reds')"
      ],
      "execution_count": 0,
      "outputs": [
        {
          "output_type": "execute_result",
          "data": {
            "text/html": [
              "<style  type=\"text/css\" >\n",
              "    #T_09098ea8_891e_11ea_8465_0242ac1c0002row0_col1 {\n",
              "            background-color:  #fff5f0;\n",
              "            color:  #000000;\n",
              "        }    #T_09098ea8_891e_11ea_8465_0242ac1c0002row0_col2 {\n",
              "            background-color:  #fff5f0;\n",
              "            color:  #000000;\n",
              "        }    #T_09098ea8_891e_11ea_8465_0242ac1c0002row0_col3 {\n",
              "            background-color:  #fff5f0;\n",
              "            color:  #000000;\n",
              "        }    #T_09098ea8_891e_11ea_8465_0242ac1c0002row1_col1 {\n",
              "            background-color:  #fdd7c6;\n",
              "            color:  #000000;\n",
              "        }    #T_09098ea8_891e_11ea_8465_0242ac1c0002row1_col2 {\n",
              "            background-color:  #fdd2bf;\n",
              "            color:  #000000;\n",
              "        }    #T_09098ea8_891e_11ea_8465_0242ac1c0002row1_col3 {\n",
              "            background-color:  #fed9c9;\n",
              "            color:  #000000;\n",
              "        }    #T_09098ea8_891e_11ea_8465_0242ac1c0002row2_col1 {\n",
              "            background-color:  #fca486;\n",
              "            color:  #000000;\n",
              "        }    #T_09098ea8_891e_11ea_8465_0242ac1c0002row2_col2 {\n",
              "            background-color:  #fca183;\n",
              "            color:  #000000;\n",
              "        }    #T_09098ea8_891e_11ea_8465_0242ac1c0002row2_col3 {\n",
              "            background-color:  #fca98c;\n",
              "            color:  #000000;\n",
              "        }    #T_09098ea8_891e_11ea_8465_0242ac1c0002row3_col1 {\n",
              "            background-color:  #fb6e4e;\n",
              "            color:  #000000;\n",
              "        }    #T_09098ea8_891e_11ea_8465_0242ac1c0002row3_col2 {\n",
              "            background-color:  #fb6b4b;\n",
              "            color:  #000000;\n",
              "        }    #T_09098ea8_891e_11ea_8465_0242ac1c0002row3_col3 {\n",
              "            background-color:  #fb7353;\n",
              "            color:  #000000;\n",
              "        }    #T_09098ea8_891e_11ea_8465_0242ac1c0002row4_col1 {\n",
              "            background-color:  #e53228;\n",
              "            color:  #f1f1f1;\n",
              "        }    #T_09098ea8_891e_11ea_8465_0242ac1c0002row4_col2 {\n",
              "            background-color:  #e22e27;\n",
              "            color:  #f1f1f1;\n",
              "        }    #T_09098ea8_891e_11ea_8465_0242ac1c0002row4_col3 {\n",
              "            background-color:  #e63328;\n",
              "            color:  #f1f1f1;\n",
              "        }    #T_09098ea8_891e_11ea_8465_0242ac1c0002row5_col1 {\n",
              "            background-color:  #b11218;\n",
              "            color:  #f1f1f1;\n",
              "        }    #T_09098ea8_891e_11ea_8465_0242ac1c0002row5_col2 {\n",
              "            background-color:  #af1117;\n",
              "            color:  #f1f1f1;\n",
              "        }    #T_09098ea8_891e_11ea_8465_0242ac1c0002row5_col3 {\n",
              "            background-color:  #b11218;\n",
              "            color:  #f1f1f1;\n",
              "        }    #T_09098ea8_891e_11ea_8465_0242ac1c0002row6_col1 {\n",
              "            background-color:  #67000d;\n",
              "            color:  #f1f1f1;\n",
              "        }    #T_09098ea8_891e_11ea_8465_0242ac1c0002row6_col2 {\n",
              "            background-color:  #67000d;\n",
              "            color:  #f1f1f1;\n",
              "        }    #T_09098ea8_891e_11ea_8465_0242ac1c0002row6_col3 {\n",
              "            background-color:  #67000d;\n",
              "            color:  #f1f1f1;\n",
              "        }</style><table id=\"T_09098ea8_891e_11ea_8465_0242ac1c0002\" ><thead>    <tr>        <th class=\"blank level0\" ></th>        <th class=\"col_heading level0 col0\" >ds</th>        <th class=\"col_heading level0 col1\" >yhat</th>        <th class=\"col_heading level0 col2\" >yhat_lower</th>        <th class=\"col_heading level0 col3\" >yhat_upper</th>    </tr></thead><tbody>\n",
              "                <tr>\n",
              "                        <th id=\"T_09098ea8_891e_11ea_8465_0242ac1c0002level0_row0\" class=\"row_heading level0 row0\" >95</th>\n",
              "                        <td id=\"T_09098ea8_891e_11ea_8465_0242ac1c0002row0_col0\" class=\"data row0 col0\" >2020-04-26 00:00:00</td>\n",
              "                        <td id=\"T_09098ea8_891e_11ea_8465_0242ac1c0002row0_col1\" class=\"data row0 col1\" >2970003.829891</td>\n",
              "                        <td id=\"T_09098ea8_891e_11ea_8465_0242ac1c0002row0_col2\" class=\"data row0 col2\" >2961191.226306</td>\n",
              "                        <td id=\"T_09098ea8_891e_11ea_8465_0242ac1c0002row0_col3\" class=\"data row0 col3\" >2977374.790539</td>\n",
              "            </tr>\n",
              "            <tr>\n",
              "                        <th id=\"T_09098ea8_891e_11ea_8465_0242ac1c0002level0_row1\" class=\"row_heading level0 row1\" >96</th>\n",
              "                        <td id=\"T_09098ea8_891e_11ea_8465_0242ac1c0002row1_col0\" class=\"data row1 col0\" >2020-04-27 00:00:00</td>\n",
              "                        <td id=\"T_09098ea8_891e_11ea_8465_0242ac1c0002row1_col1\" class=\"data row1 col1\" >3048598.192367</td>\n",
              "                        <td id=\"T_09098ea8_891e_11ea_8465_0242ac1c0002row1_col2\" class=\"data row1 col2\" >3037722.083050</td>\n",
              "                        <td id=\"T_09098ea8_891e_11ea_8465_0242ac1c0002row1_col3\" class=\"data row1 col3\" >3059288.044870</td>\n",
              "            </tr>\n",
              "            <tr>\n",
              "                        <th id=\"T_09098ea8_891e_11ea_8465_0242ac1c0002level0_row2\" class=\"row_heading level0 row2\" >97</th>\n",
              "                        <td id=\"T_09098ea8_891e_11ea_8465_0242ac1c0002row2_col0\" class=\"data row2 col0\" >2020-04-28 00:00:00</td>\n",
              "                        <td id=\"T_09098ea8_891e_11ea_8465_0242ac1c0002row2_col1\" class=\"data row2 col1\" >3128318.483149</td>\n",
              "                        <td id=\"T_09098ea8_891e_11ea_8465_0242ac1c0002row2_col2\" class=\"data row2 col2\" >3106474.536221</td>\n",
              "                        <td id=\"T_09098ea8_891e_11ea_8465_0242ac1c0002row2_col3\" class=\"data row2 col3\" >3146599.910427</td>\n",
              "            </tr>\n",
              "            <tr>\n",
              "                        <th id=\"T_09098ea8_891e_11ea_8465_0242ac1c0002level0_row3\" class=\"row_heading level0 row3\" >98</th>\n",
              "                        <td id=\"T_09098ea8_891e_11ea_8465_0242ac1c0002row3_col0\" class=\"data row3 col0\" >2020-04-29 00:00:00</td>\n",
              "                        <td id=\"T_09098ea8_891e_11ea_8465_0242ac1c0002row3_col1\" class=\"data row3 col1\" >3209814.751592</td>\n",
              "                        <td id=\"T_09098ea8_891e_11ea_8465_0242ac1c0002row3_col2\" class=\"data row3 col2\" >3180302.627783</td>\n",
              "                        <td id=\"T_09098ea8_891e_11ea_8465_0242ac1c0002row3_col3\" class=\"data row3 col3\" >3236203.637961</td>\n",
              "            </tr>\n",
              "            <tr>\n",
              "                        <th id=\"T_09098ea8_891e_11ea_8465_0242ac1c0002level0_row4\" class=\"row_heading level0 row4\" >99</th>\n",
              "                        <td id=\"T_09098ea8_891e_11ea_8465_0242ac1c0002row4_col0\" class=\"data row4 col0\" >2020-04-30 00:00:00</td>\n",
              "                        <td id=\"T_09098ea8_891e_11ea_8465_0242ac1c0002row4_col1\" class=\"data row4 col1\" >3294670.457956</td>\n",
              "                        <td id=\"T_09098ea8_891e_11ea_8465_0242ac1c0002row4_col2\" class=\"data row4 col2\" >3257185.435638</td>\n",
              "                        <td id=\"T_09098ea8_891e_11ea_8465_0242ac1c0002row4_col3\" class=\"data row4 col3\" >3336882.551685</td>\n",
              "            </tr>\n",
              "            <tr>\n",
              "                        <th id=\"T_09098ea8_891e_11ea_8465_0242ac1c0002level0_row5\" class=\"row_heading level0 row5\" >100</th>\n",
              "                        <td id=\"T_09098ea8_891e_11ea_8465_0242ac1c0002row5_col0\" class=\"data row5 col0\" >2020-05-01 00:00:00</td>\n",
              "                        <td id=\"T_09098ea8_891e_11ea_8465_0242ac1c0002row5_col1\" class=\"data row5 col1\" >3380859.978700</td>\n",
              "                        <td id=\"T_09098ea8_891e_11ea_8465_0242ac1c0002row5_col2\" class=\"data row5 col2\" >3333530.038900</td>\n",
              "                        <td id=\"T_09098ea8_891e_11ea_8465_0242ac1c0002row5_col3\" class=\"data row5 col3\" >3437003.334936</td>\n",
              "            </tr>\n",
              "            <tr>\n",
              "                        <th id=\"T_09098ea8_891e_11ea_8465_0242ac1c0002level0_row6\" class=\"row_heading level0 row6\" >101</th>\n",
              "                        <td id=\"T_09098ea8_891e_11ea_8465_0242ac1c0002row6_col0\" class=\"data row6 col0\" >2020-05-02 00:00:00</td>\n",
              "                        <td id=\"T_09098ea8_891e_11ea_8465_0242ac1c0002row6_col1\" class=\"data row6 col1\" >3463293.043907</td>\n",
              "                        <td id=\"T_09098ea8_891e_11ea_8465_0242ac1c0002row6_col2\" class=\"data row6 col2\" >3402693.095095</td>\n",
              "                        <td id=\"T_09098ea8_891e_11ea_8465_0242ac1c0002row6_col3\" class=\"data row6 col3\" >3528051.210304</td>\n",
              "            </tr>\n",
              "    </tbody></table>"
            ],
            "text/plain": [
              "<pandas.io.formats.style.Styler at 0x7f7f8ded3f98>"
            ]
          },
          "metadata": {
            "tags": []
          },
          "execution_count": 120
        }
      ]
    },
    {
      "cell_type": "code",
      "metadata": {
        "id": "Kq-l6GkHSRXs",
        "colab_type": "code",
        "outputId": "82240da5-304f-412f-cca9-944c67ef0e25",
        "colab": {
          "base_uri": "https://localhost:8080/",
          "height": 865
        }
      },
      "source": [
        "confirmed_plot = model.plot(forecast)\n",
        "confirmed_plot_weekly = model.plot_components(forecast)"
      ],
      "execution_count": 0,
      "outputs": [
        {
          "output_type": "display_data",
          "data": {
            "image/png": "[encoded data removed]",
            "text/plain": [
              "<Figure size 720x432 with 1 Axes>"
            ]
          },
          "metadata": {
            "tags": []
          }
        },
        {
          "output_type": "display_data",
          "data": {
            "image/png": "[encoded data removed]",
            "text/plain": [
              "<Figure size 648x432 with 2 Axes>"
            ]
          },
          "metadata": {
            "tags": []
          }
        }
      ]
    },
    {
      "cell_type": "code",
      "metadata": {
        "id": "NdvuQrYfSSEr",
        "colab_type": "code",
        "outputId": "2a611958-92cf-44a7-add8-0ac342107376",
        "colab": {
          "base_uri": "https://localhost:8080/",
          "height": 190
        }
      },
      "source": [
        "df_india = df[df['Country']=='India']\n",
        "df_india.head()"
      ],
      "execution_count": 0,
      "outputs": [
        {
          "output_type": "execute_result",
          "data": {
            "text/html": [
              "<div>\n",
              "<style scoped>\n",
              "    .dataframe tbody tr th:only-of-type {\n",
              "        vertical-align: middle;\n",
              "    }\n",
              "\n",
              "    .dataframe tbody tr th {\n",
              "        vertical-align: top;\n",
              "    }\n",
              "\n",
              "    .dataframe thead th {\n",
              "        text-align: right;\n",
              "    }\n",
              "</style>\n",
              "<table border=\"1\" class=\"dataframe\">\n",
              "  <thead>\n",
              "    <tr style=\"text-align: right;\">\n",
              "      <th></th>\n",
              "      <th>Country</th>\n",
              "      <th>Lat</th>\n",
              "      <th>Long</th>\n",
              "      <th>Date</th>\n",
              "      <th>Confirmed</th>\n",
              "      <th>Deaths</th>\n",
              "      <th>Recovered</th>\n",
              "      <th>Active</th>\n",
              "    </tr>\n",
              "  </thead>\n",
              "  <tbody>\n",
              "    <tr>\n",
              "      <th>131</th>\n",
              "      <td>India</td>\n",
              "      <td>21.0</td>\n",
              "      <td>78.0</td>\n",
              "      <td>2020-01-22</td>\n",
              "      <td>0</td>\n",
              "      <td>0</td>\n",
              "      <td>0</td>\n",
              "      <td>0</td>\n",
              "    </tr>\n",
              "    <tr>\n",
              "      <th>393</th>\n",
              "      <td>India</td>\n",
              "      <td>21.0</td>\n",
              "      <td>78.0</td>\n",
              "      <td>2020-01-23</td>\n",
              "      <td>0</td>\n",
              "      <td>0</td>\n",
              "      <td>0</td>\n",
              "      <td>0</td>\n",
              "    </tr>\n",
              "    <tr>\n",
              "      <th>655</th>\n",
              "      <td>India</td>\n",
              "      <td>21.0</td>\n",
              "      <td>78.0</td>\n",
              "      <td>2020-01-24</td>\n",
              "      <td>0</td>\n",
              "      <td>0</td>\n",
              "      <td>0</td>\n",
              "      <td>0</td>\n",
              "    </tr>\n",
              "    <tr>\n",
              "      <th>917</th>\n",
              "      <td>India</td>\n",
              "      <td>21.0</td>\n",
              "      <td>78.0</td>\n",
              "      <td>2020-01-25</td>\n",
              "      <td>0</td>\n",
              "      <td>0</td>\n",
              "      <td>0</td>\n",
              "      <td>0</td>\n",
              "    </tr>\n",
              "    <tr>\n",
              "      <th>1179</th>\n",
              "      <td>India</td>\n",
              "      <td>21.0</td>\n",
              "      <td>78.0</td>\n",
              "      <td>2020-01-26</td>\n",
              "      <td>0</td>\n",
              "      <td>0</td>\n",
              "      <td>0</td>\n",
              "      <td>0</td>\n",
              "    </tr>\n",
              "  </tbody>\n",
              "</table>\n",
              "</div>"
            ],
            "text/plain": [
              "     Country   Lat  Long       Date  Confirmed  Deaths  Recovered  Active\n",
              "131    India  21.0  78.0 2020-01-22          0       0          0       0\n",
              "393    India  21.0  78.0 2020-01-23          0       0          0       0\n",
              "655    India  21.0  78.0 2020-01-24          0       0          0       0\n",
              "917    India  21.0  78.0 2020-01-25          0       0          0       0\n",
              "1179   India  21.0  78.0 2020-01-26          0       0          0       0"
            ]
          },
          "metadata": {
            "tags": []
          },
          "execution_count": 122
        }
      ]
    },
    {
      "cell_type": "code",
      "metadata": {
        "id": "kFZjAcjiStua",
        "colab_type": "code",
        "colab": {}
      },
      "source": [
        "active  = df_india.groupby('Date')['Active'].sum().reset_index()\n",
        "confirmed  = df_india.groupby('Date')['Confirmed'].sum().reset_index()"
      ],
      "execution_count": 0,
      "outputs": []
    },
    {
      "cell_type": "code",
      "metadata": {
        "id": "iH4utQrPSvzw",
        "colab_type": "code",
        "outputId": "f6e981b4-e50a-4c80-ab7b-d9cc2157c495",
        "colab": {
          "base_uri": "https://localhost:8080/",
          "height": 190
        }
      },
      "source": [
        "confirmed.rename(columns={'Date':\"ds\",\"Confirmed\":\"y\"},inplace=True)\n",
        "confirmed.head()"
      ],
      "execution_count": 0,
      "outputs": [
        {
          "output_type": "execute_result",
          "data": {
            "text/html": [
              "<div>\n",
              "<style scoped>\n",
              "    .dataframe tbody tr th:only-of-type {\n",
              "        vertical-align: middle;\n",
              "    }\n",
              "\n",
              "    .dataframe tbody tr th {\n",
              "        vertical-align: top;\n",
              "    }\n",
              "\n",
              "    .dataframe thead th {\n",
              "        text-align: right;\n",
              "    }\n",
              "</style>\n",
              "<table border=\"1\" class=\"dataframe\">\n",
              "  <thead>\n",
              "    <tr style=\"text-align: right;\">\n",
              "      <th></th>\n",
              "      <th>ds</th>\n",
              "      <th>y</th>\n",
              "    </tr>\n",
              "  </thead>\n",
              "  <tbody>\n",
              "    <tr>\n",
              "      <th>0</th>\n",
              "      <td>2020-01-22</td>\n",
              "      <td>0</td>\n",
              "    </tr>\n",
              "    <tr>\n",
              "      <th>1</th>\n",
              "      <td>2020-01-23</td>\n",
              "      <td>0</td>\n",
              "    </tr>\n",
              "    <tr>\n",
              "      <th>2</th>\n",
              "      <td>2020-01-24</td>\n",
              "      <td>0</td>\n",
              "    </tr>\n",
              "    <tr>\n",
              "      <th>3</th>\n",
              "      <td>2020-01-25</td>\n",
              "      <td>0</td>\n",
              "    </tr>\n",
              "    <tr>\n",
              "      <th>4</th>\n",
              "      <td>2020-01-26</td>\n",
              "      <td>0</td>\n",
              "    </tr>\n",
              "  </tbody>\n",
              "</table>\n",
              "</div>"
            ],
            "text/plain": [
              "          ds  y\n",
              "0 2020-01-22  0\n",
              "1 2020-01-23  0\n",
              "2 2020-01-24  0\n",
              "3 2020-01-25  0\n",
              "4 2020-01-26  0"
            ]
          },
          "metadata": {
            "tags": []
          },
          "execution_count": 124
        }
      ]
    },
    {
      "cell_type": "code",
      "metadata": {
        "id": "MUJ7GN5VSx15",
        "colab_type": "code",
        "outputId": "90af94e0-a416-4b1a-866c-880e68ffeb1a",
        "colab": {
          "base_uri": "https://localhost:8080/",
          "height": 67
        }
      },
      "source": [
        "#### Building the Model\n",
        "model = Prophet(interval_width=0.95)  ## Confidence Level\n",
        "model.fit(confirmed)"
      ],
      "execution_count": 0,
      "outputs": [
        {
          "output_type": "stream",
          "text": [
            "INFO:fbprophet:Disabling yearly seasonality. Run prophet with yearly_seasonality=True to override this.\n",
            "INFO:fbprophet:Disabling daily seasonality. Run prophet with daily_seasonality=True to override this.\n"
          ],
          "name": "stderr"
        },
        {
          "output_type": "execute_result",
          "data": {
            "text/plain": [
              "<fbprophet.forecaster.Prophet at 0x7f7f8e5df208>"
            ]
          },
          "metadata": {
            "tags": []
          },
          "execution_count": 125
        }
      ]
    },
    {
      "cell_type": "code",
      "metadata": {
        "id": "3Q9PdP38Szl0",
        "colab_type": "code",
        "outputId": "6440edb1-344b-4a4a-b143-dc8e5be82335",
        "colab": {
          "base_uri": "https://localhost:8080/",
          "height": 334
        }
      },
      "source": [
        "future = model.make_future_dataframe(periods = 7)\n",
        "future.tail(10)"
      ],
      "execution_count": 0,
      "outputs": [
        {
          "output_type": "execute_result",
          "data": {
            "text/html": [
              "<div>\n",
              "<style scoped>\n",
              "    .dataframe tbody tr th:only-of-type {\n",
              "        vertical-align: middle;\n",
              "    }\n",
              "\n",
              "    .dataframe tbody tr th {\n",
              "        vertical-align: top;\n",
              "    }\n",
              "\n",
              "    .dataframe thead th {\n",
              "        text-align: right;\n",
              "    }\n",
              "</style>\n",
              "<table border=\"1\" class=\"dataframe\">\n",
              "  <thead>\n",
              "    <tr style=\"text-align: right;\">\n",
              "      <th></th>\n",
              "      <th>ds</th>\n",
              "    </tr>\n",
              "  </thead>\n",
              "  <tbody>\n",
              "    <tr>\n",
              "      <th>92</th>\n",
              "      <td>2020-04-23</td>\n",
              "    </tr>\n",
              "    <tr>\n",
              "      <th>93</th>\n",
              "      <td>2020-04-24</td>\n",
              "    </tr>\n",
              "    <tr>\n",
              "      <th>94</th>\n",
              "      <td>2020-04-25</td>\n",
              "    </tr>\n",
              "    <tr>\n",
              "      <th>95</th>\n",
              "      <td>2020-04-26</td>\n",
              "    </tr>\n",
              "    <tr>\n",
              "      <th>96</th>\n",
              "      <td>2020-04-27</td>\n",
              "    </tr>\n",
              "    <tr>\n",
              "      <th>97</th>\n",
              "      <td>2020-04-28</td>\n",
              "    </tr>\n",
              "    <tr>\n",
              "      <th>98</th>\n",
              "      <td>2020-04-29</td>\n",
              "    </tr>\n",
              "    <tr>\n",
              "      <th>99</th>\n",
              "      <td>2020-04-30</td>\n",
              "    </tr>\n",
              "    <tr>\n",
              "      <th>100</th>\n",
              "      <td>2020-05-01</td>\n",
              "    </tr>\n",
              "    <tr>\n",
              "      <th>101</th>\n",
              "      <td>2020-05-02</td>\n",
              "    </tr>\n",
              "  </tbody>\n",
              "</table>\n",
              "</div>"
            ],
            "text/plain": [
              "            ds\n",
              "92  2020-04-23\n",
              "93  2020-04-24\n",
              "94  2020-04-25\n",
              "95  2020-04-26\n",
              "96  2020-04-27\n",
              "97  2020-04-28\n",
              "98  2020-04-29\n",
              "99  2020-04-30\n",
              "100 2020-05-01\n",
              "101 2020-05-02"
            ]
          },
          "metadata": {
            "tags": []
          },
          "execution_count": 126
        }
      ]
    },
    {
      "cell_type": "code",
      "metadata": {
        "id": "_OeXcqYBS1A6",
        "colab_type": "code",
        "colab": {}
      },
      "source": [
        "forecast = model.predict(future)"
      ],
      "execution_count": 0,
      "outputs": []
    },
    {
      "cell_type": "code",
      "metadata": {
        "id": "FJ84qGQsS2xc",
        "colab_type": "code",
        "outputId": "d41912ee-4acc-4f01-b4ee-c8362a3a88b1",
        "colab": {
          "base_uri": "https://localhost:8080/",
          "height": 440
        }
      },
      "source": [
        "india_plot = model.plot(forecast)"
      ],
      "execution_count": 0,
      "outputs": [
        {
          "output_type": "display_data",
          "data": {
            "image/png": "[encoded data removed]",
            "text/plain": [
              "<Figure size 720x432 with 1 Axes>"
            ]
          },
          "metadata": {
            "tags": []
          }
        }
      ]
    },
    {
      "cell_type": "code",
      "metadata": {
        "id": "XloGoSE1S49p",
        "colab_type": "code",
        "outputId": "f80742e0-fa30-4360-c6ac-8755fefd56d4",
        "colab": {
          "base_uri": "https://localhost:8080/",
          "height": 162
        }
      },
      "source": [
        "forecast[['ds','yhat','yhat_lower','yhat_upper']].tail(7).style.background_gradient(cmap='Reds')\n",
        "#yhat - predicted/forecasted value\n",
        "#yhat_lower = lower value of prediction\n",
        "#yhat_upper = upper value of prediction "
      ],
      "execution_count": 0,
      "outputs": [
        {
          "output_type": "execute_result",
          "data": {
            "text/html": [
              "<style  type=\"text/css\" >\n",
              "    #T_0bc74b80_891e_11ea_8465_0242ac1c0002row0_col1 {\n",
              "            background-color:  #fff5f0;\n",
              "            color:  #000000;\n",
              "        }    #T_0bc74b80_891e_11ea_8465_0242ac1c0002row0_col2 {\n",
              "            background-color:  #fff5f0;\n",
              "            color:  #000000;\n",
              "        }    #T_0bc74b80_891e_11ea_8465_0242ac1c0002row0_col3 {\n",
              "            background-color:  #fff5f0;\n",
              "            color:  #000000;\n",
              "        }    #T_0bc74b80_891e_11ea_8465_0242ac1c0002row1_col1 {\n",
              "            background-color:  #fdd2bf;\n",
              "            color:  #000000;\n",
              "        }    #T_0bc74b80_891e_11ea_8465_0242ac1c0002row1_col2 {\n",
              "            background-color:  #fdd2bf;\n",
              "            color:  #000000;\n",
              "        }    #T_0bc74b80_891e_11ea_8465_0242ac1c0002row1_col3 {\n",
              "            background-color:  #fdd4c2;\n",
              "            color:  #000000;\n",
              "        }    #T_0bc74b80_891e_11ea_8465_0242ac1c0002row2_col1 {\n",
              "            background-color:  #fca082;\n",
              "            color:  #000000;\n",
              "        }    #T_0bc74b80_891e_11ea_8465_0242ac1c0002row2_col2 {\n",
              "            background-color:  #fc9e80;\n",
              "            color:  #000000;\n",
              "        }    #T_0bc74b80_891e_11ea_8465_0242ac1c0002row2_col3 {\n",
              "            background-color:  #fca588;\n",
              "            color:  #000000;\n",
              "        }    #T_0bc74b80_891e_11ea_8465_0242ac1c0002row3_col1 {\n",
              "            background-color:  #fb6c4c;\n",
              "            color:  #000000;\n",
              "        }    #T_0bc74b80_891e_11ea_8465_0242ac1c0002row3_col2 {\n",
              "            background-color:  #fb6b4b;\n",
              "            color:  #000000;\n",
              "        }    #T_0bc74b80_891e_11ea_8465_0242ac1c0002row3_col3 {\n",
              "            background-color:  #fb6e4e;\n",
              "            color:  #000000;\n",
              "        }    #T_0bc74b80_891e_11ea_8465_0242ac1c0002row4_col1 {\n",
              "            background-color:  #e32f27;\n",
              "            color:  #f1f1f1;\n",
              "        }    #T_0bc74b80_891e_11ea_8465_0242ac1c0002row4_col2 {\n",
              "            background-color:  #e12d26;\n",
              "            color:  #f1f1f1;\n",
              "        }    #T_0bc74b80_891e_11ea_8465_0242ac1c0002row4_col3 {\n",
              "            background-color:  #e63328;\n",
              "            color:  #f1f1f1;\n",
              "        }    #T_0bc74b80_891e_11ea_8465_0242ac1c0002row5_col1 {\n",
              "            background-color:  #b31218;\n",
              "            color:  #f1f1f1;\n",
              "        }    #T_0bc74b80_891e_11ea_8465_0242ac1c0002row5_col2 {\n",
              "            background-color:  #af1117;\n",
              "            color:  #f1f1f1;\n",
              "        }    #T_0bc74b80_891e_11ea_8465_0242ac1c0002row5_col3 {\n",
              "            background-color:  #b51318;\n",
              "            color:  #f1f1f1;\n",
              "        }    #T_0bc74b80_891e_11ea_8465_0242ac1c0002row6_col1 {\n",
              "            background-color:  #67000d;\n",
              "            color:  #f1f1f1;\n",
              "        }    #T_0bc74b80_891e_11ea_8465_0242ac1c0002row6_col2 {\n",
              "            background-color:  #67000d;\n",
              "            color:  #f1f1f1;\n",
              "        }    #T_0bc74b80_891e_11ea_8465_0242ac1c0002row6_col3 {\n",
              "            background-color:  #67000d;\n",
              "            color:  #f1f1f1;\n",
              "        }</style><table id=\"T_0bc74b80_891e_11ea_8465_0242ac1c0002\" ><thead>    <tr>        <th class=\"blank level0\" ></th>        <th class=\"col_heading level0 col0\" >ds</th>        <th class=\"col_heading level0 col1\" >yhat</th>        <th class=\"col_heading level0 col2\" >yhat_lower</th>        <th class=\"col_heading level0 col3\" >yhat_upper</th>    </tr></thead><tbody>\n",
              "                <tr>\n",
              "                        <th id=\"T_0bc74b80_891e_11ea_8465_0242ac1c0002level0_row0\" class=\"row_heading level0 row0\" >95</th>\n",
              "                        <td id=\"T_0bc74b80_891e_11ea_8465_0242ac1c0002row0_col0\" class=\"data row0 col0\" >2020-04-26 00:00:00</td>\n",
              "                        <td id=\"T_0bc74b80_891e_11ea_8465_0242ac1c0002row0_col1\" class=\"data row0 col1\" >25446.780999</td>\n",
              "                        <td id=\"T_0bc74b80_891e_11ea_8465_0242ac1c0002row0_col2\" class=\"data row0 col2\" >24706.449826</td>\n",
              "                        <td id=\"T_0bc74b80_891e_11ea_8465_0242ac1c0002row0_col3\" class=\"data row0 col3\" >26278.409381</td>\n",
              "            </tr>\n",
              "            <tr>\n",
              "                        <th id=\"T_0bc74b80_891e_11ea_8465_0242ac1c0002level0_row1\" class=\"row_heading level0 row1\" >96</th>\n",
              "                        <td id=\"T_0bc74b80_891e_11ea_8465_0242ac1c0002row1_col0\" class=\"data row1 col0\" >2020-04-27 00:00:00</td>\n",
              "                        <td id=\"T_0bc74b80_891e_11ea_8465_0242ac1c0002row1_col1\" class=\"data row1 col1\" >26613.354529</td>\n",
              "                        <td id=\"T_0bc74b80_891e_11ea_8465_0242ac1c0002row1_col2\" class=\"data row1 col2\" >25822.422778</td>\n",
              "                        <td id=\"T_0bc74b80_891e_11ea_8465_0242ac1c0002row1_col3\" class=\"data row1 col3\" >27426.857372</td>\n",
              "            </tr>\n",
              "            <tr>\n",
              "                        <th id=\"T_0bc74b80_891e_11ea_8465_0242ac1c0002level0_row2\" class=\"row_heading level0 row2\" >97</th>\n",
              "                        <td id=\"T_0bc74b80_891e_11ea_8465_0242ac1c0002row2_col0\" class=\"data row2 col0\" >2020-04-28 00:00:00</td>\n",
              "                        <td id=\"T_0bc74b80_891e_11ea_8465_0242ac1c0002row2_col1\" class=\"data row2 col1\" >27687.471229</td>\n",
              "                        <td id=\"T_0bc74b80_891e_11ea_8465_0242ac1c0002row2_col2\" class=\"data row2 col2\" >26855.601213</td>\n",
              "                        <td id=\"T_0bc74b80_891e_11ea_8465_0242ac1c0002row2_col3\" class=\"data row2 col3\" >28463.469904</td>\n",
              "            </tr>\n",
              "            <tr>\n",
              "                        <th id=\"T_0bc74b80_891e_11ea_8465_0242ac1c0002level0_row3\" class=\"row_heading level0 row3\" >98</th>\n",
              "                        <td id=\"T_0bc74b80_891e_11ea_8465_0242ac1c0002row3_col0\" class=\"data row3 col0\" >2020-04-29 00:00:00</td>\n",
              "                        <td id=\"T_0bc74b80_891e_11ea_8465_0242ac1c0002row3_col1\" class=\"data row3 col1\" >28779.195152</td>\n",
              "                        <td id=\"T_0bc74b80_891e_11ea_8465_0242ac1c0002row3_col2\" class=\"data row3 col2\" >27891.141524</td>\n",
              "                        <td id=\"T_0bc74b80_891e_11ea_8465_0242ac1c0002row3_col3\" class=\"data row3 col3\" >29622.724722</td>\n",
              "            </tr>\n",
              "            <tr>\n",
              "                        <th id=\"T_0bc74b80_891e_11ea_8465_0242ac1c0002level0_row4\" class=\"row_heading level0 row4\" >99</th>\n",
              "                        <td id=\"T_0bc74b80_891e_11ea_8465_0242ac1c0002row4_col0\" class=\"data row4 col0\" >2020-04-30 00:00:00</td>\n",
              "                        <td id=\"T_0bc74b80_891e_11ea_8465_0242ac1c0002row4_col1\" class=\"data row4 col1\" >29924.199700</td>\n",
              "                        <td id=\"T_0bc74b80_891e_11ea_8465_0242ac1c0002row4_col2\" class=\"data row4 col2\" >29023.549198</td>\n",
              "                        <td id=\"T_0bc74b80_891e_11ea_8465_0242ac1c0002row4_col3\" class=\"data row4 col3\" >30797.739989</td>\n",
              "            </tr>\n",
              "            <tr>\n",
              "                        <th id=\"T_0bc74b80_891e_11ea_8465_0242ac1c0002level0_row5\" class=\"row_heading level0 row5\" >100</th>\n",
              "                        <td id=\"T_0bc74b80_891e_11ea_8465_0242ac1c0002row5_col0\" class=\"data row5 col0\" >2020-05-01 00:00:00</td>\n",
              "                        <td id=\"T_0bc74b80_891e_11ea_8465_0242ac1c0002row5_col1\" class=\"data row5 col1\" >31012.122392</td>\n",
              "                        <td id=\"T_0bc74b80_891e_11ea_8465_0242ac1c0002row5_col2\" class=\"data row5 col2\" >30094.757595</td>\n",
              "                        <td id=\"T_0bc74b80_891e_11ea_8465_0242ac1c0002row5_col3\" class=\"data row5 col3\" >31947.287100</td>\n",
              "            </tr>\n",
              "            <tr>\n",
              "                        <th id=\"T_0bc74b80_891e_11ea_8465_0242ac1c0002level0_row6\" class=\"row_heading level0 row6\" >101</th>\n",
              "                        <td id=\"T_0bc74b80_891e_11ea_8465_0242ac1c0002row6_col0\" class=\"data row6 col0\" >2020-05-02 00:00:00</td>\n",
              "                        <td id=\"T_0bc74b80_891e_11ea_8465_0242ac1c0002row6_col1\" class=\"data row6 col1\" >32183.771867</td>\n",
              "                        <td id=\"T_0bc74b80_891e_11ea_8465_0242ac1c0002row6_col2\" class=\"data row6 col2\" >31101.974518</td>\n",
              "                        <td id=\"T_0bc74b80_891e_11ea_8465_0242ac1c0002row6_col3\" class=\"data row6 col3\" >33167.290497</td>\n",
              "            </tr>\n",
              "    </tbody></table>"
            ],
            "text/plain": [
              "<pandas.io.formats.style.Styler at 0x7f7f95d30390>"
            ]
          },
          "metadata": {
            "tags": []
          },
          "execution_count": 129
        }
      ]
    },
    {
      "cell_type": "code",
      "metadata": {
        "id": "Foyc56vrS7Pc",
        "colab_type": "code",
        "outputId": "d6fbcdd1-c043-49b4-ae7f-cb60b012c2cb",
        "colab": {
          "base_uri": "https://localhost:8080/",
          "height": 440
        }
      },
      "source": [
        "confirmed_plot_weekly_india = model.plot_components(forecast)"
      ],
      "execution_count": 0,
      "outputs": [
        {
          "output_type": "display_data",
          "data": {
            "image/png": "[encoded data removed]",
            "text/plain": [
              "<Figure size 648x432 with 2 Axes>"
            ]
          },
          "metadata": {
            "tags": []
          }
        }
      ]
    },
    {
      "cell_type": "code",
      "metadata": {
        "id": "Imn1_X96VQt1",
        "colab_type": "code",
        "colab": {}
      },
      "source": [
        ""
      ],
      "execution_count": 0,
      "outputs": []
    }
  ]
}