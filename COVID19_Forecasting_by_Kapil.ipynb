{
  "nbformat": 4,
  "nbformat_minor": 0,
  "metadata": {
    "colab": {
      "name": "COVID19 Forecasting by Kapil.ipynb",
      "provenance": [],
      "authorship_tag": "ABX9TyMNs6AmgKNBWskpesv5i6S4",
      "include_colab_link": true
    },
    "kernelspec": {
      "name": "python3",
      "display_name": "Python 3"
    }
  },
  "cells": [
    {
      "cell_type": "markdown",
      "metadata": {
        "id": "view-in-github",
        "colab_type": "text"
      },
      "source": [
        "<a href=\"https://colab.research.google.com/github/kapilkn/ML/blob/master/COVID19_Forecasting_by_Kapil.ipynb\" target=\"_parent\"><img src=\"https://colab.research.google.com/assets/colab-badge.svg\" alt=\"Open In Colab\"/></a>"
      ]
    },
    {
      "cell_type": "markdown",
      "metadata": {
        "id": "GSDUfiLaimo4",
        "colab_type": "text"
      },
      "source": [
        "## COVID 19 Prediction India \n",
        "**Kapil Nagwanshi**"
      ]
    },
    {
      "cell_type": "code",
      "metadata": {
        "id": "UAXhWAfUyKuh",
        "colab_type": "code",
        "colab": {
          "base_uri": "https://localhost:8080/",
          "height": 70
        },
        "outputId": "88a6ed22-d6f5-42eb-b606-5290864dd7f2"
      },
      "source": [
        "import pandas as pd\n",
        "import matplotlib.pyplot as plt\n",
        "import numpy as np\n",
        "import seaborn as sns\n",
        "import plotly.express as px # Word map\n",
        "import pandas.util.testing as tm"
      ],
      "execution_count": 1,
      "outputs": [
        {
          "output_type": "stream",
          "text": [
            "/usr/local/lib/python3.6/dist-packages/statsmodels/tools/_testing.py:19: FutureWarning: pandas.util.testing is deprecated. Use the functions in the public API at pandas.testing instead.\n",
            "  import pandas.util.testing as tm\n"
          ],
          "name": "stderr"
        }
      ]
    },
    {
      "cell_type": "code",
      "metadata": {
        "id": "1afrcAIly_2f",
        "colab_type": "code",
        "outputId": "5dffe02d-ff0d-4c04-d868-6b68a363ad56",
        "colab": {
          "base_uri": "https://localhost:8080/",
          "height": 126
        }
      },
      "source": [
        "path = 'https://raw.githubusercontent.com/umangkejriwal1122/Machine-Learning/master/Data%20Sets/covid_19_clean_complete.csv'\n",
        "df = pd.read_csv(path)\n",
        "df.head().style.background_gradient(cmap='Reds')"
      ],
      "execution_count": 2,
      "outputs": [
        {
          "output_type": "execute_result",
          "data": {
            "text/html": [
              "<style  type=\"text/css\" >\n",
              "    #T_80e0dde2_8a08_11ea_814b_0242ac1c0002row0_col2 {\n",
              "            background-color:  #b51318;\n",
              "            color:  #f1f1f1;\n",
              "        }    #T_80e0dde2_8a08_11ea_814b_0242ac1c0002row0_col3 {\n",
              "            background-color:  #67000d;\n",
              "            color:  #f1f1f1;\n",
              "        }    #T_80e0dde2_8a08_11ea_814b_0242ac1c0002row0_col5 {\n",
              "            background-color:  #fff5f0;\n",
              "            color:  #000000;\n",
              "        }    #T_80e0dde2_8a08_11ea_814b_0242ac1c0002row0_col6 {\n",
              "            background-color:  #fff5f0;\n",
              "            color:  #000000;\n",
              "        }    #T_80e0dde2_8a08_11ea_814b_0242ac1c0002row0_col7 {\n",
              "            background-color:  #fff5f0;\n",
              "            color:  #000000;\n",
              "        }    #T_80e0dde2_8a08_11ea_814b_0242ac1c0002row1_col2 {\n",
              "            background-color:  #73030f;\n",
              "            color:  #f1f1f1;\n",
              "        }    #T_80e0dde2_8a08_11ea_814b_0242ac1c0002row1_col3 {\n",
              "            background-color:  #fcad90;\n",
              "            color:  #000000;\n",
              "        }    #T_80e0dde2_8a08_11ea_814b_0242ac1c0002row1_col5 {\n",
              "            background-color:  #fff5f0;\n",
              "            color:  #000000;\n",
              "        }    #T_80e0dde2_8a08_11ea_814b_0242ac1c0002row1_col6 {\n",
              "            background-color:  #fff5f0;\n",
              "            color:  #000000;\n",
              "        }    #T_80e0dde2_8a08_11ea_814b_0242ac1c0002row1_col7 {\n",
              "            background-color:  #fff5f0;\n",
              "            color:  #000000;\n",
              "        }    #T_80e0dde2_8a08_11ea_814b_0242ac1c0002row2_col2 {\n",
              "            background-color:  #d01d1f;\n",
              "            color:  #f1f1f1;\n",
              "        }    #T_80e0dde2_8a08_11ea_814b_0242ac1c0002row2_col3 {\n",
              "            background-color:  #fff5f0;\n",
              "            color:  #000000;\n",
              "        }    #T_80e0dde2_8a08_11ea_814b_0242ac1c0002row2_col5 {\n",
              "            background-color:  #fff5f0;\n",
              "            color:  #000000;\n",
              "        }    #T_80e0dde2_8a08_11ea_814b_0242ac1c0002row2_col6 {\n",
              "            background-color:  #fff5f0;\n",
              "            color:  #000000;\n",
              "        }    #T_80e0dde2_8a08_11ea_814b_0242ac1c0002row2_col7 {\n",
              "            background-color:  #fff5f0;\n",
              "            color:  #000000;\n",
              "        }    #T_80e0dde2_8a08_11ea_814b_0242ac1c0002row3_col2 {\n",
              "            background-color:  #67000d;\n",
              "            color:  #f1f1f1;\n",
              "        }    #T_80e0dde2_8a08_11ea_814b_0242ac1c0002row3_col3 {\n",
              "            background-color:  #fff5f0;\n",
              "            color:  #000000;\n",
              "        }    #T_80e0dde2_8a08_11ea_814b_0242ac1c0002row3_col5 {\n",
              "            background-color:  #fff5f0;\n",
              "            color:  #000000;\n",
              "        }    #T_80e0dde2_8a08_11ea_814b_0242ac1c0002row3_col6 {\n",
              "            background-color:  #fff5f0;\n",
              "            color:  #000000;\n",
              "        }    #T_80e0dde2_8a08_11ea_814b_0242ac1c0002row3_col7 {\n",
              "            background-color:  #fff5f0;\n",
              "            color:  #000000;\n",
              "        }    #T_80e0dde2_8a08_11ea_814b_0242ac1c0002row4_col2 {\n",
              "            background-color:  #fff5f0;\n",
              "            color:  #000000;\n",
              "        }    #T_80e0dde2_8a08_11ea_814b_0242ac1c0002row4_col3 {\n",
              "            background-color:  #fcb99f;\n",
              "            color:  #000000;\n",
              "        }    #T_80e0dde2_8a08_11ea_814b_0242ac1c0002row4_col5 {\n",
              "            background-color:  #fff5f0;\n",
              "            color:  #000000;\n",
              "        }    #T_80e0dde2_8a08_11ea_814b_0242ac1c0002row4_col6 {\n",
              "            background-color:  #fff5f0;\n",
              "            color:  #000000;\n",
              "        }    #T_80e0dde2_8a08_11ea_814b_0242ac1c0002row4_col7 {\n",
              "            background-color:  #fff5f0;\n",
              "            color:  #000000;\n",
              "        }</style><table id=\"T_80e0dde2_8a08_11ea_814b_0242ac1c0002\" ><thead>    <tr>        <th class=\"blank level0\" ></th>        <th class=\"col_heading level0 col0\" >Province/State</th>        <th class=\"col_heading level0 col1\" >Country/Region</th>        <th class=\"col_heading level0 col2\" >Lat</th>        <th class=\"col_heading level0 col3\" >Long</th>        <th class=\"col_heading level0 col4\" >Date</th>        <th class=\"col_heading level0 col5\" >Confirmed</th>        <th class=\"col_heading level0 col6\" >Deaths</th>        <th class=\"col_heading level0 col7\" >Recovered</th>    </tr></thead><tbody>\n",
              "                <tr>\n",
              "                        <th id=\"T_80e0dde2_8a08_11ea_814b_0242ac1c0002level0_row0\" class=\"row_heading level0 row0\" >0</th>\n",
              "                        <td id=\"T_80e0dde2_8a08_11ea_814b_0242ac1c0002row0_col0\" class=\"data row0 col0\" >nan</td>\n",
              "                        <td id=\"T_80e0dde2_8a08_11ea_814b_0242ac1c0002row0_col1\" class=\"data row0 col1\" >Afghanistan</td>\n",
              "                        <td id=\"T_80e0dde2_8a08_11ea_814b_0242ac1c0002row0_col2\" class=\"data row0 col2\" >33.000000</td>\n",
              "                        <td id=\"T_80e0dde2_8a08_11ea_814b_0242ac1c0002row0_col3\" class=\"data row0 col3\" >65.000000</td>\n",
              "                        <td id=\"T_80e0dde2_8a08_11ea_814b_0242ac1c0002row0_col4\" class=\"data row0 col4\" >1/22/20</td>\n",
              "                        <td id=\"T_80e0dde2_8a08_11ea_814b_0242ac1c0002row0_col5\" class=\"data row0 col5\" >0</td>\n",
              "                        <td id=\"T_80e0dde2_8a08_11ea_814b_0242ac1c0002row0_col6\" class=\"data row0 col6\" >0</td>\n",
              "                        <td id=\"T_80e0dde2_8a08_11ea_814b_0242ac1c0002row0_col7\" class=\"data row0 col7\" >0</td>\n",
              "            </tr>\n",
              "            <tr>\n",
              "                        <th id=\"T_80e0dde2_8a08_11ea_814b_0242ac1c0002level0_row1\" class=\"row_heading level0 row1\" >1</th>\n",
              "                        <td id=\"T_80e0dde2_8a08_11ea_814b_0242ac1c0002row1_col0\" class=\"data row1 col0\" >nan</td>\n",
              "                        <td id=\"T_80e0dde2_8a08_11ea_814b_0242ac1c0002row1_col1\" class=\"data row1 col1\" >Albania</td>\n",
              "                        <td id=\"T_80e0dde2_8a08_11ea_814b_0242ac1c0002row1_col2\" class=\"data row1 col2\" >41.153300</td>\n",
              "                        <td id=\"T_80e0dde2_8a08_11ea_814b_0242ac1c0002row1_col3\" class=\"data row1 col3\" >20.168300</td>\n",
              "                        <td id=\"T_80e0dde2_8a08_11ea_814b_0242ac1c0002row1_col4\" class=\"data row1 col4\" >1/22/20</td>\n",
              "                        <td id=\"T_80e0dde2_8a08_11ea_814b_0242ac1c0002row1_col5\" class=\"data row1 col5\" >0</td>\n",
              "                        <td id=\"T_80e0dde2_8a08_11ea_814b_0242ac1c0002row1_col6\" class=\"data row1 col6\" >0</td>\n",
              "                        <td id=\"T_80e0dde2_8a08_11ea_814b_0242ac1c0002row1_col7\" class=\"data row1 col7\" >0</td>\n",
              "            </tr>\n",
              "            <tr>\n",
              "                        <th id=\"T_80e0dde2_8a08_11ea_814b_0242ac1c0002level0_row2\" class=\"row_heading level0 row2\" >2</th>\n",
              "                        <td id=\"T_80e0dde2_8a08_11ea_814b_0242ac1c0002row2_col0\" class=\"data row2 col0\" >nan</td>\n",
              "                        <td id=\"T_80e0dde2_8a08_11ea_814b_0242ac1c0002row2_col1\" class=\"data row2 col1\" >Algeria</td>\n",
              "                        <td id=\"T_80e0dde2_8a08_11ea_814b_0242ac1c0002row2_col2\" class=\"data row2 col2\" >28.033900</td>\n",
              "                        <td id=\"T_80e0dde2_8a08_11ea_814b_0242ac1c0002row2_col3\" class=\"data row2 col3\" >1.659600</td>\n",
              "                        <td id=\"T_80e0dde2_8a08_11ea_814b_0242ac1c0002row2_col4\" class=\"data row2 col4\" >1/22/20</td>\n",
              "                        <td id=\"T_80e0dde2_8a08_11ea_814b_0242ac1c0002row2_col5\" class=\"data row2 col5\" >0</td>\n",
              "                        <td id=\"T_80e0dde2_8a08_11ea_814b_0242ac1c0002row2_col6\" class=\"data row2 col6\" >0</td>\n",
              "                        <td id=\"T_80e0dde2_8a08_11ea_814b_0242ac1c0002row2_col7\" class=\"data row2 col7\" >0</td>\n",
              "            </tr>\n",
              "            <tr>\n",
              "                        <th id=\"T_80e0dde2_8a08_11ea_814b_0242ac1c0002level0_row3\" class=\"row_heading level0 row3\" >3</th>\n",
              "                        <td id=\"T_80e0dde2_8a08_11ea_814b_0242ac1c0002row3_col0\" class=\"data row3 col0\" >nan</td>\n",
              "                        <td id=\"T_80e0dde2_8a08_11ea_814b_0242ac1c0002row3_col1\" class=\"data row3 col1\" >Andorra</td>\n",
              "                        <td id=\"T_80e0dde2_8a08_11ea_814b_0242ac1c0002row3_col2\" class=\"data row3 col2\" >42.506300</td>\n",
              "                        <td id=\"T_80e0dde2_8a08_11ea_814b_0242ac1c0002row3_col3\" class=\"data row3 col3\" >1.521800</td>\n",
              "                        <td id=\"T_80e0dde2_8a08_11ea_814b_0242ac1c0002row3_col4\" class=\"data row3 col4\" >1/22/20</td>\n",
              "                        <td id=\"T_80e0dde2_8a08_11ea_814b_0242ac1c0002row3_col5\" class=\"data row3 col5\" >0</td>\n",
              "                        <td id=\"T_80e0dde2_8a08_11ea_814b_0242ac1c0002row3_col6\" class=\"data row3 col6\" >0</td>\n",
              "                        <td id=\"T_80e0dde2_8a08_11ea_814b_0242ac1c0002row3_col7\" class=\"data row3 col7\" >0</td>\n",
              "            </tr>\n",
              "            <tr>\n",
              "                        <th id=\"T_80e0dde2_8a08_11ea_814b_0242ac1c0002level0_row4\" class=\"row_heading level0 row4\" >4</th>\n",
              "                        <td id=\"T_80e0dde2_8a08_11ea_814b_0242ac1c0002row4_col0\" class=\"data row4 col0\" >nan</td>\n",
              "                        <td id=\"T_80e0dde2_8a08_11ea_814b_0242ac1c0002row4_col1\" class=\"data row4 col1\" >Angola</td>\n",
              "                        <td id=\"T_80e0dde2_8a08_11ea_814b_0242ac1c0002row4_col2\" class=\"data row4 col2\" >-11.202700</td>\n",
              "                        <td id=\"T_80e0dde2_8a08_11ea_814b_0242ac1c0002row4_col3\" class=\"data row4 col3\" >17.873900</td>\n",
              "                        <td id=\"T_80e0dde2_8a08_11ea_814b_0242ac1c0002row4_col4\" class=\"data row4 col4\" >1/22/20</td>\n",
              "                        <td id=\"T_80e0dde2_8a08_11ea_814b_0242ac1c0002row4_col5\" class=\"data row4 col5\" >0</td>\n",
              "                        <td id=\"T_80e0dde2_8a08_11ea_814b_0242ac1c0002row4_col6\" class=\"data row4 col6\" >0</td>\n",
              "                        <td id=\"T_80e0dde2_8a08_11ea_814b_0242ac1c0002row4_col7\" class=\"data row4 col7\" >0</td>\n",
              "            </tr>\n",
              "    </tbody></table>"
            ],
            "text/plain": [
              "<pandas.io.formats.style.Styler at 0x7f1fe568b048>"
            ]
          },
          "metadata": {
            "tags": []
          },
          "execution_count": 2
        }
      ]
    },
    {
      "cell_type": "code",
      "metadata": {
        "id": "O3jyiw6a0sV_",
        "colab_type": "code",
        "outputId": "d8dbd274-c4d2-49f3-bbb4-236df164aeef",
        "colab": {
          "base_uri": "https://localhost:8080/",
          "height": 190
        }
      },
      "source": [
        "df.tail()"
      ],
      "execution_count": 3,
      "outputs": [
        {
          "output_type": "execute_result",
          "data": {
            "text/html": [
              "<div>\n",
              "<style scoped>\n",
              "    .dataframe tbody tr th:only-of-type {\n",
              "        vertical-align: middle;\n",
              "    }\n",
              "\n",
              "    .dataframe tbody tr th {\n",
              "        vertical-align: top;\n",
              "    }\n",
              "\n",
              "    .dataframe thead th {\n",
              "        text-align: right;\n",
              "    }\n",
              "</style>\n",
              "<table border=\"1\" class=\"dataframe\">\n",
              "  <thead>\n",
              "    <tr style=\"text-align: right;\">\n",
              "      <th></th>\n",
              "      <th>Province/State</th>\n",
              "      <th>Country/Region</th>\n",
              "      <th>Lat</th>\n",
              "      <th>Long</th>\n",
              "      <th>Date</th>\n",
              "      <th>Confirmed</th>\n",
              "      <th>Deaths</th>\n",
              "      <th>Recovered</th>\n",
              "    </tr>\n",
              "  </thead>\n",
              "  <tbody>\n",
              "    <tr>\n",
              "      <th>25671</th>\n",
              "      <td>Saint Pierre and Miquelon</td>\n",
              "      <td>France</td>\n",
              "      <td>46.885200</td>\n",
              "      <td>-56.315900</td>\n",
              "      <td>4/28/20</td>\n",
              "      <td>1</td>\n",
              "      <td>0</td>\n",
              "      <td>0</td>\n",
              "    </tr>\n",
              "    <tr>\n",
              "      <th>25672</th>\n",
              "      <td>NaN</td>\n",
              "      <td>South Sudan</td>\n",
              "      <td>6.877000</td>\n",
              "      <td>31.307000</td>\n",
              "      <td>4/28/20</td>\n",
              "      <td>34</td>\n",
              "      <td>0</td>\n",
              "      <td>0</td>\n",
              "    </tr>\n",
              "    <tr>\n",
              "      <th>25673</th>\n",
              "      <td>NaN</td>\n",
              "      <td>Western Sahara</td>\n",
              "      <td>24.215500</td>\n",
              "      <td>-12.885800</td>\n",
              "      <td>4/28/20</td>\n",
              "      <td>6</td>\n",
              "      <td>0</td>\n",
              "      <td>5</td>\n",
              "    </tr>\n",
              "    <tr>\n",
              "      <th>25674</th>\n",
              "      <td>NaN</td>\n",
              "      <td>Sao Tome and Principe</td>\n",
              "      <td>0.186360</td>\n",
              "      <td>6.613081</td>\n",
              "      <td>4/28/20</td>\n",
              "      <td>8</td>\n",
              "      <td>0</td>\n",
              "      <td>4</td>\n",
              "    </tr>\n",
              "    <tr>\n",
              "      <th>25675</th>\n",
              "      <td>NaN</td>\n",
              "      <td>Yemen</td>\n",
              "      <td>15.552727</td>\n",
              "      <td>48.516388</td>\n",
              "      <td>4/28/20</td>\n",
              "      <td>1</td>\n",
              "      <td>0</td>\n",
              "      <td>0</td>\n",
              "    </tr>\n",
              "  </tbody>\n",
              "</table>\n",
              "</div>"
            ],
            "text/plain": [
              "                  Province/State         Country/Region  ...  Deaths  Recovered\n",
              "25671  Saint Pierre and Miquelon                 France  ...       0          0\n",
              "25672                        NaN            South Sudan  ...       0          0\n",
              "25673                        NaN         Western Sahara  ...       0          5\n",
              "25674                        NaN  Sao Tome and Principe  ...       0          4\n",
              "25675                        NaN                  Yemen  ...       0          0\n",
              "\n",
              "[5 rows x 8 columns]"
            ]
          },
          "metadata": {
            "tags": []
          },
          "execution_count": 3
        }
      ]
    },
    {
      "cell_type": "code",
      "metadata": {
        "id": "hfvDVsBk09jm",
        "colab_type": "code",
        "outputId": "ca61904a-5d18-4836-eddf-90d4836d117e",
        "colab": {
          "base_uri": "https://localhost:8080/",
          "height": 268
        }
      },
      "source": [
        "df.info()"
      ],
      "execution_count": 4,
      "outputs": [
        {
          "output_type": "stream",
          "text": [
            "<class 'pandas.core.frame.DataFrame'>\n",
            "RangeIndex: 25676 entries, 0 to 25675\n",
            "Data columns (total 8 columns):\n",
            " #   Column          Non-Null Count  Dtype  \n",
            "---  ------          --------------  -----  \n",
            " 0   Province/State  7840 non-null   object \n",
            " 1   Country/Region  25676 non-null  object \n",
            " 2   Lat             25676 non-null  float64\n",
            " 3   Long            25676 non-null  float64\n",
            " 4   Date            25676 non-null  object \n",
            " 5   Confirmed       25676 non-null  int64  \n",
            " 6   Deaths          25676 non-null  int64  \n",
            " 7   Recovered       25676 non-null  int64  \n",
            "dtypes: float64(2), int64(3), object(3)\n",
            "memory usage: 1.6+ MB\n"
          ],
          "name": "stdout"
        }
      ]
    },
    {
      "cell_type": "code",
      "metadata": {
        "id": "RK2ttllZ1WyU",
        "colab_type": "code",
        "outputId": "36b36df1-9b1e-410c-f161-d5ff25d0f4b3",
        "colab": {
          "base_uri": "https://localhost:8080/",
          "height": 190
        }
      },
      "source": [
        "# We need to convert date into date time format\n",
        "#state is not required for analysis her\n",
        "df = pd.read_csv(path,parse_dates=['Date'])\n",
        "df.head()"
      ],
      "execution_count": 5,
      "outputs": [
        {
          "output_type": "execute_result",
          "data": {
            "text/html": [
              "<div>\n",
              "<style scoped>\n",
              "    .dataframe tbody tr th:only-of-type {\n",
              "        vertical-align: middle;\n",
              "    }\n",
              "\n",
              "    .dataframe tbody tr th {\n",
              "        vertical-align: top;\n",
              "    }\n",
              "\n",
              "    .dataframe thead th {\n",
              "        text-align: right;\n",
              "    }\n",
              "</style>\n",
              "<table border=\"1\" class=\"dataframe\">\n",
              "  <thead>\n",
              "    <tr style=\"text-align: right;\">\n",
              "      <th></th>\n",
              "      <th>Province/State</th>\n",
              "      <th>Country/Region</th>\n",
              "      <th>Lat</th>\n",
              "      <th>Long</th>\n",
              "      <th>Date</th>\n",
              "      <th>Confirmed</th>\n",
              "      <th>Deaths</th>\n",
              "      <th>Recovered</th>\n",
              "    </tr>\n",
              "  </thead>\n",
              "  <tbody>\n",
              "    <tr>\n",
              "      <th>0</th>\n",
              "      <td>NaN</td>\n",
              "      <td>Afghanistan</td>\n",
              "      <td>33.0000</td>\n",
              "      <td>65.0000</td>\n",
              "      <td>2020-01-22</td>\n",
              "      <td>0</td>\n",
              "      <td>0</td>\n",
              "      <td>0</td>\n",
              "    </tr>\n",
              "    <tr>\n",
              "      <th>1</th>\n",
              "      <td>NaN</td>\n",
              "      <td>Albania</td>\n",
              "      <td>41.1533</td>\n",
              "      <td>20.1683</td>\n",
              "      <td>2020-01-22</td>\n",
              "      <td>0</td>\n",
              "      <td>0</td>\n",
              "      <td>0</td>\n",
              "    </tr>\n",
              "    <tr>\n",
              "      <th>2</th>\n",
              "      <td>NaN</td>\n",
              "      <td>Algeria</td>\n",
              "      <td>28.0339</td>\n",
              "      <td>1.6596</td>\n",
              "      <td>2020-01-22</td>\n",
              "      <td>0</td>\n",
              "      <td>0</td>\n",
              "      <td>0</td>\n",
              "    </tr>\n",
              "    <tr>\n",
              "      <th>3</th>\n",
              "      <td>NaN</td>\n",
              "      <td>Andorra</td>\n",
              "      <td>42.5063</td>\n",
              "      <td>1.5218</td>\n",
              "      <td>2020-01-22</td>\n",
              "      <td>0</td>\n",
              "      <td>0</td>\n",
              "      <td>0</td>\n",
              "    </tr>\n",
              "    <tr>\n",
              "      <th>4</th>\n",
              "      <td>NaN</td>\n",
              "      <td>Angola</td>\n",
              "      <td>-11.2027</td>\n",
              "      <td>17.8739</td>\n",
              "      <td>2020-01-22</td>\n",
              "      <td>0</td>\n",
              "      <td>0</td>\n",
              "      <td>0</td>\n",
              "    </tr>\n",
              "  </tbody>\n",
              "</table>\n",
              "</div>"
            ],
            "text/plain": [
              "  Province/State Country/Region      Lat  ...  Confirmed Deaths  Recovered\n",
              "0            NaN    Afghanistan  33.0000  ...          0      0          0\n",
              "1            NaN        Albania  41.1533  ...          0      0          0\n",
              "2            NaN        Algeria  28.0339  ...          0      0          0\n",
              "3            NaN        Andorra  42.5063  ...          0      0          0\n",
              "4            NaN         Angola -11.2027  ...          0      0          0\n",
              "\n",
              "[5 rows x 8 columns]"
            ]
          },
          "metadata": {
            "tags": []
          },
          "execution_count": 5
        }
      ]
    },
    {
      "cell_type": "markdown",
      "metadata": {
        "id": "TlmpzJmN1e3u",
        "colab_type": "text"
      },
      "source": [
        "## **Time Series Data**"
      ]
    },
    {
      "cell_type": "code",
      "metadata": {
        "id": "DX6P1mpF1kWy",
        "colab_type": "code",
        "colab": {}
      },
      "source": [
        "df.drop(['Province/State'],axis=1,inplace=True)"
      ],
      "execution_count": 0,
      "outputs": []
    },
    {
      "cell_type": "code",
      "metadata": {
        "id": "CLz4rVVW2lgr",
        "colab_type": "code",
        "outputId": "f24b7780-653f-4860-ccff-1266bd432ea1",
        "colab": {
          "base_uri": "https://localhost:8080/",
          "height": 190
        }
      },
      "source": [
        "df.rename(columns={\"Country/Region\" : \"Country\"},inplace=True)\n",
        "df.head()"
      ],
      "execution_count": 7,
      "outputs": [
        {
          "output_type": "execute_result",
          "data": {
            "text/html": [
              "<div>\n",
              "<style scoped>\n",
              "    .dataframe tbody tr th:only-of-type {\n",
              "        vertical-align: middle;\n",
              "    }\n",
              "\n",
              "    .dataframe tbody tr th {\n",
              "        vertical-align: top;\n",
              "    }\n",
              "\n",
              "    .dataframe thead th {\n",
              "        text-align: right;\n",
              "    }\n",
              "</style>\n",
              "<table border=\"1\" class=\"dataframe\">\n",
              "  <thead>\n",
              "    <tr style=\"text-align: right;\">\n",
              "      <th></th>\n",
              "      <th>Country</th>\n",
              "      <th>Lat</th>\n",
              "      <th>Long</th>\n",
              "      <th>Date</th>\n",
              "      <th>Confirmed</th>\n",
              "      <th>Deaths</th>\n",
              "      <th>Recovered</th>\n",
              "    </tr>\n",
              "  </thead>\n",
              "  <tbody>\n",
              "    <tr>\n",
              "      <th>0</th>\n",
              "      <td>Afghanistan</td>\n",
              "      <td>33.0000</td>\n",
              "      <td>65.0000</td>\n",
              "      <td>2020-01-22</td>\n",
              "      <td>0</td>\n",
              "      <td>0</td>\n",
              "      <td>0</td>\n",
              "    </tr>\n",
              "    <tr>\n",
              "      <th>1</th>\n",
              "      <td>Albania</td>\n",
              "      <td>41.1533</td>\n",
              "      <td>20.1683</td>\n",
              "      <td>2020-01-22</td>\n",
              "      <td>0</td>\n",
              "      <td>0</td>\n",
              "      <td>0</td>\n",
              "    </tr>\n",
              "    <tr>\n",
              "      <th>2</th>\n",
              "      <td>Algeria</td>\n",
              "      <td>28.0339</td>\n",
              "      <td>1.6596</td>\n",
              "      <td>2020-01-22</td>\n",
              "      <td>0</td>\n",
              "      <td>0</td>\n",
              "      <td>0</td>\n",
              "    </tr>\n",
              "    <tr>\n",
              "      <th>3</th>\n",
              "      <td>Andorra</td>\n",
              "      <td>42.5063</td>\n",
              "      <td>1.5218</td>\n",
              "      <td>2020-01-22</td>\n",
              "      <td>0</td>\n",
              "      <td>0</td>\n",
              "      <td>0</td>\n",
              "    </tr>\n",
              "    <tr>\n",
              "      <th>4</th>\n",
              "      <td>Angola</td>\n",
              "      <td>-11.2027</td>\n",
              "      <td>17.8739</td>\n",
              "      <td>2020-01-22</td>\n",
              "      <td>0</td>\n",
              "      <td>0</td>\n",
              "      <td>0</td>\n",
              "    </tr>\n",
              "  </tbody>\n",
              "</table>\n",
              "</div>"
            ],
            "text/plain": [
              "       Country      Lat     Long       Date  Confirmed  Deaths  Recovered\n",
              "0  Afghanistan  33.0000  65.0000 2020-01-22          0       0          0\n",
              "1      Albania  41.1533  20.1683 2020-01-22          0       0          0\n",
              "2      Algeria  28.0339   1.6596 2020-01-22          0       0          0\n",
              "3      Andorra  42.5063   1.5218 2020-01-22          0       0          0\n",
              "4       Angola -11.2027  17.8739 2020-01-22          0       0          0"
            ]
          },
          "metadata": {
            "tags": []
          },
          "execution_count": 7
        }
      ]
    },
    {
      "cell_type": "code",
      "metadata": {
        "id": "TENlfjUx3BNd",
        "colab_type": "code",
        "colab": {}
      },
      "source": [
        "active = df['Confirmed']-df['Deaths']-df['Recovered']\n",
        "df['Active'] =active"
      ],
      "execution_count": 0,
      "outputs": []
    },
    {
      "cell_type": "code",
      "metadata": {
        "id": "Ud-pHR6Z3YZw",
        "colab_type": "code",
        "outputId": "bb3f79b4-a99b-4798-fa00-79f412e9ff5a",
        "colab": {
          "base_uri": "https://localhost:8080/",
          "height": 190
        }
      },
      "source": [
        "df.head()"
      ],
      "execution_count": 9,
      "outputs": [
        {
          "output_type": "execute_result",
          "data": {
            "text/html": [
              "<div>\n",
              "<style scoped>\n",
              "    .dataframe tbody tr th:only-of-type {\n",
              "        vertical-align: middle;\n",
              "    }\n",
              "\n",
              "    .dataframe tbody tr th {\n",
              "        vertical-align: top;\n",
              "    }\n",
              "\n",
              "    .dataframe thead th {\n",
              "        text-align: right;\n",
              "    }\n",
              "</style>\n",
              "<table border=\"1\" class=\"dataframe\">\n",
              "  <thead>\n",
              "    <tr style=\"text-align: right;\">\n",
              "      <th></th>\n",
              "      <th>Country</th>\n",
              "      <th>Lat</th>\n",
              "      <th>Long</th>\n",
              "      <th>Date</th>\n",
              "      <th>Confirmed</th>\n",
              "      <th>Deaths</th>\n",
              "      <th>Recovered</th>\n",
              "      <th>Active</th>\n",
              "    </tr>\n",
              "  </thead>\n",
              "  <tbody>\n",
              "    <tr>\n",
              "      <th>0</th>\n",
              "      <td>Afghanistan</td>\n",
              "      <td>33.0000</td>\n",
              "      <td>65.0000</td>\n",
              "      <td>2020-01-22</td>\n",
              "      <td>0</td>\n",
              "      <td>0</td>\n",
              "      <td>0</td>\n",
              "      <td>0</td>\n",
              "    </tr>\n",
              "    <tr>\n",
              "      <th>1</th>\n",
              "      <td>Albania</td>\n",
              "      <td>41.1533</td>\n",
              "      <td>20.1683</td>\n",
              "      <td>2020-01-22</td>\n",
              "      <td>0</td>\n",
              "      <td>0</td>\n",
              "      <td>0</td>\n",
              "      <td>0</td>\n",
              "    </tr>\n",
              "    <tr>\n",
              "      <th>2</th>\n",
              "      <td>Algeria</td>\n",
              "      <td>28.0339</td>\n",
              "      <td>1.6596</td>\n",
              "      <td>2020-01-22</td>\n",
              "      <td>0</td>\n",
              "      <td>0</td>\n",
              "      <td>0</td>\n",
              "      <td>0</td>\n",
              "    </tr>\n",
              "    <tr>\n",
              "      <th>3</th>\n",
              "      <td>Andorra</td>\n",
              "      <td>42.5063</td>\n",
              "      <td>1.5218</td>\n",
              "      <td>2020-01-22</td>\n",
              "      <td>0</td>\n",
              "      <td>0</td>\n",
              "      <td>0</td>\n",
              "      <td>0</td>\n",
              "    </tr>\n",
              "    <tr>\n",
              "      <th>4</th>\n",
              "      <td>Angola</td>\n",
              "      <td>-11.2027</td>\n",
              "      <td>17.8739</td>\n",
              "      <td>2020-01-22</td>\n",
              "      <td>0</td>\n",
              "      <td>0</td>\n",
              "      <td>0</td>\n",
              "      <td>0</td>\n",
              "    </tr>\n",
              "  </tbody>\n",
              "</table>\n",
              "</div>"
            ],
            "text/plain": [
              "       Country      Lat     Long  ... Deaths  Recovered  Active\n",
              "0  Afghanistan  33.0000  65.0000  ...      0          0       0\n",
              "1      Albania  41.1533  20.1683  ...      0          0       0\n",
              "2      Algeria  28.0339   1.6596  ...      0          0       0\n",
              "3      Andorra  42.5063   1.5218  ...      0          0       0\n",
              "4       Angola -11.2027  17.8739  ...      0          0       0\n",
              "\n",
              "[5 rows x 8 columns]"
            ]
          },
          "metadata": {
            "tags": []
          },
          "execution_count": 9
        }
      ]
    },
    {
      "cell_type": "code",
      "metadata": {
        "id": "P_OK6xGp3Z2N",
        "colab_type": "code",
        "colab": {}
      },
      "source": [
        "top = df[df['Date']== df['Date'].max()]"
      ],
      "execution_count": 0,
      "outputs": []
    },
    {
      "cell_type": "code",
      "metadata": {
        "id": "m8_WDvFr8wbs",
        "colab_type": "code",
        "outputId": "03da5bd2-6e5d-44e6-fe6f-5e834e516771",
        "colab": {
          "base_uri": "https://localhost:8080/",
          "height": 190
        }
      },
      "source": [
        "df.rename(columns={\"Actve\" : \"Active\"},inplace=True)\n",
        "df.head()"
      ],
      "execution_count": 11,
      "outputs": [
        {
          "output_type": "execute_result",
          "data": {
            "text/html": [
              "<div>\n",
              "<style scoped>\n",
              "    .dataframe tbody tr th:only-of-type {\n",
              "        vertical-align: middle;\n",
              "    }\n",
              "\n",
              "    .dataframe tbody tr th {\n",
              "        vertical-align: top;\n",
              "    }\n",
              "\n",
              "    .dataframe thead th {\n",
              "        text-align: right;\n",
              "    }\n",
              "</style>\n",
              "<table border=\"1\" class=\"dataframe\">\n",
              "  <thead>\n",
              "    <tr style=\"text-align: right;\">\n",
              "      <th></th>\n",
              "      <th>Country</th>\n",
              "      <th>Lat</th>\n",
              "      <th>Long</th>\n",
              "      <th>Date</th>\n",
              "      <th>Confirmed</th>\n",
              "      <th>Deaths</th>\n",
              "      <th>Recovered</th>\n",
              "      <th>Active</th>\n",
              "    </tr>\n",
              "  </thead>\n",
              "  <tbody>\n",
              "    <tr>\n",
              "      <th>0</th>\n",
              "      <td>Afghanistan</td>\n",
              "      <td>33.0000</td>\n",
              "      <td>65.0000</td>\n",
              "      <td>2020-01-22</td>\n",
              "      <td>0</td>\n",
              "      <td>0</td>\n",
              "      <td>0</td>\n",
              "      <td>0</td>\n",
              "    </tr>\n",
              "    <tr>\n",
              "      <th>1</th>\n",
              "      <td>Albania</td>\n",
              "      <td>41.1533</td>\n",
              "      <td>20.1683</td>\n",
              "      <td>2020-01-22</td>\n",
              "      <td>0</td>\n",
              "      <td>0</td>\n",
              "      <td>0</td>\n",
              "      <td>0</td>\n",
              "    </tr>\n",
              "    <tr>\n",
              "      <th>2</th>\n",
              "      <td>Algeria</td>\n",
              "      <td>28.0339</td>\n",
              "      <td>1.6596</td>\n",
              "      <td>2020-01-22</td>\n",
              "      <td>0</td>\n",
              "      <td>0</td>\n",
              "      <td>0</td>\n",
              "      <td>0</td>\n",
              "    </tr>\n",
              "    <tr>\n",
              "      <th>3</th>\n",
              "      <td>Andorra</td>\n",
              "      <td>42.5063</td>\n",
              "      <td>1.5218</td>\n",
              "      <td>2020-01-22</td>\n",
              "      <td>0</td>\n",
              "      <td>0</td>\n",
              "      <td>0</td>\n",
              "      <td>0</td>\n",
              "    </tr>\n",
              "    <tr>\n",
              "      <th>4</th>\n",
              "      <td>Angola</td>\n",
              "      <td>-11.2027</td>\n",
              "      <td>17.8739</td>\n",
              "      <td>2020-01-22</td>\n",
              "      <td>0</td>\n",
              "      <td>0</td>\n",
              "      <td>0</td>\n",
              "      <td>0</td>\n",
              "    </tr>\n",
              "  </tbody>\n",
              "</table>\n",
              "</div>"
            ],
            "text/plain": [
              "       Country      Lat     Long  ... Deaths  Recovered  Active\n",
              "0  Afghanistan  33.0000  65.0000  ...      0          0       0\n",
              "1      Albania  41.1533  20.1683  ...      0          0       0\n",
              "2      Algeria  28.0339   1.6596  ...      0          0       0\n",
              "3      Andorra  42.5063   1.5218  ...      0          0       0\n",
              "4       Angola -11.2027  17.8739  ...      0          0       0\n",
              "\n",
              "[5 rows x 8 columns]"
            ]
          },
          "metadata": {
            "tags": []
          },
          "execution_count": 11
        }
      ]
    },
    {
      "cell_type": "markdown",
      "metadata": {
        "id": "kEKl6xN74YBN",
        "colab_type": "text"
      },
      "source": [
        "Top Countries"
      ]
    },
    {
      "cell_type": "code",
      "metadata": {
        "id": "PQ0dFOrn32vZ",
        "colab_type": "code",
        "outputId": "c06fe734-7d60-4747-941e-936803b72c18",
        "colab": {
          "base_uri": "https://localhost:8080/",
          "height": 33
        }
      },
      "source": [
        "df['Date'].max()"
      ],
      "execution_count": 12,
      "outputs": [
        {
          "output_type": "execute_result",
          "data": {
            "text/plain": [
              "Timestamp('2020-04-28 00:00:00')"
            ]
          },
          "metadata": {
            "tags": []
          },
          "execution_count": 12
        }
      ]
    },
    {
      "cell_type": "code",
      "metadata": {
        "id": "RUnzkfe94P1_",
        "colab_type": "code",
        "outputId": "cbe4b81f-3963-4a47-e568-3f8e90f91a7a",
        "colab": {
          "base_uri": "https://localhost:8080/",
          "height": 190
        }
      },
      "source": [
        "top.head()"
      ],
      "execution_count": 13,
      "outputs": [
        {
          "output_type": "execute_result",
          "data": {
            "text/html": [
              "<div>\n",
              "<style scoped>\n",
              "    .dataframe tbody tr th:only-of-type {\n",
              "        vertical-align: middle;\n",
              "    }\n",
              "\n",
              "    .dataframe tbody tr th {\n",
              "        vertical-align: top;\n",
              "    }\n",
              "\n",
              "    .dataframe thead th {\n",
              "        text-align: right;\n",
              "    }\n",
              "</style>\n",
              "<table border=\"1\" class=\"dataframe\">\n",
              "  <thead>\n",
              "    <tr style=\"text-align: right;\">\n",
              "      <th></th>\n",
              "      <th>Country</th>\n",
              "      <th>Lat</th>\n",
              "      <th>Long</th>\n",
              "      <th>Date</th>\n",
              "      <th>Confirmed</th>\n",
              "      <th>Deaths</th>\n",
              "      <th>Recovered</th>\n",
              "      <th>Active</th>\n",
              "    </tr>\n",
              "  </thead>\n",
              "  <tbody>\n",
              "    <tr>\n",
              "      <th>25414</th>\n",
              "      <td>Afghanistan</td>\n",
              "      <td>33.0000</td>\n",
              "      <td>65.0000</td>\n",
              "      <td>2020-04-28</td>\n",
              "      <td>1828</td>\n",
              "      <td>58</td>\n",
              "      <td>228</td>\n",
              "      <td>1542</td>\n",
              "    </tr>\n",
              "    <tr>\n",
              "      <th>25415</th>\n",
              "      <td>Albania</td>\n",
              "      <td>41.1533</td>\n",
              "      <td>20.1683</td>\n",
              "      <td>2020-04-28</td>\n",
              "      <td>750</td>\n",
              "      <td>30</td>\n",
              "      <td>431</td>\n",
              "      <td>289</td>\n",
              "    </tr>\n",
              "    <tr>\n",
              "      <th>25416</th>\n",
              "      <td>Algeria</td>\n",
              "      <td>28.0339</td>\n",
              "      <td>1.6596</td>\n",
              "      <td>2020-04-28</td>\n",
              "      <td>3649</td>\n",
              "      <td>437</td>\n",
              "      <td>1651</td>\n",
              "      <td>1561</td>\n",
              "    </tr>\n",
              "    <tr>\n",
              "      <th>25417</th>\n",
              "      <td>Andorra</td>\n",
              "      <td>42.5063</td>\n",
              "      <td>1.5218</td>\n",
              "      <td>2020-04-28</td>\n",
              "      <td>743</td>\n",
              "      <td>41</td>\n",
              "      <td>398</td>\n",
              "      <td>304</td>\n",
              "    </tr>\n",
              "    <tr>\n",
              "      <th>25418</th>\n",
              "      <td>Angola</td>\n",
              "      <td>-11.2027</td>\n",
              "      <td>17.8739</td>\n",
              "      <td>2020-04-28</td>\n",
              "      <td>27</td>\n",
              "      <td>2</td>\n",
              "      <td>6</td>\n",
              "      <td>19</td>\n",
              "    </tr>\n",
              "  </tbody>\n",
              "</table>\n",
              "</div>"
            ],
            "text/plain": [
              "           Country      Lat     Long  ... Deaths  Recovered  Active\n",
              "25414  Afghanistan  33.0000  65.0000  ...     58        228    1542\n",
              "25415      Albania  41.1533  20.1683  ...     30        431     289\n",
              "25416      Algeria  28.0339   1.6596  ...    437       1651    1561\n",
              "25417      Andorra  42.5063   1.5218  ...     41        398     304\n",
              "25418       Angola -11.2027  17.8739  ...      2          6      19\n",
              "\n",
              "[5 rows x 8 columns]"
            ]
          },
          "metadata": {
            "tags": []
          },
          "execution_count": 13
        }
      ]
    },
    {
      "cell_type": "code",
      "metadata": {
        "id": "4sPzk6oo4Rek",
        "colab_type": "code",
        "outputId": "82a0c57e-5d5b-43f1-fbc1-404f410b004e",
        "colab": {
          "base_uri": "https://localhost:8080/",
          "height": 84
        }
      },
      "source": [
        "world =top.groupby('Country')['Confirmed',\t'Deaths',\t'Recovered'\t,'Active'].sum().reset_index()"
      ],
      "execution_count": 14,
      "outputs": [
        {
          "output_type": "stream",
          "text": [
            "/usr/local/lib/python3.6/dist-packages/ipykernel_launcher.py:1: FutureWarning:\n",
            "\n",
            "Indexing with multiple keys (implicitly converted to a tuple of keys) will be deprecated, use a list instead.\n",
            "\n"
          ],
          "name": "stderr"
        }
      ]
    },
    {
      "cell_type": "code",
      "metadata": {
        "id": "lwTGqavv4qf1",
        "colab_type": "code",
        "outputId": "2d02ad43-3800-40c9-d9d0-df5b650b77a6",
        "colab": {
          "base_uri": "https://localhost:8080/",
          "height": 190
        }
      },
      "source": [
        "world.head()"
      ],
      "execution_count": 15,
      "outputs": [
        {
          "output_type": "execute_result",
          "data": {
            "text/html": [
              "<div>\n",
              "<style scoped>\n",
              "    .dataframe tbody tr th:only-of-type {\n",
              "        vertical-align: middle;\n",
              "    }\n",
              "\n",
              "    .dataframe tbody tr th {\n",
              "        vertical-align: top;\n",
              "    }\n",
              "\n",
              "    .dataframe thead th {\n",
              "        text-align: right;\n",
              "    }\n",
              "</style>\n",
              "<table border=\"1\" class=\"dataframe\">\n",
              "  <thead>\n",
              "    <tr style=\"text-align: right;\">\n",
              "      <th></th>\n",
              "      <th>Country</th>\n",
              "      <th>Confirmed</th>\n",
              "      <th>Deaths</th>\n",
              "      <th>Recovered</th>\n",
              "      <th>Active</th>\n",
              "    </tr>\n",
              "  </thead>\n",
              "  <tbody>\n",
              "    <tr>\n",
              "      <th>0</th>\n",
              "      <td>Afghanistan</td>\n",
              "      <td>1828</td>\n",
              "      <td>58</td>\n",
              "      <td>228</td>\n",
              "      <td>1542</td>\n",
              "    </tr>\n",
              "    <tr>\n",
              "      <th>1</th>\n",
              "      <td>Albania</td>\n",
              "      <td>750</td>\n",
              "      <td>30</td>\n",
              "      <td>431</td>\n",
              "      <td>289</td>\n",
              "    </tr>\n",
              "    <tr>\n",
              "      <th>2</th>\n",
              "      <td>Algeria</td>\n",
              "      <td>3649</td>\n",
              "      <td>437</td>\n",
              "      <td>1651</td>\n",
              "      <td>1561</td>\n",
              "    </tr>\n",
              "    <tr>\n",
              "      <th>3</th>\n",
              "      <td>Andorra</td>\n",
              "      <td>743</td>\n",
              "      <td>41</td>\n",
              "      <td>398</td>\n",
              "      <td>304</td>\n",
              "    </tr>\n",
              "    <tr>\n",
              "      <th>4</th>\n",
              "      <td>Angola</td>\n",
              "      <td>27</td>\n",
              "      <td>2</td>\n",
              "      <td>6</td>\n",
              "      <td>19</td>\n",
              "    </tr>\n",
              "  </tbody>\n",
              "</table>\n",
              "</div>"
            ],
            "text/plain": [
              "       Country  Confirmed  Deaths  Recovered  Active\n",
              "0  Afghanistan       1828      58        228    1542\n",
              "1      Albania        750      30        431     289\n",
              "2      Algeria       3649     437       1651    1561\n",
              "3      Andorra        743      41        398     304\n",
              "4       Angola         27       2          6      19"
            ]
          },
          "metadata": {
            "tags": []
          },
          "execution_count": 15
        }
      ]
    },
    {
      "cell_type": "code",
      "metadata": {
        "id": "1T6GLPVX5rd9",
        "colab_type": "code",
        "colab": {}
      },
      "source": [
        ""
      ],
      "execution_count": 0,
      "outputs": []
    },
    {
      "cell_type": "markdown",
      "metadata": {
        "id": "_LTzKkL46c9f",
        "colab_type": "text"
      },
      "source": [
        "### Plotting on world map-Active Cases"
      ]
    },
    {
      "cell_type": "code",
      "metadata": {
        "id": "nUAwt7s74RGO",
        "colab_type": "code",
        "outputId": "d3b97915-56d1-4ea9-e393-caa0d3184e88",
        "colab": {
          "base_uri": "https://localhost:8080/",
          "height": 542
        }
      },
      "source": [
        "#### Plotting On World Map (Active Cases)\n",
        "figure = px.choropleth(world,locations='Country',locationmode='country names',color='Active',\n",
        "                       hover_name='Country',range_color=[1,10000],color_continuous_scale='picnic',\n",
        "                       title='Countries With Active Cases')\n",
        "figure.show()"
      ],
      "execution_count": 16,
      "outputs": [
        {
          "output_type": "display_data",
          "data": {
            "text/html": [
              "<html>\n",
              "<head><meta charset=\"utf-8\" /></head>\n",
              "<body>\n",
              "    <div>\n",
              "            <script src=\"https://cdnjs.cloudflare.com/ajax/libs/mathjax/2.7.5/MathJax.js?config=TeX-AMS-MML_SVG\"></script><script type=\"text/javascript\">if (window.MathJax) {MathJax.Hub.Config({SVG: {font: \"STIX-Web\"}});}</script>\n",
              "                <script type=\"text/javascript\">window.PlotlyConfig = {MathJaxConfig: 'local'};</script>\n",
              "        <script src=\"https://cdn.plot.ly/plotly-latest.min.js\"></script>    \n",
              "            <div id=\"f8966f03-9c14-4a3e-8779-4025f8ffb18c\" class=\"plotly-graph-div\" style=\"height:525px; width:100%;\"></div>\n",
              "            <script type=\"text/javascript\">\n",
              "                \n",
              "                    window.PLOTLYENV=window.PLOTLYENV || {};\n",
              "                    \n",
              "                if (document.getElementById(\"f8966f03-9c14-4a3e-8779-4025f8ffb18c\")) {\n",
              "                    Plotly.newPlot(\n",
              "                        'f8966f03-9c14-4a3e-8779-4025f8ffb18c',\n",
              "                        [{\"coloraxis\": \"coloraxis\", \"geo\": \"geo\", \"hoverlabel\": {\"namelength\": 0}, \"hovertemplate\": \"<b>%{hovertext}</b><br><br>Country=%{location}<br>Active=%{z}\", \"hovertext\": [\"Afghanistan\", \"Albania\", \"Algeria\", \"Andorra\", \"Angola\", \"Antigua and Barbuda\", \"Argentina\", \"Armenia\", \"Australia\", \"Austria\", \"Azerbaijan\", \"Bahamas\", \"Bahrain\", \"Bangladesh\", \"Barbados\", \"Belarus\", \"Belgium\", \"Belize\", \"Benin\", \"Bhutan\", \"Bolivia\", \"Bosnia and Herzegovina\", \"Botswana\", \"Brazil\", \"Brunei\", \"Bulgaria\", \"Burkina Faso\", \"Burma\", \"Burundi\", \"Cabo Verde\", \"Cambodia\", \"Cameroon\", \"Canada\", \"Central African Republic\", \"Chad\", \"Chile\", \"China\", \"Colombia\", \"Congo (Brazzaville)\", \"Congo (Kinshasa)\", \"Costa Rica\", \"Cote d'Ivoire\", \"Croatia\", \"Cuba\", \"Cyprus\", \"Czechia\", \"Denmark\", \"Diamond Princess\", \"Djibouti\", \"Dominica\", \"Dominican Republic\", \"Ecuador\", \"Egypt\", \"El Salvador\", \"Equatorial Guinea\", \"Eritrea\", \"Estonia\", \"Eswatini\", \"Ethiopia\", \"Fiji\", \"Finland\", \"France\", \"Gabon\", \"Gambia\", \"Georgia\", \"Germany\", \"Ghana\", \"Greece\", \"Grenada\", \"Guatemala\", \"Guinea\", \"Guinea-Bissau\", \"Guyana\", \"Haiti\", \"Holy See\", \"Honduras\", \"Hungary\", \"Iceland\", \"India\", \"Indonesia\", \"Iran\", \"Iraq\", \"Ireland\", \"Israel\", \"Italy\", \"Jamaica\", \"Japan\", \"Jordan\", \"Kazakhstan\", \"Kenya\", \"Kosovo\", \"Kuwait\", \"Kyrgyzstan\", \"Laos\", \"Latvia\", \"Lebanon\", \"Liberia\", \"Libya\", \"Liechtenstein\", \"Lithuania\", \"Luxembourg\", \"MS Zaandam\", \"Madagascar\", \"Malawi\", \"Malaysia\", \"Maldives\", \"Mali\", \"Malta\", \"Mauritania\", \"Mauritius\", \"Mexico\", \"Moldova\", \"Monaco\", \"Mongolia\", \"Montenegro\", \"Morocco\", \"Mozambique\", \"Namibia\", \"Nepal\", \"Netherlands\", \"New Zealand\", \"Nicaragua\", \"Niger\", \"Nigeria\", \"North Macedonia\", \"Norway\", \"Oman\", \"Pakistan\", \"Panama\", \"Papua New Guinea\", \"Paraguay\", \"Peru\", \"Philippines\", \"Poland\", \"Portugal\", \"Qatar\", \"Romania\", \"Russia\", \"Rwanda\", \"Saint Kitts and Nevis\", \"Saint Lucia\", \"Saint Vincent and the Grenadines\", \"San Marino\", \"Sao Tome and Principe\", \"Saudi Arabia\", \"Senegal\", \"Serbia\", \"Seychelles\", \"Sierra Leone\", \"Singapore\", \"Slovakia\", \"Slovenia\", \"Somalia\", \"South Africa\", \"South Korea\", \"South Sudan\", \"Spain\", \"Sri Lanka\", \"Sudan\", \"Suriname\", \"Sweden\", \"Switzerland\", \"Syria\", \"Taiwan*\", \"Tanzania\", \"Thailand\", \"Timor-Leste\", \"Togo\", \"Trinidad and Tobago\", \"Tunisia\", \"Turkey\", \"US\", \"Uganda\", \"Ukraine\", \"United Arab Emirates\", \"United Kingdom\", \"Uruguay\", \"Uzbekistan\", \"Venezuela\", \"Vietnam\", \"West Bank and Gaza\", \"Western Sahara\", \"Yemen\", \"Zambia\", \"Zimbabwe\"], \"locationmode\": \"country names\", \"locations\": [\"Afghanistan\", \"Albania\", \"Algeria\", \"Andorra\", \"Angola\", \"Antigua and Barbuda\", \"Argentina\", \"Armenia\", \"Australia\", \"Austria\", \"Azerbaijan\", \"Bahamas\", \"Bahrain\", \"Bangladesh\", \"Barbados\", \"Belarus\", \"Belgium\", \"Belize\", \"Benin\", \"Bhutan\", \"Bolivia\", \"Bosnia and Herzegovina\", \"Botswana\", \"Brazil\", \"Brunei\", \"Bulgaria\", \"Burkina Faso\", \"Burma\", \"Burundi\", \"Cabo Verde\", \"Cambodia\", \"Cameroon\", \"Canada\", \"Central African Republic\", \"Chad\", \"Chile\", \"China\", \"Colombia\", \"Congo (Brazzaville)\", \"Congo (Kinshasa)\", \"Costa Rica\", \"Cote d'Ivoire\", \"Croatia\", \"Cuba\", \"Cyprus\", \"Czechia\", \"Denmark\", \"Diamond Princess\", \"Djibouti\", \"Dominica\", \"Dominican Republic\", \"Ecuador\", \"Egypt\", \"El Salvador\", \"Equatorial Guinea\", \"Eritrea\", \"Estonia\", \"Eswatini\", \"Ethiopia\", \"Fiji\", \"Finland\", \"France\", \"Gabon\", \"Gambia\", \"Georgia\", \"Germany\", \"Ghana\", \"Greece\", \"Grenada\", \"Guatemala\", \"Guinea\", \"Guinea-Bissau\", \"Guyana\", \"Haiti\", \"Holy See\", \"Honduras\", \"Hungary\", \"Iceland\", \"India\", \"Indonesia\", \"Iran\", \"Iraq\", \"Ireland\", \"Israel\", \"Italy\", \"Jamaica\", \"Japan\", \"Jordan\", \"Kazakhstan\", \"Kenya\", \"Kosovo\", \"Kuwait\", \"Kyrgyzstan\", \"Laos\", \"Latvia\", \"Lebanon\", \"Liberia\", \"Libya\", \"Liechtenstein\", \"Lithuania\", \"Luxembourg\", \"MS Zaandam\", \"Madagascar\", \"Malawi\", \"Malaysia\", \"Maldives\", \"Mali\", \"Malta\", \"Mauritania\", \"Mauritius\", \"Mexico\", \"Moldova\", \"Monaco\", \"Mongolia\", \"Montenegro\", \"Morocco\", \"Mozambique\", \"Namibia\", \"Nepal\", \"Netherlands\", \"New Zealand\", \"Nicaragua\", \"Niger\", \"Nigeria\", \"North Macedonia\", \"Norway\", \"Oman\", \"Pakistan\", \"Panama\", \"Papua New Guinea\", \"Paraguay\", \"Peru\", \"Philippines\", \"Poland\", \"Portugal\", \"Qatar\", \"Romania\", \"Russia\", \"Rwanda\", \"Saint Kitts and Nevis\", \"Saint Lucia\", \"Saint Vincent and the Grenadines\", \"San Marino\", \"Sao Tome and Principe\", \"Saudi Arabia\", \"Senegal\", \"Serbia\", \"Seychelles\", \"Sierra Leone\", \"Singapore\", \"Slovakia\", \"Slovenia\", \"Somalia\", \"South Africa\", \"South Korea\", \"South Sudan\", \"Spain\", \"Sri Lanka\", \"Sudan\", \"Suriname\", \"Sweden\", \"Switzerland\", \"Syria\", \"Taiwan*\", \"Tanzania\", \"Thailand\", \"Timor-Leste\", \"Togo\", \"Trinidad and Tobago\", \"Tunisia\", \"Turkey\", \"US\", \"Uganda\", \"Ukraine\", \"United Arab Emirates\", \"United Kingdom\", \"Uruguay\", \"Uzbekistan\", \"Venezuela\", \"Vietnam\", \"West Bank and Gaza\", \"Western Sahara\", \"Yemen\", \"Zambia\", \"Zimbabwe\"], \"name\": \"\", \"type\": \"choropleth\", \"z\": [1542, 289, 1561, 304, 19, 10, 2758, 971, 990, 2208, 474, 46, 1493, 6168, 35, 10136, 29060, 7, 30, 2, 863, 840, 22, 35608, 13, 1119, 120, 129, 6, 111, 3, 1647, 48167, 40, 31, 6448, 3487, 4412, 180, 385, 393, 644, 752, 804, 674, 7277, 2302, 54, 572, 3, 4965, 21830, 3379, 240, 305, 20, 1370, 60, 73, 6, 1741, 97584, 182, 1, 337, 36198, 1467, 1851, 19, 466, 964, 54, 51, 62, 8, 559, 1842, 149, 22569, 7484, 14268, 519, 9485, 7772, 105205, 328, 11443, 93, 2228, 236, 405, 2241, 284, 19, 556, 548, 80, 41, 26, 764, 529, 7, 46, 28, 1719, 233, 278, 151, 0, 21, 3760, 2560, 41, 28, 115, 3309, 76, 8, 38, 33908, 226, 3, 275, 1233, 761, 7422, 1757, 11067, 5399, 8, 128, 21157, 6453, 8967, 21985, 10777, 7549, 84235, 117, 11, 0, 7, 448, 4, 17141, 518, 5635, 5, 88, 13809, 941, 1099, 481, 2830, 1593, 34, 84403, 478, 262, 2, 16261, 4965, 40, 116, 241, 232, 24, 30, 49, 656, 72852, 838291, 27, 8179, 9110, 139792, 216, 939, 177, 48, 270, 1, 1, 50, 23]}],\n",
              "                        {\"coloraxis\": {\"cmax\": 10000, \"cmin\": 1, \"colorbar\": {\"title\": {\"text\": \"Active\"}}, \"colorscale\": [[0.0, \"rgb(0,0,255)\"], [0.1, \"rgb(51,153,255)\"], [0.2, \"rgb(102,204,255)\"], [0.3, \"rgb(153,204,255)\"], [0.4, \"rgb(204,204,255)\"], [0.5, \"rgb(255,255,255)\"], [0.6, \"rgb(255,204,255)\"], [0.7, \"rgb(255,153,255)\"], [0.8, \"rgb(255,102,204)\"], [0.9, \"rgb(255,102,102)\"], [1.0, \"rgb(255,0,0)\"]]}, \"geo\": {\"center\": {}, \"domain\": {\"x\": [0.0, 1.0], \"y\": [0.0, 1.0]}}, \"legend\": {\"tracegroupgap\": 0}, \"template\": {\"data\": {\"bar\": [{\"error_x\": {\"color\": \"#2a3f5f\"}, \"error_y\": {\"color\": \"#2a3f5f\"}, \"marker\": {\"line\": {\"color\": \"#E5ECF6\", \"width\": 0.5}}, \"type\": \"bar\"}], \"barpolar\": [{\"marker\": {\"line\": {\"color\": \"#E5ECF6\", \"width\": 0.5}}, \"type\": \"barpolar\"}], \"carpet\": [{\"aaxis\": {\"endlinecolor\": \"#2a3f5f\", \"gridcolor\": \"white\", \"linecolor\": \"white\", \"minorgridcolor\": \"white\", \"startlinecolor\": \"#2a3f5f\"}, \"baxis\": {\"endlinecolor\": \"#2a3f5f\", \"gridcolor\": \"white\", \"linecolor\": \"white\", \"minorgridcolor\": \"white\", \"startlinecolor\": \"#2a3f5f\"}, \"type\": \"carpet\"}], \"choropleth\": [{\"colorbar\": {\"outlinewidth\": 0, \"ticks\": \"\"}, \"type\": \"choropleth\"}], \"contour\": [{\"colorbar\": {\"outlinewidth\": 0, \"ticks\": \"\"}, \"colorscale\": [[0.0, \"#0d0887\"], [0.1111111111111111, \"#46039f\"], [0.2222222222222222, \"#7201a8\"], [0.3333333333333333, \"#9c179e\"], [0.4444444444444444, \"#bd3786\"], [0.5555555555555556, \"#d8576b\"], [0.6666666666666666, \"#ed7953\"], [0.7777777777777778, \"#fb9f3a\"], [0.8888888888888888, \"#fdca26\"], [1.0, \"#f0f921\"]], \"type\": \"contour\"}], \"contourcarpet\": [{\"colorbar\": {\"outlinewidth\": 0, \"ticks\": \"\"}, \"type\": \"contourcarpet\"}], \"heatmap\": [{\"colorbar\": {\"outlinewidth\": 0, \"ticks\": \"\"}, \"colorscale\": [[0.0, \"#0d0887\"], [0.1111111111111111, \"#46039f\"], [0.2222222222222222, \"#7201a8\"], [0.3333333333333333, \"#9c179e\"], [0.4444444444444444, \"#bd3786\"], [0.5555555555555556, \"#d8576b\"], [0.6666666666666666, \"#ed7953\"], [0.7777777777777778, \"#fb9f3a\"], [0.8888888888888888, \"#fdca26\"], [1.0, \"#f0f921\"]], \"type\": \"heatmap\"}], \"heatmapgl\": [{\"colorbar\": {\"outlinewidth\": 0, \"ticks\": \"\"}, \"colorscale\": [[0.0, \"#0d0887\"], [0.1111111111111111, \"#46039f\"], [0.2222222222222222, \"#7201a8\"], [0.3333333333333333, \"#9c179e\"], [0.4444444444444444, \"#bd3786\"], [0.5555555555555556, \"#d8576b\"], [0.6666666666666666, \"#ed7953\"], [0.7777777777777778, \"#fb9f3a\"], [0.8888888888888888, \"#fdca26\"], [1.0, \"#f0f921\"]], \"type\": \"heatmapgl\"}], \"histogram\": [{\"marker\": {\"colorbar\": {\"outlinewidth\": 0, \"ticks\": \"\"}}, \"type\": \"histogram\"}], \"histogram2d\": [{\"colorbar\": {\"outlinewidth\": 0, \"ticks\": \"\"}, \"colorscale\": [[0.0, \"#0d0887\"], [0.1111111111111111, \"#46039f\"], [0.2222222222222222, \"#7201a8\"], [0.3333333333333333, \"#9c179e\"], [0.4444444444444444, \"#bd3786\"], [0.5555555555555556, \"#d8576b\"], [0.6666666666666666, \"#ed7953\"], [0.7777777777777778, \"#fb9f3a\"], [0.8888888888888888, \"#fdca26\"], [1.0, \"#f0f921\"]], \"type\": \"histogram2d\"}], \"histogram2dcontour\": [{\"colorbar\": {\"outlinewidth\": 0, \"ticks\": \"\"}, \"colorscale\": [[0.0, \"#0d0887\"], [0.1111111111111111, \"#46039f\"], [0.2222222222222222, \"#7201a8\"], [0.3333333333333333, \"#9c179e\"], [0.4444444444444444, \"#bd3786\"], [0.5555555555555556, \"#d8576b\"], [0.6666666666666666, \"#ed7953\"], [0.7777777777777778, \"#fb9f3a\"], [0.8888888888888888, \"#fdca26\"], [1.0, \"#f0f921\"]], \"type\": \"histogram2dcontour\"}], \"mesh3d\": [{\"colorbar\": {\"outlinewidth\": 0, \"ticks\": \"\"}, \"type\": \"mesh3d\"}], \"parcoords\": [{\"line\": {\"colorbar\": {\"outlinewidth\": 0, \"ticks\": \"\"}}, \"type\": \"parcoords\"}], \"pie\": [{\"automargin\": true, \"type\": \"pie\"}], \"scatter\": [{\"marker\": {\"colorbar\": {\"outlinewidth\": 0, \"ticks\": \"\"}}, \"type\": \"scatter\"}], \"scatter3d\": [{\"line\": {\"colorbar\": {\"outlinewidth\": 0, \"ticks\": \"\"}}, \"marker\": {\"colorbar\": {\"outlinewidth\": 0, \"ticks\": \"\"}}, \"type\": \"scatter3d\"}], \"scattercarpet\": [{\"marker\": {\"colorbar\": {\"outlinewidth\": 0, \"ticks\": \"\"}}, \"type\": \"scattercarpet\"}], \"scattergeo\": [{\"marker\": {\"colorbar\": {\"outlinewidth\": 0, \"ticks\": \"\"}}, \"type\": \"scattergeo\"}], \"scattergl\": [{\"marker\": {\"colorbar\": {\"outlinewidth\": 0, \"ticks\": \"\"}}, \"type\": \"scattergl\"}], \"scattermapbox\": [{\"marker\": {\"colorbar\": {\"outlinewidth\": 0, \"ticks\": \"\"}}, \"type\": \"scattermapbox\"}], \"scatterpolar\": [{\"marker\": {\"colorbar\": {\"outlinewidth\": 0, \"ticks\": \"\"}}, \"type\": \"scatterpolar\"}], \"scatterpolargl\": [{\"marker\": {\"colorbar\": {\"outlinewidth\": 0, \"ticks\": \"\"}}, \"type\": \"scatterpolargl\"}], \"scatterternary\": [{\"marker\": {\"colorbar\": {\"outlinewidth\": 0, \"ticks\": \"\"}}, \"type\": \"scatterternary\"}], \"surface\": [{\"colorbar\": {\"outlinewidth\": 0, \"ticks\": \"\"}, \"colorscale\": [[0.0, \"#0d0887\"], [0.1111111111111111, \"#46039f\"], [0.2222222222222222, \"#7201a8\"], [0.3333333333333333, \"#9c179e\"], [0.4444444444444444, \"#bd3786\"], [0.5555555555555556, \"#d8576b\"], [0.6666666666666666, \"#ed7953\"], [0.7777777777777778, \"#fb9f3a\"], [0.8888888888888888, \"#fdca26\"], [1.0, \"#f0f921\"]], \"type\": \"surface\"}], \"table\": [{\"cells\": {\"fill\": {\"color\": \"#EBF0F8\"}, \"line\": {\"color\": \"white\"}}, \"header\": {\"fill\": {\"color\": \"#C8D4E3\"}, \"line\": {\"color\": \"white\"}}, \"type\": \"table\"}]}, \"layout\": {\"annotationdefaults\": {\"arrowcolor\": \"#2a3f5f\", \"arrowhead\": 0, \"arrowwidth\": 1}, \"coloraxis\": {\"colorbar\": {\"outlinewidth\": 0, \"ticks\": \"\"}}, \"colorscale\": {\"diverging\": [[0, \"#8e0152\"], [0.1, \"#c51b7d\"], [0.2, \"#de77ae\"], [0.3, \"#f1b6da\"], [0.4, \"#fde0ef\"], [0.5, \"#f7f7f7\"], [0.6, \"#e6f5d0\"], [0.7, \"#b8e186\"], [0.8, \"#7fbc41\"], [0.9, \"#4d9221\"], [1, \"#276419\"]], \"sequential\": [[0.0, \"#0d0887\"], [0.1111111111111111, \"#46039f\"], [0.2222222222222222, \"#7201a8\"], [0.3333333333333333, \"#9c179e\"], [0.4444444444444444, \"#bd3786\"], [0.5555555555555556, \"#d8576b\"], [0.6666666666666666, \"#ed7953\"], [0.7777777777777778, \"#fb9f3a\"], [0.8888888888888888, \"#fdca26\"], [1.0, \"#f0f921\"]], \"sequentialminus\": [[0.0, \"#0d0887\"], [0.1111111111111111, \"#46039f\"], [0.2222222222222222, \"#7201a8\"], [0.3333333333333333, \"#9c179e\"], [0.4444444444444444, \"#bd3786\"], [0.5555555555555556, \"#d8576b\"], [0.6666666666666666, \"#ed7953\"], [0.7777777777777778, \"#fb9f3a\"], [0.8888888888888888, \"#fdca26\"], [1.0, \"#f0f921\"]]}, \"colorway\": [\"#636efa\", \"#EF553B\", \"#00cc96\", \"#ab63fa\", \"#FFA15A\", \"#19d3f3\", \"#FF6692\", \"#B6E880\", \"#FF97FF\", \"#FECB52\"], \"font\": {\"color\": \"#2a3f5f\"}, \"geo\": {\"bgcolor\": \"white\", \"lakecolor\": \"white\", \"landcolor\": \"#E5ECF6\", \"showlakes\": true, \"showland\": true, \"subunitcolor\": \"white\"}, \"hoverlabel\": {\"align\": \"left\"}, \"hovermode\": \"closest\", \"mapbox\": {\"style\": \"light\"}, \"paper_bgcolor\": \"white\", \"plot_bgcolor\": \"#E5ECF6\", \"polar\": {\"angularaxis\": {\"gridcolor\": \"white\", \"linecolor\": \"white\", \"ticks\": \"\"}, \"bgcolor\": \"#E5ECF6\", \"radialaxis\": {\"gridcolor\": \"white\", \"linecolor\": \"white\", \"ticks\": \"\"}}, \"scene\": {\"xaxis\": {\"backgroundcolor\": \"#E5ECF6\", \"gridcolor\": \"white\", \"gridwidth\": 2, \"linecolor\": \"white\", \"showbackground\": true, \"ticks\": \"\", \"zerolinecolor\": \"white\"}, \"yaxis\": {\"backgroundcolor\": \"#E5ECF6\", \"gridcolor\": \"white\", \"gridwidth\": 2, \"linecolor\": \"white\", \"showbackground\": true, \"ticks\": \"\", \"zerolinecolor\": \"white\"}, \"zaxis\": {\"backgroundcolor\": \"#E5ECF6\", \"gridcolor\": \"white\", \"gridwidth\": 2, \"linecolor\": \"white\", \"showbackground\": true, \"ticks\": \"\", \"zerolinecolor\": \"white\"}}, \"shapedefaults\": {\"line\": {\"color\": \"#2a3f5f\"}}, \"ternary\": {\"aaxis\": {\"gridcolor\": \"white\", \"linecolor\": \"white\", \"ticks\": \"\"}, \"baxis\": {\"gridcolor\": \"white\", \"linecolor\": \"white\", \"ticks\": \"\"}, \"bgcolor\": \"#E5ECF6\", \"caxis\": {\"gridcolor\": \"white\", \"linecolor\": \"white\", \"ticks\": \"\"}}, \"title\": {\"x\": 0.05}, \"xaxis\": {\"automargin\": true, \"gridcolor\": \"white\", \"linecolor\": \"white\", \"ticks\": \"\", \"title\": {\"standoff\": 15}, \"zerolinecolor\": \"white\", \"zerolinewidth\": 2}, \"yaxis\": {\"automargin\": true, \"gridcolor\": \"white\", \"linecolor\": \"white\", \"ticks\": \"\", \"title\": {\"standoff\": 15}, \"zerolinecolor\": \"white\", \"zerolinewidth\": 2}}}, \"title\": {\"text\": \"Countries With Active Cases\"}},\n",
              "                        {\"responsive\": true}\n",
              "                    ).then(function(){\n",
              "                            \n",
              "var gd = document.getElementById('f8966f03-9c14-4a3e-8779-4025f8ffb18c');\n",
              "var x = new MutationObserver(function (mutations, observer) {{\n",
              "        var display = window.getComputedStyle(gd).display;\n",
              "        if (!display || display === 'none') {{\n",
              "            console.log([gd, 'removed!']);\n",
              "            Plotly.purge(gd);\n",
              "            observer.disconnect();\n",
              "        }}\n",
              "}});\n",
              "\n",
              "// Listen for the removal of the full notebook cells\n",
              "var notebookContainer = gd.closest('#notebook-container');\n",
              "if (notebookContainer) {{\n",
              "    x.observe(notebookContainer, {childList: true});\n",
              "}}\n",
              "\n",
              "// Listen for the clearing of the current output cell\n",
              "var outputEl = gd.closest('.output');\n",
              "if (outputEl) {{\n",
              "    x.observe(outputEl, {childList: true});\n",
              "}}\n",
              "\n",
              "                        })\n",
              "                };\n",
              "                \n",
              "            </script>\n",
              "        </div>\n",
              "</body>\n",
              "</html>"
            ]
          },
          "metadata": {
            "tags": []
          }
        }
      ]
    },
    {
      "cell_type": "code",
      "metadata": {
        "id": "EdUP1O0y70ms",
        "colab_type": "code",
        "colab": {}
      },
      "source": [
        ""
      ],
      "execution_count": 0,
      "outputs": []
    },
    {
      "cell_type": "markdown",
      "metadata": {
        "id": "A2ZRILfG-K4v",
        "colab_type": "text"
      },
      "source": [
        "## Wordwide active cases over time"
      ]
    },
    {
      "cell_type": "code",
      "metadata": {
        "id": "59dwEHjf-Pju",
        "colab_type": "code",
        "outputId": "c600477e-7641-4d2a-a296-6851dd3809e9",
        "colab": {
          "base_uri": "https://localhost:8080/",
          "height": 258
        }
      },
      "source": [
        "total_active_cases = df.groupby('Date')['Date','Active'].sum().reset_index()\n",
        "total_active_cases.tail()"
      ],
      "execution_count": 17,
      "outputs": [
        {
          "output_type": "stream",
          "text": [
            "/usr/local/lib/python3.6/dist-packages/ipykernel_launcher.py:1: FutureWarning:\n",
            "\n",
            "Indexing with multiple keys (implicitly converted to a tuple of keys) will be deprecated, use a list instead.\n",
            "\n"
          ],
          "name": "stderr"
        },
        {
          "output_type": "execute_result",
          "data": {
            "text/html": [
              "<div>\n",
              "<style scoped>\n",
              "    .dataframe tbody tr th:only-of-type {\n",
              "        vertical-align: middle;\n",
              "    }\n",
              "\n",
              "    .dataframe tbody tr th {\n",
              "        vertical-align: top;\n",
              "    }\n",
              "\n",
              "    .dataframe thead th {\n",
              "        text-align: right;\n",
              "    }\n",
              "</style>\n",
              "<table border=\"1\" class=\"dataframe\">\n",
              "  <thead>\n",
              "    <tr style=\"text-align: right;\">\n",
              "      <th></th>\n",
              "      <th>Date</th>\n",
              "      <th>Active</th>\n",
              "    </tr>\n",
              "  </thead>\n",
              "  <tbody>\n",
              "    <tr>\n",
              "      <th>93</th>\n",
              "      <td>2020-04-24</td>\n",
              "      <td>1845519</td>\n",
              "    </tr>\n",
              "    <tr>\n",
              "      <th>94</th>\n",
              "      <td>2020-04-25</td>\n",
              "      <td>1898620</td>\n",
              "    </tr>\n",
              "    <tr>\n",
              "      <th>95</th>\n",
              "      <td>2020-04-26</td>\n",
              "      <td>1922873</td>\n",
              "    </tr>\n",
              "    <tr>\n",
              "      <th>96</th>\n",
              "      <td>2020-04-27</td>\n",
              "      <td>1961174</td>\n",
              "    </tr>\n",
              "    <tr>\n",
              "      <th>97</th>\n",
              "      <td>2020-04-28</td>\n",
              "      <td>1996339</td>\n",
              "    </tr>\n",
              "  </tbody>\n",
              "</table>\n",
              "</div>"
            ],
            "text/plain": [
              "         Date   Active\n",
              "93 2020-04-24  1845519\n",
              "94 2020-04-25  1898620\n",
              "95 2020-04-26  1922873\n",
              "96 2020-04-27  1961174\n",
              "97 2020-04-28  1996339"
            ]
          },
          "metadata": {
            "tags": []
          },
          "execution_count": 17
        }
      ]
    },
    {
      "cell_type": "code",
      "metadata": {
        "id": "XqXqVSfV-zaX",
        "colab_type": "code",
        "outputId": "ba05edef-50d5-47a3-ae23-f9f6f42bedc9",
        "colab": {
          "base_uri": "https://localhost:8080/",
          "height": 710
        }
      },
      "source": [
        "plt.figure(figsize=(16,12))\n",
        "plt.scatter(total_active_cases.Date,total_active_cases.Active)\n",
        "plt.show()"
      ],
      "execution_count": 18,
      "outputs": [
        {
          "output_type": "display_data",
          "data": {
            "image/png": "[encoded data removed]",
            "text/plain": [
              "<Figure size 1152x864 with 1 Axes>"
            ]
          },
          "metadata": {
            "tags": [],
            "needs_background": "light"
          }
        }
      ]
    },
    {
      "cell_type": "code",
      "metadata": {
        "id": "8QwqNG8q_fex",
        "colab_type": "code",
        "outputId": "8cc330dd-1422-4a0e-f684-0849b00c5869",
        "colab": {
          "base_uri": "https://localhost:8080/",
          "height": 652
        }
      },
      "source": [
        "plt.figure(figsize=(15,10))\n",
        "plt.xticks(rotation=90,fontsize=8)\n",
        "sns.pointplot(total_active_cases['Date'].dt.date,total_active_cases['Active'])\n",
        "plt.show()"
      ],
      "execution_count": 19,
      "outputs": [
        {
          "output_type": "display_data",
          "data": {
            "image/png": "[encoded data removed]",
            "text/plain": [
              "<Figure size 1080x720 with 1 Axes>"
            ]
          },
          "metadata": {
            "tags": [],
            "needs_background": "light"
          }
        }
      ]
    },
    {
      "cell_type": "code",
      "metadata": {
        "id": "VWab7bhwAsou",
        "colab_type": "code",
        "outputId": "c0bf9582-9de6-4c76-af1a-ae16873c0611",
        "colab": {
          "base_uri": "https://localhost:8080/",
          "height": 661
        }
      },
      "source": [
        "plt.figure(figsize=(15,10))\n",
        "plt.title(\"Active Cases vs Date\")\n",
        "plt.xticks(rotation=90,fontsize=8)\n",
        "sns.pointplot(total_active_cases['Date'].dt.date,total_active_cases['Active'],color='y')\n",
        "plt.xlabel(\"Dates\",fontsize=12)\n",
        "plt.ylabel(\"Total Active Cases\",fontsize=12)\n",
        "plt.show()"
      ],
      "execution_count": 20,
      "outputs": [
        {
          "output_type": "display_data",
          "data": {
            "image/png": "[encoded data removed]",
            "text/plain": [
              "<Figure size 1080x720 with 1 Axes>"
            ]
          },
          "metadata": {
            "tags": [],
            "needs_background": "light"
          }
        }
      ]
    },
    {
      "cell_type": "code",
      "metadata": {
        "id": "5vr0yu_UBi0V",
        "colab_type": "code",
        "colab": {}
      },
      "source": [
        ""
      ],
      "execution_count": 0,
      "outputs": []
    },
    {
      "cell_type": "markdown",
      "metadata": {
        "id": "6epUJxAqB-rG",
        "colab_type": "text"
      },
      "source": [
        "### Top 20 countries having confirmed cases"
      ]
    },
    {
      "cell_type": "code",
      "metadata": {
        "id": "5LRnSEysCIGv",
        "colab_type": "code",
        "outputId": "8921a2f7-2b98-41aa-a7b6-c6f96c68a04f",
        "colab": {
          "base_uri": "https://localhost:8080/",
          "height": 728
        }
      },
      "source": [
        "total_confirmed_cases = df.groupby('Date')['Date','Confirmed'].sum().reset_index()\n",
        "plt.figure(figsize=(15,10))\n",
        "plt.title(\"Active Cases vs Date\")\n",
        "plt.xticks(rotation=90,fontsize=8)\n",
        "sns.pointplot(total_active_cases['Date'].dt.date,total_active_cases['Active'],color='red')\n",
        "sns.pointplot(total_confirmed_cases['Date'].dt.date,total_confirmed_cases['Confirmed'],color='blue')\n",
        "plt.xlabel(\"Dates\",fontsize=12)\n",
        "plt.ylabel(\"Total Active Cases\",fontsize=12)\n",
        "plt.show()"
      ],
      "execution_count": 21,
      "outputs": [
        {
          "output_type": "stream",
          "text": [
            "/usr/local/lib/python3.6/dist-packages/ipykernel_launcher.py:1: FutureWarning:\n",
            "\n",
            "Indexing with multiple keys (implicitly converted to a tuple of keys) will be deprecated, use a list instead.\n",
            "\n"
          ],
          "name": "stderr"
        },
        {
          "output_type": "display_data",
          "data": {
            "image/png": "[encoded data removed]",
            "text/plain": [
              "<Figure size 1080x720 with 1 Axes>"
            ]
          },
          "metadata": {
            "tags": [],
            "needs_background": "light"
          }
        }
      ]
    },
    {
      "cell_type": "code",
      "metadata": {
        "id": "MOj0LazECqrp",
        "colab_type": "code",
        "outputId": "132dcedc-ffca-4c73-9d4e-e126d1195074",
        "colab": {
          "base_uri": "https://localhost:8080/",
          "height": 190
        }
      },
      "source": [
        "#### Top 20 Countries Having Confirmed Cases\n",
        "top.head()"
      ],
      "execution_count": 22,
      "outputs": [
        {
          "output_type": "execute_result",
          "data": {
            "text/html": [
              "<div>\n",
              "<style scoped>\n",
              "    .dataframe tbody tr th:only-of-type {\n",
              "        vertical-align: middle;\n",
              "    }\n",
              "\n",
              "    .dataframe tbody tr th {\n",
              "        vertical-align: top;\n",
              "    }\n",
              "\n",
              "    .dataframe thead th {\n",
              "        text-align: right;\n",
              "    }\n",
              "</style>\n",
              "<table border=\"1\" class=\"dataframe\">\n",
              "  <thead>\n",
              "    <tr style=\"text-align: right;\">\n",
              "      <th></th>\n",
              "      <th>Country</th>\n",
              "      <th>Lat</th>\n",
              "      <th>Long</th>\n",
              "      <th>Date</th>\n",
              "      <th>Confirmed</th>\n",
              "      <th>Deaths</th>\n",
              "      <th>Recovered</th>\n",
              "      <th>Active</th>\n",
              "    </tr>\n",
              "  </thead>\n",
              "  <tbody>\n",
              "    <tr>\n",
              "      <th>25414</th>\n",
              "      <td>Afghanistan</td>\n",
              "      <td>33.0000</td>\n",
              "      <td>65.0000</td>\n",
              "      <td>2020-04-28</td>\n",
              "      <td>1828</td>\n",
              "      <td>58</td>\n",
              "      <td>228</td>\n",
              "      <td>1542</td>\n",
              "    </tr>\n",
              "    <tr>\n",
              "      <th>25415</th>\n",
              "      <td>Albania</td>\n",
              "      <td>41.1533</td>\n",
              "      <td>20.1683</td>\n",
              "      <td>2020-04-28</td>\n",
              "      <td>750</td>\n",
              "      <td>30</td>\n",
              "      <td>431</td>\n",
              "      <td>289</td>\n",
              "    </tr>\n",
              "    <tr>\n",
              "      <th>25416</th>\n",
              "      <td>Algeria</td>\n",
              "      <td>28.0339</td>\n",
              "      <td>1.6596</td>\n",
              "      <td>2020-04-28</td>\n",
              "      <td>3649</td>\n",
              "      <td>437</td>\n",
              "      <td>1651</td>\n",
              "      <td>1561</td>\n",
              "    </tr>\n",
              "    <tr>\n",
              "      <th>25417</th>\n",
              "      <td>Andorra</td>\n",
              "      <td>42.5063</td>\n",
              "      <td>1.5218</td>\n",
              "      <td>2020-04-28</td>\n",
              "      <td>743</td>\n",
              "      <td>41</td>\n",
              "      <td>398</td>\n",
              "      <td>304</td>\n",
              "    </tr>\n",
              "    <tr>\n",
              "      <th>25418</th>\n",
              "      <td>Angola</td>\n",
              "      <td>-11.2027</td>\n",
              "      <td>17.8739</td>\n",
              "      <td>2020-04-28</td>\n",
              "      <td>27</td>\n",
              "      <td>2</td>\n",
              "      <td>6</td>\n",
              "      <td>19</td>\n",
              "    </tr>\n",
              "  </tbody>\n",
              "</table>\n",
              "</div>"
            ],
            "text/plain": [
              "           Country      Lat     Long  ... Deaths  Recovered  Active\n",
              "25414  Afghanistan  33.0000  65.0000  ...     58        228    1542\n",
              "25415      Albania  41.1533  20.1683  ...     30        431     289\n",
              "25416      Algeria  28.0339   1.6596  ...    437       1651    1561\n",
              "25417      Andorra  42.5063   1.5218  ...     41        398     304\n",
              "25418       Angola -11.2027  17.8739  ...      2          6      19\n",
              "\n",
              "[5 rows x 8 columns]"
            ]
          },
          "metadata": {
            "tags": []
          },
          "execution_count": 22
        }
      ]
    },
    {
      "cell_type": "code",
      "metadata": {
        "id": "rhse8hvJDyul",
        "colab_type": "code",
        "outputId": "7c2a41c9-7537-4df9-e63d-e0945517cb3a",
        "colab": {
          "base_uri": "https://localhost:8080/",
          "height": 190
        }
      },
      "source": [
        "top_confirmed = top.groupby('Country')['Confirmed'].sum().sort_values(ascending=False).reset_index()\n",
        "top_confirmed.head()  ### gropu the data by country and sort acc. to confirmed"
      ],
      "execution_count": 23,
      "outputs": [
        {
          "output_type": "execute_result",
          "data": {
            "text/html": [
              "<div>\n",
              "<style scoped>\n",
              "    .dataframe tbody tr th:only-of-type {\n",
              "        vertical-align: middle;\n",
              "    }\n",
              "\n",
              "    .dataframe tbody tr th {\n",
              "        vertical-align: top;\n",
              "    }\n",
              "\n",
              "    .dataframe thead th {\n",
              "        text-align: right;\n",
              "    }\n",
              "</style>\n",
              "<table border=\"1\" class=\"dataframe\">\n",
              "  <thead>\n",
              "    <tr style=\"text-align: right;\">\n",
              "      <th></th>\n",
              "      <th>Country</th>\n",
              "      <th>Confirmed</th>\n",
              "    </tr>\n",
              "  </thead>\n",
              "  <tbody>\n",
              "    <tr>\n",
              "      <th>0</th>\n",
              "      <td>US</td>\n",
              "      <td>1012582</td>\n",
              "    </tr>\n",
              "    <tr>\n",
              "      <th>1</th>\n",
              "      <td>Spain</td>\n",
              "      <td>232128</td>\n",
              "    </tr>\n",
              "    <tr>\n",
              "      <th>2</th>\n",
              "      <td>Italy</td>\n",
              "      <td>201505</td>\n",
              "    </tr>\n",
              "    <tr>\n",
              "      <th>3</th>\n",
              "      <td>France</td>\n",
              "      <td>169053</td>\n",
              "    </tr>\n",
              "    <tr>\n",
              "      <th>4</th>\n",
              "      <td>United Kingdom</td>\n",
              "      <td>162350</td>\n",
              "    </tr>\n",
              "  </tbody>\n",
              "</table>\n",
              "</div>"
            ],
            "text/plain": [
              "          Country  Confirmed\n",
              "0              US    1012582\n",
              "1           Spain     232128\n",
              "2           Italy     201505\n",
              "3          France     169053\n",
              "4  United Kingdom     162350"
            ]
          },
          "metadata": {
            "tags": []
          },
          "execution_count": 23
        }
      ]
    },
    {
      "cell_type": "code",
      "metadata": {
        "id": "_W1wLVhQD2Tp",
        "colab_type": "code",
        "outputId": "a5454416-5e25-410a-c042-5258dce590d1",
        "colab": {
          "base_uri": "https://localhost:8080/",
          "height": 622
        }
      },
      "source": [
        "top_20 = top_confirmed.head(20)\n",
        "top_20"
      ],
      "execution_count": 24,
      "outputs": [
        {
          "output_type": "execute_result",
          "data": {
            "text/html": [
              "<div>\n",
              "<style scoped>\n",
              "    .dataframe tbody tr th:only-of-type {\n",
              "        vertical-align: middle;\n",
              "    }\n",
              "\n",
              "    .dataframe tbody tr th {\n",
              "        vertical-align: top;\n",
              "    }\n",
              "\n",
              "    .dataframe thead th {\n",
              "        text-align: right;\n",
              "    }\n",
              "</style>\n",
              "<table border=\"1\" class=\"dataframe\">\n",
              "  <thead>\n",
              "    <tr style=\"text-align: right;\">\n",
              "      <th></th>\n",
              "      <th>Country</th>\n",
              "      <th>Confirmed</th>\n",
              "    </tr>\n",
              "  </thead>\n",
              "  <tbody>\n",
              "    <tr>\n",
              "      <th>0</th>\n",
              "      <td>US</td>\n",
              "      <td>1012582</td>\n",
              "    </tr>\n",
              "    <tr>\n",
              "      <th>1</th>\n",
              "      <td>Spain</td>\n",
              "      <td>232128</td>\n",
              "    </tr>\n",
              "    <tr>\n",
              "      <th>2</th>\n",
              "      <td>Italy</td>\n",
              "      <td>201505</td>\n",
              "    </tr>\n",
              "    <tr>\n",
              "      <th>3</th>\n",
              "      <td>France</td>\n",
              "      <td>169053</td>\n",
              "    </tr>\n",
              "    <tr>\n",
              "      <th>4</th>\n",
              "      <td>United Kingdom</td>\n",
              "      <td>162350</td>\n",
              "    </tr>\n",
              "    <tr>\n",
              "      <th>5</th>\n",
              "      <td>Germany</td>\n",
              "      <td>159912</td>\n",
              "    </tr>\n",
              "    <tr>\n",
              "      <th>6</th>\n",
              "      <td>Turkey</td>\n",
              "      <td>114653</td>\n",
              "    </tr>\n",
              "    <tr>\n",
              "      <th>7</th>\n",
              "      <td>Russia</td>\n",
              "      <td>93558</td>\n",
              "    </tr>\n",
              "    <tr>\n",
              "      <th>8</th>\n",
              "      <td>Iran</td>\n",
              "      <td>92584</td>\n",
              "    </tr>\n",
              "    <tr>\n",
              "      <th>9</th>\n",
              "      <td>China</td>\n",
              "      <td>83940</td>\n",
              "    </tr>\n",
              "    <tr>\n",
              "      <th>10</th>\n",
              "      <td>Brazil</td>\n",
              "      <td>73235</td>\n",
              "    </tr>\n",
              "    <tr>\n",
              "      <th>11</th>\n",
              "      <td>Canada</td>\n",
              "      <td>51150</td>\n",
              "    </tr>\n",
              "    <tr>\n",
              "      <th>12</th>\n",
              "      <td>Belgium</td>\n",
              "      <td>47334</td>\n",
              "    </tr>\n",
              "    <tr>\n",
              "      <th>13</th>\n",
              "      <td>Netherlands</td>\n",
              "      <td>38607</td>\n",
              "    </tr>\n",
              "    <tr>\n",
              "      <th>14</th>\n",
              "      <td>India</td>\n",
              "      <td>31324</td>\n",
              "    </tr>\n",
              "    <tr>\n",
              "      <th>15</th>\n",
              "      <td>Peru</td>\n",
              "      <td>31190</td>\n",
              "    </tr>\n",
              "    <tr>\n",
              "      <th>16</th>\n",
              "      <td>Switzerland</td>\n",
              "      <td>29264</td>\n",
              "    </tr>\n",
              "    <tr>\n",
              "      <th>17</th>\n",
              "      <td>Portugal</td>\n",
              "      <td>24322</td>\n",
              "    </tr>\n",
              "    <tr>\n",
              "      <th>18</th>\n",
              "      <td>Ecuador</td>\n",
              "      <td>24258</td>\n",
              "    </tr>\n",
              "    <tr>\n",
              "      <th>19</th>\n",
              "      <td>Saudi Arabia</td>\n",
              "      <td>20077</td>\n",
              "    </tr>\n",
              "  </tbody>\n",
              "</table>\n",
              "</div>"
            ],
            "text/plain": [
              "           Country  Confirmed\n",
              "0               US    1012582\n",
              "1            Spain     232128\n",
              "2            Italy     201505\n",
              "3           France     169053\n",
              "4   United Kingdom     162350\n",
              "5          Germany     159912\n",
              "6           Turkey     114653\n",
              "7           Russia      93558\n",
              "8             Iran      92584\n",
              "9            China      83940\n",
              "10          Brazil      73235\n",
              "11          Canada      51150\n",
              "12         Belgium      47334\n",
              "13     Netherlands      38607\n",
              "14           India      31324\n",
              "15            Peru      31190\n",
              "16     Switzerland      29264\n",
              "17        Portugal      24322\n",
              "18         Ecuador      24258\n",
              "19    Saudi Arabia      20077"
            ]
          },
          "metadata": {
            "tags": []
          },
          "execution_count": 24
        }
      ]
    },
    {
      "cell_type": "code",
      "metadata": {
        "id": "MvrfchiQD5Zj",
        "colab_type": "code",
        "outputId": "dac7c1e4-449f-4d9b-d6de-271c2bbd723b",
        "colab": {
          "base_uri": "https://localhost:8080/",
          "height": 606
        }
      },
      "source": [
        "plt.figure(figsize=(12,10))\n",
        "sns.barplot(top_20['Confirmed'],top_20['Country'])\n",
        "plt.show()"
      ],
      "execution_count": 25,
      "outputs": [
        {
          "output_type": "display_data",
          "data": {
            "image/png": "[encoded data removed]",
            "text/plain": [
              "<Figure size 864x720 with 1 Axes>"
            ]
          },
          "metadata": {
            "tags": [],
            "needs_background": "light"
          }
        }
      ]
    },
    {
      "cell_type": "code",
      "metadata": {
        "id": "wnp54HxxEbDv",
        "colab_type": "code",
        "colab": {}
      },
      "source": [
        "### making dataframes for different countries"
      ],
      "execution_count": 0,
      "outputs": []
    },
    {
      "cell_type": "code",
      "metadata": {
        "id": "0SG_XtU8G3O3",
        "colab_type": "code",
        "outputId": "3b701d33-a1de-4d7b-dde8-b5a507c251e1",
        "colab": {
          "base_uri": "https://localhost:8080/",
          "height": 258
        }
      },
      "source": [
        "china = df[df['Country']=='China']\n",
        "china = china.groupby('Date')['Recovered','Active','Confirmed','Deaths'].sum().reset_index()\n",
        "china.head()"
      ],
      "execution_count": 27,
      "outputs": [
        {
          "output_type": "stream",
          "text": [
            "/usr/local/lib/python3.6/dist-packages/ipykernel_launcher.py:2: FutureWarning:\n",
            "\n",
            "Indexing with multiple keys (implicitly converted to a tuple of keys) will be deprecated, use a list instead.\n",
            "\n"
          ],
          "name": "stderr"
        },
        {
          "output_type": "execute_result",
          "data": {
            "text/html": [
              "<div>\n",
              "<style scoped>\n",
              "    .dataframe tbody tr th:only-of-type {\n",
              "        vertical-align: middle;\n",
              "    }\n",
              "\n",
              "    .dataframe tbody tr th {\n",
              "        vertical-align: top;\n",
              "    }\n",
              "\n",
              "    .dataframe thead th {\n",
              "        text-align: right;\n",
              "    }\n",
              "</style>\n",
              "<table border=\"1\" class=\"dataframe\">\n",
              "  <thead>\n",
              "    <tr style=\"text-align: right;\">\n",
              "      <th></th>\n",
              "      <th>Date</th>\n",
              "      <th>Recovered</th>\n",
              "      <th>Active</th>\n",
              "      <th>Confirmed</th>\n",
              "      <th>Deaths</th>\n",
              "    </tr>\n",
              "  </thead>\n",
              "  <tbody>\n",
              "    <tr>\n",
              "      <th>0</th>\n",
              "      <td>2020-01-22</td>\n",
              "      <td>28</td>\n",
              "      <td>503</td>\n",
              "      <td>548</td>\n",
              "      <td>17</td>\n",
              "    </tr>\n",
              "    <tr>\n",
              "      <th>1</th>\n",
              "      <td>2020-01-23</td>\n",
              "      <td>30</td>\n",
              "      <td>595</td>\n",
              "      <td>643</td>\n",
              "      <td>18</td>\n",
              "    </tr>\n",
              "    <tr>\n",
              "      <th>2</th>\n",
              "      <td>2020-01-24</td>\n",
              "      <td>35</td>\n",
              "      <td>859</td>\n",
              "      <td>920</td>\n",
              "      <td>26</td>\n",
              "    </tr>\n",
              "    <tr>\n",
              "      <th>3</th>\n",
              "      <td>2020-01-25</td>\n",
              "      <td>38</td>\n",
              "      <td>1326</td>\n",
              "      <td>1406</td>\n",
              "      <td>42</td>\n",
              "    </tr>\n",
              "    <tr>\n",
              "      <th>4</th>\n",
              "      <td>2020-01-26</td>\n",
              "      <td>48</td>\n",
              "      <td>1971</td>\n",
              "      <td>2075</td>\n",
              "      <td>56</td>\n",
              "    </tr>\n",
              "  </tbody>\n",
              "</table>\n",
              "</div>"
            ],
            "text/plain": [
              "        Date  Recovered  Active  Confirmed  Deaths\n",
              "0 2020-01-22         28     503        548      17\n",
              "1 2020-01-23         30     595        643      18\n",
              "2 2020-01-24         35     859        920      26\n",
              "3 2020-01-25         38    1326       1406      42\n",
              "4 2020-01-26         48    1971       2075      56"
            ]
          },
          "metadata": {
            "tags": []
          },
          "execution_count": 27
        }
      ]
    },
    {
      "cell_type": "code",
      "metadata": {
        "id": "fXg38aDzG9is",
        "colab_type": "code",
        "outputId": "9dc11594-a0e6-4584-e2da-d6a60063ba32",
        "colab": {
          "base_uri": "https://localhost:8080/",
          "height": 258
        }
      },
      "source": [
        "india = df[df['Country']=='India']\n",
        "india = india.groupby('Date')['Recovered','Active','Confirmed','Deaths'].sum().reset_index()\n",
        "india.head()"
      ],
      "execution_count": 28,
      "outputs": [
        {
          "output_type": "stream",
          "text": [
            "/usr/local/lib/python3.6/dist-packages/ipykernel_launcher.py:2: FutureWarning:\n",
            "\n",
            "Indexing with multiple keys (implicitly converted to a tuple of keys) will be deprecated, use a list instead.\n",
            "\n"
          ],
          "name": "stderr"
        },
        {
          "output_type": "execute_result",
          "data": {
            "text/html": [
              "<div>\n",
              "<style scoped>\n",
              "    .dataframe tbody tr th:only-of-type {\n",
              "        vertical-align: middle;\n",
              "    }\n",
              "\n",
              "    .dataframe tbody tr th {\n",
              "        vertical-align: top;\n",
              "    }\n",
              "\n",
              "    .dataframe thead th {\n",
              "        text-align: right;\n",
              "    }\n",
              "</style>\n",
              "<table border=\"1\" class=\"dataframe\">\n",
              "  <thead>\n",
              "    <tr style=\"text-align: right;\">\n",
              "      <th></th>\n",
              "      <th>Date</th>\n",
              "      <th>Recovered</th>\n",
              "      <th>Active</th>\n",
              "      <th>Confirmed</th>\n",
              "      <th>Deaths</th>\n",
              "    </tr>\n",
              "  </thead>\n",
              "  <tbody>\n",
              "    <tr>\n",
              "      <th>0</th>\n",
              "      <td>2020-01-22</td>\n",
              "      <td>0</td>\n",
              "      <td>0</td>\n",
              "      <td>0</td>\n",
              "      <td>0</td>\n",
              "    </tr>\n",
              "    <tr>\n",
              "      <th>1</th>\n",
              "      <td>2020-01-23</td>\n",
              "      <td>0</td>\n",
              "      <td>0</td>\n",
              "      <td>0</td>\n",
              "      <td>0</td>\n",
              "    </tr>\n",
              "    <tr>\n",
              "      <th>2</th>\n",
              "      <td>2020-01-24</td>\n",
              "      <td>0</td>\n",
              "      <td>0</td>\n",
              "      <td>0</td>\n",
              "      <td>0</td>\n",
              "    </tr>\n",
              "    <tr>\n",
              "      <th>3</th>\n",
              "      <td>2020-01-25</td>\n",
              "      <td>0</td>\n",
              "      <td>0</td>\n",
              "      <td>0</td>\n",
              "      <td>0</td>\n",
              "    </tr>\n",
              "    <tr>\n",
              "      <th>4</th>\n",
              "      <td>2020-01-26</td>\n",
              "      <td>0</td>\n",
              "      <td>0</td>\n",
              "      <td>0</td>\n",
              "      <td>0</td>\n",
              "    </tr>\n",
              "  </tbody>\n",
              "</table>\n",
              "</div>"
            ],
            "text/plain": [
              "        Date  Recovered  Active  Confirmed  Deaths\n",
              "0 2020-01-22          0       0          0       0\n",
              "1 2020-01-23          0       0          0       0\n",
              "2 2020-01-24          0       0          0       0\n",
              "3 2020-01-25          0       0          0       0\n",
              "4 2020-01-26          0       0          0       0"
            ]
          },
          "metadata": {
            "tags": []
          },
          "execution_count": 28
        }
      ]
    },
    {
      "cell_type": "code",
      "metadata": {
        "id": "Nv6XKkkrHER7",
        "colab_type": "code",
        "outputId": "913feb9f-eeb6-495c-b34a-b1718217bc4b",
        "colab": {
          "base_uri": "https://localhost:8080/",
          "height": 258
        }
      },
      "source": [
        "italy = df[df['Country']=='Italy']\n",
        "italy = italy.groupby('Date')['Recovered','Active','Confirmed','Deaths'].sum().reset_index()\n",
        "italy.head()"
      ],
      "execution_count": 29,
      "outputs": [
        {
          "output_type": "stream",
          "text": [
            "/usr/local/lib/python3.6/dist-packages/ipykernel_launcher.py:2: FutureWarning:\n",
            "\n",
            "Indexing with multiple keys (implicitly converted to a tuple of keys) will be deprecated, use a list instead.\n",
            "\n"
          ],
          "name": "stderr"
        },
        {
          "output_type": "execute_result",
          "data": {
            "text/html": [
              "<div>\n",
              "<style scoped>\n",
              "    .dataframe tbody tr th:only-of-type {\n",
              "        vertical-align: middle;\n",
              "    }\n",
              "\n",
              "    .dataframe tbody tr th {\n",
              "        vertical-align: top;\n",
              "    }\n",
              "\n",
              "    .dataframe thead th {\n",
              "        text-align: right;\n",
              "    }\n",
              "</style>\n",
              "<table border=\"1\" class=\"dataframe\">\n",
              "  <thead>\n",
              "    <tr style=\"text-align: right;\">\n",
              "      <th></th>\n",
              "      <th>Date</th>\n",
              "      <th>Recovered</th>\n",
              "      <th>Active</th>\n",
              "      <th>Confirmed</th>\n",
              "      <th>Deaths</th>\n",
              "    </tr>\n",
              "  </thead>\n",
              "  <tbody>\n",
              "    <tr>\n",
              "      <th>0</th>\n",
              "      <td>2020-01-22</td>\n",
              "      <td>0</td>\n",
              "      <td>0</td>\n",
              "      <td>0</td>\n",
              "      <td>0</td>\n",
              "    </tr>\n",
              "    <tr>\n",
              "      <th>1</th>\n",
              "      <td>2020-01-23</td>\n",
              "      <td>0</td>\n",
              "      <td>0</td>\n",
              "      <td>0</td>\n",
              "      <td>0</td>\n",
              "    </tr>\n",
              "    <tr>\n",
              "      <th>2</th>\n",
              "      <td>2020-01-24</td>\n",
              "      <td>0</td>\n",
              "      <td>0</td>\n",
              "      <td>0</td>\n",
              "      <td>0</td>\n",
              "    </tr>\n",
              "    <tr>\n",
              "      <th>3</th>\n",
              "      <td>2020-01-25</td>\n",
              "      <td>0</td>\n",
              "      <td>0</td>\n",
              "      <td>0</td>\n",
              "      <td>0</td>\n",
              "    </tr>\n",
              "    <tr>\n",
              "      <th>4</th>\n",
              "      <td>2020-01-26</td>\n",
              "      <td>0</td>\n",
              "      <td>0</td>\n",
              "      <td>0</td>\n",
              "      <td>0</td>\n",
              "    </tr>\n",
              "  </tbody>\n",
              "</table>\n",
              "</div>"
            ],
            "text/plain": [
              "        Date  Recovered  Active  Confirmed  Deaths\n",
              "0 2020-01-22          0       0          0       0\n",
              "1 2020-01-23          0       0          0       0\n",
              "2 2020-01-24          0       0          0       0\n",
              "3 2020-01-25          0       0          0       0\n",
              "4 2020-01-26          0       0          0       0"
            ]
          },
          "metadata": {
            "tags": []
          },
          "execution_count": 29
        }
      ]
    },
    {
      "cell_type": "code",
      "metadata": {
        "id": "eFwvWR4xHHxO",
        "colab_type": "code",
        "outputId": "55603797-872c-4a77-d4b4-949101d85904",
        "colab": {
          "base_uri": "https://localhost:8080/",
          "height": 258
        }
      },
      "source": [
        "us = df[df['Country']=='US']\n",
        "us = us.groupby('Date')['Recovered','Active','Confirmed','Deaths'].sum().reset_index()\n",
        "us.head()"
      ],
      "execution_count": 30,
      "outputs": [
        {
          "output_type": "stream",
          "text": [
            "/usr/local/lib/python3.6/dist-packages/ipykernel_launcher.py:2: FutureWarning:\n",
            "\n",
            "Indexing with multiple keys (implicitly converted to a tuple of keys) will be deprecated, use a list instead.\n",
            "\n"
          ],
          "name": "stderr"
        },
        {
          "output_type": "execute_result",
          "data": {
            "text/html": [
              "<div>\n",
              "<style scoped>\n",
              "    .dataframe tbody tr th:only-of-type {\n",
              "        vertical-align: middle;\n",
              "    }\n",
              "\n",
              "    .dataframe tbody tr th {\n",
              "        vertical-align: top;\n",
              "    }\n",
              "\n",
              "    .dataframe thead th {\n",
              "        text-align: right;\n",
              "    }\n",
              "</style>\n",
              "<table border=\"1\" class=\"dataframe\">\n",
              "  <thead>\n",
              "    <tr style=\"text-align: right;\">\n",
              "      <th></th>\n",
              "      <th>Date</th>\n",
              "      <th>Recovered</th>\n",
              "      <th>Active</th>\n",
              "      <th>Confirmed</th>\n",
              "      <th>Deaths</th>\n",
              "    </tr>\n",
              "  </thead>\n",
              "  <tbody>\n",
              "    <tr>\n",
              "      <th>0</th>\n",
              "      <td>2020-01-22</td>\n",
              "      <td>0</td>\n",
              "      <td>1</td>\n",
              "      <td>1</td>\n",
              "      <td>0</td>\n",
              "    </tr>\n",
              "    <tr>\n",
              "      <th>1</th>\n",
              "      <td>2020-01-23</td>\n",
              "      <td>0</td>\n",
              "      <td>1</td>\n",
              "      <td>1</td>\n",
              "      <td>0</td>\n",
              "    </tr>\n",
              "    <tr>\n",
              "      <th>2</th>\n",
              "      <td>2020-01-24</td>\n",
              "      <td>0</td>\n",
              "      <td>2</td>\n",
              "      <td>2</td>\n",
              "      <td>0</td>\n",
              "    </tr>\n",
              "    <tr>\n",
              "      <th>3</th>\n",
              "      <td>2020-01-25</td>\n",
              "      <td>0</td>\n",
              "      <td>2</td>\n",
              "      <td>2</td>\n",
              "      <td>0</td>\n",
              "    </tr>\n",
              "    <tr>\n",
              "      <th>4</th>\n",
              "      <td>2020-01-26</td>\n",
              "      <td>0</td>\n",
              "      <td>5</td>\n",
              "      <td>5</td>\n",
              "      <td>0</td>\n",
              "    </tr>\n",
              "  </tbody>\n",
              "</table>\n",
              "</div>"
            ],
            "text/plain": [
              "        Date  Recovered  Active  Confirmed  Deaths\n",
              "0 2020-01-22          0       1          1       0\n",
              "1 2020-01-23          0       1          1       0\n",
              "2 2020-01-24          0       2          2       0\n",
              "3 2020-01-25          0       2          2       0\n",
              "4 2020-01-26          0       5          5       0"
            ]
          },
          "metadata": {
            "tags": []
          },
          "execution_count": 30
        }
      ]
    },
    {
      "cell_type": "code",
      "metadata": {
        "id": "j8UsWU5aHmRi",
        "colab_type": "code",
        "outputId": "c97dadf5-c5dc-4cfb-de9a-5ee8aa4a9315",
        "colab": {
          "base_uri": "https://localhost:8080/",
          "height": 625
        }
      },
      "source": [
        "plt.figure(figsize=(15,10))\n",
        "plt.title(\"Active Cases vs Date\")\n",
        "plt.xticks(rotation=90,fontsize=8)\n",
        "sns.pointplot(china.index,china['Recovered'],color='red')\n",
        "sns.pointplot(us.index,us['Recovered'],color='blue')\n",
        "sns.pointplot(italy.index,italy['Recovered'],color='green')\n",
        "sns.pointplot(india.index,india['Recovered'],color='pink')"
      ],
      "execution_count": 31,
      "outputs": [
        {
          "output_type": "execute_result",
          "data": {
            "text/plain": [
              "<matplotlib.axes._subplots.AxesSubplot at 0x7f1fb75b4400>"
            ]
          },
          "metadata": {
            "tags": []
          },
          "execution_count": 31
        },
        {
          "output_type": "display_data",
          "data": {
            "image/png": "[encoded data removed]",
            "text/plain": [
              "<Figure size 1080x720 with 1 Axes>"
            ]
          },
          "metadata": {
            "tags": [],
            "needs_background": "light"
          }
        }
      ]
    },
    {
      "cell_type": "code",
      "metadata": {
        "id": "CsRvwlUlING-",
        "colab_type": "code",
        "outputId": "e818183f-17b0-417f-ae39-8a9f3687036d",
        "colab": {
          "base_uri": "https://localhost:8080/",
          "height": 591
        }
      },
      "source": [
        "plt.figure(figsize=(15,10))\n",
        "plt.plot(china.index,china['Recovered'],color='red',label=\"China\")\n",
        "plt.plot(us.index,us['Recovered'],color='blue',label='US')\n",
        "plt.plot(italy.index,italy['Recovered'],color='green',label='Italy')\n",
        "plt.plot(india.index,india['Recovered'],color='pink',label='India')\n",
        "plt.scatter(china.index,china['Recovered'],color='red',label=\"China\")\n",
        "plt.scatter(us.index,us['Recovered'],color='blue',label='US')\n",
        "plt.scatter(italy.index,italy['Recovered'],color='green',label='Italy')\n",
        "plt.scatter(india.index,india['Recovered'],color='pink',label='India')\n",
        "plt.legend(loc=2)\n",
        "plt.show()"
      ],
      "execution_count": 32,
      "outputs": [
        {
          "output_type": "display_data",
          "data": {
            "image/png": "[encoded data removed]",
            "text/plain": [
              "<Figure size 1080x720 with 1 Axes>"
            ]
          },
          "metadata": {
            "tags": [],
            "needs_background": "light"
          }
        }
      ]
    },
    {
      "cell_type": "code",
      "metadata": {
        "id": "WN6xGyhjJAV1",
        "colab_type": "code",
        "outputId": "8e7c5b2f-1bf0-48f5-91e1-b1a83857bd2d",
        "colab": {
          "base_uri": "https://localhost:8080/",
          "height": 591
        }
      },
      "source": [
        "plt.figure(figsize=(15,10))\n",
        "plt.plot(china.index,china['Recovered'],color='red',label=\"China\")\n",
        "plt.plot(us.index,us['Recovered'],color='blue',label='US')\n",
        "plt.plot(italy.index,italy['Recovered'],color='magenta',label='Italy')\n",
        "plt.plot(india.index,india['Recovered'],color='yellow',label='India')\n",
        "plt.scatter(china.index,china['Recovered'],color='red',label=\"China\", marker='*',s=200)\n",
        "plt.scatter(us.index,us['Recovered'],color='blue',label='US')\n",
        "plt.scatter(italy.index,italy['Recovered'],color='magenta',label='Italy')\n",
        "plt.scatter(india.index,india['Recovered'],color='yellow',label='India')\n",
        "plt.legend(loc=2)# Left Top\n",
        "plt.show()"
      ],
      "execution_count": 33,
      "outputs": [
        {
          "output_type": "display_data",
          "data": {
            "image/png": "[encoded data removed]",
            "text/plain": [
              "<Figure size 1080x720 with 1 Axes>"
            ]
          },
          "metadata": {
            "tags": [],
            "needs_background": "light"
          }
        }
      ]
    },
    {
      "cell_type": "code",
      "metadata": {
        "id": "aJQrJx-KJM65",
        "colab_type": "code",
        "outputId": "a516081d-5079-472f-f540-88581bbdf608",
        "colab": {
          "base_uri": "https://localhost:8080/",
          "height": 126
        }
      },
      "source": [
        "df.head().style.background_gradient(cmap='Reds')"
      ],
      "execution_count": 34,
      "outputs": [
        {
          "output_type": "execute_result",
          "data": {
            "text/html": [
              "<style  type=\"text/css\" >\n",
              "    #T_8644e22e_8a08_11ea_814b_0242ac1c0002row0_col1 {\n",
              "            background-color:  #b51318;\n",
              "            color:  #f1f1f1;\n",
              "        }    #T_8644e22e_8a08_11ea_814b_0242ac1c0002row0_col2 {\n",
              "            background-color:  #67000d;\n",
              "            color:  #f1f1f1;\n",
              "        }    #T_8644e22e_8a08_11ea_814b_0242ac1c0002row0_col4 {\n",
              "            background-color:  #fff5f0;\n",
              "            color:  #000000;\n",
              "        }    #T_8644e22e_8a08_11ea_814b_0242ac1c0002row0_col5 {\n",
              "            background-color:  #fff5f0;\n",
              "            color:  #000000;\n",
              "        }    #T_8644e22e_8a08_11ea_814b_0242ac1c0002row0_col6 {\n",
              "            background-color:  #fff5f0;\n",
              "            color:  #000000;\n",
              "        }    #T_8644e22e_8a08_11ea_814b_0242ac1c0002row0_col7 {\n",
              "            background-color:  #fff5f0;\n",
              "            color:  #000000;\n",
              "        }    #T_8644e22e_8a08_11ea_814b_0242ac1c0002row1_col1 {\n",
              "            background-color:  #73030f;\n",
              "            color:  #f1f1f1;\n",
              "        }    #T_8644e22e_8a08_11ea_814b_0242ac1c0002row1_col2 {\n",
              "            background-color:  #fcad90;\n",
              "            color:  #000000;\n",
              "        }    #T_8644e22e_8a08_11ea_814b_0242ac1c0002row1_col4 {\n",
              "            background-color:  #fff5f0;\n",
              "            color:  #000000;\n",
              "        }    #T_8644e22e_8a08_11ea_814b_0242ac1c0002row1_col5 {\n",
              "            background-color:  #fff5f0;\n",
              "            color:  #000000;\n",
              "        }    #T_8644e22e_8a08_11ea_814b_0242ac1c0002row1_col6 {\n",
              "            background-color:  #fff5f0;\n",
              "            color:  #000000;\n",
              "        }    #T_8644e22e_8a08_11ea_814b_0242ac1c0002row1_col7 {\n",
              "            background-color:  #fff5f0;\n",
              "            color:  #000000;\n",
              "        }    #T_8644e22e_8a08_11ea_814b_0242ac1c0002row2_col1 {\n",
              "            background-color:  #d01d1f;\n",
              "            color:  #f1f1f1;\n",
              "        }    #T_8644e22e_8a08_11ea_814b_0242ac1c0002row2_col2 {\n",
              "            background-color:  #fff5f0;\n",
              "            color:  #000000;\n",
              "        }    #T_8644e22e_8a08_11ea_814b_0242ac1c0002row2_col4 {\n",
              "            background-color:  #fff5f0;\n",
              "            color:  #000000;\n",
              "        }    #T_8644e22e_8a08_11ea_814b_0242ac1c0002row2_col5 {\n",
              "            background-color:  #fff5f0;\n",
              "            color:  #000000;\n",
              "        }    #T_8644e22e_8a08_11ea_814b_0242ac1c0002row2_col6 {\n",
              "            background-color:  #fff5f0;\n",
              "            color:  #000000;\n",
              "        }    #T_8644e22e_8a08_11ea_814b_0242ac1c0002row2_col7 {\n",
              "            background-color:  #fff5f0;\n",
              "            color:  #000000;\n",
              "        }    #T_8644e22e_8a08_11ea_814b_0242ac1c0002row3_col1 {\n",
              "            background-color:  #67000d;\n",
              "            color:  #f1f1f1;\n",
              "        }    #T_8644e22e_8a08_11ea_814b_0242ac1c0002row3_col2 {\n",
              "            background-color:  #fff5f0;\n",
              "            color:  #000000;\n",
              "        }    #T_8644e22e_8a08_11ea_814b_0242ac1c0002row3_col4 {\n",
              "            background-color:  #fff5f0;\n",
              "            color:  #000000;\n",
              "        }    #T_8644e22e_8a08_11ea_814b_0242ac1c0002row3_col5 {\n",
              "            background-color:  #fff5f0;\n",
              "            color:  #000000;\n",
              "        }    #T_8644e22e_8a08_11ea_814b_0242ac1c0002row3_col6 {\n",
              "            background-color:  #fff5f0;\n",
              "            color:  #000000;\n",
              "        }    #T_8644e22e_8a08_11ea_814b_0242ac1c0002row3_col7 {\n",
              "            background-color:  #fff5f0;\n",
              "            color:  #000000;\n",
              "        }    #T_8644e22e_8a08_11ea_814b_0242ac1c0002row4_col1 {\n",
              "            background-color:  #fff5f0;\n",
              "            color:  #000000;\n",
              "        }    #T_8644e22e_8a08_11ea_814b_0242ac1c0002row4_col2 {\n",
              "            background-color:  #fcb99f;\n",
              "            color:  #000000;\n",
              "        }    #T_8644e22e_8a08_11ea_814b_0242ac1c0002row4_col4 {\n",
              "            background-color:  #fff5f0;\n",
              "            color:  #000000;\n",
              "        }    #T_8644e22e_8a08_11ea_814b_0242ac1c0002row4_col5 {\n",
              "            background-color:  #fff5f0;\n",
              "            color:  #000000;\n",
              "        }    #T_8644e22e_8a08_11ea_814b_0242ac1c0002row4_col6 {\n",
              "            background-color:  #fff5f0;\n",
              "            color:  #000000;\n",
              "        }    #T_8644e22e_8a08_11ea_814b_0242ac1c0002row4_col7 {\n",
              "            background-color:  #fff5f0;\n",
              "            color:  #000000;\n",
              "        }</style><table id=\"T_8644e22e_8a08_11ea_814b_0242ac1c0002\" ><thead>    <tr>        <th class=\"blank level0\" ></th>        <th class=\"col_heading level0 col0\" >Country</th>        <th class=\"col_heading level0 col1\" >Lat</th>        <th class=\"col_heading level0 col2\" >Long</th>        <th class=\"col_heading level0 col3\" >Date</th>        <th class=\"col_heading level0 col4\" >Confirmed</th>        <th class=\"col_heading level0 col5\" >Deaths</th>        <th class=\"col_heading level0 col6\" >Recovered</th>        <th class=\"col_heading level0 col7\" >Active</th>    </tr></thead><tbody>\n",
              "                <tr>\n",
              "                        <th id=\"T_8644e22e_8a08_11ea_814b_0242ac1c0002level0_row0\" class=\"row_heading level0 row0\" >0</th>\n",
              "                        <td id=\"T_8644e22e_8a08_11ea_814b_0242ac1c0002row0_col0\" class=\"data row0 col0\" >Afghanistan</td>\n",
              "                        <td id=\"T_8644e22e_8a08_11ea_814b_0242ac1c0002row0_col1\" class=\"data row0 col1\" >33.000000</td>\n",
              "                        <td id=\"T_8644e22e_8a08_11ea_814b_0242ac1c0002row0_col2\" class=\"data row0 col2\" >65.000000</td>\n",
              "                        <td id=\"T_8644e22e_8a08_11ea_814b_0242ac1c0002row0_col3\" class=\"data row0 col3\" >2020-01-22 00:00:00</td>\n",
              "                        <td id=\"T_8644e22e_8a08_11ea_814b_0242ac1c0002row0_col4\" class=\"data row0 col4\" >0</td>\n",
              "                        <td id=\"T_8644e22e_8a08_11ea_814b_0242ac1c0002row0_col5\" class=\"data row0 col5\" >0</td>\n",
              "                        <td id=\"T_8644e22e_8a08_11ea_814b_0242ac1c0002row0_col6\" class=\"data row0 col6\" >0</td>\n",
              "                        <td id=\"T_8644e22e_8a08_11ea_814b_0242ac1c0002row0_col7\" class=\"data row0 col7\" >0</td>\n",
              "            </tr>\n",
              "            <tr>\n",
              "                        <th id=\"T_8644e22e_8a08_11ea_814b_0242ac1c0002level0_row1\" class=\"row_heading level0 row1\" >1</th>\n",
              "                        <td id=\"T_8644e22e_8a08_11ea_814b_0242ac1c0002row1_col0\" class=\"data row1 col0\" >Albania</td>\n",
              "                        <td id=\"T_8644e22e_8a08_11ea_814b_0242ac1c0002row1_col1\" class=\"data row1 col1\" >41.153300</td>\n",
              "                        <td id=\"T_8644e22e_8a08_11ea_814b_0242ac1c0002row1_col2\" class=\"data row1 col2\" >20.168300</td>\n",
              "                        <td id=\"T_8644e22e_8a08_11ea_814b_0242ac1c0002row1_col3\" class=\"data row1 col3\" >2020-01-22 00:00:00</td>\n",
              "                        <td id=\"T_8644e22e_8a08_11ea_814b_0242ac1c0002row1_col4\" class=\"data row1 col4\" >0</td>\n",
              "                        <td id=\"T_8644e22e_8a08_11ea_814b_0242ac1c0002row1_col5\" class=\"data row1 col5\" >0</td>\n",
              "                        <td id=\"T_8644e22e_8a08_11ea_814b_0242ac1c0002row1_col6\" class=\"data row1 col6\" >0</td>\n",
              "                        <td id=\"T_8644e22e_8a08_11ea_814b_0242ac1c0002row1_col7\" class=\"data row1 col7\" >0</td>\n",
              "            </tr>\n",
              "            <tr>\n",
              "                        <th id=\"T_8644e22e_8a08_11ea_814b_0242ac1c0002level0_row2\" class=\"row_heading level0 row2\" >2</th>\n",
              "                        <td id=\"T_8644e22e_8a08_11ea_814b_0242ac1c0002row2_col0\" class=\"data row2 col0\" >Algeria</td>\n",
              "                        <td id=\"T_8644e22e_8a08_11ea_814b_0242ac1c0002row2_col1\" class=\"data row2 col1\" >28.033900</td>\n",
              "                        <td id=\"T_8644e22e_8a08_11ea_814b_0242ac1c0002row2_col2\" class=\"data row2 col2\" >1.659600</td>\n",
              "                        <td id=\"T_8644e22e_8a08_11ea_814b_0242ac1c0002row2_col3\" class=\"data row2 col3\" >2020-01-22 00:00:00</td>\n",
              "                        <td id=\"T_8644e22e_8a08_11ea_814b_0242ac1c0002row2_col4\" class=\"data row2 col4\" >0</td>\n",
              "                        <td id=\"T_8644e22e_8a08_11ea_814b_0242ac1c0002row2_col5\" class=\"data row2 col5\" >0</td>\n",
              "                        <td id=\"T_8644e22e_8a08_11ea_814b_0242ac1c0002row2_col6\" class=\"data row2 col6\" >0</td>\n",
              "                        <td id=\"T_8644e22e_8a08_11ea_814b_0242ac1c0002row2_col7\" class=\"data row2 col7\" >0</td>\n",
              "            </tr>\n",
              "            <tr>\n",
              "                        <th id=\"T_8644e22e_8a08_11ea_814b_0242ac1c0002level0_row3\" class=\"row_heading level0 row3\" >3</th>\n",
              "                        <td id=\"T_8644e22e_8a08_11ea_814b_0242ac1c0002row3_col0\" class=\"data row3 col0\" >Andorra</td>\n",
              "                        <td id=\"T_8644e22e_8a08_11ea_814b_0242ac1c0002row3_col1\" class=\"data row3 col1\" >42.506300</td>\n",
              "                        <td id=\"T_8644e22e_8a08_11ea_814b_0242ac1c0002row3_col2\" class=\"data row3 col2\" >1.521800</td>\n",
              "                        <td id=\"T_8644e22e_8a08_11ea_814b_0242ac1c0002row3_col3\" class=\"data row3 col3\" >2020-01-22 00:00:00</td>\n",
              "                        <td id=\"T_8644e22e_8a08_11ea_814b_0242ac1c0002row3_col4\" class=\"data row3 col4\" >0</td>\n",
              "                        <td id=\"T_8644e22e_8a08_11ea_814b_0242ac1c0002row3_col5\" class=\"data row3 col5\" >0</td>\n",
              "                        <td id=\"T_8644e22e_8a08_11ea_814b_0242ac1c0002row3_col6\" class=\"data row3 col6\" >0</td>\n",
              "                        <td id=\"T_8644e22e_8a08_11ea_814b_0242ac1c0002row3_col7\" class=\"data row3 col7\" >0</td>\n",
              "            </tr>\n",
              "            <tr>\n",
              "                        <th id=\"T_8644e22e_8a08_11ea_814b_0242ac1c0002level0_row4\" class=\"row_heading level0 row4\" >4</th>\n",
              "                        <td id=\"T_8644e22e_8a08_11ea_814b_0242ac1c0002row4_col0\" class=\"data row4 col0\" >Angola</td>\n",
              "                        <td id=\"T_8644e22e_8a08_11ea_814b_0242ac1c0002row4_col1\" class=\"data row4 col1\" >-11.202700</td>\n",
              "                        <td id=\"T_8644e22e_8a08_11ea_814b_0242ac1c0002row4_col2\" class=\"data row4 col2\" >17.873900</td>\n",
              "                        <td id=\"T_8644e22e_8a08_11ea_814b_0242ac1c0002row4_col3\" class=\"data row4 col3\" >2020-01-22 00:00:00</td>\n",
              "                        <td id=\"T_8644e22e_8a08_11ea_814b_0242ac1c0002row4_col4\" class=\"data row4 col4\" >0</td>\n",
              "                        <td id=\"T_8644e22e_8a08_11ea_814b_0242ac1c0002row4_col5\" class=\"data row4 col5\" >0</td>\n",
              "                        <td id=\"T_8644e22e_8a08_11ea_814b_0242ac1c0002row4_col6\" class=\"data row4 col6\" >0</td>\n",
              "                        <td id=\"T_8644e22e_8a08_11ea_814b_0242ac1c0002row4_col7\" class=\"data row4 col7\" >0</td>\n",
              "            </tr>\n",
              "    </tbody></table>"
            ],
            "text/plain": [
              "<pandas.io.formats.style.Styler at 0x7f1fb75c1c50>"
            ]
          },
          "metadata": {
            "tags": []
          },
          "execution_count": 34
        }
      ]
    },
    {
      "cell_type": "code",
      "metadata": {
        "id": "E0CivP1NFBY2",
        "colab_type": "code",
        "colab": {}
      },
      "source": [
        "active = df.groupby('Date')['Active'].sum().reset_index()\n",
        "confirmed = df.groupby('Date')['Confirmed'].sum().reset_index()"
      ],
      "execution_count": 0,
      "outputs": []
    },
    {
      "cell_type": "code",
      "metadata": {
        "id": "liFc-KlGKwpu",
        "colab_type": "code",
        "outputId": "4f634f97-314b-40cb-84ee-b58747bfb30d",
        "colab": {
          "base_uri": "https://localhost:8080/",
          "height": 126
        }
      },
      "source": [
        "active.head().style.background_gradient(cmap='Reds')"
      ],
      "execution_count": 36,
      "outputs": [
        {
          "output_type": "execute_result",
          "data": {
            "text/html": [
              "<style  type=\"text/css\" >\n",
              "    #T_864a687a_8a08_11ea_814b_0242ac1c0002row0_col1 {\n",
              "            background-color:  #fff5f0;\n",
              "            color:  #000000;\n",
              "        }    #T_864a687a_8a08_11ea_814b_0242ac1c0002row1_col1 {\n",
              "            background-color:  #feeae1;\n",
              "            color:  #000000;\n",
              "        }    #T_864a687a_8a08_11ea_814b_0242ac1c0002row2_col1 {\n",
              "            background-color:  #fcbca2;\n",
              "            color:  #000000;\n",
              "        }    #T_864a687a_8a08_11ea_814b_0242ac1c0002row3_col1 {\n",
              "            background-color:  #f5533b;\n",
              "            color:  #000000;\n",
              "        }    #T_864a687a_8a08_11ea_814b_0242ac1c0002row4_col1 {\n",
              "            background-color:  #67000d;\n",
              "            color:  #f1f1f1;\n",
              "        }</style><table id=\"T_864a687a_8a08_11ea_814b_0242ac1c0002\" ><thead>    <tr>        <th class=\"blank level0\" ></th>        <th class=\"col_heading level0 col0\" >Date</th>        <th class=\"col_heading level0 col1\" >Active</th>    </tr></thead><tbody>\n",
              "                <tr>\n",
              "                        <th id=\"T_864a687a_8a08_11ea_814b_0242ac1c0002level0_row0\" class=\"row_heading level0 row0\" >0</th>\n",
              "                        <td id=\"T_864a687a_8a08_11ea_814b_0242ac1c0002row0_col0\" class=\"data row0 col0\" >2020-01-22 00:00:00</td>\n",
              "                        <td id=\"T_864a687a_8a08_11ea_814b_0242ac1c0002row0_col1\" class=\"data row0 col1\" >510</td>\n",
              "            </tr>\n",
              "            <tr>\n",
              "                        <th id=\"T_864a687a_8a08_11ea_814b_0242ac1c0002level0_row1\" class=\"row_heading level0 row1\" >1</th>\n",
              "                        <td id=\"T_864a687a_8a08_11ea_814b_0242ac1c0002row1_col0\" class=\"data row1 col0\" >2020-01-23 00:00:00</td>\n",
              "                        <td id=\"T_864a687a_8a08_11ea_814b_0242ac1c0002row1_col1\" class=\"data row1 col1\" >606</td>\n",
              "            </tr>\n",
              "            <tr>\n",
              "                        <th id=\"T_864a687a_8a08_11ea_814b_0242ac1c0002level0_row2\" class=\"row_heading level0 row2\" >2</th>\n",
              "                        <td id=\"T_864a687a_8a08_11ea_814b_0242ac1c0002row2_col0\" class=\"data row2 col0\" >2020-01-24 00:00:00</td>\n",
              "                        <td id=\"T_864a687a_8a08_11ea_814b_0242ac1c0002row2_col1\" class=\"data row2 col1\" >880</td>\n",
              "            </tr>\n",
              "            <tr>\n",
              "                        <th id=\"T_864a687a_8a08_11ea_814b_0242ac1c0002level0_row3\" class=\"row_heading level0 row3\" >3</th>\n",
              "                        <td id=\"T_864a687a_8a08_11ea_814b_0242ac1c0002row3_col0\" class=\"data row3 col0\" >2020-01-25 00:00:00</td>\n",
              "                        <td id=\"T_864a687a_8a08_11ea_814b_0242ac1c0002row3_col1\" class=\"data row3 col1\" >1354</td>\n",
              "            </tr>\n",
              "            <tr>\n",
              "                        <th id=\"T_864a687a_8a08_11ea_814b_0242ac1c0002level0_row4\" class=\"row_heading level0 row4\" >4</th>\n",
              "                        <td id=\"T_864a687a_8a08_11ea_814b_0242ac1c0002row4_col0\" class=\"data row4 col0\" >2020-01-26 00:00:00</td>\n",
              "                        <td id=\"T_864a687a_8a08_11ea_814b_0242ac1c0002row4_col1\" class=\"data row4 col1\" >2011</td>\n",
              "            </tr>\n",
              "    </tbody></table>"
            ],
            "text/plain": [
              "<pandas.io.formats.style.Styler at 0x7f1fb75beb00>"
            ]
          },
          "metadata": {
            "tags": []
          },
          "execution_count": 36
        }
      ]
    },
    {
      "cell_type": "code",
      "metadata": {
        "id": "fwnj8B4DK2Uf",
        "colab_type": "code",
        "colab": {}
      },
      "source": [
        "from fbprophet import Prophet\n",
        "## A library in python created by fb for the time series forecasting\n",
        "## we need two columns first -date(ds), second-forecast_value(y) (Restircted name ds and y)\n",
        "## So rename is required"
      ],
      "execution_count": 0,
      "outputs": []
    },
    {
      "cell_type": "code",
      "metadata": {
        "id": "maBC1efXK_6j",
        "colab_type": "code",
        "outputId": "585cc08e-c245-4e72-9e55-56e9e0aa332c",
        "colab": {
          "base_uri": "https://localhost:8080/",
          "height": 126
        }
      },
      "source": [
        "active.rename(columns={'Date':'ds','Active':'y'},inplace=True)\n",
        "active.head().style.background_gradient(cmap='Reds')"
      ],
      "execution_count": 38,
      "outputs": [
        {
          "output_type": "execute_result",
          "data": {
            "text/html": [
              "<style  type=\"text/css\" >\n",
              "    #T_865b66c0_8a08_11ea_814b_0242ac1c0002row0_col1 {\n",
              "            background-color:  #fff5f0;\n",
              "            color:  #000000;\n",
              "        }    #T_865b66c0_8a08_11ea_814b_0242ac1c0002row1_col1 {\n",
              "            background-color:  #feeae1;\n",
              "            color:  #000000;\n",
              "        }    #T_865b66c0_8a08_11ea_814b_0242ac1c0002row2_col1 {\n",
              "            background-color:  #fcbca2;\n",
              "            color:  #000000;\n",
              "        }    #T_865b66c0_8a08_11ea_814b_0242ac1c0002row3_col1 {\n",
              "            background-color:  #f5533b;\n",
              "            color:  #000000;\n",
              "        }    #T_865b66c0_8a08_11ea_814b_0242ac1c0002row4_col1 {\n",
              "            background-color:  #67000d;\n",
              "            color:  #f1f1f1;\n",
              "        }</style><table id=\"T_865b66c0_8a08_11ea_814b_0242ac1c0002\" ><thead>    <tr>        <th class=\"blank level0\" ></th>        <th class=\"col_heading level0 col0\" >ds</th>        <th class=\"col_heading level0 col1\" >y</th>    </tr></thead><tbody>\n",
              "                <tr>\n",
              "                        <th id=\"T_865b66c0_8a08_11ea_814b_0242ac1c0002level0_row0\" class=\"row_heading level0 row0\" >0</th>\n",
              "                        <td id=\"T_865b66c0_8a08_11ea_814b_0242ac1c0002row0_col0\" class=\"data row0 col0\" >2020-01-22 00:00:00</td>\n",
              "                        <td id=\"T_865b66c0_8a08_11ea_814b_0242ac1c0002row0_col1\" class=\"data row0 col1\" >510</td>\n",
              "            </tr>\n",
              "            <tr>\n",
              "                        <th id=\"T_865b66c0_8a08_11ea_814b_0242ac1c0002level0_row1\" class=\"row_heading level0 row1\" >1</th>\n",
              "                        <td id=\"T_865b66c0_8a08_11ea_814b_0242ac1c0002row1_col0\" class=\"data row1 col0\" >2020-01-23 00:00:00</td>\n",
              "                        <td id=\"T_865b66c0_8a08_11ea_814b_0242ac1c0002row1_col1\" class=\"data row1 col1\" >606</td>\n",
              "            </tr>\n",
              "            <tr>\n",
              "                        <th id=\"T_865b66c0_8a08_11ea_814b_0242ac1c0002level0_row2\" class=\"row_heading level0 row2\" >2</th>\n",
              "                        <td id=\"T_865b66c0_8a08_11ea_814b_0242ac1c0002row2_col0\" class=\"data row2 col0\" >2020-01-24 00:00:00</td>\n",
              "                        <td id=\"T_865b66c0_8a08_11ea_814b_0242ac1c0002row2_col1\" class=\"data row2 col1\" >880</td>\n",
              "            </tr>\n",
              "            <tr>\n",
              "                        <th id=\"T_865b66c0_8a08_11ea_814b_0242ac1c0002level0_row3\" class=\"row_heading level0 row3\" >3</th>\n",
              "                        <td id=\"T_865b66c0_8a08_11ea_814b_0242ac1c0002row3_col0\" class=\"data row3 col0\" >2020-01-25 00:00:00</td>\n",
              "                        <td id=\"T_865b66c0_8a08_11ea_814b_0242ac1c0002row3_col1\" class=\"data row3 col1\" >1354</td>\n",
              "            </tr>\n",
              "            <tr>\n",
              "                        <th id=\"T_865b66c0_8a08_11ea_814b_0242ac1c0002level0_row4\" class=\"row_heading level0 row4\" >4</th>\n",
              "                        <td id=\"T_865b66c0_8a08_11ea_814b_0242ac1c0002row4_col0\" class=\"data row4 col0\" >2020-01-26 00:00:00</td>\n",
              "                        <td id=\"T_865b66c0_8a08_11ea_814b_0242ac1c0002row4_col1\" class=\"data row4 col1\" >2011</td>\n",
              "            </tr>\n",
              "    </tbody></table>"
            ],
            "text/plain": [
              "<pandas.io.formats.style.Styler at 0x7f1fba6619e8>"
            ]
          },
          "metadata": {
            "tags": []
          },
          "execution_count": 38
        }
      ]
    },
    {
      "cell_type": "markdown",
      "metadata": {
        "id": "GTtqxfKjMHr5",
        "colab_type": "text"
      },
      "source": [
        "### Building the model"
      ]
    },
    {
      "cell_type": "code",
      "metadata": {
        "id": "JVxi0sG1L9Wb",
        "colab_type": "code",
        "colab": {}
      },
      "source": [
        "model = Prophet(interval_width=0.95) ## Confidence Level"
      ],
      "execution_count": 0,
      "outputs": []
    },
    {
      "cell_type": "code",
      "metadata": {
        "id": "yW9qRkowM_i_",
        "colab_type": "code",
        "outputId": "d41d5010-c994-4aac-cb44-e0f268da7e94",
        "colab": {
          "base_uri": "https://localhost:8080/",
          "height": 67
        }
      },
      "source": [
        "model.fit(active)"
      ],
      "execution_count": 40,
      "outputs": [
        {
          "output_type": "stream",
          "text": [
            "INFO:fbprophet:Disabling yearly seasonality. Run prophet with yearly_seasonality=True to override this.\n",
            "INFO:fbprophet:Disabling daily seasonality. Run prophet with daily_seasonality=True to override this.\n"
          ],
          "name": "stderr"
        },
        {
          "output_type": "execute_result",
          "data": {
            "text/plain": [
              "<fbprophet.forecaster.Prophet at 0x7f1fb75c1e48>"
            ]
          },
          "metadata": {
            "tags": []
          },
          "execution_count": 40
        }
      ]
    },
    {
      "cell_type": "code",
      "metadata": {
        "id": "V5CqL94WNEFS",
        "colab_type": "code",
        "outputId": "e5bca004-5a8c-41b9-9fb2-0c1e91f941eb",
        "colab": {
          "base_uri": "https://localhost:8080/",
          "height": 190
        }
      },
      "source": [
        "future = model.make_future_dataframe(periods=7)\n",
        "future.tail()"
      ],
      "execution_count": 41,
      "outputs": [
        {
          "output_type": "execute_result",
          "data": {
            "text/html": [
              "<div>\n",
              "<style scoped>\n",
              "    .dataframe tbody tr th:only-of-type {\n",
              "        vertical-align: middle;\n",
              "    }\n",
              "\n",
              "    .dataframe tbody tr th {\n",
              "        vertical-align: top;\n",
              "    }\n",
              "\n",
              "    .dataframe thead th {\n",
              "        text-align: right;\n",
              "    }\n",
              "</style>\n",
              "<table border=\"1\" class=\"dataframe\">\n",
              "  <thead>\n",
              "    <tr style=\"text-align: right;\">\n",
              "      <th></th>\n",
              "      <th>ds</th>\n",
              "    </tr>\n",
              "  </thead>\n",
              "  <tbody>\n",
              "    <tr>\n",
              "      <th>100</th>\n",
              "      <td>2020-05-01</td>\n",
              "    </tr>\n",
              "    <tr>\n",
              "      <th>101</th>\n",
              "      <td>2020-05-02</td>\n",
              "    </tr>\n",
              "    <tr>\n",
              "      <th>102</th>\n",
              "      <td>2020-05-03</td>\n",
              "    </tr>\n",
              "    <tr>\n",
              "      <th>103</th>\n",
              "      <td>2020-05-04</td>\n",
              "    </tr>\n",
              "    <tr>\n",
              "      <th>104</th>\n",
              "      <td>2020-05-05</td>\n",
              "    </tr>\n",
              "  </tbody>\n",
              "</table>\n",
              "</div>"
            ],
            "text/plain": [
              "            ds\n",
              "100 2020-05-01\n",
              "101 2020-05-02\n",
              "102 2020-05-03\n",
              "103 2020-05-04\n",
              "104 2020-05-05"
            ]
          },
          "metadata": {
            "tags": []
          },
          "execution_count": 41
        }
      ]
    },
    {
      "cell_type": "code",
      "metadata": {
        "id": "iF7liuxpOkSU",
        "colab_type": "code",
        "colab": {}
      },
      "source": [
        "forecast = model.predict(future)"
      ],
      "execution_count": 0,
      "outputs": []
    },
    {
      "cell_type": "code",
      "metadata": {
        "id": "CcFUHpmDO8IE",
        "colab_type": "code",
        "outputId": "0d3b6707-40f5-4cc8-eec9-8771f3a28b9c",
        "colab": {
          "base_uri": "https://localhost:8080/",
          "height": 417
        }
      },
      "source": [
        "forecast.tail(7).style.background_gradient(cmap='Reds')"
      ],
      "execution_count": 43,
      "outputs": [
        {
          "output_type": "execute_result",
          "data": {
            "text/html": [
              "<style  type=\"text/css\" >\n",
              "    #T_8965209a_8a08_11ea_814b_0242ac1c0002row0_col1 {\n",
              "            background-color:  #fff5f0;\n",
              "            color:  #000000;\n",
              "        }    #T_8965209a_8a08_11ea_814b_0242ac1c0002row0_col2 {\n",
              "            background-color:  #fff5f0;\n",
              "            color:  #000000;\n",
              "        }    #T_8965209a_8a08_11ea_814b_0242ac1c0002row0_col3 {\n",
              "            background-color:  #fff5f0;\n",
              "            color:  #000000;\n",
              "        }    #T_8965209a_8a08_11ea_814b_0242ac1c0002row0_col4 {\n",
              "            background-color:  #fff5f0;\n",
              "            color:  #000000;\n",
              "        }    #T_8965209a_8a08_11ea_814b_0242ac1c0002row0_col5 {\n",
              "            background-color:  #fff5f0;\n",
              "            color:  #000000;\n",
              "        }    #T_8965209a_8a08_11ea_814b_0242ac1c0002row0_col6 {\n",
              "            background-color:  #fff5f0;\n",
              "            color:  #000000;\n",
              "        }    #T_8965209a_8a08_11ea_814b_0242ac1c0002row0_col7 {\n",
              "            background-color:  #fff5f0;\n",
              "            color:  #000000;\n",
              "        }    #T_8965209a_8a08_11ea_814b_0242ac1c0002row0_col8 {\n",
              "            background-color:  #fff5f0;\n",
              "            color:  #000000;\n",
              "        }    #T_8965209a_8a08_11ea_814b_0242ac1c0002row0_col9 {\n",
              "            background-color:  #fff5f0;\n",
              "            color:  #000000;\n",
              "        }    #T_8965209a_8a08_11ea_814b_0242ac1c0002row0_col10 {\n",
              "            background-color:  #fff5f0;\n",
              "            color:  #000000;\n",
              "        }    #T_8965209a_8a08_11ea_814b_0242ac1c0002row0_col11 {\n",
              "            background-color:  #fff5f0;\n",
              "            color:  #000000;\n",
              "        }    #T_8965209a_8a08_11ea_814b_0242ac1c0002row0_col12 {\n",
              "            background-color:  #fff5f0;\n",
              "            color:  #000000;\n",
              "        }    #T_8965209a_8a08_11ea_814b_0242ac1c0002row0_col13 {\n",
              "            background-color:  #fff5f0;\n",
              "            color:  #000000;\n",
              "        }    #T_8965209a_8a08_11ea_814b_0242ac1c0002row0_col14 {\n",
              "            background-color:  #fff5f0;\n",
              "            color:  #000000;\n",
              "        }    #T_8965209a_8a08_11ea_814b_0242ac1c0002row0_col15 {\n",
              "            background-color:  #fff5f0;\n",
              "            color:  #000000;\n",
              "        }    #T_8965209a_8a08_11ea_814b_0242ac1c0002row1_col1 {\n",
              "            background-color:  #fdd4c2;\n",
              "            color:  #000000;\n",
              "        }    #T_8965209a_8a08_11ea_814b_0242ac1c0002row1_col2 {\n",
              "            background-color:  #fdcdb9;\n",
              "            color:  #000000;\n",
              "        }    #T_8965209a_8a08_11ea_814b_0242ac1c0002row1_col3 {\n",
              "            background-color:  #fdd5c4;\n",
              "            color:  #000000;\n",
              "        }    #T_8965209a_8a08_11ea_814b_0242ac1c0002row1_col4 {\n",
              "            background-color:  #fdd1be;\n",
              "            color:  #000000;\n",
              "        }    #T_8965209a_8a08_11ea_814b_0242ac1c0002row1_col5 {\n",
              "            background-color:  #fdd7c6;\n",
              "            color:  #000000;\n",
              "        }    #T_8965209a_8a08_11ea_814b_0242ac1c0002row1_col6 {\n",
              "            background-color:  #fc9c7d;\n",
              "            color:  #000000;\n",
              "        }    #T_8965209a_8a08_11ea_814b_0242ac1c0002row1_col7 {\n",
              "            background-color:  #fc9c7d;\n",
              "            color:  #000000;\n",
              "        }    #T_8965209a_8a08_11ea_814b_0242ac1c0002row1_col8 {\n",
              "            background-color:  #fc9c7d;\n",
              "            color:  #000000;\n",
              "        }    #T_8965209a_8a08_11ea_814b_0242ac1c0002row1_col9 {\n",
              "            background-color:  #fc9c7d;\n",
              "            color:  #000000;\n",
              "        }    #T_8965209a_8a08_11ea_814b_0242ac1c0002row1_col10 {\n",
              "            background-color:  #fc9c7d;\n",
              "            color:  #000000;\n",
              "        }    #T_8965209a_8a08_11ea_814b_0242ac1c0002row1_col11 {\n",
              "            background-color:  #fc9c7d;\n",
              "            color:  #000000;\n",
              "        }    #T_8965209a_8a08_11ea_814b_0242ac1c0002row1_col12 {\n",
              "            background-color:  #fff5f0;\n",
              "            color:  #000000;\n",
              "        }    #T_8965209a_8a08_11ea_814b_0242ac1c0002row1_col13 {\n",
              "            background-color:  #fff5f0;\n",
              "            color:  #000000;\n",
              "        }    #T_8965209a_8a08_11ea_814b_0242ac1c0002row1_col14 {\n",
              "            background-color:  #fff5f0;\n",
              "            color:  #000000;\n",
              "        }    #T_8965209a_8a08_11ea_814b_0242ac1c0002row1_col15 {\n",
              "            background-color:  #fdd2bf;\n",
              "            color:  #000000;\n",
              "        }    #T_8965209a_8a08_11ea_814b_0242ac1c0002row2_col1 {\n",
              "            background-color:  #fca082;\n",
              "            color:  #000000;\n",
              "        }    #T_8965209a_8a08_11ea_814b_0242ac1c0002row2_col2 {\n",
              "            background-color:  #fc8f6f;\n",
              "            color:  #000000;\n",
              "        }    #T_8965209a_8a08_11ea_814b_0242ac1c0002row2_col3 {\n",
              "            background-color:  #fca285;\n",
              "            color:  #000000;\n",
              "        }    #T_8965209a_8a08_11ea_814b_0242ac1c0002row2_col4 {\n",
              "            background-color:  #fc9d7f;\n",
              "            color:  #000000;\n",
              "        }    #T_8965209a_8a08_11ea_814b_0242ac1c0002row2_col5 {\n",
              "            background-color:  #fca486;\n",
              "            color:  #000000;\n",
              "        }    #T_8965209a_8a08_11ea_814b_0242ac1c0002row2_col6 {\n",
              "            background-color:  #a81016;\n",
              "            color:  #f1f1f1;\n",
              "        }    #T_8965209a_8a08_11ea_814b_0242ac1c0002row2_col7 {\n",
              "            background-color:  #a81016;\n",
              "            color:  #f1f1f1;\n",
              "        }    #T_8965209a_8a08_11ea_814b_0242ac1c0002row2_col8 {\n",
              "            background-color:  #a81016;\n",
              "            color:  #f1f1f1;\n",
              "        }    #T_8965209a_8a08_11ea_814b_0242ac1c0002row2_col9 {\n",
              "            background-color:  #a81016;\n",
              "            color:  #f1f1f1;\n",
              "        }    #T_8965209a_8a08_11ea_814b_0242ac1c0002row2_col10 {\n",
              "            background-color:  #a81016;\n",
              "            color:  #f1f1f1;\n",
              "        }    #T_8965209a_8a08_11ea_814b_0242ac1c0002row2_col11 {\n",
              "            background-color:  #a81016;\n",
              "            color:  #f1f1f1;\n",
              "        }    #T_8965209a_8a08_11ea_814b_0242ac1c0002row2_col12 {\n",
              "            background-color:  #fff5f0;\n",
              "            color:  #000000;\n",
              "        }    #T_8965209a_8a08_11ea_814b_0242ac1c0002row2_col13 {\n",
              "            background-color:  #fff5f0;\n",
              "            color:  #000000;\n",
              "        }    #T_8965209a_8a08_11ea_814b_0242ac1c0002row2_col14 {\n",
              "            background-color:  #fff5f0;\n",
              "            color:  #000000;\n",
              "        }    #T_8965209a_8a08_11ea_814b_0242ac1c0002row2_col15 {\n",
              "            background-color:  #fc997a;\n",
              "            color:  #000000;\n",
              "        }    #T_8965209a_8a08_11ea_814b_0242ac1c0002row3_col1 {\n",
              "            background-color:  #fb694a;\n",
              "            color:  #000000;\n",
              "        }    #T_8965209a_8a08_11ea_814b_0242ac1c0002row3_col2 {\n",
              "            background-color:  #f6563d;\n",
              "            color:  #000000;\n",
              "        }    #T_8965209a_8a08_11ea_814b_0242ac1c0002row3_col3 {\n",
              "            background-color:  #fb6c4c;\n",
              "            color:  #000000;\n",
              "        }    #T_8965209a_8a08_11ea_814b_0242ac1c0002row3_col4 {\n",
              "            background-color:  #fa6547;\n",
              "            color:  #000000;\n",
              "        }    #T_8965209a_8a08_11ea_814b_0242ac1c0002row3_col5 {\n",
              "            background-color:  #fb6e4e;\n",
              "            color:  #000000;\n",
              "        }    #T_8965209a_8a08_11ea_814b_0242ac1c0002row3_col6 {\n",
              "            background-color:  #67000d;\n",
              "            color:  #f1f1f1;\n",
              "        }    #T_8965209a_8a08_11ea_814b_0242ac1c0002row3_col7 {\n",
              "            background-color:  #67000d;\n",
              "            color:  #f1f1f1;\n",
              "        }    #T_8965209a_8a08_11ea_814b_0242ac1c0002row3_col8 {\n",
              "            background-color:  #67000d;\n",
              "            color:  #f1f1f1;\n",
              "        }    #T_8965209a_8a08_11ea_814b_0242ac1c0002row3_col9 {\n",
              "            background-color:  #67000d;\n",
              "            color:  #f1f1f1;\n",
              "        }    #T_8965209a_8a08_11ea_814b_0242ac1c0002row3_col10 {\n",
              "            background-color:  #67000d;\n",
              "            color:  #f1f1f1;\n",
              "        }    #T_8965209a_8a08_11ea_814b_0242ac1c0002row3_col11 {\n",
              "            background-color:  #67000d;\n",
              "            color:  #f1f1f1;\n",
              "        }    #T_8965209a_8a08_11ea_814b_0242ac1c0002row3_col12 {\n",
              "            background-color:  #fff5f0;\n",
              "            color:  #000000;\n",
              "        }    #T_8965209a_8a08_11ea_814b_0242ac1c0002row3_col13 {\n",
              "            background-color:  #fff5f0;\n",
              "            color:  #000000;\n",
              "        }    #T_8965209a_8a08_11ea_814b_0242ac1c0002row3_col14 {\n",
              "            background-color:  #fff5f0;\n",
              "            color:  #000000;\n",
              "        }    #T_8965209a_8a08_11ea_814b_0242ac1c0002row3_col15 {\n",
              "            background-color:  #f96044;\n",
              "            color:  #000000;\n",
              "        }    #T_8965209a_8a08_11ea_814b_0242ac1c0002row4_col1 {\n",
              "            background-color:  #e32f27;\n",
              "            color:  #f1f1f1;\n",
              "        }    #T_8965209a_8a08_11ea_814b_0242ac1c0002row4_col2 {\n",
              "            background-color:  #d32020;\n",
              "            color:  #f1f1f1;\n",
              "        }    #T_8965209a_8a08_11ea_814b_0242ac1c0002row4_col3 {\n",
              "            background-color:  #e43027;\n",
              "            color:  #f1f1f1;\n",
              "        }    #T_8965209a_8a08_11ea_814b_0242ac1c0002row4_col4 {\n",
              "            background-color:  #e02c26;\n",
              "            color:  #f1f1f1;\n",
              "        }    #T_8965209a_8a08_11ea_814b_0242ac1c0002row4_col5 {\n",
              "            background-color:  #e83429;\n",
              "            color:  #f1f1f1;\n",
              "        }    #T_8965209a_8a08_11ea_814b_0242ac1c0002row4_col6 {\n",
              "            background-color:  #a30f15;\n",
              "            color:  #f1f1f1;\n",
              "        }    #T_8965209a_8a08_11ea_814b_0242ac1c0002row4_col7 {\n",
              "            background-color:  #a30f15;\n",
              "            color:  #f1f1f1;\n",
              "        }    #T_8965209a_8a08_11ea_814b_0242ac1c0002row4_col8 {\n",
              "            background-color:  #a30f15;\n",
              "            color:  #f1f1f1;\n",
              "        }    #T_8965209a_8a08_11ea_814b_0242ac1c0002row4_col9 {\n",
              "            background-color:  #a30f15;\n",
              "            color:  #f1f1f1;\n",
              "        }    #T_8965209a_8a08_11ea_814b_0242ac1c0002row4_col10 {\n",
              "            background-color:  #a30f15;\n",
              "            color:  #f1f1f1;\n",
              "        }    #T_8965209a_8a08_11ea_814b_0242ac1c0002row4_col11 {\n",
              "            background-color:  #a30f15;\n",
              "            color:  #f1f1f1;\n",
              "        }    #T_8965209a_8a08_11ea_814b_0242ac1c0002row4_col12 {\n",
              "            background-color:  #fff5f0;\n",
              "            color:  #000000;\n",
              "        }    #T_8965209a_8a08_11ea_814b_0242ac1c0002row4_col13 {\n",
              "            background-color:  #fff5f0;\n",
              "            color:  #000000;\n",
              "        }    #T_8965209a_8a08_11ea_814b_0242ac1c0002row4_col14 {\n",
              "            background-color:  #fff5f0;\n",
              "            color:  #000000;\n",
              "        }    #T_8965209a_8a08_11ea_814b_0242ac1c0002row4_col15 {\n",
              "            background-color:  #dc2924;\n",
              "            color:  #f1f1f1;\n",
              "        }    #T_8965209a_8a08_11ea_814b_0242ac1c0002row5_col1 {\n",
              "            background-color:  #b11218;\n",
              "            color:  #f1f1f1;\n",
              "        }    #T_8965209a_8a08_11ea_814b_0242ac1c0002row5_col2 {\n",
              "            background-color:  #ad1117;\n",
              "            color:  #f1f1f1;\n",
              "        }    #T_8965209a_8a08_11ea_814b_0242ac1c0002row5_col3 {\n",
              "            background-color:  #b01217;\n",
              "            color:  #f1f1f1;\n",
              "        }    #T_8965209a_8a08_11ea_814b_0242ac1c0002row5_col4 {\n",
              "            background-color:  #b01217;\n",
              "            color:  #f1f1f1;\n",
              "        }    #T_8965209a_8a08_11ea_814b_0242ac1c0002row5_col5 {\n",
              "            background-color:  #b51318;\n",
              "            color:  #f1f1f1;\n",
              "        }    #T_8965209a_8a08_11ea_814b_0242ac1c0002row5_col6 {\n",
              "            background-color:  #f85f43;\n",
              "            color:  #000000;\n",
              "        }    #T_8965209a_8a08_11ea_814b_0242ac1c0002row5_col7 {\n",
              "            background-color:  #f85f43;\n",
              "            color:  #000000;\n",
              "        }    #T_8965209a_8a08_11ea_814b_0242ac1c0002row5_col8 {\n",
              "            background-color:  #f85f43;\n",
              "            color:  #000000;\n",
              "        }    #T_8965209a_8a08_11ea_814b_0242ac1c0002row5_col9 {\n",
              "            background-color:  #f85f43;\n",
              "            color:  #000000;\n",
              "        }    #T_8965209a_8a08_11ea_814b_0242ac1c0002row5_col10 {\n",
              "            background-color:  #f85f43;\n",
              "            color:  #000000;\n",
              "        }    #T_8965209a_8a08_11ea_814b_0242ac1c0002row5_col11 {\n",
              "            background-color:  #f85f43;\n",
              "            color:  #000000;\n",
              "        }    #T_8965209a_8a08_11ea_814b_0242ac1c0002row5_col12 {\n",
              "            background-color:  #fff5f0;\n",
              "            color:  #000000;\n",
              "        }    #T_8965209a_8a08_11ea_814b_0242ac1c0002row5_col13 {\n",
              "            background-color:  #fff5f0;\n",
              "            color:  #000000;\n",
              "        }    #T_8965209a_8a08_11ea_814b_0242ac1c0002row5_col14 {\n",
              "            background-color:  #fff5f0;\n",
              "            color:  #000000;\n",
              "        }    #T_8965209a_8a08_11ea_814b_0242ac1c0002row5_col15 {\n",
              "            background-color:  #ad1117;\n",
              "            color:  #f1f1f1;\n",
              "        }    #T_8965209a_8a08_11ea_814b_0242ac1c0002row6_col1 {\n",
              "            background-color:  #67000d;\n",
              "            color:  #f1f1f1;\n",
              "        }    #T_8965209a_8a08_11ea_814b_0242ac1c0002row6_col2 {\n",
              "            background-color:  #67000d;\n",
              "            color:  #f1f1f1;\n",
              "        }    #T_8965209a_8a08_11ea_814b_0242ac1c0002row6_col3 {\n",
              "            background-color:  #67000d;\n",
              "            color:  #f1f1f1;\n",
              "        }    #T_8965209a_8a08_11ea_814b_0242ac1c0002row6_col4 {\n",
              "            background-color:  #67000d;\n",
              "            color:  #f1f1f1;\n",
              "        }    #T_8965209a_8a08_11ea_814b_0242ac1c0002row6_col5 {\n",
              "            background-color:  #67000d;\n",
              "            color:  #f1f1f1;\n",
              "        }    #T_8965209a_8a08_11ea_814b_0242ac1c0002row6_col6 {\n",
              "            background-color:  #ffeee6;\n",
              "            color:  #000000;\n",
              "        }    #T_8965209a_8a08_11ea_814b_0242ac1c0002row6_col7 {\n",
              "            background-color:  #ffeee6;\n",
              "            color:  #000000;\n",
              "        }    #T_8965209a_8a08_11ea_814b_0242ac1c0002row6_col8 {\n",
              "            background-color:  #ffeee6;\n",
              "            color:  #000000;\n",
              "        }    #T_8965209a_8a08_11ea_814b_0242ac1c0002row6_col9 {\n",
              "            background-color:  #ffeee6;\n",
              "            color:  #000000;\n",
              "        }    #T_8965209a_8a08_11ea_814b_0242ac1c0002row6_col10 {\n",
              "            background-color:  #ffeee6;\n",
              "            color:  #000000;\n",
              "        }    #T_8965209a_8a08_11ea_814b_0242ac1c0002row6_col11 {\n",
              "            background-color:  #ffeee6;\n",
              "            color:  #000000;\n",
              "        }    #T_8965209a_8a08_11ea_814b_0242ac1c0002row6_col12 {\n",
              "            background-color:  #fff5f0;\n",
              "            color:  #000000;\n",
              "        }    #T_8965209a_8a08_11ea_814b_0242ac1c0002row6_col13 {\n",
              "            background-color:  #fff5f0;\n",
              "            color:  #000000;\n",
              "        }    #T_8965209a_8a08_11ea_814b_0242ac1c0002row6_col14 {\n",
              "            background-color:  #fff5f0;\n",
              "            color:  #000000;\n",
              "        }    #T_8965209a_8a08_11ea_814b_0242ac1c0002row6_col15 {\n",
              "            background-color:  #67000d;\n",
              "            color:  #f1f1f1;\n",
              "        }</style><table id=\"T_8965209a_8a08_11ea_814b_0242ac1c0002\" ><thead>    <tr>        <th class=\"blank level0\" ></th>        <th class=\"col_heading level0 col0\" >ds</th>        <th class=\"col_heading level0 col1\" >trend</th>        <th class=\"col_heading level0 col2\" >yhat_lower</th>        <th class=\"col_heading level0 col3\" >yhat_upper</th>        <th class=\"col_heading level0 col4\" >trend_lower</th>        <th class=\"col_heading level0 col5\" >trend_upper</th>        <th class=\"col_heading level0 col6\" >additive_terms</th>        <th class=\"col_heading level0 col7\" >additive_terms_lower</th>        <th class=\"col_heading level0 col8\" >additive_terms_upper</th>        <th class=\"col_heading level0 col9\" >weekly</th>        <th class=\"col_heading level0 col10\" >weekly_lower</th>        <th class=\"col_heading level0 col11\" >weekly_upper</th>        <th class=\"col_heading level0 col12\" >multiplicative_terms</th>        <th class=\"col_heading level0 col13\" >multiplicative_terms_lower</th>        <th class=\"col_heading level0 col14\" >multiplicative_terms_upper</th>        <th class=\"col_heading level0 col15\" >yhat</th>    </tr></thead><tbody>\n",
              "                <tr>\n",
              "                        <th id=\"T_8965209a_8a08_11ea_814b_0242ac1c0002level0_row0\" class=\"row_heading level0 row0\" >98</th>\n",
              "                        <td id=\"T_8965209a_8a08_11ea_814b_0242ac1c0002row0_col0\" class=\"data row0 col0\" >2020-04-29 00:00:00</td>\n",
              "                        <td id=\"T_8965209a_8a08_11ea_814b_0242ac1c0002row0_col1\" class=\"data row0 col1\" >2078048.387280</td>\n",
              "                        <td id=\"T_8965209a_8a08_11ea_814b_0242ac1c0002row0_col2\" class=\"data row0 col2\" >2060020.202192</td>\n",
              "                        <td id=\"T_8965209a_8a08_11ea_814b_0242ac1c0002row0_col3\" class=\"data row0 col3\" >2088947.654937</td>\n",
              "                        <td id=\"T_8965209a_8a08_11ea_814b_0242ac1c0002row0_col4\" class=\"data row0 col4\" >2075682.192233</td>\n",
              "                        <td id=\"T_8965209a_8a08_11ea_814b_0242ac1c0002row0_col5\" class=\"data row0 col5\" >2079778.208782</td>\n",
              "                        <td id=\"T_8965209a_8a08_11ea_814b_0242ac1c0002row0_col6\" class=\"data row0 col6\" >-3668.791035</td>\n",
              "                        <td id=\"T_8965209a_8a08_11ea_814b_0242ac1c0002row0_col7\" class=\"data row0 col7\" >-3668.791035</td>\n",
              "                        <td id=\"T_8965209a_8a08_11ea_814b_0242ac1c0002row0_col8\" class=\"data row0 col8\" >-3668.791035</td>\n",
              "                        <td id=\"T_8965209a_8a08_11ea_814b_0242ac1c0002row0_col9\" class=\"data row0 col9\" >-3668.791035</td>\n",
              "                        <td id=\"T_8965209a_8a08_11ea_814b_0242ac1c0002row0_col10\" class=\"data row0 col10\" >-3668.791035</td>\n",
              "                        <td id=\"T_8965209a_8a08_11ea_814b_0242ac1c0002row0_col11\" class=\"data row0 col11\" >-3668.791035</td>\n",
              "                        <td id=\"T_8965209a_8a08_11ea_814b_0242ac1c0002row0_col12\" class=\"data row0 col12\" >0.000000</td>\n",
              "                        <td id=\"T_8965209a_8a08_11ea_814b_0242ac1c0002row0_col13\" class=\"data row0 col13\" >0.000000</td>\n",
              "                        <td id=\"T_8965209a_8a08_11ea_814b_0242ac1c0002row0_col14\" class=\"data row0 col14\" >0.000000</td>\n",
              "                        <td id=\"T_8965209a_8a08_11ea_814b_0242ac1c0002row0_col15\" class=\"data row0 col15\" >2074379.596245</td>\n",
              "            </tr>\n",
              "            <tr>\n",
              "                        <th id=\"T_8965209a_8a08_11ea_814b_0242ac1c0002level0_row1\" class=\"row_heading level0 row1\" >99</th>\n",
              "                        <td id=\"T_8965209a_8a08_11ea_814b_0242ac1c0002row1_col0\" class=\"data row1 col0\" >2020-04-30 00:00:00</td>\n",
              "                        <td id=\"T_8965209a_8a08_11ea_814b_0242ac1c0002row1_col1\" class=\"data row1 col1\" >2125045.164666</td>\n",
              "                        <td id=\"T_8965209a_8a08_11ea_814b_0242ac1c0002row1_col2\" class=\"data row1 col2\" >2106679.135328</td>\n",
              "                        <td id=\"T_8965209a_8a08_11ea_814b_0242ac1c0002row1_col3\" class=\"data row1 col3\" >2140204.526474</td>\n",
              "                        <td id=\"T_8965209a_8a08_11ea_814b_0242ac1c0002row1_col4\" class=\"data row1 col4\" >2117417.709140</td>\n",
              "                        <td id=\"T_8965209a_8a08_11ea_814b_0242ac1c0002row1_col5\" class=\"data row1 col5\" >2131761.122919</td>\n",
              "                        <td id=\"T_8965209a_8a08_11ea_814b_0242ac1c0002row1_col6\" class=\"data row1 col6\" >-1251.372734</td>\n",
              "                        <td id=\"T_8965209a_8a08_11ea_814b_0242ac1c0002row1_col7\" class=\"data row1 col7\" >-1251.372734</td>\n",
              "                        <td id=\"T_8965209a_8a08_11ea_814b_0242ac1c0002row1_col8\" class=\"data row1 col8\" >-1251.372734</td>\n",
              "                        <td id=\"T_8965209a_8a08_11ea_814b_0242ac1c0002row1_col9\" class=\"data row1 col9\" >-1251.372734</td>\n",
              "                        <td id=\"T_8965209a_8a08_11ea_814b_0242ac1c0002row1_col10\" class=\"data row1 col10\" >-1251.372734</td>\n",
              "                        <td id=\"T_8965209a_8a08_11ea_814b_0242ac1c0002row1_col11\" class=\"data row1 col11\" >-1251.372734</td>\n",
              "                        <td id=\"T_8965209a_8a08_11ea_814b_0242ac1c0002row1_col12\" class=\"data row1 col12\" >0.000000</td>\n",
              "                        <td id=\"T_8965209a_8a08_11ea_814b_0242ac1c0002row1_col13\" class=\"data row1 col13\" >0.000000</td>\n",
              "                        <td id=\"T_8965209a_8a08_11ea_814b_0242ac1c0002row1_col14\" class=\"data row1 col14\" >0.000000</td>\n",
              "                        <td id=\"T_8965209a_8a08_11ea_814b_0242ac1c0002row1_col15\" class=\"data row1 col15\" >2123793.791932</td>\n",
              "            </tr>\n",
              "            <tr>\n",
              "                        <th id=\"T_8965209a_8a08_11ea_814b_0242ac1c0002level0_row2\" class=\"row_heading level0 row2\" >100</th>\n",
              "                        <td id=\"T_8965209a_8a08_11ea_814b_0242ac1c0002row2_col0\" class=\"data row2 col0\" >2020-05-01 00:00:00</td>\n",
              "                        <td id=\"T_8965209a_8a08_11ea_814b_0242ac1c0002row2_col1\" class=\"data row2 col1\" >2172041.942052</td>\n",
              "                        <td id=\"T_8965209a_8a08_11ea_814b_0242ac1c0002row2_col2\" class=\"data row2 col2\" >2154752.776377</td>\n",
              "                        <td id=\"T_8965209a_8a08_11ea_814b_0242ac1c0002row2_col3\" class=\"data row2 col3\" >2192192.124191</td>\n",
              "                        <td id=\"T_8965209a_8a08_11ea_814b_0242ac1c0002row2_col4\" class=\"data row2 col4\" >2156978.465146</td>\n",
              "                        <td id=\"T_8965209a_8a08_11ea_814b_0242ac1c0002row2_col5\" class=\"data row2 col5\" >2184596.777908</td>\n",
              "                        <td id=\"T_8965209a_8a08_11ea_814b_0242ac1c0002row2_col6\" class=\"data row2 col6\" >2407.543169</td>\n",
              "                        <td id=\"T_8965209a_8a08_11ea_814b_0242ac1c0002row2_col7\" class=\"data row2 col7\" >2407.543169</td>\n",
              "                        <td id=\"T_8965209a_8a08_11ea_814b_0242ac1c0002row2_col8\" class=\"data row2 col8\" >2407.543169</td>\n",
              "                        <td id=\"T_8965209a_8a08_11ea_814b_0242ac1c0002row2_col9\" class=\"data row2 col9\" >2407.543169</td>\n",
              "                        <td id=\"T_8965209a_8a08_11ea_814b_0242ac1c0002row2_col10\" class=\"data row2 col10\" >2407.543169</td>\n",
              "                        <td id=\"T_8965209a_8a08_11ea_814b_0242ac1c0002row2_col11\" class=\"data row2 col11\" >2407.543169</td>\n",
              "                        <td id=\"T_8965209a_8a08_11ea_814b_0242ac1c0002row2_col12\" class=\"data row2 col12\" >0.000000</td>\n",
              "                        <td id=\"T_8965209a_8a08_11ea_814b_0242ac1c0002row2_col13\" class=\"data row2 col13\" >0.000000</td>\n",
              "                        <td id=\"T_8965209a_8a08_11ea_814b_0242ac1c0002row2_col14\" class=\"data row2 col14\" >0.000000</td>\n",
              "                        <td id=\"T_8965209a_8a08_11ea_814b_0242ac1c0002row2_col15\" class=\"data row2 col15\" >2174449.485222</td>\n",
              "            </tr>\n",
              "            <tr>\n",
              "                        <th id=\"T_8965209a_8a08_11ea_814b_0242ac1c0002level0_row3\" class=\"row_heading level0 row3\" >101</th>\n",
              "                        <td id=\"T_8965209a_8a08_11ea_814b_0242ac1c0002row3_col0\" class=\"data row3 col0\" >2020-05-02 00:00:00</td>\n",
              "                        <td id=\"T_8965209a_8a08_11ea_814b_0242ac1c0002row3_col1\" class=\"data row3 col1\" >2219038.719439</td>\n",
              "                        <td id=\"T_8965209a_8a08_11ea_814b_0242ac1c0002row3_col2\" class=\"data row3 col2\" >2195821.029700</td>\n",
              "                        <td id=\"T_8965209a_8a08_11ea_814b_0242ac1c0002row3_col3\" class=\"data row3 col3\" >2246083.765534</td>\n",
              "                        <td id=\"T_8965209a_8a08_11ea_814b_0242ac1c0002row3_col4\" class=\"data row3 col4\" >2196914.612856</td>\n",
              "                        <td id=\"T_8965209a_8a08_11ea_814b_0242ac1c0002row3_col5\" class=\"data row3 col5\" >2238104.103002</td>\n",
              "                        <td id=\"T_8965209a_8a08_11ea_814b_0242ac1c0002row3_col6\" class=\"data row3 col6\" >3343.856333</td>\n",
              "                        <td id=\"T_8965209a_8a08_11ea_814b_0242ac1c0002row3_col7\" class=\"data row3 col7\" >3343.856333</td>\n",
              "                        <td id=\"T_8965209a_8a08_11ea_814b_0242ac1c0002row3_col8\" class=\"data row3 col8\" >3343.856333</td>\n",
              "                        <td id=\"T_8965209a_8a08_11ea_814b_0242ac1c0002row3_col9\" class=\"data row3 col9\" >3343.856333</td>\n",
              "                        <td id=\"T_8965209a_8a08_11ea_814b_0242ac1c0002row3_col10\" class=\"data row3 col10\" >3343.856333</td>\n",
              "                        <td id=\"T_8965209a_8a08_11ea_814b_0242ac1c0002row3_col11\" class=\"data row3 col11\" >3343.856333</td>\n",
              "                        <td id=\"T_8965209a_8a08_11ea_814b_0242ac1c0002row3_col12\" class=\"data row3 col12\" >0.000000</td>\n",
              "                        <td id=\"T_8965209a_8a08_11ea_814b_0242ac1c0002row3_col13\" class=\"data row3 col13\" >0.000000</td>\n",
              "                        <td id=\"T_8965209a_8a08_11ea_814b_0242ac1c0002row3_col14\" class=\"data row3 col14\" >0.000000</td>\n",
              "                        <td id=\"T_8965209a_8a08_11ea_814b_0242ac1c0002row3_col15\" class=\"data row3 col15\" >2222382.575771</td>\n",
              "            </tr>\n",
              "            <tr>\n",
              "                        <th id=\"T_8965209a_8a08_11ea_814b_0242ac1c0002level0_row4\" class=\"row_heading level0 row4\" >102</th>\n",
              "                        <td id=\"T_8965209a_8a08_11ea_814b_0242ac1c0002row4_col0\" class=\"data row4 col0\" >2020-05-03 00:00:00</td>\n",
              "                        <td id=\"T_8965209a_8a08_11ea_814b_0242ac1c0002row4_col1\" class=\"data row4 col1\" >2266035.496825</td>\n",
              "                        <td id=\"T_8965209a_8a08_11ea_814b_0242ac1c0002row4_col2\" class=\"data row4 col2\" >2237476.646992</td>\n",
              "                        <td id=\"T_8965209a_8a08_11ea_814b_0242ac1c0002row4_col3\" class=\"data row4 col3\" >2298488.817073</td>\n",
              "                        <td id=\"T_8965209a_8a08_11ea_814b_0242ac1c0002row4_col4\" class=\"data row4 col4\" >2236567.425696</td>\n",
              "                        <td id=\"T_8965209a_8a08_11ea_814b_0242ac1c0002row4_col5\" class=\"data row4 col5\" >2292408.269457</td>\n",
              "                        <td id=\"T_8965209a_8a08_11ea_814b_0242ac1c0002row4_col6\" class=\"data row4 col6\" >2485.956730</td>\n",
              "                        <td id=\"T_8965209a_8a08_11ea_814b_0242ac1c0002row4_col7\" class=\"data row4 col7\" >2485.956730</td>\n",
              "                        <td id=\"T_8965209a_8a08_11ea_814b_0242ac1c0002row4_col8\" class=\"data row4 col8\" >2485.956730</td>\n",
              "                        <td id=\"T_8965209a_8a08_11ea_814b_0242ac1c0002row4_col9\" class=\"data row4 col9\" >2485.956730</td>\n",
              "                        <td id=\"T_8965209a_8a08_11ea_814b_0242ac1c0002row4_col10\" class=\"data row4 col10\" >2485.956730</td>\n",
              "                        <td id=\"T_8965209a_8a08_11ea_814b_0242ac1c0002row4_col11\" class=\"data row4 col11\" >2485.956730</td>\n",
              "                        <td id=\"T_8965209a_8a08_11ea_814b_0242ac1c0002row4_col12\" class=\"data row4 col12\" >0.000000</td>\n",
              "                        <td id=\"T_8965209a_8a08_11ea_814b_0242ac1c0002row4_col13\" class=\"data row4 col13\" >0.000000</td>\n",
              "                        <td id=\"T_8965209a_8a08_11ea_814b_0242ac1c0002row4_col14\" class=\"data row4 col14\" >0.000000</td>\n",
              "                        <td id=\"T_8965209a_8a08_11ea_814b_0242ac1c0002row4_col15\" class=\"data row4 col15\" >2268521.453554</td>\n",
              "            </tr>\n",
              "            <tr>\n",
              "                        <th id=\"T_8965209a_8a08_11ea_814b_0242ac1c0002level0_row5\" class=\"row_heading level0 row5\" >103</th>\n",
              "                        <td id=\"T_8965209a_8a08_11ea_814b_0242ac1c0002row5_col0\" class=\"data row5 col0\" >2020-05-04 00:00:00</td>\n",
              "                        <td id=\"T_8965209a_8a08_11ea_814b_0242ac1c0002row5_col1\" class=\"data row5 col1\" >2313032.274211</td>\n",
              "                        <td id=\"T_8965209a_8a08_11ea_814b_0242ac1c0002row5_col2\" class=\"data row5 col2\" >2268404.256461</td>\n",
              "                        <td id=\"T_8965209a_8a08_11ea_814b_0242ac1c0002row5_col3\" class=\"data row5 col3\" >2354989.967537</td>\n",
              "                        <td id=\"T_8965209a_8a08_11ea_814b_0242ac1c0002row5_col4\" class=\"data row5 col4\" >2273660.192188</td>\n",
              "                        <td id=\"T_8965209a_8a08_11ea_814b_0242ac1c0002row5_col5\" class=\"data row5 col5\" >2349014.494670</td>\n",
              "                        <td id=\"T_8965209a_8a08_11ea_814b_0242ac1c0002row5_col6\" class=\"data row5 col6\" >47.545886</td>\n",
              "                        <td id=\"T_8965209a_8a08_11ea_814b_0242ac1c0002row5_col7\" class=\"data row5 col7\" >47.545886</td>\n",
              "                        <td id=\"T_8965209a_8a08_11ea_814b_0242ac1c0002row5_col8\" class=\"data row5 col8\" >47.545886</td>\n",
              "                        <td id=\"T_8965209a_8a08_11ea_814b_0242ac1c0002row5_col9\" class=\"data row5 col9\" >47.545886</td>\n",
              "                        <td id=\"T_8965209a_8a08_11ea_814b_0242ac1c0002row5_col10\" class=\"data row5 col10\" >47.545886</td>\n",
              "                        <td id=\"T_8965209a_8a08_11ea_814b_0242ac1c0002row5_col11\" class=\"data row5 col11\" >47.545886</td>\n",
              "                        <td id=\"T_8965209a_8a08_11ea_814b_0242ac1c0002row5_col12\" class=\"data row5 col12\" >0.000000</td>\n",
              "                        <td id=\"T_8965209a_8a08_11ea_814b_0242ac1c0002row5_col13\" class=\"data row5 col13\" >0.000000</td>\n",
              "                        <td id=\"T_8965209a_8a08_11ea_814b_0242ac1c0002row5_col14\" class=\"data row5 col14\" >0.000000</td>\n",
              "                        <td id=\"T_8965209a_8a08_11ea_814b_0242ac1c0002row5_col15\" class=\"data row5 col15\" >2313079.820097</td>\n",
              "            </tr>\n",
              "            <tr>\n",
              "                        <th id=\"T_8965209a_8a08_11ea_814b_0242ac1c0002level0_row6\" class=\"row_heading level0 row6\" >104</th>\n",
              "                        <td id=\"T_8965209a_8a08_11ea_814b_0242ac1c0002row6_col0\" class=\"data row6 col0\" >2020-05-05 00:00:00</td>\n",
              "                        <td id=\"T_8965209a_8a08_11ea_814b_0242ac1c0002row6_col1\" class=\"data row6 col1\" >2360029.051597</td>\n",
              "                        <td id=\"T_8965209a_8a08_11ea_814b_0242ac1c0002row6_col2\" class=\"data row6 col2\" >2306000.695622</td>\n",
              "                        <td id=\"T_8965209a_8a08_11ea_814b_0242ac1c0002row6_col3\" class=\"data row6 col3\" >2406199.054712</td>\n",
              "                        <td id=\"T_8965209a_8a08_11ea_814b_0242ac1c0002row6_col4\" class=\"data row6 col4\" >2312391.977237</td>\n",
              "                        <td id=\"T_8965209a_8a08_11ea_814b_0242ac1c0002row6_col5\" class=\"data row6 col5\" >2406485.308362</td>\n",
              "                        <td id=\"T_8965209a_8a08_11ea_814b_0242ac1c0002row6_col6\" class=\"data row6 col6\" >-3364.738349</td>\n",
              "                        <td id=\"T_8965209a_8a08_11ea_814b_0242ac1c0002row6_col7\" class=\"data row6 col7\" >-3364.738349</td>\n",
              "                        <td id=\"T_8965209a_8a08_11ea_814b_0242ac1c0002row6_col8\" class=\"data row6 col8\" >-3364.738349</td>\n",
              "                        <td id=\"T_8965209a_8a08_11ea_814b_0242ac1c0002row6_col9\" class=\"data row6 col9\" >-3364.738349</td>\n",
              "                        <td id=\"T_8965209a_8a08_11ea_814b_0242ac1c0002row6_col10\" class=\"data row6 col10\" >-3364.738349</td>\n",
              "                        <td id=\"T_8965209a_8a08_11ea_814b_0242ac1c0002row6_col11\" class=\"data row6 col11\" >-3364.738349</td>\n",
              "                        <td id=\"T_8965209a_8a08_11ea_814b_0242ac1c0002row6_col12\" class=\"data row6 col12\" >0.000000</td>\n",
              "                        <td id=\"T_8965209a_8a08_11ea_814b_0242ac1c0002row6_col13\" class=\"data row6 col13\" >0.000000</td>\n",
              "                        <td id=\"T_8965209a_8a08_11ea_814b_0242ac1c0002row6_col14\" class=\"data row6 col14\" >0.000000</td>\n",
              "                        <td id=\"T_8965209a_8a08_11ea_814b_0242ac1c0002row6_col15\" class=\"data row6 col15\" >2356664.313248</td>\n",
              "            </tr>\n",
              "    </tbody></table>"
            ],
            "text/plain": [
              "<pandas.io.formats.style.Styler at 0x7f1fb3d0fa20>"
            ]
          },
          "metadata": {
            "tags": []
          },
          "execution_count": 43
        }
      ]
    },
    {
      "cell_type": "code",
      "metadata": {
        "id": "uZ6ubw8wPB0H",
        "colab_type": "code",
        "outputId": "a525e764-0037-4af9-dbda-d746a34e3904",
        "colab": {
          "base_uri": "https://localhost:8080/",
          "height": 162
        }
      },
      "source": [
        "forecast[['ds','yhat','yhat_lower','yhat_upper']].tail(7).style.background_gradient(cmap='Reds')"
      ],
      "execution_count": 44,
      "outputs": [
        {
          "output_type": "execute_result",
          "data": {
            "text/html": [
              "<style  type=\"text/css\" >\n",
              "    #T_896a871a_8a08_11ea_814b_0242ac1c0002row0_col1 {\n",
              "            background-color:  #fff5f0;\n",
              "            color:  #000000;\n",
              "        }    #T_896a871a_8a08_11ea_814b_0242ac1c0002row0_col2 {\n",
              "            background-color:  #fff5f0;\n",
              "            color:  #000000;\n",
              "        }    #T_896a871a_8a08_11ea_814b_0242ac1c0002row0_col3 {\n",
              "            background-color:  #fff5f0;\n",
              "            color:  #000000;\n",
              "        }    #T_896a871a_8a08_11ea_814b_0242ac1c0002row1_col1 {\n",
              "            background-color:  #fdd2bf;\n",
              "            color:  #000000;\n",
              "        }    #T_896a871a_8a08_11ea_814b_0242ac1c0002row1_col2 {\n",
              "            background-color:  #fdcdb9;\n",
              "            color:  #000000;\n",
              "        }    #T_896a871a_8a08_11ea_814b_0242ac1c0002row1_col3 {\n",
              "            background-color:  #fdd5c4;\n",
              "            color:  #000000;\n",
              "        }    #T_896a871a_8a08_11ea_814b_0242ac1c0002row2_col1 {\n",
              "            background-color:  #fc997a;\n",
              "            color:  #000000;\n",
              "        }    #T_896a871a_8a08_11ea_814b_0242ac1c0002row2_col2 {\n",
              "            background-color:  #fc8f6f;\n",
              "            color:  #000000;\n",
              "        }    #T_896a871a_8a08_11ea_814b_0242ac1c0002row2_col3 {\n",
              "            background-color:  #fca285;\n",
              "            color:  #000000;\n",
              "        }    #T_896a871a_8a08_11ea_814b_0242ac1c0002row3_col1 {\n",
              "            background-color:  #f96044;\n",
              "            color:  #000000;\n",
              "        }    #T_896a871a_8a08_11ea_814b_0242ac1c0002row3_col2 {\n",
              "            background-color:  #f6563d;\n",
              "            color:  #000000;\n",
              "        }    #T_896a871a_8a08_11ea_814b_0242ac1c0002row3_col3 {\n",
              "            background-color:  #fb6c4c;\n",
              "            color:  #000000;\n",
              "        }    #T_896a871a_8a08_11ea_814b_0242ac1c0002row4_col1 {\n",
              "            background-color:  #dc2924;\n",
              "            color:  #f1f1f1;\n",
              "        }    #T_896a871a_8a08_11ea_814b_0242ac1c0002row4_col2 {\n",
              "            background-color:  #d32020;\n",
              "            color:  #f1f1f1;\n",
              "        }    #T_896a871a_8a08_11ea_814b_0242ac1c0002row4_col3 {\n",
              "            background-color:  #e43027;\n",
              "            color:  #f1f1f1;\n",
              "        }    #T_896a871a_8a08_11ea_814b_0242ac1c0002row5_col1 {\n",
              "            background-color:  #ad1117;\n",
              "            color:  #f1f1f1;\n",
              "        }    #T_896a871a_8a08_11ea_814b_0242ac1c0002row5_col2 {\n",
              "            background-color:  #ad1117;\n",
              "            color:  #f1f1f1;\n",
              "        }    #T_896a871a_8a08_11ea_814b_0242ac1c0002row5_col3 {\n",
              "            background-color:  #b01217;\n",
              "            color:  #f1f1f1;\n",
              "        }    #T_896a871a_8a08_11ea_814b_0242ac1c0002row6_col1 {\n",
              "            background-color:  #67000d;\n",
              "            color:  #f1f1f1;\n",
              "        }    #T_896a871a_8a08_11ea_814b_0242ac1c0002row6_col2 {\n",
              "            background-color:  #67000d;\n",
              "            color:  #f1f1f1;\n",
              "        }    #T_896a871a_8a08_11ea_814b_0242ac1c0002row6_col3 {\n",
              "            background-color:  #67000d;\n",
              "            color:  #f1f1f1;\n",
              "        }</style><table id=\"T_896a871a_8a08_11ea_814b_0242ac1c0002\" ><thead>    <tr>        <th class=\"blank level0\" ></th>        <th class=\"col_heading level0 col0\" >ds</th>        <th class=\"col_heading level0 col1\" >yhat</th>        <th class=\"col_heading level0 col2\" >yhat_lower</th>        <th class=\"col_heading level0 col3\" >yhat_upper</th>    </tr></thead><tbody>\n",
              "                <tr>\n",
              "                        <th id=\"T_896a871a_8a08_11ea_814b_0242ac1c0002level0_row0\" class=\"row_heading level0 row0\" >98</th>\n",
              "                        <td id=\"T_896a871a_8a08_11ea_814b_0242ac1c0002row0_col0\" class=\"data row0 col0\" >2020-04-29 00:00:00</td>\n",
              "                        <td id=\"T_896a871a_8a08_11ea_814b_0242ac1c0002row0_col1\" class=\"data row0 col1\" >2074379.596245</td>\n",
              "                        <td id=\"T_896a871a_8a08_11ea_814b_0242ac1c0002row0_col2\" class=\"data row0 col2\" >2060020.202192</td>\n",
              "                        <td id=\"T_896a871a_8a08_11ea_814b_0242ac1c0002row0_col3\" class=\"data row0 col3\" >2088947.654937</td>\n",
              "            </tr>\n",
              "            <tr>\n",
              "                        <th id=\"T_896a871a_8a08_11ea_814b_0242ac1c0002level0_row1\" class=\"row_heading level0 row1\" >99</th>\n",
              "                        <td id=\"T_896a871a_8a08_11ea_814b_0242ac1c0002row1_col0\" class=\"data row1 col0\" >2020-04-30 00:00:00</td>\n",
              "                        <td id=\"T_896a871a_8a08_11ea_814b_0242ac1c0002row1_col1\" class=\"data row1 col1\" >2123793.791932</td>\n",
              "                        <td id=\"T_896a871a_8a08_11ea_814b_0242ac1c0002row1_col2\" class=\"data row1 col2\" >2106679.135328</td>\n",
              "                        <td id=\"T_896a871a_8a08_11ea_814b_0242ac1c0002row1_col3\" class=\"data row1 col3\" >2140204.526474</td>\n",
              "            </tr>\n",
              "            <tr>\n",
              "                        <th id=\"T_896a871a_8a08_11ea_814b_0242ac1c0002level0_row2\" class=\"row_heading level0 row2\" >100</th>\n",
              "                        <td id=\"T_896a871a_8a08_11ea_814b_0242ac1c0002row2_col0\" class=\"data row2 col0\" >2020-05-01 00:00:00</td>\n",
              "                        <td id=\"T_896a871a_8a08_11ea_814b_0242ac1c0002row2_col1\" class=\"data row2 col1\" >2174449.485222</td>\n",
              "                        <td id=\"T_896a871a_8a08_11ea_814b_0242ac1c0002row2_col2\" class=\"data row2 col2\" >2154752.776377</td>\n",
              "                        <td id=\"T_896a871a_8a08_11ea_814b_0242ac1c0002row2_col3\" class=\"data row2 col3\" >2192192.124191</td>\n",
              "            </tr>\n",
              "            <tr>\n",
              "                        <th id=\"T_896a871a_8a08_11ea_814b_0242ac1c0002level0_row3\" class=\"row_heading level0 row3\" >101</th>\n",
              "                        <td id=\"T_896a871a_8a08_11ea_814b_0242ac1c0002row3_col0\" class=\"data row3 col0\" >2020-05-02 00:00:00</td>\n",
              "                        <td id=\"T_896a871a_8a08_11ea_814b_0242ac1c0002row3_col1\" class=\"data row3 col1\" >2222382.575771</td>\n",
              "                        <td id=\"T_896a871a_8a08_11ea_814b_0242ac1c0002row3_col2\" class=\"data row3 col2\" >2195821.029700</td>\n",
              "                        <td id=\"T_896a871a_8a08_11ea_814b_0242ac1c0002row3_col3\" class=\"data row3 col3\" >2246083.765534</td>\n",
              "            </tr>\n",
              "            <tr>\n",
              "                        <th id=\"T_896a871a_8a08_11ea_814b_0242ac1c0002level0_row4\" class=\"row_heading level0 row4\" >102</th>\n",
              "                        <td id=\"T_896a871a_8a08_11ea_814b_0242ac1c0002row4_col0\" class=\"data row4 col0\" >2020-05-03 00:00:00</td>\n",
              "                        <td id=\"T_896a871a_8a08_11ea_814b_0242ac1c0002row4_col1\" class=\"data row4 col1\" >2268521.453554</td>\n",
              "                        <td id=\"T_896a871a_8a08_11ea_814b_0242ac1c0002row4_col2\" class=\"data row4 col2\" >2237476.646992</td>\n",
              "                        <td id=\"T_896a871a_8a08_11ea_814b_0242ac1c0002row4_col3\" class=\"data row4 col3\" >2298488.817073</td>\n",
              "            </tr>\n",
              "            <tr>\n",
              "                        <th id=\"T_896a871a_8a08_11ea_814b_0242ac1c0002level0_row5\" class=\"row_heading level0 row5\" >103</th>\n",
              "                        <td id=\"T_896a871a_8a08_11ea_814b_0242ac1c0002row5_col0\" class=\"data row5 col0\" >2020-05-04 00:00:00</td>\n",
              "                        <td id=\"T_896a871a_8a08_11ea_814b_0242ac1c0002row5_col1\" class=\"data row5 col1\" >2313079.820097</td>\n",
              "                        <td id=\"T_896a871a_8a08_11ea_814b_0242ac1c0002row5_col2\" class=\"data row5 col2\" >2268404.256461</td>\n",
              "                        <td id=\"T_896a871a_8a08_11ea_814b_0242ac1c0002row5_col3\" class=\"data row5 col3\" >2354989.967537</td>\n",
              "            </tr>\n",
              "            <tr>\n",
              "                        <th id=\"T_896a871a_8a08_11ea_814b_0242ac1c0002level0_row6\" class=\"row_heading level0 row6\" >104</th>\n",
              "                        <td id=\"T_896a871a_8a08_11ea_814b_0242ac1c0002row6_col0\" class=\"data row6 col0\" >2020-05-05 00:00:00</td>\n",
              "                        <td id=\"T_896a871a_8a08_11ea_814b_0242ac1c0002row6_col1\" class=\"data row6 col1\" >2356664.313248</td>\n",
              "                        <td id=\"T_896a871a_8a08_11ea_814b_0242ac1c0002row6_col2\" class=\"data row6 col2\" >2306000.695622</td>\n",
              "                        <td id=\"T_896a871a_8a08_11ea_814b_0242ac1c0002row6_col3\" class=\"data row6 col3\" >2406199.054712</td>\n",
              "            </tr>\n",
              "    </tbody></table>"
            ],
            "text/plain": [
              "<pandas.io.formats.style.Styler at 0x7f1fb3d5b278>"
            ]
          },
          "metadata": {
            "tags": []
          },
          "execution_count": 44
        }
      ]
    },
    {
      "cell_type": "code",
      "metadata": {
        "id": "sXhD6I6lPcsA",
        "colab_type": "code",
        "outputId": "497dbf10-4231-404f-8256-d41d4ecbe37b",
        "colab": {
          "base_uri": "https://localhost:8080/",
          "height": 440
        }
      },
      "source": [
        "active_plot = model.plot(forecast)"
      ],
      "execution_count": 45,
      "outputs": [
        {
          "output_type": "display_data",
          "data": {
            "image/png": "[encoded data removed]",
            "text/plain": [
              "<Figure size 720x432 with 1 Axes>"
            ]
          },
          "metadata": {
            "tags": []
          }
        }
      ]
    },
    {
      "cell_type": "code",
      "metadata": {
        "id": "Z2Y2spBjQM6q",
        "colab_type": "code",
        "outputId": "a49c7635-6d4f-451e-a4f2-de3c7068d196",
        "colab": {
          "base_uri": "https://localhost:8080/",
          "height": 440
        }
      },
      "source": [
        "active_plot_weekly = model.plot_components(forecast)"
      ],
      "execution_count": 46,
      "outputs": [
        {
          "output_type": "display_data",
          "data": {
            "image/png": "[encoded data removed]",
            "text/plain": [
              "<Figure size 648x432 with 2 Axes>"
            ]
          },
          "metadata": {
            "tags": []
          }
        }
      ]
    },
    {
      "cell_type": "code",
      "metadata": {
        "id": "xo0AIOBcQX7L",
        "colab_type": "code",
        "outputId": "bb3dd49a-cfe5-4334-d308-346a17190ec1",
        "colab": {
          "base_uri": "https://localhost:8080/",
          "height": 126
        }
      },
      "source": [
        "confirmed.head().style.background_gradient(cmap='Reds')\n",
        "confirmed.rename(columns={'Date':'ds','Confirmed':'y'},inplace=True)\n",
        "confirmed.head().style.background_gradient(cmap='Reds')\n"
      ],
      "execution_count": 47,
      "outputs": [
        {
          "output_type": "execute_result",
          "data": {
            "text/html": [
              "<style  type=\"text/css\" >\n",
              "    #T_89db24ca_8a08_11ea_814b_0242ac1c0002row0_col1 {\n",
              "            background-color:  #fff5f0;\n",
              "            color:  #000000;\n",
              "        }    #T_89db24ca_8a08_11ea_814b_0242ac1c0002row1_col1 {\n",
              "            background-color:  #feeae1;\n",
              "            color:  #000000;\n",
              "        }    #T_89db24ca_8a08_11ea_814b_0242ac1c0002row2_col1 {\n",
              "            background-color:  #fcbca2;\n",
              "            color:  #000000;\n",
              "        }    #T_89db24ca_8a08_11ea_814b_0242ac1c0002row3_col1 {\n",
              "            background-color:  #f5533b;\n",
              "            color:  #000000;\n",
              "        }    #T_89db24ca_8a08_11ea_814b_0242ac1c0002row4_col1 {\n",
              "            background-color:  #67000d;\n",
              "            color:  #f1f1f1;\n",
              "        }</style><table id=\"T_89db24ca_8a08_11ea_814b_0242ac1c0002\" ><thead>    <tr>        <th class=\"blank level0\" ></th>        <th class=\"col_heading level0 col0\" >ds</th>        <th class=\"col_heading level0 col1\" >y</th>    </tr></thead><tbody>\n",
              "                <tr>\n",
              "                        <th id=\"T_89db24ca_8a08_11ea_814b_0242ac1c0002level0_row0\" class=\"row_heading level0 row0\" >0</th>\n",
              "                        <td id=\"T_89db24ca_8a08_11ea_814b_0242ac1c0002row0_col0\" class=\"data row0 col0\" >2020-01-22 00:00:00</td>\n",
              "                        <td id=\"T_89db24ca_8a08_11ea_814b_0242ac1c0002row0_col1\" class=\"data row0 col1\" >555</td>\n",
              "            </tr>\n",
              "            <tr>\n",
              "                        <th id=\"T_89db24ca_8a08_11ea_814b_0242ac1c0002level0_row1\" class=\"row_heading level0 row1\" >1</th>\n",
              "                        <td id=\"T_89db24ca_8a08_11ea_814b_0242ac1c0002row1_col0\" class=\"data row1 col0\" >2020-01-23 00:00:00</td>\n",
              "                        <td id=\"T_89db24ca_8a08_11ea_814b_0242ac1c0002row1_col1\" class=\"data row1 col1\" >654</td>\n",
              "            </tr>\n",
              "            <tr>\n",
              "                        <th id=\"T_89db24ca_8a08_11ea_814b_0242ac1c0002level0_row2\" class=\"row_heading level0 row2\" >2</th>\n",
              "                        <td id=\"T_89db24ca_8a08_11ea_814b_0242ac1c0002row2_col0\" class=\"data row2 col0\" >2020-01-24 00:00:00</td>\n",
              "                        <td id=\"T_89db24ca_8a08_11ea_814b_0242ac1c0002row2_col1\" class=\"data row2 col1\" >941</td>\n",
              "            </tr>\n",
              "            <tr>\n",
              "                        <th id=\"T_89db24ca_8a08_11ea_814b_0242ac1c0002level0_row3\" class=\"row_heading level0 row3\" >3</th>\n",
              "                        <td id=\"T_89db24ca_8a08_11ea_814b_0242ac1c0002row3_col0\" class=\"data row3 col0\" >2020-01-25 00:00:00</td>\n",
              "                        <td id=\"T_89db24ca_8a08_11ea_814b_0242ac1c0002row3_col1\" class=\"data row3 col1\" >1434</td>\n",
              "            </tr>\n",
              "            <tr>\n",
              "                        <th id=\"T_89db24ca_8a08_11ea_814b_0242ac1c0002level0_row4\" class=\"row_heading level0 row4\" >4</th>\n",
              "                        <td id=\"T_89db24ca_8a08_11ea_814b_0242ac1c0002row4_col0\" class=\"data row4 col0\" >2020-01-26 00:00:00</td>\n",
              "                        <td id=\"T_89db24ca_8a08_11ea_814b_0242ac1c0002row4_col1\" class=\"data row4 col1\" >2118</td>\n",
              "            </tr>\n",
              "    </tbody></table>"
            ],
            "text/plain": [
              "<pandas.io.formats.style.Styler at 0x7f1fba9e0cf8>"
            ]
          },
          "metadata": {
            "tags": []
          },
          "execution_count": 47
        }
      ]
    },
    {
      "cell_type": "code",
      "metadata": {
        "id": "XIirE1TWRaJD",
        "colab_type": "code",
        "outputId": "7cbccff5-1359-46d5-da3f-de0787c62ac8",
        "colab": {
          "base_uri": "https://localhost:8080/",
          "height": 224
        }
      },
      "source": [
        "model = Prophet(interval_width=0.95) ## Confidence Level\n",
        "model.fit(confirmed)\n",
        "forecast = model.predict(future)\n",
        "future = model.make_future_dataframe(periods=7)\n",
        "future.tail()"
      ],
      "execution_count": 48,
      "outputs": [
        {
          "output_type": "stream",
          "text": [
            "INFO:fbprophet:Disabling yearly seasonality. Run prophet with yearly_seasonality=True to override this.\n",
            "INFO:fbprophet:Disabling daily seasonality. Run prophet with daily_seasonality=True to override this.\n"
          ],
          "name": "stderr"
        },
        {
          "output_type": "execute_result",
          "data": {
            "text/html": [
              "<div>\n",
              "<style scoped>\n",
              "    .dataframe tbody tr th:only-of-type {\n",
              "        vertical-align: middle;\n",
              "    }\n",
              "\n",
              "    .dataframe tbody tr th {\n",
              "        vertical-align: top;\n",
              "    }\n",
              "\n",
              "    .dataframe thead th {\n",
              "        text-align: right;\n",
              "    }\n",
              "</style>\n",
              "<table border=\"1\" class=\"dataframe\">\n",
              "  <thead>\n",
              "    <tr style=\"text-align: right;\">\n",
              "      <th></th>\n",
              "      <th>ds</th>\n",
              "    </tr>\n",
              "  </thead>\n",
              "  <tbody>\n",
              "    <tr>\n",
              "      <th>100</th>\n",
              "      <td>2020-05-01</td>\n",
              "    </tr>\n",
              "    <tr>\n",
              "      <th>101</th>\n",
              "      <td>2020-05-02</td>\n",
              "    </tr>\n",
              "    <tr>\n",
              "      <th>102</th>\n",
              "      <td>2020-05-03</td>\n",
              "    </tr>\n",
              "    <tr>\n",
              "      <th>103</th>\n",
              "      <td>2020-05-04</td>\n",
              "    </tr>\n",
              "    <tr>\n",
              "      <th>104</th>\n",
              "      <td>2020-05-05</td>\n",
              "    </tr>\n",
              "  </tbody>\n",
              "</table>\n",
              "</div>"
            ],
            "text/plain": [
              "            ds\n",
              "100 2020-05-01\n",
              "101 2020-05-02\n",
              "102 2020-05-03\n",
              "103 2020-05-04\n",
              "104 2020-05-05"
            ]
          },
          "metadata": {
            "tags": []
          },
          "execution_count": 48
        }
      ]
    },
    {
      "cell_type": "code",
      "metadata": {
        "id": "aXTBMnOQSHu_",
        "colab_type": "code",
        "outputId": "acf98767-7ec1-4085-acef-d086d1bc76a0",
        "colab": {
          "base_uri": "https://localhost:8080/",
          "height": 162
        }
      },
      "source": [
        "forecast.tail(7).style.background_gradient(cmap='Reds')\n",
        "forecast[['ds','yhat','yhat_lower','yhat_upper']].tail(7).style.background_gradient(cmap='Reds')"
      ],
      "execution_count": 49,
      "outputs": [
        {
          "output_type": "execute_result",
          "data": {
            "text/html": [
              "<style  type=\"text/css\" >\n",
              "    #T_8bdbeb56_8a08_11ea_814b_0242ac1c0002row0_col1 {\n",
              "            background-color:  #fff5f0;\n",
              "            color:  #000000;\n",
              "        }    #T_8bdbeb56_8a08_11ea_814b_0242ac1c0002row0_col2 {\n",
              "            background-color:  #fff5f0;\n",
              "            color:  #000000;\n",
              "        }    #T_8bdbeb56_8a08_11ea_814b_0242ac1c0002row0_col3 {\n",
              "            background-color:  #fff5f0;\n",
              "            color:  #000000;\n",
              "        }    #T_8bdbeb56_8a08_11ea_814b_0242ac1c0002row1_col1 {\n",
              "            background-color:  #fdd3c1;\n",
              "            color:  #000000;\n",
              "        }    #T_8bdbeb56_8a08_11ea_814b_0242ac1c0002row1_col2 {\n",
              "            background-color:  #fdcebb;\n",
              "            color:  #000000;\n",
              "        }    #T_8bdbeb56_8a08_11ea_814b_0242ac1c0002row1_col3 {\n",
              "            background-color:  #fdd7c6;\n",
              "            color:  #000000;\n",
              "        }    #T_8bdbeb56_8a08_11ea_814b_0242ac1c0002row2_col1 {\n",
              "            background-color:  #fc9b7c;\n",
              "            color:  #000000;\n",
              "        }    #T_8bdbeb56_8a08_11ea_814b_0242ac1c0002row2_col2 {\n",
              "            background-color:  #fc9576;\n",
              "            color:  #000000;\n",
              "        }    #T_8bdbeb56_8a08_11ea_814b_0242ac1c0002row2_col3 {\n",
              "            background-color:  #fca082;\n",
              "            color:  #000000;\n",
              "        }    #T_8bdbeb56_8a08_11ea_814b_0242ac1c0002row3_col1 {\n",
              "            background-color:  #f96346;\n",
              "            color:  #000000;\n",
              "        }    #T_8bdbeb56_8a08_11ea_814b_0242ac1c0002row3_col2 {\n",
              "            background-color:  #f85d42;\n",
              "            color:  #000000;\n",
              "        }    #T_8bdbeb56_8a08_11ea_814b_0242ac1c0002row3_col3 {\n",
              "            background-color:  #fb6b4b;\n",
              "            color:  #000000;\n",
              "        }    #T_8bdbeb56_8a08_11ea_814b_0242ac1c0002row4_col1 {\n",
              "            background-color:  #de2b25;\n",
              "            color:  #f1f1f1;\n",
              "        }    #T_8bdbeb56_8a08_11ea_814b_0242ac1c0002row4_col2 {\n",
              "            background-color:  #da2723;\n",
              "            color:  #f1f1f1;\n",
              "        }    #T_8bdbeb56_8a08_11ea_814b_0242ac1c0002row4_col3 {\n",
              "            background-color:  #e22e27;\n",
              "            color:  #f1f1f1;\n",
              "        }    #T_8bdbeb56_8a08_11ea_814b_0242ac1c0002row5_col1 {\n",
              "            background-color:  #b01217;\n",
              "            color:  #f1f1f1;\n",
              "        }    #T_8bdbeb56_8a08_11ea_814b_0242ac1c0002row5_col2 {\n",
              "            background-color:  #ad1117;\n",
              "            color:  #f1f1f1;\n",
              "        }    #T_8bdbeb56_8a08_11ea_814b_0242ac1c0002row5_col3 {\n",
              "            background-color:  #b11218;\n",
              "            color:  #f1f1f1;\n",
              "        }    #T_8bdbeb56_8a08_11ea_814b_0242ac1c0002row6_col1 {\n",
              "            background-color:  #67000d;\n",
              "            color:  #f1f1f1;\n",
              "        }    #T_8bdbeb56_8a08_11ea_814b_0242ac1c0002row6_col2 {\n",
              "            background-color:  #67000d;\n",
              "            color:  #f1f1f1;\n",
              "        }    #T_8bdbeb56_8a08_11ea_814b_0242ac1c0002row6_col3 {\n",
              "            background-color:  #67000d;\n",
              "            color:  #f1f1f1;\n",
              "        }</style><table id=\"T_8bdbeb56_8a08_11ea_814b_0242ac1c0002\" ><thead>    <tr>        <th class=\"blank level0\" ></th>        <th class=\"col_heading level0 col0\" >ds</th>        <th class=\"col_heading level0 col1\" >yhat</th>        <th class=\"col_heading level0 col2\" >yhat_lower</th>        <th class=\"col_heading level0 col3\" >yhat_upper</th>    </tr></thead><tbody>\n",
              "                <tr>\n",
              "                        <th id=\"T_8bdbeb56_8a08_11ea_814b_0242ac1c0002level0_row0\" class=\"row_heading level0 row0\" >98</th>\n",
              "                        <td id=\"T_8bdbeb56_8a08_11ea_814b_0242ac1c0002row0_col0\" class=\"data row0 col0\" >2020-04-29 00:00:00</td>\n",
              "                        <td id=\"T_8bdbeb56_8a08_11ea_814b_0242ac1c0002row0_col1\" class=\"data row0 col1\" >3206534.377143</td>\n",
              "                        <td id=\"T_8bdbeb56_8a08_11ea_814b_0242ac1c0002row0_col2\" class=\"data row0 col2\" >3197594.136256</td>\n",
              "                        <td id=\"T_8bdbeb56_8a08_11ea_814b_0242ac1c0002row0_col3\" class=\"data row0 col3\" >3215264.705993</td>\n",
              "            </tr>\n",
              "            <tr>\n",
              "                        <th id=\"T_8bdbeb56_8a08_11ea_814b_0242ac1c0002level0_row1\" class=\"row_heading level0 row1\" >99</th>\n",
              "                        <td id=\"T_8bdbeb56_8a08_11ea_814b_0242ac1c0002row1_col0\" class=\"data row1 col0\" >2020-04-30 00:00:00</td>\n",
              "                        <td id=\"T_8bdbeb56_8a08_11ea_814b_0242ac1c0002row1_col1\" class=\"data row1 col1\" >3291163.256969</td>\n",
              "                        <td id=\"T_8bdbeb56_8a08_11ea_814b_0242ac1c0002row1_col2\" class=\"data row1 col2\" >3279763.579116</td>\n",
              "                        <td id=\"T_8bdbeb56_8a08_11ea_814b_0242ac1c0002row1_col3\" class=\"data row1 col3\" >3301877.617013</td>\n",
              "            </tr>\n",
              "            <tr>\n",
              "                        <th id=\"T_8bdbeb56_8a08_11ea_814b_0242ac1c0002level0_row2\" class=\"row_heading level0 row2\" >100</th>\n",
              "                        <td id=\"T_8bdbeb56_8a08_11ea_814b_0242ac1c0002row2_col0\" class=\"data row2 col0\" >2020-05-01 00:00:00</td>\n",
              "                        <td id=\"T_8bdbeb56_8a08_11ea_814b_0242ac1c0002row2_col1\" class=\"data row2 col1\" >3378129.187107</td>\n",
              "                        <td id=\"T_8bdbeb56_8a08_11ea_814b_0242ac1c0002row2_col2\" class=\"data row2 col2\" >3360153.533932</td>\n",
              "                        <td id=\"T_8bdbeb56_8a08_11ea_814b_0242ac1c0002row2_col3\" class=\"data row2 col3\" >3396500.547722</td>\n",
              "            </tr>\n",
              "            <tr>\n",
              "                        <th id=\"T_8bdbeb56_8a08_11ea_814b_0242ac1c0002level0_row3\" class=\"row_heading level0 row3\" >101</th>\n",
              "                        <td id=\"T_8bdbeb56_8a08_11ea_814b_0242ac1c0002row3_col0\" class=\"data row3 col0\" >2020-05-02 00:00:00</td>\n",
              "                        <td id=\"T_8bdbeb56_8a08_11ea_814b_0242ac1c0002row3_col1\" class=\"data row3 col1\" >3460907.994149</td>\n",
              "                        <td id=\"T_8bdbeb56_8a08_11ea_814b_0242ac1c0002row3_col2\" class=\"data row3 col2\" >3434747.781426</td>\n",
              "                        <td id=\"T_8bdbeb56_8a08_11ea_814b_0242ac1c0002row3_col3\" class=\"data row3 col3\" >3486624.258892</td>\n",
              "            </tr>\n",
              "            <tr>\n",
              "                        <th id=\"T_8bdbeb56_8a08_11ea_814b_0242ac1c0002level0_row4\" class=\"row_heading level0 row4\" >102</th>\n",
              "                        <td id=\"T_8bdbeb56_8a08_11ea_814b_0242ac1c0002row4_col0\" class=\"data row4 col0\" >2020-05-03 00:00:00</td>\n",
              "                        <td id=\"T_8bdbeb56_8a08_11ea_814b_0242ac1c0002row4_col1\" class=\"data row4 col1\" >3542039.184135</td>\n",
              "                        <td id=\"T_8bdbeb56_8a08_11ea_814b_0242ac1c0002row4_col2\" class=\"data row4 col2\" >3507692.632180</td>\n",
              "                        <td id=\"T_8bdbeb56_8a08_11ea_814b_0242ac1c0002row4_col3\" class=\"data row4 col3\" >3580854.129045</td>\n",
              "            </tr>\n",
              "            <tr>\n",
              "                        <th id=\"T_8bdbeb56_8a08_11ea_814b_0242ac1c0002level0_row5\" class=\"row_heading level0 row5\" >103</th>\n",
              "                        <td id=\"T_8bdbeb56_8a08_11ea_814b_0242ac1c0002row5_col0\" class=\"data row5 col0\" >2020-05-04 00:00:00</td>\n",
              "                        <td id=\"T_8bdbeb56_8a08_11ea_814b_0242ac1c0002row5_col1\" class=\"data row5 col1\" >3619916.569979</td>\n",
              "                        <td id=\"T_8bdbeb56_8a08_11ea_814b_0242ac1c0002row5_col2\" class=\"data row5 col2\" >3573814.764173</td>\n",
              "                        <td id=\"T_8bdbeb56_8a08_11ea_814b_0242ac1c0002row5_col3\" class=\"data row5 col3\" >3669070.523558</td>\n",
              "            </tr>\n",
              "            <tr>\n",
              "                        <th id=\"T_8bdbeb56_8a08_11ea_814b_0242ac1c0002level0_row6\" class=\"row_heading level0 row6\" >104</th>\n",
              "                        <td id=\"T_8bdbeb56_8a08_11ea_814b_0242ac1c0002row6_col0\" class=\"data row6 col0\" >2020-05-05 00:00:00</td>\n",
              "                        <td id=\"T_8bdbeb56_8a08_11ea_814b_0242ac1c0002row6_col1\" class=\"data row6 col1\" >3699227.071765</td>\n",
              "                        <td id=\"T_8bdbeb56_8a08_11ea_814b_0242ac1c0002row6_col2\" class=\"data row6 col2\" >3643142.844817</td>\n",
              "                        <td id=\"T_8bdbeb56_8a08_11ea_814b_0242ac1c0002row6_col3\" class=\"data row6 col3\" >3760044.479913</td>\n",
              "            </tr>\n",
              "    </tbody></table>"
            ],
            "text/plain": [
              "<pandas.io.formats.style.Styler at 0x7f1fb3cbe320>"
            ]
          },
          "metadata": {
            "tags": []
          },
          "execution_count": 49
        }
      ]
    },
    {
      "cell_type": "code",
      "metadata": {
        "id": "Kq-l6GkHSRXs",
        "colab_type": "code",
        "outputId": "535ac64c-3a07-4642-9b60-4f8fe9f1d4c9",
        "colab": {
          "base_uri": "https://localhost:8080/",
          "height": 865
        }
      },
      "source": [
        "confirmed_plot = model.plot(forecast)\n",
        "confirmed_plot_weekly = model.plot_components(forecast)"
      ],
      "execution_count": 50,
      "outputs": [
        {
          "output_type": "display_data",
          "data": {
            "image/png": "[encoded data removed]",
            "text/plain": [
              "<Figure size 720x432 with 1 Axes>"
            ]
          },
          "metadata": {
            "tags": []
          }
        },
        {
          "output_type": "display_data",
          "data": {
            "image/png": "[encoded data removed]",
            "text/plain": [
              "<Figure size 648x432 with 2 Axes>"
            ]
          },
          "metadata": {
            "tags": []
          }
        }
      ]
    },
    {
      "cell_type": "code",
      "metadata": {
        "id": "NdvuQrYfSSEr",
        "colab_type": "code",
        "outputId": "3deec9c0-cbdf-45a5-a972-7a1ba05852e3",
        "colab": {
          "base_uri": "https://localhost:8080/",
          "height": 190
        }
      },
      "source": [
        "df_india = df[df['Country']=='India']\n",
        "df_india.head()"
      ],
      "execution_count": 51,
      "outputs": [
        {
          "output_type": "execute_result",
          "data": {
            "text/html": [
              "<div>\n",
              "<style scoped>\n",
              "    .dataframe tbody tr th:only-of-type {\n",
              "        vertical-align: middle;\n",
              "    }\n",
              "\n",
              "    .dataframe tbody tr th {\n",
              "        vertical-align: top;\n",
              "    }\n",
              "\n",
              "    .dataframe thead th {\n",
              "        text-align: right;\n",
              "    }\n",
              "</style>\n",
              "<table border=\"1\" class=\"dataframe\">\n",
              "  <thead>\n",
              "    <tr style=\"text-align: right;\">\n",
              "      <th></th>\n",
              "      <th>Country</th>\n",
              "      <th>Lat</th>\n",
              "      <th>Long</th>\n",
              "      <th>Date</th>\n",
              "      <th>Confirmed</th>\n",
              "      <th>Deaths</th>\n",
              "      <th>Recovered</th>\n",
              "      <th>Active</th>\n",
              "    </tr>\n",
              "  </thead>\n",
              "  <tbody>\n",
              "    <tr>\n",
              "      <th>131</th>\n",
              "      <td>India</td>\n",
              "      <td>21.0</td>\n",
              "      <td>78.0</td>\n",
              "      <td>2020-01-22</td>\n",
              "      <td>0</td>\n",
              "      <td>0</td>\n",
              "      <td>0</td>\n",
              "      <td>0</td>\n",
              "    </tr>\n",
              "    <tr>\n",
              "      <th>393</th>\n",
              "      <td>India</td>\n",
              "      <td>21.0</td>\n",
              "      <td>78.0</td>\n",
              "      <td>2020-01-23</td>\n",
              "      <td>0</td>\n",
              "      <td>0</td>\n",
              "      <td>0</td>\n",
              "      <td>0</td>\n",
              "    </tr>\n",
              "    <tr>\n",
              "      <th>655</th>\n",
              "      <td>India</td>\n",
              "      <td>21.0</td>\n",
              "      <td>78.0</td>\n",
              "      <td>2020-01-24</td>\n",
              "      <td>0</td>\n",
              "      <td>0</td>\n",
              "      <td>0</td>\n",
              "      <td>0</td>\n",
              "    </tr>\n",
              "    <tr>\n",
              "      <th>917</th>\n",
              "      <td>India</td>\n",
              "      <td>21.0</td>\n",
              "      <td>78.0</td>\n",
              "      <td>2020-01-25</td>\n",
              "      <td>0</td>\n",
              "      <td>0</td>\n",
              "      <td>0</td>\n",
              "      <td>0</td>\n",
              "    </tr>\n",
              "    <tr>\n",
              "      <th>1179</th>\n",
              "      <td>India</td>\n",
              "      <td>21.0</td>\n",
              "      <td>78.0</td>\n",
              "      <td>2020-01-26</td>\n",
              "      <td>0</td>\n",
              "      <td>0</td>\n",
              "      <td>0</td>\n",
              "      <td>0</td>\n",
              "    </tr>\n",
              "  </tbody>\n",
              "</table>\n",
              "</div>"
            ],
            "text/plain": [
              "     Country   Lat  Long       Date  Confirmed  Deaths  Recovered  Active\n",
              "131    India  21.0  78.0 2020-01-22          0       0          0       0\n",
              "393    India  21.0  78.0 2020-01-23          0       0          0       0\n",
              "655    India  21.0  78.0 2020-01-24          0       0          0       0\n",
              "917    India  21.0  78.0 2020-01-25          0       0          0       0\n",
              "1179   India  21.0  78.0 2020-01-26          0       0          0       0"
            ]
          },
          "metadata": {
            "tags": []
          },
          "execution_count": 51
        }
      ]
    },
    {
      "cell_type": "code",
      "metadata": {
        "id": "kFZjAcjiStua",
        "colab_type": "code",
        "colab": {}
      },
      "source": [
        "active  = df_india.groupby('Date')['Active'].sum().reset_index()\n",
        "confirmed  = df_india.groupby('Date')['Confirmed'].sum().reset_index()"
      ],
      "execution_count": 0,
      "outputs": []
    },
    {
      "cell_type": "code",
      "metadata": {
        "id": "iH4utQrPSvzw",
        "colab_type": "code",
        "outputId": "4208b7c2-0c51-417b-b0f9-1e2f95180ae4",
        "colab": {
          "base_uri": "https://localhost:8080/",
          "height": 190
        }
      },
      "source": [
        "confirmed.rename(columns={'Date':\"ds\",\"Confirmed\":\"y\"},inplace=True)\n",
        "confirmed.head()"
      ],
      "execution_count": 53,
      "outputs": [
        {
          "output_type": "execute_result",
          "data": {
            "text/html": [
              "<div>\n",
              "<style scoped>\n",
              "    .dataframe tbody tr th:only-of-type {\n",
              "        vertical-align: middle;\n",
              "    }\n",
              "\n",
              "    .dataframe tbody tr th {\n",
              "        vertical-align: top;\n",
              "    }\n",
              "\n",
              "    .dataframe thead th {\n",
              "        text-align: right;\n",
              "    }\n",
              "</style>\n",
              "<table border=\"1\" class=\"dataframe\">\n",
              "  <thead>\n",
              "    <tr style=\"text-align: right;\">\n",
              "      <th></th>\n",
              "      <th>ds</th>\n",
              "      <th>y</th>\n",
              "    </tr>\n",
              "  </thead>\n",
              "  <tbody>\n",
              "    <tr>\n",
              "      <th>0</th>\n",
              "      <td>2020-01-22</td>\n",
              "      <td>0</td>\n",
              "    </tr>\n",
              "    <tr>\n",
              "      <th>1</th>\n",
              "      <td>2020-01-23</td>\n",
              "      <td>0</td>\n",
              "    </tr>\n",
              "    <tr>\n",
              "      <th>2</th>\n",
              "      <td>2020-01-24</td>\n",
              "      <td>0</td>\n",
              "    </tr>\n",
              "    <tr>\n",
              "      <th>3</th>\n",
              "      <td>2020-01-25</td>\n",
              "      <td>0</td>\n",
              "    </tr>\n",
              "    <tr>\n",
              "      <th>4</th>\n",
              "      <td>2020-01-26</td>\n",
              "      <td>0</td>\n",
              "    </tr>\n",
              "  </tbody>\n",
              "</table>\n",
              "</div>"
            ],
            "text/plain": [
              "          ds  y\n",
              "0 2020-01-22  0\n",
              "1 2020-01-23  0\n",
              "2 2020-01-24  0\n",
              "3 2020-01-25  0\n",
              "4 2020-01-26  0"
            ]
          },
          "metadata": {
            "tags": []
          },
          "execution_count": 53
        }
      ]
    },
    {
      "cell_type": "code",
      "metadata": {
        "id": "MUJ7GN5VSx15",
        "colab_type": "code",
        "outputId": "9e2d87cc-3b19-4fd4-c3b9-d1abfd04a9e8",
        "colab": {
          "base_uri": "https://localhost:8080/",
          "height": 67
        }
      },
      "source": [
        "#### Building the Model\n",
        "model = Prophet(interval_width=0.95)  ## Confidence Level\n",
        "model.fit(confirmed)"
      ],
      "execution_count": 54,
      "outputs": [
        {
          "output_type": "stream",
          "text": [
            "INFO:fbprophet:Disabling yearly seasonality. Run prophet with yearly_seasonality=True to override this.\n",
            "INFO:fbprophet:Disabling daily seasonality. Run prophet with daily_seasonality=True to override this.\n"
          ],
          "name": "stderr"
        },
        {
          "output_type": "execute_result",
          "data": {
            "text/plain": [
              "<fbprophet.forecaster.Prophet at 0x7f1fb30441d0>"
            ]
          },
          "metadata": {
            "tags": []
          },
          "execution_count": 54
        }
      ]
    },
    {
      "cell_type": "code",
      "metadata": {
        "id": "3Q9PdP38Szl0",
        "colab_type": "code",
        "outputId": "9db6d1f0-3265-47c6-b289-8387d759d36b",
        "colab": {
          "base_uri": "https://localhost:8080/",
          "height": 334
        }
      },
      "source": [
        "future = model.make_future_dataframe(periods = 7)\n",
        "future.tail(10)"
      ],
      "execution_count": 55,
      "outputs": [
        {
          "output_type": "execute_result",
          "data": {
            "text/html": [
              "<div>\n",
              "<style scoped>\n",
              "    .dataframe tbody tr th:only-of-type {\n",
              "        vertical-align: middle;\n",
              "    }\n",
              "\n",
              "    .dataframe tbody tr th {\n",
              "        vertical-align: top;\n",
              "    }\n",
              "\n",
              "    .dataframe thead th {\n",
              "        text-align: right;\n",
              "    }\n",
              "</style>\n",
              "<table border=\"1\" class=\"dataframe\">\n",
              "  <thead>\n",
              "    <tr style=\"text-align: right;\">\n",
              "      <th></th>\n",
              "      <th>ds</th>\n",
              "    </tr>\n",
              "  </thead>\n",
              "  <tbody>\n",
              "    <tr>\n",
              "      <th>95</th>\n",
              "      <td>2020-04-26</td>\n",
              "    </tr>\n",
              "    <tr>\n",
              "      <th>96</th>\n",
              "      <td>2020-04-27</td>\n",
              "    </tr>\n",
              "    <tr>\n",
              "      <th>97</th>\n",
              "      <td>2020-04-28</td>\n",
              "    </tr>\n",
              "    <tr>\n",
              "      <th>98</th>\n",
              "      <td>2020-04-29</td>\n",
              "    </tr>\n",
              "    <tr>\n",
              "      <th>99</th>\n",
              "      <td>2020-04-30</td>\n",
              "    </tr>\n",
              "    <tr>\n",
              "      <th>100</th>\n",
              "      <td>2020-05-01</td>\n",
              "    </tr>\n",
              "    <tr>\n",
              "      <th>101</th>\n",
              "      <td>2020-05-02</td>\n",
              "    </tr>\n",
              "    <tr>\n",
              "      <th>102</th>\n",
              "      <td>2020-05-03</td>\n",
              "    </tr>\n",
              "    <tr>\n",
              "      <th>103</th>\n",
              "      <td>2020-05-04</td>\n",
              "    </tr>\n",
              "    <tr>\n",
              "      <th>104</th>\n",
              "      <td>2020-05-05</td>\n",
              "    </tr>\n",
              "  </tbody>\n",
              "</table>\n",
              "</div>"
            ],
            "text/plain": [
              "            ds\n",
              "95  2020-04-26\n",
              "96  2020-04-27\n",
              "97  2020-04-28\n",
              "98  2020-04-29\n",
              "99  2020-04-30\n",
              "100 2020-05-01\n",
              "101 2020-05-02\n",
              "102 2020-05-03\n",
              "103 2020-05-04\n",
              "104 2020-05-05"
            ]
          },
          "metadata": {
            "tags": []
          },
          "execution_count": 55
        }
      ]
    },
    {
      "cell_type": "code",
      "metadata": {
        "id": "_OeXcqYBS1A6",
        "colab_type": "code",
        "colab": {}
      },
      "source": [
        "forecast = model.predict(future)"
      ],
      "execution_count": 0,
      "outputs": []
    },
    {
      "cell_type": "code",
      "metadata": {
        "id": "FJ84qGQsS2xc",
        "colab_type": "code",
        "outputId": "96b48080-bc68-4929-a1ec-f497e7f096c1",
        "colab": {
          "base_uri": "https://localhost:8080/",
          "height": 440
        }
      },
      "source": [
        "india_plot = model.plot(forecast)"
      ],
      "execution_count": 57,
      "outputs": [
        {
          "output_type": "display_data",
          "data": {
            "image/png": "[encoded data removed]",
            "text/plain": [
              "<Figure size 720x432 with 1 Axes>"
            ]
          },
          "metadata": {
            "tags": []
          }
        }
      ]
    },
    {
      "cell_type": "code",
      "metadata": {
        "id": "XloGoSE1S49p",
        "colab_type": "code",
        "outputId": "ea9b9cc1-ba7e-4cf5-835e-a896bda1b630",
        "colab": {
          "base_uri": "https://localhost:8080/",
          "height": 162
        }
      },
      "source": [
        "forecast[['ds','yhat','yhat_lower','yhat_upper']].tail(7).style.background_gradient(cmap='Reds')\n",
        "#yhat - predicted/forecasted value\n",
        "#yhat_lower = lower value of prediction\n",
        "#yhat_upper = upper value of prediction "
      ],
      "execution_count": 58,
      "outputs": [
        {
          "output_type": "execute_result",
          "data": {
            "text/html": [
              "<style  type=\"text/css\" >\n",
              "    #T_8e16fac8_8a08_11ea_814b_0242ac1c0002row0_col1 {\n",
              "            background-color:  #fff5f0;\n",
              "            color:  #000000;\n",
              "        }    #T_8e16fac8_8a08_11ea_814b_0242ac1c0002row0_col2 {\n",
              "            background-color:  #fff5f0;\n",
              "            color:  #000000;\n",
              "        }    #T_8e16fac8_8a08_11ea_814b_0242ac1c0002row0_col3 {\n",
              "            background-color:  #fff5f0;\n",
              "            color:  #000000;\n",
              "        }    #T_8e16fac8_8a08_11ea_814b_0242ac1c0002row1_col1 {\n",
              "            background-color:  #fdd5c4;\n",
              "            color:  #000000;\n",
              "        }    #T_8e16fac8_8a08_11ea_814b_0242ac1c0002row1_col2 {\n",
              "            background-color:  #fdd4c2;\n",
              "            color:  #000000;\n",
              "        }    #T_8e16fac8_8a08_11ea_814b_0242ac1c0002row1_col3 {\n",
              "            background-color:  #fed8c7;\n",
              "            color:  #000000;\n",
              "        }    #T_8e16fac8_8a08_11ea_814b_0242ac1c0002row2_col1 {\n",
              "            background-color:  #fca588;\n",
              "            color:  #000000;\n",
              "        }    #T_8e16fac8_8a08_11ea_814b_0242ac1c0002row2_col2 {\n",
              "            background-color:  #fca588;\n",
              "            color:  #000000;\n",
              "        }    #T_8e16fac8_8a08_11ea_814b_0242ac1c0002row2_col3 {\n",
              "            background-color:  #fca78b;\n",
              "            color:  #000000;\n",
              "        }    #T_8e16fac8_8a08_11ea_814b_0242ac1c0002row3_col1 {\n",
              "            background-color:  #fb6e4e;\n",
              "            color:  #000000;\n",
              "        }    #T_8e16fac8_8a08_11ea_814b_0242ac1c0002row3_col2 {\n",
              "            background-color:  #fb7050;\n",
              "            color:  #000000;\n",
              "        }    #T_8e16fac8_8a08_11ea_814b_0242ac1c0002row3_col3 {\n",
              "            background-color:  #fb7151;\n",
              "            color:  #000000;\n",
              "        }    #T_8e16fac8_8a08_11ea_814b_0242ac1c0002row4_col1 {\n",
              "            background-color:  #e53228;\n",
              "            color:  #f1f1f1;\n",
              "        }    #T_8e16fac8_8a08_11ea_814b_0242ac1c0002row4_col2 {\n",
              "            background-color:  #e53228;\n",
              "            color:  #f1f1f1;\n",
              "        }    #T_8e16fac8_8a08_11ea_814b_0242ac1c0002row4_col3 {\n",
              "            background-color:  #e93529;\n",
              "            color:  #f1f1f1;\n",
              "        }    #T_8e16fac8_8a08_11ea_814b_0242ac1c0002row5_col1 {\n",
              "            background-color:  #b21218;\n",
              "            color:  #f1f1f1;\n",
              "        }    #T_8e16fac8_8a08_11ea_814b_0242ac1c0002row5_col2 {\n",
              "            background-color:  #b31218;\n",
              "            color:  #f1f1f1;\n",
              "        }    #T_8e16fac8_8a08_11ea_814b_0242ac1c0002row5_col3 {\n",
              "            background-color:  #b71319;\n",
              "            color:  #f1f1f1;\n",
              "        }    #T_8e16fac8_8a08_11ea_814b_0242ac1c0002row6_col1 {\n",
              "            background-color:  #67000d;\n",
              "            color:  #f1f1f1;\n",
              "        }    #T_8e16fac8_8a08_11ea_814b_0242ac1c0002row6_col2 {\n",
              "            background-color:  #67000d;\n",
              "            color:  #f1f1f1;\n",
              "        }    #T_8e16fac8_8a08_11ea_814b_0242ac1c0002row6_col3 {\n",
              "            background-color:  #67000d;\n",
              "            color:  #f1f1f1;\n",
              "        }</style><table id=\"T_8e16fac8_8a08_11ea_814b_0242ac1c0002\" ><thead>    <tr>        <th class=\"blank level0\" ></th>        <th class=\"col_heading level0 col0\" >ds</th>        <th class=\"col_heading level0 col1\" >yhat</th>        <th class=\"col_heading level0 col2\" >yhat_lower</th>        <th class=\"col_heading level0 col3\" >yhat_upper</th>    </tr></thead><tbody>\n",
              "                <tr>\n",
              "                        <th id=\"T_8e16fac8_8a08_11ea_814b_0242ac1c0002level0_row0\" class=\"row_heading level0 row0\" >98</th>\n",
              "                        <td id=\"T_8e16fac8_8a08_11ea_814b_0242ac1c0002row0_col0\" class=\"data row0 col0\" >2020-04-29 00:00:00</td>\n",
              "                        <td id=\"T_8e16fac8_8a08_11ea_814b_0242ac1c0002row0_col1\" class=\"data row0 col1\" >30540.327384</td>\n",
              "                        <td id=\"T_8e16fac8_8a08_11ea_814b_0242ac1c0002row0_col2\" class=\"data row0 col2\" >29691.785725</td>\n",
              "                        <td id=\"T_8e16fac8_8a08_11ea_814b_0242ac1c0002row0_col3\" class=\"data row0 col3\" >31420.358799</td>\n",
              "            </tr>\n",
              "            <tr>\n",
              "                        <th id=\"T_8e16fac8_8a08_11ea_814b_0242ac1c0002level0_row1\" class=\"row_heading level0 row1\" >99</th>\n",
              "                        <td id=\"T_8e16fac8_8a08_11ea_814b_0242ac1c0002row1_col0\" class=\"data row1 col0\" >2020-04-30 00:00:00</td>\n",
              "                        <td id=\"T_8e16fac8_8a08_11ea_814b_0242ac1c0002row1_col1\" class=\"data row1 col1\" >31773.467735</td>\n",
              "                        <td id=\"T_8e16fac8_8a08_11ea_814b_0242ac1c0002row1_col2\" class=\"data row1 col2\" >30901.863151</td>\n",
              "                        <td id=\"T_8e16fac8_8a08_11ea_814b_0242ac1c0002row1_col3\" class=\"data row1 col3\" >32621.376249</td>\n",
              "            </tr>\n",
              "            <tr>\n",
              "                        <th id=\"T_8e16fac8_8a08_11ea_814b_0242ac1c0002level0_row2\" class=\"row_heading level0 row2\" >100</th>\n",
              "                        <td id=\"T_8e16fac8_8a08_11ea_814b_0242ac1c0002row2_col0\" class=\"data row2 col0\" >2020-05-01 00:00:00</td>\n",
              "                        <td id=\"T_8e16fac8_8a08_11ea_814b_0242ac1c0002row2_col1\" class=\"data row2 col1\" >32949.515342</td>\n",
              "                        <td id=\"T_8e16fac8_8a08_11ea_814b_0242ac1c0002row2_col2\" class=\"data row2 col2\" >32003.089253</td>\n",
              "                        <td id=\"T_8e16fac8_8a08_11ea_814b_0242ac1c0002row2_col3\" class=\"data row2 col3\" >33851.991585</td>\n",
              "            </tr>\n",
              "            <tr>\n",
              "                        <th id=\"T_8e16fac8_8a08_11ea_814b_0242ac1c0002level0_row3\" class=\"row_heading level0 row3\" >101</th>\n",
              "                        <td id=\"T_8e16fac8_8a08_11ea_814b_0242ac1c0002row3_col0\" class=\"data row3 col0\" >2020-05-02 00:00:00</td>\n",
              "                        <td id=\"T_8e16fac8_8a08_11ea_814b_0242ac1c0002row3_col1\" class=\"data row3 col1\" >34211.478572</td>\n",
              "                        <td id=\"T_8e16fac8_8a08_11ea_814b_0242ac1c0002row3_col2\" class=\"data row3 col2\" >33194.015088</td>\n",
              "                        <td id=\"T_8e16fac8_8a08_11ea_814b_0242ac1c0002row3_col3\" class=\"data row3 col3\" >35168.952854</td>\n",
              "            </tr>\n",
              "            <tr>\n",
              "                        <th id=\"T_8e16fac8_8a08_11ea_814b_0242ac1c0002level0_row4\" class=\"row_heading level0 row4\" >102</th>\n",
              "                        <td id=\"T_8e16fac8_8a08_11ea_814b_0242ac1c0002row4_col0\" class=\"data row4 col0\" >2020-05-03 00:00:00</td>\n",
              "                        <td id=\"T_8e16fac8_8a08_11ea_814b_0242ac1c0002row4_col1\" class=\"data row4 col1\" >35486.990041</td>\n",
              "                        <td id=\"T_8e16fac8_8a08_11ea_814b_0242ac1c0002row4_col2\" class=\"data row4 col2\" >34462.483566</td>\n",
              "                        <td id=\"T_8e16fac8_8a08_11ea_814b_0242ac1c0002row4_col3\" class=\"data row4 col3\" >36510.331061</td>\n",
              "            </tr>\n",
              "            <tr>\n",
              "                        <th id=\"T_8e16fac8_8a08_11ea_814b_0242ac1c0002level0_row5\" class=\"row_heading level0 row5\" >103</th>\n",
              "                        <td id=\"T_8e16fac8_8a08_11ea_814b_0242ac1c0002row5_col0\" class=\"data row5 col0\" >2020-05-04 00:00:00</td>\n",
              "                        <td id=\"T_8e16fac8_8a08_11ea_814b_0242ac1c0002row5_col1\" class=\"data row5 col1\" >36789.403988</td>\n",
              "                        <td id=\"T_8e16fac8_8a08_11ea_814b_0242ac1c0002row5_col2\" class=\"data row5 col2\" >35688.405040</td>\n",
              "                        <td id=\"T_8e16fac8_8a08_11ea_814b_0242ac1c0002row5_col3\" class=\"data row5 col3\" >37833.502760</td>\n",
              "            </tr>\n",
              "            <tr>\n",
              "                        <th id=\"T_8e16fac8_8a08_11ea_814b_0242ac1c0002level0_row6\" class=\"row_heading level0 row6\" >104</th>\n",
              "                        <td id=\"T_8e16fac8_8a08_11ea_814b_0242ac1c0002row6_col0\" class=\"data row6 col0\" >2020-05-05 00:00:00</td>\n",
              "                        <td id=\"T_8e16fac8_8a08_11ea_814b_0242ac1c0002row6_col1\" class=\"data row6 col1\" >38068.264262</td>\n",
              "                        <td id=\"T_8e16fac8_8a08_11ea_814b_0242ac1c0002row6_col2\" class=\"data row6 col2\" >36945.449761</td>\n",
              "                        <td id=\"T_8e16fac8_8a08_11ea_814b_0242ac1c0002row6_col3\" class=\"data row6 col3\" >39282.820654</td>\n",
              "            </tr>\n",
              "    </tbody></table>"
            ],
            "text/plain": [
              "<pandas.io.formats.style.Styler at 0x7f1fb3c0a3c8>"
            ]
          },
          "metadata": {
            "tags": []
          },
          "execution_count": 58
        }
      ]
    },
    {
      "cell_type": "code",
      "metadata": {
        "id": "Foyc56vrS7Pc",
        "colab_type": "code",
        "outputId": "ddee794e-d5ba-4cef-baae-622f16ae9c68",
        "colab": {
          "base_uri": "https://localhost:8080/",
          "height": 440
        }
      },
      "source": [
        "confirmed_plot_weekly_india = model.plot_components(forecast)"
      ],
      "execution_count": 59,
      "outputs": [
        {
          "output_type": "display_data",
          "data": {
            "image/png": "[encoded data removed]",
            "text/plain": [
              "<Figure size 648x432 with 2 Axes>"
            ]
          },
          "metadata": {
            "tags": []
          }
        }
      ]
    },
    {
      "cell_type": "code",
      "metadata": {
        "id": "Imn1_X96VQt1",
        "colab_type": "code",
        "colab": {}
      },
      "source": [
        ""
      ],
      "execution_count": 0,
      "outputs": []
    }
  ]
}