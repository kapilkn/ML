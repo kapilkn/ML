{
  "nbformat": 4,
  "nbformat_minor": 0,
  "metadata": {
    "colab": {
      "name": "COVID INDIA.ipynb",
      "provenance": [],
      "authorship_tag": "ABX9TyM4ZWC392QqfgKtd4wlEJ9q",
      "include_colab_link": true
    },
    "kernelspec": {
      "name": "python3",
      "display_name": "Python 3"
    }
  },
  "cells": [
    {
      "cell_type": "markdown",
      "metadata": {
        "id": "view-in-github",
        "colab_type": "text"
      },
      "source": [
        "<a href=\"https://colab.research.google.com/github/kapilkn/ML/blob/master/COVID_INDIA.ipynb\" target=\"_parent\"><img src=\"https://colab.research.google.com/assets/colab-badge.svg\" alt=\"Open In Colab\"/></a>"
      ]
    },
    {
      "cell_type": "markdown",
      "metadata": {
        "id": "TTy2n_sYkQPU",
        "colab_type": "text"
      },
      "source": [
        "# COVID 19 - INDIA\n",
        "**Kapil Nagwanshi**"
      ]
    },
    {
      "cell_type": "code",
      "metadata": {
        "colab_type": "code",
        "id": "u8FCLyixN9s-",
        "colab": {
          "base_uri": "https://localhost:8080/",
          "height": 70
        },
        "outputId": "657967ed-3b56-42e1-bce5-220ad3b6c6e7"
      },
      "source": [
        "import pandas as pd\n",
        "import matplotlib.pyplot as plt\n",
        "import seaborn as sns\n",
        "import numpy as np\n",
        "import plotly.express as px\n",
        "import pandas.util.testing as tm"
      ],
      "execution_count": 1,
      "outputs": [
        {
          "output_type": "stream",
          "text": [
            "/usr/local/lib/python3.6/dist-packages/statsmodels/tools/_testing.py:19: FutureWarning: pandas.util.testing is deprecated. Use the functions in the public API at pandas.testing instead.\n",
            "  import pandas.util.testing as tm\n"
          ],
          "name": "stderr"
        }
      ]
    },
    {
      "cell_type": "code",
      "metadata": {
        "id": "ia2x-4qjOAG8",
        "colab_type": "code",
        "outputId": "5ec17b17-6451-4349-e23a-2dfb6a9aef33",
        "colab": {
          "base_uri": "https://localhost:8080/",
          "height": 190
        }
      },
      "source": [
        "path = 'https://raw.githubusercontent.com/umangkejriwal1122/Machine-Learning/master/Data%20Sets/covid_india.csv'\n",
        "df = pd.read_csv(path)\n",
        "df.head()"
      ],
      "execution_count": 2,
      "outputs": [
        {
          "output_type": "execute_result",
          "data": {
            "text/html": [
              "<div>\n",
              "<style scoped>\n",
              "    .dataframe tbody tr th:only-of-type {\n",
              "        vertical-align: middle;\n",
              "    }\n",
              "\n",
              "    .dataframe tbody tr th {\n",
              "        vertical-align: top;\n",
              "    }\n",
              "\n",
              "    .dataframe thead th {\n",
              "        text-align: right;\n",
              "    }\n",
              "</style>\n",
              "<table border=\"1\" class=\"dataframe\">\n",
              "  <thead>\n",
              "    <tr style=\"text-align: right;\">\n",
              "      <th></th>\n",
              "      <th>state</th>\n",
              "      <th>active</th>\n",
              "      <th>confirmed</th>\n",
              "      <th>deaths</th>\n",
              "      <th>recovered</th>\n",
              "      <th>Lat</th>\n",
              "      <th>Long</th>\n",
              "    </tr>\n",
              "  </thead>\n",
              "  <tbody>\n",
              "    <tr>\n",
              "      <th>0</th>\n",
              "      <td>Maharashtra</td>\n",
              "      <td>5304</td>\n",
              "      <td>6427</td>\n",
              "      <td>283</td>\n",
              "      <td>840</td>\n",
              "      <td>19.7515</td>\n",
              "      <td>75.7139</td>\n",
              "    </tr>\n",
              "    <tr>\n",
              "      <th>1</th>\n",
              "      <td>Delhi</td>\n",
              "      <td>1518</td>\n",
              "      <td>2376</td>\n",
              "      <td>50</td>\n",
              "      <td>808</td>\n",
              "      <td>28.7041</td>\n",
              "      <td>77.1025</td>\n",
              "    </tr>\n",
              "    <tr>\n",
              "      <th>2</th>\n",
              "      <td>Gujarat</td>\n",
              "      <td>2254</td>\n",
              "      <td>2624</td>\n",
              "      <td>112</td>\n",
              "      <td>258</td>\n",
              "      <td>22.2587</td>\n",
              "      <td>71.1924</td>\n",
              "    </tr>\n",
              "    <tr>\n",
              "      <th>3</th>\n",
              "      <td>Rajasthan</td>\n",
              "      <td>1485</td>\n",
              "      <td>1964</td>\n",
              "      <td>28</td>\n",
              "      <td>451</td>\n",
              "      <td>27.0238</td>\n",
              "      <td>74.2179</td>\n",
              "    </tr>\n",
              "    <tr>\n",
              "      <th>4</th>\n",
              "      <td>Tamil Nadu</td>\n",
              "      <td>911</td>\n",
              "      <td>1683</td>\n",
              "      <td>20</td>\n",
              "      <td>752</td>\n",
              "      <td>11.1271</td>\n",
              "      <td>78.6569</td>\n",
              "    </tr>\n",
              "  </tbody>\n",
              "</table>\n",
              "</div>"
            ],
            "text/plain": [
              "         state  active  confirmed  deaths  recovered      Lat     Long\n",
              "0  Maharashtra    5304       6427     283        840  19.7515  75.7139\n",
              "1        Delhi    1518       2376      50        808  28.7041  77.1025\n",
              "2      Gujarat    2254       2624     112        258  22.2587  71.1924\n",
              "3    Rajasthan    1485       1964      28        451  27.0238  74.2179\n",
              "4   Tamil Nadu     911       1683      20        752  11.1271  78.6569"
            ]
          },
          "metadata": {
            "tags": []
          },
          "execution_count": 2
        }
      ]
    },
    {
      "cell_type": "code",
      "metadata": {
        "id": "diObCOPfOR8q",
        "colab_type": "code",
        "outputId": "9b03b7b1-dfdd-4618-cabe-5ec4e3c9be35",
        "colab": {
          "base_uri": "https://localhost:8080/",
          "height": 219
        }
      },
      "source": [
        "tot_active = df.groupby('state')['active'].sum().sort_values(ascending=False).to_frame()\n",
        "tot_active.head()"
      ],
      "execution_count": 3,
      "outputs": [
        {
          "output_type": "execute_result",
          "data": {
            "text/html": [
              "<div>\n",
              "<style scoped>\n",
              "    .dataframe tbody tr th:only-of-type {\n",
              "        vertical-align: middle;\n",
              "    }\n",
              "\n",
              "    .dataframe tbody tr th {\n",
              "        vertical-align: top;\n",
              "    }\n",
              "\n",
              "    .dataframe thead th {\n",
              "        text-align: right;\n",
              "    }\n",
              "</style>\n",
              "<table border=\"1\" class=\"dataframe\">\n",
              "  <thead>\n",
              "    <tr style=\"text-align: right;\">\n",
              "      <th></th>\n",
              "      <th>active</th>\n",
              "    </tr>\n",
              "    <tr>\n",
              "      <th>state</th>\n",
              "      <th></th>\n",
              "    </tr>\n",
              "  </thead>\n",
              "  <tbody>\n",
              "    <tr>\n",
              "      <th>Maharashtra</th>\n",
              "      <td>5304</td>\n",
              "    </tr>\n",
              "    <tr>\n",
              "      <th>Gujarat</th>\n",
              "      <td>2254</td>\n",
              "    </tr>\n",
              "    <tr>\n",
              "      <th>Delhi</th>\n",
              "      <td>1518</td>\n",
              "    </tr>\n",
              "    <tr>\n",
              "      <th>Rajasthan</th>\n",
              "      <td>1485</td>\n",
              "    </tr>\n",
              "    <tr>\n",
              "      <th>Madhya Pradesh</th>\n",
              "      <td>1401</td>\n",
              "    </tr>\n",
              "  </tbody>\n",
              "</table>\n",
              "</div>"
            ],
            "text/plain": [
              "                active\n",
              "state                 \n",
              "Maharashtra       5304\n",
              "Gujarat           2254\n",
              "Delhi             1518\n",
              "Rajasthan         1485\n",
              "Madhya Pradesh    1401"
            ]
          },
          "metadata": {
            "tags": []
          },
          "execution_count": 3
        }
      ]
    },
    {
      "cell_type": "code",
      "metadata": {
        "id": "c0k3Tme4PeXZ",
        "colab_type": "code",
        "outputId": "fdca02f2-da82-4ec0-fc1d-94d7a9d1f0a3",
        "colab": {
          "base_uri": "https://localhost:8080/",
          "height": 720
        }
      },
      "source": [
        "tot_active.style.background_gradient(cmap='Reds')"
      ],
      "execution_count": 4,
      "outputs": [
        {
          "output_type": "execute_result",
          "data": {
            "text/html": [
              "<style  type=\"text/css\" >\n",
              "    #T_4eda87c2_8a07_11ea_8a5d_0242ac1c0002row0_col0 {\n",
              "            background-color:  #67000d;\n",
              "            color:  #f1f1f1;\n",
              "        }    #T_4eda87c2_8a07_11ea_8a5d_0242ac1c0002row1_col0 {\n",
              "            background-color:  #fc8262;\n",
              "            color:  #000000;\n",
              "        }    #T_4eda87c2_8a07_11ea_8a5d_0242ac1c0002row2_col0 {\n",
              "            background-color:  #fcaf93;\n",
              "            color:  #000000;\n",
              "        }    #T_4eda87c2_8a07_11ea_8a5d_0242ac1c0002row3_col0 {\n",
              "            background-color:  #fcb296;\n",
              "            color:  #000000;\n",
              "        }    #T_4eda87c2_8a07_11ea_8a5d_0242ac1c0002row4_col0 {\n",
              "            background-color:  #fcb79c;\n",
              "            color:  #000000;\n",
              "        }    #T_4eda87c2_8a07_11ea_8a5d_0242ac1c0002row5_col0 {\n",
              "            background-color:  #fcbea5;\n",
              "            color:  #000000;\n",
              "        }    #T_4eda87c2_8a07_11ea_8a5d_0242ac1c0002row6_col0 {\n",
              "            background-color:  #fdd3c1;\n",
              "            color:  #000000;\n",
              "        }    #T_4eda87c2_8a07_11ea_8a5d_0242ac1c0002row7_col0 {\n",
              "            background-color:  #fedecf;\n",
              "            color:  #000000;\n",
              "        }    #T_4eda87c2_8a07_11ea_8a5d_0242ac1c0002row8_col0 {\n",
              "            background-color:  #fedfd0;\n",
              "            color:  #000000;\n",
              "        }    #T_4eda87c2_8a07_11ea_8a5d_0242ac1c0002row9_col0 {\n",
              "            background-color:  #fee8dd;\n",
              "            color:  #000000;\n",
              "        }    #T_4eda87c2_8a07_11ea_8a5d_0242ac1c0002row10_col0 {\n",
              "            background-color:  #feeae1;\n",
              "            color:  #000000;\n",
              "        }    #T_4eda87c2_8a07_11ea_8a5d_0242ac1c0002row11_col0 {\n",
              "            background-color:  #ffece4;\n",
              "            color:  #000000;\n",
              "        }    #T_4eda87c2_8a07_11ea_8a5d_0242ac1c0002row12_col0 {\n",
              "            background-color:  #ffefe8;\n",
              "            color:  #000000;\n",
              "        }    #T_4eda87c2_8a07_11ea_8a5d_0242ac1c0002row13_col0 {\n",
              "            background-color:  #fff1ea;\n",
              "            color:  #000000;\n",
              "        }    #T_4eda87c2_8a07_11ea_8a5d_0242ac1c0002row14_col0 {\n",
              "            background-color:  #fff2eb;\n",
              "            color:  #000000;\n",
              "        }    #T_4eda87c2_8a07_11ea_8a5d_0242ac1c0002row15_col0 {\n",
              "            background-color:  #fff2ec;\n",
              "            color:  #000000;\n",
              "        }    #T_4eda87c2_8a07_11ea_8a5d_0242ac1c0002row16_col0 {\n",
              "            background-color:  #fff4ee;\n",
              "            color:  #000000;\n",
              "        }    #T_4eda87c2_8a07_11ea_8a5d_0242ac1c0002row17_col0 {\n",
              "            background-color:  #fff4ee;\n",
              "            color:  #000000;\n",
              "        }    #T_4eda87c2_8a07_11ea_8a5d_0242ac1c0002row18_col0 {\n",
              "            background-color:  #fff4ef;\n",
              "            color:  #000000;\n",
              "        }    #T_4eda87c2_8a07_11ea_8a5d_0242ac1c0002row19_col0 {\n",
              "            background-color:  #fff5f0;\n",
              "            color:  #000000;\n",
              "        }    #T_4eda87c2_8a07_11ea_8a5d_0242ac1c0002row20_col0 {\n",
              "            background-color:  #fff5f0;\n",
              "            color:  #000000;\n",
              "        }    #T_4eda87c2_8a07_11ea_8a5d_0242ac1c0002row21_col0 {\n",
              "            background-color:  #fff5f0;\n",
              "            color:  #000000;\n",
              "        }    #T_4eda87c2_8a07_11ea_8a5d_0242ac1c0002row22_col0 {\n",
              "            background-color:  #fff5f0;\n",
              "            color:  #000000;\n",
              "        }    #T_4eda87c2_8a07_11ea_8a5d_0242ac1c0002row23_col0 {\n",
              "            background-color:  #fff5f0;\n",
              "            color:  #000000;\n",
              "        }    #T_4eda87c2_8a07_11ea_8a5d_0242ac1c0002row24_col0 {\n",
              "            background-color:  #fff5f0;\n",
              "            color:  #000000;\n",
              "        }    #T_4eda87c2_8a07_11ea_8a5d_0242ac1c0002row25_col0 {\n",
              "            background-color:  #fff5f0;\n",
              "            color:  #000000;\n",
              "        }    #T_4eda87c2_8a07_11ea_8a5d_0242ac1c0002row26_col0 {\n",
              "            background-color:  #fff5f0;\n",
              "            color:  #000000;\n",
              "        }    #T_4eda87c2_8a07_11ea_8a5d_0242ac1c0002row27_col0 {\n",
              "            background-color:  #fff5f0;\n",
              "            color:  #000000;\n",
              "        }    #T_4eda87c2_8a07_11ea_8a5d_0242ac1c0002row28_col0 {\n",
              "            background-color:  #fff5f0;\n",
              "            color:  #000000;\n",
              "        }    #T_4eda87c2_8a07_11ea_8a5d_0242ac1c0002row29_col0 {\n",
              "            background-color:  #fff5f0;\n",
              "            color:  #000000;\n",
              "        }    #T_4eda87c2_8a07_11ea_8a5d_0242ac1c0002row30_col0 {\n",
              "            background-color:  #fff5f0;\n",
              "            color:  #000000;\n",
              "        }    #T_4eda87c2_8a07_11ea_8a5d_0242ac1c0002row31_col0 {\n",
              "            background-color:  #fff5f0;\n",
              "            color:  #000000;\n",
              "        }    #T_4eda87c2_8a07_11ea_8a5d_0242ac1c0002row32_col0 {\n",
              "            background-color:  #fff5f0;\n",
              "            color:  #000000;\n",
              "        }    #T_4eda87c2_8a07_11ea_8a5d_0242ac1c0002row33_col0 {\n",
              "            background-color:  #fff5f0;\n",
              "            color:  #000000;\n",
              "        }    #T_4eda87c2_8a07_11ea_8a5d_0242ac1c0002row34_col0 {\n",
              "            background-color:  #fff5f0;\n",
              "            color:  #000000;\n",
              "        }    #T_4eda87c2_8a07_11ea_8a5d_0242ac1c0002row35_col0 {\n",
              "            background-color:  #fff5f0;\n",
              "            color:  #000000;\n",
              "        }    #T_4eda87c2_8a07_11ea_8a5d_0242ac1c0002row36_col0 {\n",
              "            background-color:  #fff5f0;\n",
              "            color:  #000000;\n",
              "        }</style><table id=\"T_4eda87c2_8a07_11ea_8a5d_0242ac1c0002\" ><thead>    <tr>        <th class=\"blank level0\" ></th>        <th class=\"col_heading level0 col0\" >active</th>    </tr>    <tr>        <th class=\"index_name level0\" >state</th>        <th class=\"blank\" ></th>    </tr></thead><tbody>\n",
              "                <tr>\n",
              "                        <th id=\"T_4eda87c2_8a07_11ea_8a5d_0242ac1c0002level0_row0\" class=\"row_heading level0 row0\" >Maharashtra</th>\n",
              "                        <td id=\"T_4eda87c2_8a07_11ea_8a5d_0242ac1c0002row0_col0\" class=\"data row0 col0\" >5304</td>\n",
              "            </tr>\n",
              "            <tr>\n",
              "                        <th id=\"T_4eda87c2_8a07_11ea_8a5d_0242ac1c0002level0_row1\" class=\"row_heading level0 row1\" >Gujarat</th>\n",
              "                        <td id=\"T_4eda87c2_8a07_11ea_8a5d_0242ac1c0002row1_col0\" class=\"data row1 col0\" >2254</td>\n",
              "            </tr>\n",
              "            <tr>\n",
              "                        <th id=\"T_4eda87c2_8a07_11ea_8a5d_0242ac1c0002level0_row2\" class=\"row_heading level0 row2\" >Delhi</th>\n",
              "                        <td id=\"T_4eda87c2_8a07_11ea_8a5d_0242ac1c0002row2_col0\" class=\"data row2 col0\" >1518</td>\n",
              "            </tr>\n",
              "            <tr>\n",
              "                        <th id=\"T_4eda87c2_8a07_11ea_8a5d_0242ac1c0002level0_row3\" class=\"row_heading level0 row3\" >Rajasthan</th>\n",
              "                        <td id=\"T_4eda87c2_8a07_11ea_8a5d_0242ac1c0002row3_col0\" class=\"data row3 col0\" >1485</td>\n",
              "            </tr>\n",
              "            <tr>\n",
              "                        <th id=\"T_4eda87c2_8a07_11ea_8a5d_0242ac1c0002level0_row4\" class=\"row_heading level0 row4\" >Madhya Pradesh</th>\n",
              "                        <td id=\"T_4eda87c2_8a07_11ea_8a5d_0242ac1c0002row4_col0\" class=\"data row4 col0\" >1401</td>\n",
              "            </tr>\n",
              "            <tr>\n",
              "                        <th id=\"T_4eda87c2_8a07_11ea_8a5d_0242ac1c0002level0_row5\" class=\"row_heading level0 row5\" >Uttar Pradesh</th>\n",
              "                        <td id=\"T_4eda87c2_8a07_11ea_8a5d_0242ac1c0002row5_col0\" class=\"data row5 col0\" >1280</td>\n",
              "            </tr>\n",
              "            <tr>\n",
              "                        <th id=\"T_4eda87c2_8a07_11ea_8a5d_0242ac1c0002level0_row6\" class=\"row_heading level0 row6\" >Tamil Nadu</th>\n",
              "                        <td id=\"T_4eda87c2_8a07_11ea_8a5d_0242ac1c0002row6_col0\" class=\"data row6 col0\" >911</td>\n",
              "            </tr>\n",
              "            <tr>\n",
              "                        <th id=\"T_4eda87c2_8a07_11ea_8a5d_0242ac1c0002level0_row7\" class=\"row_heading level0 row7\" >Andhra Pradesh</th>\n",
              "                        <td id=\"T_4eda87c2_8a07_11ea_8a5d_0242ac1c0002row7_col0\" class=\"data row7 col0\" >725</td>\n",
              "            </tr>\n",
              "            <tr>\n",
              "                        <th id=\"T_4eda87c2_8a07_11ea_8a5d_0242ac1c0002level0_row8\" class=\"row_heading level0 row8\" >Telangana</th>\n",
              "                        <td id=\"T_4eda87c2_8a07_11ea_8a5d_0242ac1c0002row8_col0\" class=\"data row8 col0\" >693</td>\n",
              "            </tr>\n",
              "            <tr>\n",
              "                        <th id=\"T_4eda87c2_8a07_11ea_8a5d_0242ac1c0002level0_row9\" class=\"row_heading level0 row9\" >West Bengal</th>\n",
              "                        <td id=\"T_4eda87c2_8a07_11ea_8a5d_0242ac1c0002row9_col0\" class=\"data row9 col0\" >420</td>\n",
              "            </tr>\n",
              "            <tr>\n",
              "                        <th id=\"T_4eda87c2_8a07_11ea_8a5d_0242ac1c0002level0_row10\" class=\"row_heading level0 row10\" >Jammu and Kashmir</th>\n",
              "                        <td id=\"T_4eda87c2_8a07_11ea_8a5d_0242ac1c0002row10_col0\" class=\"data row10 col0\" >337</td>\n",
              "            </tr>\n",
              "            <tr>\n",
              "                        <th id=\"T_4eda87c2_8a07_11ea_8a5d_0242ac1c0002level0_row11\" class=\"row_heading level0 row11\" >Karnataka</th>\n",
              "                        <td id=\"T_4eda87c2_8a07_11ea_8a5d_0242ac1c0002row11_col0\" class=\"data row11 col0\" >283</td>\n",
              "            </tr>\n",
              "            <tr>\n",
              "                        <th id=\"T_4eda87c2_8a07_11ea_8a5d_0242ac1c0002level0_row12\" class=\"row_heading level0 row12\" >Punjab</th>\n",
              "                        <td id=\"T_4eda87c2_8a07_11ea_8a5d_0242ac1c0002row12_col0\" class=\"data row12 col0\" >200</td>\n",
              "            </tr>\n",
              "            <tr>\n",
              "                        <th id=\"T_4eda87c2_8a07_11ea_8a5d_0242ac1c0002level0_row13\" class=\"row_heading level0 row13\" >Kerala</th>\n",
              "                        <td id=\"T_4eda87c2_8a07_11ea_8a5d_0242ac1c0002row13_col0\" class=\"data row13 col0\" >129</td>\n",
              "            </tr>\n",
              "            <tr>\n",
              "                        <th id=\"T_4eda87c2_8a07_11ea_8a5d_0242ac1c0002level0_row14\" class=\"row_heading level0 row14\" >Bihar</th>\n",
              "                        <td id=\"T_4eda87c2_8a07_11ea_8a5d_0242ac1c0002row14_col0\" class=\"data row14 col0\" >124</td>\n",
              "            </tr>\n",
              "            <tr>\n",
              "                        <th id=\"T_4eda87c2_8a07_11ea_8a5d_0242ac1c0002level0_row15\" class=\"row_heading level0 row15\" >Haryana</th>\n",
              "                        <td id=\"T_4eda87c2_8a07_11ea_8a5d_0242ac1c0002row15_col0\" class=\"data row15 col0\" >97</td>\n",
              "            </tr>\n",
              "            <tr>\n",
              "                        <th id=\"T_4eda87c2_8a07_11ea_8a5d_0242ac1c0002level0_row16\" class=\"row_heading level0 row16\" >Odisha</th>\n",
              "                        <td id=\"T_4eda87c2_8a07_11ea_8a5d_0242ac1c0002row16_col0\" class=\"data row16 col0\" >55</td>\n",
              "            </tr>\n",
              "            <tr>\n",
              "                        <th id=\"T_4eda87c2_8a07_11ea_8a5d_0242ac1c0002level0_row17\" class=\"row_heading level0 row17\" >Jharkhand</th>\n",
              "                        <td id=\"T_4eda87c2_8a07_11ea_8a5d_0242ac1c0002row17_col0\" class=\"data row17 col0\" >42</td>\n",
              "            </tr>\n",
              "            <tr>\n",
              "                        <th id=\"T_4eda87c2_8a07_11ea_8a5d_0242ac1c0002level0_row18\" class=\"row_heading level0 row18\" >Uttarakhand</th>\n",
              "                        <td id=\"T_4eda87c2_8a07_11ea_8a5d_0242ac1c0002row18_col0\" class=\"data row18 col0\" >23</td>\n",
              "            </tr>\n",
              "            <tr>\n",
              "                        <th id=\"T_4eda87c2_8a07_11ea_8a5d_0242ac1c0002level0_row19\" class=\"row_heading level0 row19\" >Himachal Pradesh</th>\n",
              "                        <td id=\"T_4eda87c2_8a07_11ea_8a5d_0242ac1c0002row19_col0\" class=\"data row19 col0\" >20</td>\n",
              "            </tr>\n",
              "            <tr>\n",
              "                        <th id=\"T_4eda87c2_8a07_11ea_8a5d_0242ac1c0002level0_row20\" class=\"row_heading level0 row20\" >Assam</th>\n",
              "                        <td id=\"T_4eda87c2_8a07_11ea_8a5d_0242ac1c0002row20_col0\" class=\"data row20 col0\" >16</td>\n",
              "            </tr>\n",
              "            <tr>\n",
              "                        <th id=\"T_4eda87c2_8a07_11ea_8a5d_0242ac1c0002level0_row21\" class=\"row_heading level0 row21\" >Chandigarh</th>\n",
              "                        <td id=\"T_4eda87c2_8a07_11ea_8a5d_0242ac1c0002row21_col0\" class=\"data row21 col0\" >13</td>\n",
              "            </tr>\n",
              "            <tr>\n",
              "                        <th id=\"T_4eda87c2_8a07_11ea_8a5d_0242ac1c0002level0_row22\" class=\"row_heading level0 row22\" >Andaman and Nicobar Islands</th>\n",
              "                        <td id=\"T_4eda87c2_8a07_11ea_8a5d_0242ac1c0002row22_col0\" class=\"data row22 col0\" >11</td>\n",
              "            </tr>\n",
              "            <tr>\n",
              "                        <th id=\"T_4eda87c2_8a07_11ea_8a5d_0242ac1c0002level0_row23\" class=\"row_heading level0 row23\" >Meghalaya</th>\n",
              "                        <td id=\"T_4eda87c2_8a07_11ea_8a5d_0242ac1c0002row23_col0\" class=\"data row23 col0\" >11</td>\n",
              "            </tr>\n",
              "            <tr>\n",
              "                        <th id=\"T_4eda87c2_8a07_11ea_8a5d_0242ac1c0002level0_row24\" class=\"row_heading level0 row24\" >Chhattisgarh</th>\n",
              "                        <td id=\"T_4eda87c2_8a07_11ea_8a5d_0242ac1c0002row24_col0\" class=\"data row24 col0\" >6</td>\n",
              "            </tr>\n",
              "            <tr>\n",
              "                        <th id=\"T_4eda87c2_8a07_11ea_8a5d_0242ac1c0002level0_row25\" class=\"row_heading level0 row25\" >Puducherry</th>\n",
              "                        <td id=\"T_4eda87c2_8a07_11ea_8a5d_0242ac1c0002row25_col0\" class=\"data row25 col0\" >3</td>\n",
              "            </tr>\n",
              "            <tr>\n",
              "                        <th id=\"T_4eda87c2_8a07_11ea_8a5d_0242ac1c0002level0_row26\" class=\"row_heading level0 row26\" >Ladakh</th>\n",
              "                        <td id=\"T_4eda87c2_8a07_11ea_8a5d_0242ac1c0002row26_col0\" class=\"data row26 col0\" >2</td>\n",
              "            </tr>\n",
              "            <tr>\n",
              "                        <th id=\"T_4eda87c2_8a07_11ea_8a5d_0242ac1c0002level0_row27\" class=\"row_heading level0 row27\" >Mizoram</th>\n",
              "                        <td id=\"T_4eda87c2_8a07_11ea_8a5d_0242ac1c0002row27_col0\" class=\"data row27 col0\" >1</td>\n",
              "            </tr>\n",
              "            <tr>\n",
              "                        <th id=\"T_4eda87c2_8a07_11ea_8a5d_0242ac1c0002level0_row28\" class=\"row_heading level0 row28\" >Lakshadweep</th>\n",
              "                        <td id=\"T_4eda87c2_8a07_11ea_8a5d_0242ac1c0002row28_col0\" class=\"data row28 col0\" >0</td>\n",
              "            </tr>\n",
              "            <tr>\n",
              "                        <th id=\"T_4eda87c2_8a07_11ea_8a5d_0242ac1c0002level0_row29\" class=\"row_heading level0 row29\" >Manipur</th>\n",
              "                        <td id=\"T_4eda87c2_8a07_11ea_8a5d_0242ac1c0002row29_col0\" class=\"data row29 col0\" >0</td>\n",
              "            </tr>\n",
              "            <tr>\n",
              "                        <th id=\"T_4eda87c2_8a07_11ea_8a5d_0242ac1c0002level0_row30\" class=\"row_heading level0 row30\" >Goa</th>\n",
              "                        <td id=\"T_4eda87c2_8a07_11ea_8a5d_0242ac1c0002row30_col0\" class=\"data row30 col0\" >0</td>\n",
              "            </tr>\n",
              "            <tr>\n",
              "                        <th id=\"T_4eda87c2_8a07_11ea_8a5d_0242ac1c0002level0_row31\" class=\"row_heading level0 row31\" >Daman and Diu</th>\n",
              "                        <td id=\"T_4eda87c2_8a07_11ea_8a5d_0242ac1c0002row31_col0\" class=\"data row31 col0\" >0</td>\n",
              "            </tr>\n",
              "            <tr>\n",
              "                        <th id=\"T_4eda87c2_8a07_11ea_8a5d_0242ac1c0002level0_row32\" class=\"row_heading level0 row32\" >Dadra and Nagar Haveli</th>\n",
              "                        <td id=\"T_4eda87c2_8a07_11ea_8a5d_0242ac1c0002row32_col0\" class=\"data row32 col0\" >0</td>\n",
              "            </tr>\n",
              "            <tr>\n",
              "                        <th id=\"T_4eda87c2_8a07_11ea_8a5d_0242ac1c0002level0_row33\" class=\"row_heading level0 row33\" >Nagaland</th>\n",
              "                        <td id=\"T_4eda87c2_8a07_11ea_8a5d_0242ac1c0002row33_col0\" class=\"data row33 col0\" >0</td>\n",
              "            </tr>\n",
              "            <tr>\n",
              "                        <th id=\"T_4eda87c2_8a07_11ea_8a5d_0242ac1c0002level0_row34\" class=\"row_heading level0 row34\" >Sikkim</th>\n",
              "                        <td id=\"T_4eda87c2_8a07_11ea_8a5d_0242ac1c0002row34_col0\" class=\"data row34 col0\" >0</td>\n",
              "            </tr>\n",
              "            <tr>\n",
              "                        <th id=\"T_4eda87c2_8a07_11ea_8a5d_0242ac1c0002level0_row35\" class=\"row_heading level0 row35\" >Arunachal Pradesh</th>\n",
              "                        <td id=\"T_4eda87c2_8a07_11ea_8a5d_0242ac1c0002row35_col0\" class=\"data row35 col0\" >0</td>\n",
              "            </tr>\n",
              "            <tr>\n",
              "                        <th id=\"T_4eda87c2_8a07_11ea_8a5d_0242ac1c0002level0_row36\" class=\"row_heading level0 row36\" >Tripura</th>\n",
              "                        <td id=\"T_4eda87c2_8a07_11ea_8a5d_0242ac1c0002row36_col0\" class=\"data row36 col0\" >0</td>\n",
              "            </tr>\n",
              "    </tbody></table>"
            ],
            "text/plain": [
              "<pandas.io.formats.style.Styler at 0x7f56961546a0>"
            ]
          },
          "metadata": {
            "tags": []
          },
          "execution_count": 4
        }
      ]
    },
    {
      "cell_type": "code",
      "metadata": {
        "id": "7GJe-JotPlaC",
        "colab_type": "code",
        "outputId": "f5c601d2-7eb8-4572-df73-49bc1ad0d49b",
        "colab": {
          "base_uri": "https://localhost:8080/",
          "height": 126
        }
      },
      "source": [
        "df.head().style.background_gradient(cmap='Reds')"
      ],
      "execution_count": 5,
      "outputs": [
        {
          "output_type": "execute_result",
          "data": {
            "text/html": [
              "<style  type=\"text/css\" >\n",
              "    #T_4ee04dce_8a07_11ea_8a5d_0242ac1c0002row0_col1 {\n",
              "            background-color:  #67000d;\n",
              "            color:  #f1f1f1;\n",
              "        }    #T_4ee04dce_8a07_11ea_8a5d_0242ac1c0002row0_col2 {\n",
              "            background-color:  #67000d;\n",
              "            color:  #f1f1f1;\n",
              "        }    #T_4ee04dce_8a07_11ea_8a5d_0242ac1c0002row0_col3 {\n",
              "            background-color:  #67000d;\n",
              "            color:  #f1f1f1;\n",
              "        }    #T_4ee04dce_8a07_11ea_8a5d_0242ac1c0002row0_col4 {\n",
              "            background-color:  #67000d;\n",
              "            color:  #f1f1f1;\n",
              "        }    #T_4ee04dce_8a07_11ea_8a5d_0242ac1c0002row0_col5 {\n",
              "            background-color:  #fb6d4d;\n",
              "            color:  #000000;\n",
              "        }    #T_4ee04dce_8a07_11ea_8a5d_0242ac1c0002row0_col6 {\n",
              "            background-color:  #f14130;\n",
              "            color:  #f1f1f1;\n",
              "        }    #T_4ee04dce_8a07_11ea_8a5d_0242ac1c0002row1_col1 {\n",
              "            background-color:  #fedccd;\n",
              "            color:  #000000;\n",
              "        }    #T_4ee04dce_8a07_11ea_8a5d_0242ac1c0002row1_col2 {\n",
              "            background-color:  #fedaca;\n",
              "            color:  #000000;\n",
              "        }    #T_4ee04dce_8a07_11ea_8a5d_0242ac1c0002row1_col3 {\n",
              "            background-color:  #fee2d5;\n",
              "            color:  #000000;\n",
              "        }    #T_4ee04dce_8a07_11ea_8a5d_0242ac1c0002row1_col4 {\n",
              "            background-color:  #820711;\n",
              "            color:  #f1f1f1;\n",
              "        }    #T_4ee04dce_8a07_11ea_8a5d_0242ac1c0002row1_col5 {\n",
              "            background-color:  #67000d;\n",
              "            color:  #f1f1f1;\n",
              "        }    #T_4ee04dce_8a07_11ea_8a5d_0242ac1c0002row1_col6 {\n",
              "            background-color:  #be151a;\n",
              "            color:  #f1f1f1;\n",
              "        }    #T_4ee04dce_8a07_11ea_8a5d_0242ac1c0002row2_col1 {\n",
              "            background-color:  #fca98c;\n",
              "            color:  #000000;\n",
              "        }    #T_4ee04dce_8a07_11ea_8a5d_0242ac1c0002row2_col2 {\n",
              "            background-color:  #fdcbb6;\n",
              "            color:  #000000;\n",
              "        }    #T_4ee04dce_8a07_11ea_8a5d_0242ac1c0002row2_col3 {\n",
              "            background-color:  #fc9b7c;\n",
              "            color:  #000000;\n",
              "        }    #T_4ee04dce_8a07_11ea_8a5d_0242ac1c0002row2_col4 {\n",
              "            background-color:  #fff5f0;\n",
              "            color:  #000000;\n",
              "        }    #T_4ee04dce_8a07_11ea_8a5d_0242ac1c0002row2_col5 {\n",
              "            background-color:  #ec382b;\n",
              "            color:  #f1f1f1;\n",
              "        }    #T_4ee04dce_8a07_11ea_8a5d_0242ac1c0002row2_col6 {\n",
              "            background-color:  #fff5f0;\n",
              "            color:  #000000;\n",
              "        }    #T_4ee04dce_8a07_11ea_8a5d_0242ac1c0002row3_col1 {\n",
              "            background-color:  #fedfd0;\n",
              "            color:  #000000;\n",
              "        }    #T_4ee04dce_8a07_11ea_8a5d_0242ac1c0002row3_col2 {\n",
              "            background-color:  #ffebe2;\n",
              "            color:  #000000;\n",
              "        }    #T_4ee04dce_8a07_11ea_8a5d_0242ac1c0002row3_col3 {\n",
              "            background-color:  #fff0e9;\n",
              "            color:  #000000;\n",
              "        }    #T_4ee04dce_8a07_11ea_8a5d_0242ac1c0002row3_col4 {\n",
              "            background-color:  #fca183;\n",
              "            color:  #000000;\n",
              "        }    #T_4ee04dce_8a07_11ea_8a5d_0242ac1c0002row3_col5 {\n",
              "            background-color:  #960b13;\n",
              "            color:  #f1f1f1;\n",
              "        }    #T_4ee04dce_8a07_11ea_8a5d_0242ac1c0002row3_col6 {\n",
              "            background-color:  #fc8969;\n",
              "            color:  #000000;\n",
              "        }    #T_4ee04dce_8a07_11ea_8a5d_0242ac1c0002row4_col1 {\n",
              "            background-color:  #fff5f0;\n",
              "            color:  #000000;\n",
              "        }    #T_4ee04dce_8a07_11ea_8a5d_0242ac1c0002row4_col2 {\n",
              "            background-color:  #fff5f0;\n",
              "            color:  #000000;\n",
              "        }    #T_4ee04dce_8a07_11ea_8a5d_0242ac1c0002row4_col3 {\n",
              "            background-color:  #fff5f0;\n",
              "            color:  #000000;\n",
              "        }    #T_4ee04dce_8a07_11ea_8a5d_0242ac1c0002row4_col4 {\n",
              "            background-color:  #ac1117;\n",
              "            color:  #f1f1f1;\n",
              "        }    #T_4ee04dce_8a07_11ea_8a5d_0242ac1c0002row4_col5 {\n",
              "            background-color:  #fff5f0;\n",
              "            color:  #000000;\n",
              "        }    #T_4ee04dce_8a07_11ea_8a5d_0242ac1c0002row4_col6 {\n",
              "            background-color:  #67000d;\n",
              "            color:  #f1f1f1;\n",
              "        }</style><table id=\"T_4ee04dce_8a07_11ea_8a5d_0242ac1c0002\" ><thead>    <tr>        <th class=\"blank level0\" ></th>        <th class=\"col_heading level0 col0\" >state</th>        <th class=\"col_heading level0 col1\" >active</th>        <th class=\"col_heading level0 col2\" >confirmed</th>        <th class=\"col_heading level0 col3\" >deaths</th>        <th class=\"col_heading level0 col4\" >recovered</th>        <th class=\"col_heading level0 col5\" >Lat</th>        <th class=\"col_heading level0 col6\" >Long</th>    </tr></thead><tbody>\n",
              "                <tr>\n",
              "                        <th id=\"T_4ee04dce_8a07_11ea_8a5d_0242ac1c0002level0_row0\" class=\"row_heading level0 row0\" >0</th>\n",
              "                        <td id=\"T_4ee04dce_8a07_11ea_8a5d_0242ac1c0002row0_col0\" class=\"data row0 col0\" >Maharashtra</td>\n",
              "                        <td id=\"T_4ee04dce_8a07_11ea_8a5d_0242ac1c0002row0_col1\" class=\"data row0 col1\" >5304</td>\n",
              "                        <td id=\"T_4ee04dce_8a07_11ea_8a5d_0242ac1c0002row0_col2\" class=\"data row0 col2\" >6427</td>\n",
              "                        <td id=\"T_4ee04dce_8a07_11ea_8a5d_0242ac1c0002row0_col3\" class=\"data row0 col3\" >283</td>\n",
              "                        <td id=\"T_4ee04dce_8a07_11ea_8a5d_0242ac1c0002row0_col4\" class=\"data row0 col4\" >840</td>\n",
              "                        <td id=\"T_4ee04dce_8a07_11ea_8a5d_0242ac1c0002row0_col5\" class=\"data row0 col5\" >19.751500</td>\n",
              "                        <td id=\"T_4ee04dce_8a07_11ea_8a5d_0242ac1c0002row0_col6\" class=\"data row0 col6\" >75.713900</td>\n",
              "            </tr>\n",
              "            <tr>\n",
              "                        <th id=\"T_4ee04dce_8a07_11ea_8a5d_0242ac1c0002level0_row1\" class=\"row_heading level0 row1\" >1</th>\n",
              "                        <td id=\"T_4ee04dce_8a07_11ea_8a5d_0242ac1c0002row1_col0\" class=\"data row1 col0\" >Delhi</td>\n",
              "                        <td id=\"T_4ee04dce_8a07_11ea_8a5d_0242ac1c0002row1_col1\" class=\"data row1 col1\" >1518</td>\n",
              "                        <td id=\"T_4ee04dce_8a07_11ea_8a5d_0242ac1c0002row1_col2\" class=\"data row1 col2\" >2376</td>\n",
              "                        <td id=\"T_4ee04dce_8a07_11ea_8a5d_0242ac1c0002row1_col3\" class=\"data row1 col3\" >50</td>\n",
              "                        <td id=\"T_4ee04dce_8a07_11ea_8a5d_0242ac1c0002row1_col4\" class=\"data row1 col4\" >808</td>\n",
              "                        <td id=\"T_4ee04dce_8a07_11ea_8a5d_0242ac1c0002row1_col5\" class=\"data row1 col5\" >28.704100</td>\n",
              "                        <td id=\"T_4ee04dce_8a07_11ea_8a5d_0242ac1c0002row1_col6\" class=\"data row1 col6\" >77.102500</td>\n",
              "            </tr>\n",
              "            <tr>\n",
              "                        <th id=\"T_4ee04dce_8a07_11ea_8a5d_0242ac1c0002level0_row2\" class=\"row_heading level0 row2\" >2</th>\n",
              "                        <td id=\"T_4ee04dce_8a07_11ea_8a5d_0242ac1c0002row2_col0\" class=\"data row2 col0\" >Gujarat</td>\n",
              "                        <td id=\"T_4ee04dce_8a07_11ea_8a5d_0242ac1c0002row2_col1\" class=\"data row2 col1\" >2254</td>\n",
              "                        <td id=\"T_4ee04dce_8a07_11ea_8a5d_0242ac1c0002row2_col2\" class=\"data row2 col2\" >2624</td>\n",
              "                        <td id=\"T_4ee04dce_8a07_11ea_8a5d_0242ac1c0002row2_col3\" class=\"data row2 col3\" >112</td>\n",
              "                        <td id=\"T_4ee04dce_8a07_11ea_8a5d_0242ac1c0002row2_col4\" class=\"data row2 col4\" >258</td>\n",
              "                        <td id=\"T_4ee04dce_8a07_11ea_8a5d_0242ac1c0002row2_col5\" class=\"data row2 col5\" >22.258700</td>\n",
              "                        <td id=\"T_4ee04dce_8a07_11ea_8a5d_0242ac1c0002row2_col6\" class=\"data row2 col6\" >71.192400</td>\n",
              "            </tr>\n",
              "            <tr>\n",
              "                        <th id=\"T_4ee04dce_8a07_11ea_8a5d_0242ac1c0002level0_row3\" class=\"row_heading level0 row3\" >3</th>\n",
              "                        <td id=\"T_4ee04dce_8a07_11ea_8a5d_0242ac1c0002row3_col0\" class=\"data row3 col0\" >Rajasthan</td>\n",
              "                        <td id=\"T_4ee04dce_8a07_11ea_8a5d_0242ac1c0002row3_col1\" class=\"data row3 col1\" >1485</td>\n",
              "                        <td id=\"T_4ee04dce_8a07_11ea_8a5d_0242ac1c0002row3_col2\" class=\"data row3 col2\" >1964</td>\n",
              "                        <td id=\"T_4ee04dce_8a07_11ea_8a5d_0242ac1c0002row3_col3\" class=\"data row3 col3\" >28</td>\n",
              "                        <td id=\"T_4ee04dce_8a07_11ea_8a5d_0242ac1c0002row3_col4\" class=\"data row3 col4\" >451</td>\n",
              "                        <td id=\"T_4ee04dce_8a07_11ea_8a5d_0242ac1c0002row3_col5\" class=\"data row3 col5\" >27.023800</td>\n",
              "                        <td id=\"T_4ee04dce_8a07_11ea_8a5d_0242ac1c0002row3_col6\" class=\"data row3 col6\" >74.217900</td>\n",
              "            </tr>\n",
              "            <tr>\n",
              "                        <th id=\"T_4ee04dce_8a07_11ea_8a5d_0242ac1c0002level0_row4\" class=\"row_heading level0 row4\" >4</th>\n",
              "                        <td id=\"T_4ee04dce_8a07_11ea_8a5d_0242ac1c0002row4_col0\" class=\"data row4 col0\" >Tamil Nadu</td>\n",
              "                        <td id=\"T_4ee04dce_8a07_11ea_8a5d_0242ac1c0002row4_col1\" class=\"data row4 col1\" >911</td>\n",
              "                        <td id=\"T_4ee04dce_8a07_11ea_8a5d_0242ac1c0002row4_col2\" class=\"data row4 col2\" >1683</td>\n",
              "                        <td id=\"T_4ee04dce_8a07_11ea_8a5d_0242ac1c0002row4_col3\" class=\"data row4 col3\" >20</td>\n",
              "                        <td id=\"T_4ee04dce_8a07_11ea_8a5d_0242ac1c0002row4_col4\" class=\"data row4 col4\" >752</td>\n",
              "                        <td id=\"T_4ee04dce_8a07_11ea_8a5d_0242ac1c0002row4_col5\" class=\"data row4 col5\" >11.127100</td>\n",
              "                        <td id=\"T_4ee04dce_8a07_11ea_8a5d_0242ac1c0002row4_col6\" class=\"data row4 col6\" >78.656900</td>\n",
              "            </tr>\n",
              "    </tbody></table>"
            ],
            "text/plain": [
              "<pandas.io.formats.style.Styler at 0x7f568971e1d0>"
            ]
          },
          "metadata": {
            "tags": []
          },
          "execution_count": 5
        }
      ]
    },
    {
      "cell_type": "code",
      "metadata": {
        "id": "5oLWrqZsQFl0",
        "colab_type": "code",
        "outputId": "319d18e6-940d-4a40-91b4-a00142ce13bb",
        "colab": {
          "base_uri": "https://localhost:8080/",
          "height": 263
        }
      },
      "source": [
        "data = df[['state','confirmed',\t'active', 'deaths',\t'recovered'\t]]\n",
        "data.sort_values('confirmed',ascending=False,inplace=True)\n",
        "data.head().style.background_gradient(cmap='Reds')"
      ],
      "execution_count": 6,
      "outputs": [
        {
          "output_type": "stream",
          "text": [
            "/usr/local/lib/python3.6/dist-packages/ipykernel_launcher.py:2: SettingWithCopyWarning:\n",
            "\n",
            "\n",
            "A value is trying to be set on a copy of a slice from a DataFrame\n",
            "\n",
            "See the caveats in the documentation: https://pandas.pydata.org/pandas-docs/stable/user_guide/indexing.html#returning-a-view-versus-a-copy\n",
            "\n"
          ],
          "name": "stderr"
        },
        {
          "output_type": "execute_result",
          "data": {
            "text/html": [
              "<style  type=\"text/css\" >\n",
              "    #T_4ee409a0_8a07_11ea_8a5d_0242ac1c0002row0_col1 {\n",
              "            background-color:  #67000d;\n",
              "            color:  #f1f1f1;\n",
              "        }    #T_4ee409a0_8a07_11ea_8a5d_0242ac1c0002row0_col2 {\n",
              "            background-color:  #67000d;\n",
              "            color:  #f1f1f1;\n",
              "        }    #T_4ee409a0_8a07_11ea_8a5d_0242ac1c0002row0_col3 {\n",
              "            background-color:  #67000d;\n",
              "            color:  #f1f1f1;\n",
              "        }    #T_4ee409a0_8a07_11ea_8a5d_0242ac1c0002row0_col4 {\n",
              "            background-color:  #67000d;\n",
              "            color:  #f1f1f1;\n",
              "        }    #T_4ee409a0_8a07_11ea_8a5d_0242ac1c0002row1_col1 {\n",
              "            background-color:  #fdcbb6;\n",
              "            color:  #000000;\n",
              "        }    #T_4ee409a0_8a07_11ea_8a5d_0242ac1c0002row1_col2 {\n",
              "            background-color:  #fdc5ae;\n",
              "            color:  #000000;\n",
              "        }    #T_4ee409a0_8a07_11ea_8a5d_0242ac1c0002row1_col3 {\n",
              "            background-color:  #fca183;\n",
              "            color:  #000000;\n",
              "        }    #T_4ee409a0_8a07_11ea_8a5d_0242ac1c0002row1_col4 {\n",
              "            background-color:  #fee7db;\n",
              "            color:  #000000;\n",
              "        }    #T_4ee409a0_8a07_11ea_8a5d_0242ac1c0002row2_col1 {\n",
              "            background-color:  #fedaca;\n",
              "            color:  #000000;\n",
              "        }    #T_4ee409a0_8a07_11ea_8a5d_0242ac1c0002row2_col2 {\n",
              "            background-color:  #fff0e9;\n",
              "            color:  #000000;\n",
              "        }    #T_4ee409a0_8a07_11ea_8a5d_0242ac1c0002row2_col3 {\n",
              "            background-color:  #fee7db;\n",
              "            color:  #000000;\n",
              "        }    #T_4ee409a0_8a07_11ea_8a5d_0242ac1c0002row2_col4 {\n",
              "            background-color:  #7e0610;\n",
              "            color:  #f1f1f1;\n",
              "        }    #T_4ee409a0_8a07_11ea_8a5d_0242ac1c0002row3_col1 {\n",
              "            background-color:  #ffece3;\n",
              "            color:  #000000;\n",
              "        }    #T_4ee409a0_8a07_11ea_8a5d_0242ac1c0002row3_col2 {\n",
              "            background-color:  #fff2eb;\n",
              "            color:  #000000;\n",
              "        }    #T_4ee409a0_8a07_11ea_8a5d_0242ac1c0002row3_col3 {\n",
              "            background-color:  #fff5f0;\n",
              "            color:  #000000;\n",
              "        }    #T_4ee409a0_8a07_11ea_8a5d_0242ac1c0002row3_col4 {\n",
              "            background-color:  #fc8e6e;\n",
              "            color:  #000000;\n",
              "        }    #T_4ee409a0_8a07_11ea_8a5d_0242ac1c0002row4_col1 {\n",
              "            background-color:  #fff5f0;\n",
              "            color:  #000000;\n",
              "        }    #T_4ee409a0_8a07_11ea_8a5d_0242ac1c0002row4_col2 {\n",
              "            background-color:  #fff5f0;\n",
              "            color:  #000000;\n",
              "        }    #T_4ee409a0_8a07_11ea_8a5d_0242ac1c0002row4_col3 {\n",
              "            background-color:  #fdc5ae;\n",
              "            color:  #000000;\n",
              "        }    #T_4ee409a0_8a07_11ea_8a5d_0242ac1c0002row4_col4 {\n",
              "            background-color:  #fff5f0;\n",
              "            color:  #000000;\n",
              "        }</style><table id=\"T_4ee409a0_8a07_11ea_8a5d_0242ac1c0002\" ><thead>    <tr>        <th class=\"blank level0\" ></th>        <th class=\"col_heading level0 col0\" >state</th>        <th class=\"col_heading level0 col1\" >confirmed</th>        <th class=\"col_heading level0 col2\" >active</th>        <th class=\"col_heading level0 col3\" >deaths</th>        <th class=\"col_heading level0 col4\" >recovered</th>    </tr></thead><tbody>\n",
              "                <tr>\n",
              "                        <th id=\"T_4ee409a0_8a07_11ea_8a5d_0242ac1c0002level0_row0\" class=\"row_heading level0 row0\" >0</th>\n",
              "                        <td id=\"T_4ee409a0_8a07_11ea_8a5d_0242ac1c0002row0_col0\" class=\"data row0 col0\" >Maharashtra</td>\n",
              "                        <td id=\"T_4ee409a0_8a07_11ea_8a5d_0242ac1c0002row0_col1\" class=\"data row0 col1\" >6427</td>\n",
              "                        <td id=\"T_4ee409a0_8a07_11ea_8a5d_0242ac1c0002row0_col2\" class=\"data row0 col2\" >5304</td>\n",
              "                        <td id=\"T_4ee409a0_8a07_11ea_8a5d_0242ac1c0002row0_col3\" class=\"data row0 col3\" >283</td>\n",
              "                        <td id=\"T_4ee409a0_8a07_11ea_8a5d_0242ac1c0002row0_col4\" class=\"data row0 col4\" >840</td>\n",
              "            </tr>\n",
              "            <tr>\n",
              "                        <th id=\"T_4ee409a0_8a07_11ea_8a5d_0242ac1c0002level0_row1\" class=\"row_heading level0 row1\" >2</th>\n",
              "                        <td id=\"T_4ee409a0_8a07_11ea_8a5d_0242ac1c0002row1_col0\" class=\"data row1 col0\" >Gujarat</td>\n",
              "                        <td id=\"T_4ee409a0_8a07_11ea_8a5d_0242ac1c0002row1_col1\" class=\"data row1 col1\" >2624</td>\n",
              "                        <td id=\"T_4ee409a0_8a07_11ea_8a5d_0242ac1c0002row1_col2\" class=\"data row1 col2\" >2254</td>\n",
              "                        <td id=\"T_4ee409a0_8a07_11ea_8a5d_0242ac1c0002row1_col3\" class=\"data row1 col3\" >112</td>\n",
              "                        <td id=\"T_4ee409a0_8a07_11ea_8a5d_0242ac1c0002row1_col4\" class=\"data row1 col4\" >258</td>\n",
              "            </tr>\n",
              "            <tr>\n",
              "                        <th id=\"T_4ee409a0_8a07_11ea_8a5d_0242ac1c0002level0_row2\" class=\"row_heading level0 row2\" >1</th>\n",
              "                        <td id=\"T_4ee409a0_8a07_11ea_8a5d_0242ac1c0002row2_col0\" class=\"data row2 col0\" >Delhi</td>\n",
              "                        <td id=\"T_4ee409a0_8a07_11ea_8a5d_0242ac1c0002row2_col1\" class=\"data row2 col1\" >2376</td>\n",
              "                        <td id=\"T_4ee409a0_8a07_11ea_8a5d_0242ac1c0002row2_col2\" class=\"data row2 col2\" >1518</td>\n",
              "                        <td id=\"T_4ee409a0_8a07_11ea_8a5d_0242ac1c0002row2_col3\" class=\"data row2 col3\" >50</td>\n",
              "                        <td id=\"T_4ee409a0_8a07_11ea_8a5d_0242ac1c0002row2_col4\" class=\"data row2 col4\" >808</td>\n",
              "            </tr>\n",
              "            <tr>\n",
              "                        <th id=\"T_4ee409a0_8a07_11ea_8a5d_0242ac1c0002level0_row3\" class=\"row_heading level0 row3\" >3</th>\n",
              "                        <td id=\"T_4ee409a0_8a07_11ea_8a5d_0242ac1c0002row3_col0\" class=\"data row3 col0\" >Rajasthan</td>\n",
              "                        <td id=\"T_4ee409a0_8a07_11ea_8a5d_0242ac1c0002row3_col1\" class=\"data row3 col1\" >1964</td>\n",
              "                        <td id=\"T_4ee409a0_8a07_11ea_8a5d_0242ac1c0002row3_col2\" class=\"data row3 col2\" >1485</td>\n",
              "                        <td id=\"T_4ee409a0_8a07_11ea_8a5d_0242ac1c0002row3_col3\" class=\"data row3 col3\" >28</td>\n",
              "                        <td id=\"T_4ee409a0_8a07_11ea_8a5d_0242ac1c0002row3_col4\" class=\"data row3 col4\" >451</td>\n",
              "            </tr>\n",
              "            <tr>\n",
              "                        <th id=\"T_4ee409a0_8a07_11ea_8a5d_0242ac1c0002level0_row4\" class=\"row_heading level0 row4\" >5</th>\n",
              "                        <td id=\"T_4ee409a0_8a07_11ea_8a5d_0242ac1c0002row4_col0\" class=\"data row4 col0\" >Madhya Pradesh</td>\n",
              "                        <td id=\"T_4ee409a0_8a07_11ea_8a5d_0242ac1c0002row4_col1\" class=\"data row4 col1\" >1687</td>\n",
              "                        <td id=\"T_4ee409a0_8a07_11ea_8a5d_0242ac1c0002row4_col2\" class=\"data row4 col2\" >1401</td>\n",
              "                        <td id=\"T_4ee409a0_8a07_11ea_8a5d_0242ac1c0002row4_col3\" class=\"data row4 col3\" >83</td>\n",
              "                        <td id=\"T_4ee409a0_8a07_11ea_8a5d_0242ac1c0002row4_col4\" class=\"data row4 col4\" >203</td>\n",
              "            </tr>\n",
              "    </tbody></table>"
            ],
            "text/plain": [
              "<pandas.io.formats.style.Styler at 0x7f568971ecf8>"
            ]
          },
          "metadata": {
            "tags": []
          },
          "execution_count": 6
        }
      ]
    },
    {
      "cell_type": "code",
      "metadata": {
        "id": "a7oflK-5QtJJ",
        "colab_type": "code",
        "outputId": "2880fcea-deb4-4252-c2b0-0b4e8483a8b0",
        "colab": {
          "base_uri": "https://localhost:8080/",
          "height": 1000
        }
      },
      "source": [
        "### plot confirmed vs cured\n",
        "plt.figure(figsize=(15,18))\n",
        "sns.barplot(data['confirmed'],data['state'],color='red',label='Confirmed')\n",
        "sns.barplot(data['recovered'],data['state'],color='blue',label='Recovered')\n",
        "plt.legend(loc=4)\n",
        "plt.show()"
      ],
      "execution_count": 7,
      "outputs": [
        {
          "output_type": "display_data",
          "data": {
            "image/png": "[encoded data removed]",
            "text/plain": [
              "<Figure size 1080x1296 with 1 Axes>"
            ]
          },
          "metadata": {
            "tags": [],
            "needs_background": "light"
          }
        }
      ]
    },
    {
      "cell_type": "code",
      "metadata": {
        "id": "lTavl1o4TTwo",
        "colab_type": "code",
        "outputId": "d9506e0d-ac98-4364-9c52-13d644d84e25",
        "colab": {
          "base_uri": "https://localhost:8080/",
          "height": 620
        }
      },
      "source": [
        "import folium\n",
        "# declaration of map \n",
        "india_map = folium.Map(location=[9,80], zoom_start= 4, max_zoom=5, height= 1000, width='100%')\n",
        "\n",
        "for i in range(0, len(df[df['confirmed']>0].index)):\n",
        "    folium.Circle(\n",
        "        location=[df.iloc[i]['Lat'], df.iloc[i]['Long']],\n",
        "        radius=0,\n",
        "        fill=True).add_to(india_map)\n",
        "india_map"
      ],
      "execution_count": 11,
      "outputs": [
        {
          "output_type": "execute_result",
          "data": {
            "text/html": [
              "<div style=\"width:100%;\"><div style=\"position:relative;width:100%;height:0;padding-bottom:60%;\"><iframe src=\"about:blank\" style=\"position:absolute;width:100%;height:100%;left:0;top:0;border:none !important;\" data-html=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 onload=\"this.contentDocument.open();this.contentDocument.write(atob(this.getAttribute('data-html')));this.contentDocument.close();\" allowfullscreen webkitallowfullscreen mozallowfullscreen></iframe></div></div>"
            ],
            "text/plain": [
              "<folium.folium.Map at 0x7f5688274d68>"
            ]
          },
          "metadata": {
            "tags": []
          },
          "execution_count": 11
        }
      ]
    },
    {
      "cell_type": "code",
      "metadata": {
        "id": "xrVbHmOgUAj0",
        "colab_type": "code",
        "outputId": "71cd0c00-e95a-4f8a-dbae-f601b81c277b",
        "colab": {
          "base_uri": "https://localhost:8080/",
          "height": 620
        }
      },
      "source": [
        "import folium\n",
        "# declaration of map \n",
        "india_map = folium.Map(location=[9,80], zoom_start= 4, max_zoom=5, height= 1000, width='100%')\n",
        "\n",
        "for i in range(0, len(df[df['confirmed']>0].index)):\n",
        "    folium.Circle(\n",
        "        location=[df.iloc[i]['Lat'], df.iloc[i]['Long']],\n",
        "        radius=(int(np.log2(df.iloc[i]['confirmed']+1.0001)))*15000,\n",
        "        fill=True).add_to(india_map)\n",
        "india_map"
      ],
      "execution_count": 12,
      "outputs": [
        {
          "output_type": "execute_result",
          "data": {
            "text/html": [
              "<div style=\"width:100%;\"><div style=\"position:relative;width:100%;height:0;padding-bottom:60%;\"><iframe src=\"about:blank\" style=\"position:absolute;width:100%;height:100%;left:0;top:0;border:none !important;\" data-html=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 onload=\"this.contentDocument.open();this.contentDocument.write(atob(this.getAttribute('data-html')));this.contentDocument.close();\" allowfullscreen webkitallowfullscreen mozallowfullscreen></iframe></div></div>"
            ],
            "text/plain": [
              "<folium.folium.Map at 0x7f5687e75898>"
            ]
          },
          "metadata": {
            "tags": []
          },
          "execution_count": 12
        }
      ]
    },
    {
      "cell_type": "code",
      "metadata": {
        "id": "21qtn6JIUh3t",
        "colab_type": "code",
        "outputId": "1f6942d3-9203-4985-9c93-e3b8341c85a4",
        "colab": {
          "base_uri": "https://localhost:8080/",
          "height": 620
        }
      },
      "source": [
        "import folium\n",
        "import numpy as np\n",
        "# declaration of map \n",
        "india_map = folium.Map(location=[9,80], zoom_start= 4, max_zoom=5, height= 1000, width='100%')\n",
        "\n",
        "for i in range(0, len(df[df['confirmed']>0].index)):\n",
        "    folium.Circle(\n",
        "        location=[df.iloc[i]['Lat'], df.iloc[i]['Long']],\n",
        "        radius=(int(np.log2(df.iloc[i]['confirmed']+1.0001)))*15000,\n",
        "        tooltip = \"<h5 style='text-align:center;font-weight: bold'>\"+df.iloc[i].state+\"</h5>\"+\n",
        "        \"<li>Confirmed: \"+str(df.iloc[i]['confirmed'])+\"</li>\"+\n",
        "        \"<li>Active:   \"+str(df.iloc[i]['active'])+\"</li>\"+\n",
        "        \"<li>Recovered:   \"+str(df.iloc[i]['recovered'])+\"</li>\"+\n",
        "        \"<li>Deaths:   \"+str(df.iloc[i]['deaths'])+\"</li>\"+\n",
        "        \"</ul>\",\n",
        "        fill=True).add_to(india_map)\n",
        "india_map"
      ],
      "execution_count": 13,
      "outputs": [
        {
          "output_type": "execute_result",
          "data": {
            "text/html": [
              "<div style=\"width:100%;\"><div style=\"position:relative;width:100%;height:0;padding-bottom:60%;\"><iframe src=\"about:blank\" style=\"position:absolute;width:100%;height:100%;left:0;top:0;border:none !important;\" data-html=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 onload=\"this.contentDocument.open();this.contentDocument.write(atob(this.getAttribute('data-html')));this.contentDocument.close();\" allowfullscreen webkitallowfullscreen mozallowfullscreen></iframe></div></div>"
            ],
            "text/plain": [
              "<folium.folium.Map at 0x7f5687e64a20>"
            ]
          },
          "metadata": {
            "tags": []
          },
          "execution_count": 13
        }
      ]
    },
    {
      "cell_type": "code",
      "metadata": {
        "id": "BJBb9RD3VpDO",
        "colab_type": "code",
        "colab": {}
      },
      "source": [
        ""
      ],
      "execution_count": 0,
      "outputs": []
    }
  ]
}